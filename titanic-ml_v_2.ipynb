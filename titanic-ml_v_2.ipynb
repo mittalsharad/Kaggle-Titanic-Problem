{
 "cells": [
  {
   "cell_type": "code",
   "execution_count": 1,
   "id": "introductory-fifty",
   "metadata": {
    "_cell_guid": "b1076dfc-b9ad-4769-8c92-a6c4dae69d19",
    "_uuid": "8f2839f25d086af736a60e9eeb907d3b93b6e0e5",
    "execution": {
     "iopub.execute_input": "2021-06-05T11:17:12.078895Z",
     "iopub.status.busy": "2021-06-05T11:17:12.078058Z",
     "iopub.status.idle": "2021-06-05T11:17:12.084306Z",
     "shell.execute_reply": "2021-06-05T11:17:12.083308Z",
     "shell.execute_reply.started": "2021-06-05T11:13:00.849430Z"
    },
    "papermill": {
     "duration": 0.112928,
     "end_time": "2021-06-05T11:17:12.084532",
     "exception": false,
     "start_time": "2021-06-05T11:17:11.971604",
     "status": "completed"
    },
    "tags": []
   },
   "outputs": [
    {
     "name": "stdout",
     "output_type": "stream",
     "text": [
      "/kaggle/input/titanic/train.csv\n",
      "/kaggle/input/titanic/test.csv\n",
      "/kaggle/input/titanic/gender_submission.csv\n"
     ]
    }
   ],
   "source": [
    "# This Python 3 environment comes with many helpful analytics libraries installed\n",
    "# It is defined by the kaggle/python Docker image: https://github.com/kaggle/docker-python\n",
    "# For example, here's several helpful packages to load\n",
    "\n",
    "import numpy as np # linear algebra\n",
    "import pandas as pd # data processing, CSV file I/O (e.g. pd.read_csv)\n",
    "\n",
    "# Input data files are available in the read-only \"../input/\" directory\n",
    "# For example, running this (by clicking run or pressing Shift+Enter) will list all files under the input directory\n",
    "\n",
    "import os\n",
    "for dirname, _, filenames in os.walk('/kaggle/input'):\n",
    "    for filename in filenames:\n",
    "        print(os.path.join(dirname, filename))\n",
    "\n",
    "# You can write up to 20GB to the current directory (/kaggle/working/) that gets preserved as output when you create a version using \"Save & Run All\" \n",
    "# You can also write temporary files to /kaggle/temp/, but they won't be saved outside of the current session"
   ]
  },
  {
   "cell_type": "markdown",
   "id": "speaking-burner",
   "metadata": {
    "papermill": {
     "duration": 0.092521,
     "end_time": "2021-06-05T11:17:12.270527",
     "exception": false,
     "start_time": "2021-06-05T11:17:12.178006",
     "status": "completed"
    },
    "tags": []
   },
   "source": [
    "## Importing Required Libraries"
   ]
  },
  {
   "cell_type": "code",
   "execution_count": 2,
   "id": "interracial-bowling",
   "metadata": {
    "execution": {
     "iopub.execute_input": "2021-06-05T11:17:12.466168Z",
     "iopub.status.busy": "2021-06-05T11:17:12.465357Z",
     "iopub.status.idle": "2021-06-05T11:17:13.680885Z",
     "shell.execute_reply": "2021-06-05T11:17:13.679998Z",
     "shell.execute_reply.started": "2021-06-05T11:13:00.877099Z"
    },
    "papermill": {
     "duration": 1.316427,
     "end_time": "2021-06-05T11:17:13.681104",
     "exception": false,
     "start_time": "2021-06-05T11:17:12.364677",
     "status": "completed"
    },
    "tags": []
   },
   "outputs": [],
   "source": [
    "import pandas as pd\n",
    "import numpy as np\n",
    "import seaborn as sns\n",
    "import matplotlib.pyplot as plt\n",
    "%matplotlib inline\n",
    "\n",
    "\n",
    "# Models\n",
    "from sklearn.linear_model import LogisticRegression\n",
    "from sklearn.svm import SVC, LinearSVC\n",
    "from sklearn.ensemble import RandomForestClassifier\n",
    "from sklearn.neighbors import KNeighborsClassifier\n",
    "from sklearn.naive_bayes import GaussianNB\n",
    "from sklearn.linear_model import Perceptron\n",
    "from sklearn.linear_model import SGDClassifier\n",
    "from sklearn.tree import DecisionTreeClassifier"
   ]
  },
  {
   "cell_type": "markdown",
   "id": "infinite-lodge",
   "metadata": {
    "papermill": {
     "duration": 0.108266,
     "end_time": "2021-06-05T11:17:13.902751",
     "exception": false,
     "start_time": "2021-06-05T11:17:13.794485",
     "status": "completed"
    },
    "tags": []
   },
   "source": [
    "## Loading the Data"
   ]
  },
  {
   "cell_type": "code",
   "execution_count": 3,
   "id": "crude-finance",
   "metadata": {
    "execution": {
     "iopub.execute_input": "2021-06-05T11:17:14.140721Z",
     "iopub.status.busy": "2021-06-05T11:17:14.140055Z",
     "iopub.status.idle": "2021-06-05T11:17:14.174918Z",
     "shell.execute_reply": "2021-06-05T11:17:14.174329Z",
     "shell.execute_reply.started": "2021-06-05T11:13:02.182000Z"
    },
    "papermill": {
     "duration": 0.13626,
     "end_time": "2021-06-05T11:17:14.175079",
     "exception": false,
     "start_time": "2021-06-05T11:17:14.038819",
     "status": "completed"
    },
    "tags": []
   },
   "outputs": [],
   "source": [
    "train_df = pd.read_csv(\"/kaggle/input/titanic/train.csv\")\n",
    "test_df = pd.read_csv(\"/kaggle/input/titanic/test.csv\")"
   ]
  },
  {
   "cell_type": "code",
   "execution_count": 4,
   "id": "muslim-outside",
   "metadata": {
    "execution": {
     "iopub.execute_input": "2021-06-05T11:17:14.378364Z",
     "iopub.status.busy": "2021-06-05T11:17:14.377706Z",
     "iopub.status.idle": "2021-06-05T11:17:14.405520Z",
     "shell.execute_reply": "2021-06-05T11:17:14.406016Z",
     "shell.execute_reply.started": "2021-06-05T11:13:02.211860Z"
    },
    "papermill": {
     "duration": 0.133426,
     "end_time": "2021-06-05T11:17:14.406192",
     "exception": false,
     "start_time": "2021-06-05T11:17:14.272766",
     "status": "completed"
    },
    "tags": []
   },
   "outputs": [
    {
     "data": {
      "text/html": [
       "<div>\n",
       "<style scoped>\n",
       "    .dataframe tbody tr th:only-of-type {\n",
       "        vertical-align: middle;\n",
       "    }\n",
       "\n",
       "    .dataframe tbody tr th {\n",
       "        vertical-align: top;\n",
       "    }\n",
       "\n",
       "    .dataframe thead th {\n",
       "        text-align: right;\n",
       "    }\n",
       "</style>\n",
       "<table border=\"1\" class=\"dataframe\">\n",
       "  <thead>\n",
       "    <tr style=\"text-align: right;\">\n",
       "      <th></th>\n",
       "      <th>PassengerId</th>\n",
       "      <th>Survived</th>\n",
       "      <th>Pclass</th>\n",
       "      <th>Name</th>\n",
       "      <th>Sex</th>\n",
       "      <th>Age</th>\n",
       "      <th>SibSp</th>\n",
       "      <th>Parch</th>\n",
       "      <th>Ticket</th>\n",
       "      <th>Fare</th>\n",
       "      <th>Cabin</th>\n",
       "      <th>Embarked</th>\n",
       "    </tr>\n",
       "  </thead>\n",
       "  <tbody>\n",
       "    <tr>\n",
       "      <th>0</th>\n",
       "      <td>1</td>\n",
       "      <td>0</td>\n",
       "      <td>3</td>\n",
       "      <td>Braund, Mr. Owen Harris</td>\n",
       "      <td>male</td>\n",
       "      <td>22.0</td>\n",
       "      <td>1</td>\n",
       "      <td>0</td>\n",
       "      <td>A/5 21171</td>\n",
       "      <td>7.2500</td>\n",
       "      <td>NaN</td>\n",
       "      <td>S</td>\n",
       "    </tr>\n",
       "    <tr>\n",
       "      <th>1</th>\n",
       "      <td>2</td>\n",
       "      <td>1</td>\n",
       "      <td>1</td>\n",
       "      <td>Cumings, Mrs. John Bradley (Florence Briggs Th...</td>\n",
       "      <td>female</td>\n",
       "      <td>38.0</td>\n",
       "      <td>1</td>\n",
       "      <td>0</td>\n",
       "      <td>PC 17599</td>\n",
       "      <td>71.2833</td>\n",
       "      <td>C85</td>\n",
       "      <td>C</td>\n",
       "    </tr>\n",
       "    <tr>\n",
       "      <th>2</th>\n",
       "      <td>3</td>\n",
       "      <td>1</td>\n",
       "      <td>3</td>\n",
       "      <td>Heikkinen, Miss. Laina</td>\n",
       "      <td>female</td>\n",
       "      <td>26.0</td>\n",
       "      <td>0</td>\n",
       "      <td>0</td>\n",
       "      <td>STON/O2. 3101282</td>\n",
       "      <td>7.9250</td>\n",
       "      <td>NaN</td>\n",
       "      <td>S</td>\n",
       "    </tr>\n",
       "    <tr>\n",
       "      <th>3</th>\n",
       "      <td>4</td>\n",
       "      <td>1</td>\n",
       "      <td>1</td>\n",
       "      <td>Futrelle, Mrs. Jacques Heath (Lily May Peel)</td>\n",
       "      <td>female</td>\n",
       "      <td>35.0</td>\n",
       "      <td>1</td>\n",
       "      <td>0</td>\n",
       "      <td>113803</td>\n",
       "      <td>53.1000</td>\n",
       "      <td>C123</td>\n",
       "      <td>S</td>\n",
       "    </tr>\n",
       "    <tr>\n",
       "      <th>4</th>\n",
       "      <td>5</td>\n",
       "      <td>0</td>\n",
       "      <td>3</td>\n",
       "      <td>Allen, Mr. William Henry</td>\n",
       "      <td>male</td>\n",
       "      <td>35.0</td>\n",
       "      <td>0</td>\n",
       "      <td>0</td>\n",
       "      <td>373450</td>\n",
       "      <td>8.0500</td>\n",
       "      <td>NaN</td>\n",
       "      <td>S</td>\n",
       "    </tr>\n",
       "  </tbody>\n",
       "</table>\n",
       "</div>"
      ],
      "text/plain": [
       "   PassengerId  Survived  Pclass  \\\n",
       "0            1         0       3   \n",
       "1            2         1       1   \n",
       "2            3         1       3   \n",
       "3            4         1       1   \n",
       "4            5         0       3   \n",
       "\n",
       "                                                Name     Sex   Age  SibSp  \\\n",
       "0                            Braund, Mr. Owen Harris    male  22.0      1   \n",
       "1  Cumings, Mrs. John Bradley (Florence Briggs Th...  female  38.0      1   \n",
       "2                             Heikkinen, Miss. Laina  female  26.0      0   \n",
       "3       Futrelle, Mrs. Jacques Heath (Lily May Peel)  female  35.0      1   \n",
       "4                           Allen, Mr. William Henry    male  35.0      0   \n",
       "\n",
       "   Parch            Ticket     Fare Cabin Embarked  \n",
       "0      0         A/5 21171   7.2500   NaN        S  \n",
       "1      0          PC 17599  71.2833   C85        C  \n",
       "2      0  STON/O2. 3101282   7.9250   NaN        S  \n",
       "3      0            113803  53.1000  C123        S  \n",
       "4      0            373450   8.0500   NaN        S  "
      ]
     },
     "execution_count": 4,
     "metadata": {},
     "output_type": "execute_result"
    }
   ],
   "source": [
    "train_df.head()"
   ]
  },
  {
   "cell_type": "code",
   "execution_count": 5,
   "id": "experienced-helping",
   "metadata": {
    "execution": {
     "iopub.execute_input": "2021-06-05T11:17:14.596767Z",
     "iopub.status.busy": "2021-06-05T11:17:14.596109Z",
     "iopub.status.idle": "2021-06-05T11:17:14.613072Z",
     "shell.execute_reply": "2021-06-05T11:17:14.612373Z",
     "shell.execute_reply.started": "2021-06-05T11:13:02.246950Z"
    },
    "papermill": {
     "duration": 0.113384,
     "end_time": "2021-06-05T11:17:14.613224",
     "exception": false,
     "start_time": "2021-06-05T11:17:14.499840",
     "status": "completed"
    },
    "tags": []
   },
   "outputs": [
    {
     "data": {
      "text/html": [
       "<div>\n",
       "<style scoped>\n",
       "    .dataframe tbody tr th:only-of-type {\n",
       "        vertical-align: middle;\n",
       "    }\n",
       "\n",
       "    .dataframe tbody tr th {\n",
       "        vertical-align: top;\n",
       "    }\n",
       "\n",
       "    .dataframe thead th {\n",
       "        text-align: right;\n",
       "    }\n",
       "</style>\n",
       "<table border=\"1\" class=\"dataframe\">\n",
       "  <thead>\n",
       "    <tr style=\"text-align: right;\">\n",
       "      <th></th>\n",
       "      <th>PassengerId</th>\n",
       "      <th>Pclass</th>\n",
       "      <th>Name</th>\n",
       "      <th>Sex</th>\n",
       "      <th>Age</th>\n",
       "      <th>SibSp</th>\n",
       "      <th>Parch</th>\n",
       "      <th>Ticket</th>\n",
       "      <th>Fare</th>\n",
       "      <th>Cabin</th>\n",
       "      <th>Embarked</th>\n",
       "    </tr>\n",
       "  </thead>\n",
       "  <tbody>\n",
       "    <tr>\n",
       "      <th>0</th>\n",
       "      <td>892</td>\n",
       "      <td>3</td>\n",
       "      <td>Kelly, Mr. James</td>\n",
       "      <td>male</td>\n",
       "      <td>34.5</td>\n",
       "      <td>0</td>\n",
       "      <td>0</td>\n",
       "      <td>330911</td>\n",
       "      <td>7.8292</td>\n",
       "      <td>NaN</td>\n",
       "      <td>Q</td>\n",
       "    </tr>\n",
       "    <tr>\n",
       "      <th>1</th>\n",
       "      <td>893</td>\n",
       "      <td>3</td>\n",
       "      <td>Wilkes, Mrs. James (Ellen Needs)</td>\n",
       "      <td>female</td>\n",
       "      <td>47.0</td>\n",
       "      <td>1</td>\n",
       "      <td>0</td>\n",
       "      <td>363272</td>\n",
       "      <td>7.0000</td>\n",
       "      <td>NaN</td>\n",
       "      <td>S</td>\n",
       "    </tr>\n",
       "    <tr>\n",
       "      <th>2</th>\n",
       "      <td>894</td>\n",
       "      <td>2</td>\n",
       "      <td>Myles, Mr. Thomas Francis</td>\n",
       "      <td>male</td>\n",
       "      <td>62.0</td>\n",
       "      <td>0</td>\n",
       "      <td>0</td>\n",
       "      <td>240276</td>\n",
       "      <td>9.6875</td>\n",
       "      <td>NaN</td>\n",
       "      <td>Q</td>\n",
       "    </tr>\n",
       "    <tr>\n",
       "      <th>3</th>\n",
       "      <td>895</td>\n",
       "      <td>3</td>\n",
       "      <td>Wirz, Mr. Albert</td>\n",
       "      <td>male</td>\n",
       "      <td>27.0</td>\n",
       "      <td>0</td>\n",
       "      <td>0</td>\n",
       "      <td>315154</td>\n",
       "      <td>8.6625</td>\n",
       "      <td>NaN</td>\n",
       "      <td>S</td>\n",
       "    </tr>\n",
       "    <tr>\n",
       "      <th>4</th>\n",
       "      <td>896</td>\n",
       "      <td>3</td>\n",
       "      <td>Hirvonen, Mrs. Alexander (Helga E Lindqvist)</td>\n",
       "      <td>female</td>\n",
       "      <td>22.0</td>\n",
       "      <td>1</td>\n",
       "      <td>1</td>\n",
       "      <td>3101298</td>\n",
       "      <td>12.2875</td>\n",
       "      <td>NaN</td>\n",
       "      <td>S</td>\n",
       "    </tr>\n",
       "  </tbody>\n",
       "</table>\n",
       "</div>"
      ],
      "text/plain": [
       "   PassengerId  Pclass                                          Name     Sex  \\\n",
       "0          892       3                              Kelly, Mr. James    male   \n",
       "1          893       3              Wilkes, Mrs. James (Ellen Needs)  female   \n",
       "2          894       2                     Myles, Mr. Thomas Francis    male   \n",
       "3          895       3                              Wirz, Mr. Albert    male   \n",
       "4          896       3  Hirvonen, Mrs. Alexander (Helga E Lindqvist)  female   \n",
       "\n",
       "    Age  SibSp  Parch   Ticket     Fare Cabin Embarked  \n",
       "0  34.5      0      0   330911   7.8292   NaN        Q  \n",
       "1  47.0      1      0   363272   7.0000   NaN        S  \n",
       "2  62.0      0      0   240276   9.6875   NaN        Q  \n",
       "3  27.0      0      0   315154   8.6625   NaN        S  \n",
       "4  22.0      1      1  3101298  12.2875   NaN        S  "
      ]
     },
     "execution_count": 5,
     "metadata": {},
     "output_type": "execute_result"
    }
   ],
   "source": [
    "test_df.head()"
   ]
  },
  {
   "cell_type": "markdown",
   "id": "angry-brief",
   "metadata": {
    "papermill": {
     "duration": 0.094792,
     "end_time": "2021-06-05T11:17:14.802978",
     "exception": false,
     "start_time": "2021-06-05T11:17:14.708186",
     "status": "completed"
    },
    "tags": []
   },
   "source": [
    "## Data Analysis"
   ]
  },
  {
   "cell_type": "markdown",
   "id": "induced-occasion",
   "metadata": {
    "papermill": {
     "duration": 0.105043,
     "end_time": "2021-06-05T11:17:15.002401",
     "exception": false,
     "start_time": "2021-06-05T11:17:14.897358",
     "status": "completed"
    },
    "tags": []
   },
   "source": [
    "Getting basic info about our dataframes like Column name, Types, count etc"
   ]
  },
  {
   "cell_type": "code",
   "execution_count": 6,
   "id": "advisory-findings",
   "metadata": {
    "execution": {
     "iopub.execute_input": "2021-06-05T11:17:15.197239Z",
     "iopub.status.busy": "2021-06-05T11:17:15.196452Z",
     "iopub.status.idle": "2021-06-05T11:17:15.202607Z",
     "shell.execute_reply": "2021-06-05T11:17:15.201968Z",
     "shell.execute_reply.started": "2021-06-05T11:13:02.265422Z"
    },
    "papermill": {
     "duration": 0.102489,
     "end_time": "2021-06-05T11:17:15.202744",
     "exception": false,
     "start_time": "2021-06-05T11:17:15.100255",
     "status": "completed"
    },
    "tags": []
   },
   "outputs": [
    {
     "name": "stdout",
     "output_type": "stream",
     "text": [
      "Training Data Columns:  Index(['PassengerId', 'Survived', 'Pclass', 'Name', 'Sex', 'Age', 'SibSp',\n",
      "       'Parch', 'Ticket', 'Fare', 'Cabin', 'Embarked'],\n",
      "      dtype='object')\n",
      "Testing Data Columns:  Index(['PassengerId', 'Pclass', 'Name', 'Sex', 'Age', 'SibSp', 'Parch',\n",
      "       'Ticket', 'Fare', 'Cabin', 'Embarked'],\n",
      "      dtype='object')\n"
     ]
    }
   ],
   "source": [
    "# Analysis of Clumns present\n",
    "\n",
    "print(\"Training Data Columns: \",train_df.columns)\n",
    "print(\"Testing Data Columns: \",test_df.columns)"
   ]
  },
  {
   "cell_type": "code",
   "execution_count": 7,
   "id": "amended-pacific",
   "metadata": {
    "execution": {
     "iopub.execute_input": "2021-06-05T11:17:15.405649Z",
     "iopub.status.busy": "2021-06-05T11:17:15.404957Z",
     "iopub.status.idle": "2021-06-05T11:17:15.419870Z",
     "shell.execute_reply": "2021-06-05T11:17:15.420425Z",
     "shell.execute_reply.started": "2021-06-05T11:13:02.279122Z"
    },
    "papermill": {
     "duration": 0.12129,
     "end_time": "2021-06-05T11:17:15.420608",
     "exception": false,
     "start_time": "2021-06-05T11:17:15.299318",
     "status": "completed"
    },
    "tags": []
   },
   "outputs": [
    {
     "name": "stdout",
     "output_type": "stream",
     "text": [
      "<class 'pandas.core.frame.DataFrame'>\n",
      "RangeIndex: 891 entries, 0 to 890\n",
      "Data columns (total 12 columns):\n",
      " #   Column       Non-Null Count  Dtype  \n",
      "---  ------       --------------  -----  \n",
      " 0   PassengerId  891 non-null    int64  \n",
      " 1   Survived     891 non-null    int64  \n",
      " 2   Pclass       891 non-null    int64  \n",
      " 3   Name         891 non-null    object \n",
      " 4   Sex          891 non-null    object \n",
      " 5   Age          714 non-null    float64\n",
      " 6   SibSp        891 non-null    int64  \n",
      " 7   Parch        891 non-null    int64  \n",
      " 8   Ticket       891 non-null    object \n",
      " 9   Fare         891 non-null    float64\n",
      " 10  Cabin        204 non-null    object \n",
      " 11  Embarked     889 non-null    object \n",
      "dtypes: float64(2), int64(5), object(5)\n",
      "memory usage: 83.7+ KB\n"
     ]
    }
   ],
   "source": [
    "train_df.info()"
   ]
  },
  {
   "cell_type": "code",
   "execution_count": 8,
   "id": "upset-austria",
   "metadata": {
    "execution": {
     "iopub.execute_input": "2021-06-05T11:17:15.624599Z",
     "iopub.status.busy": "2021-06-05T11:17:15.623863Z",
     "iopub.status.idle": "2021-06-05T11:17:15.665565Z",
     "shell.execute_reply": "2021-06-05T11:17:15.666103Z",
     "shell.execute_reply.started": "2021-06-05T11:13:02.306330Z"
    },
    "papermill": {
     "duration": 0.147797,
     "end_time": "2021-06-05T11:17:15.666280",
     "exception": false,
     "start_time": "2021-06-05T11:17:15.518483",
     "status": "completed"
    },
    "tags": []
   },
   "outputs": [
    {
     "data": {
      "text/html": [
       "<div>\n",
       "<style scoped>\n",
       "    .dataframe tbody tr th:only-of-type {\n",
       "        vertical-align: middle;\n",
       "    }\n",
       "\n",
       "    .dataframe tbody tr th {\n",
       "        vertical-align: top;\n",
       "    }\n",
       "\n",
       "    .dataframe thead th {\n",
       "        text-align: right;\n",
       "    }\n",
       "</style>\n",
       "<table border=\"1\" class=\"dataframe\">\n",
       "  <thead>\n",
       "    <tr style=\"text-align: right;\">\n",
       "      <th></th>\n",
       "      <th>Name</th>\n",
       "      <th>Sex</th>\n",
       "      <th>Ticket</th>\n",
       "      <th>Cabin</th>\n",
       "      <th>Embarked</th>\n",
       "    </tr>\n",
       "  </thead>\n",
       "  <tbody>\n",
       "    <tr>\n",
       "      <th>count</th>\n",
       "      <td>891</td>\n",
       "      <td>891</td>\n",
       "      <td>891</td>\n",
       "      <td>204</td>\n",
       "      <td>889</td>\n",
       "    </tr>\n",
       "    <tr>\n",
       "      <th>unique</th>\n",
       "      <td>891</td>\n",
       "      <td>2</td>\n",
       "      <td>681</td>\n",
       "      <td>147</td>\n",
       "      <td>3</td>\n",
       "    </tr>\n",
       "    <tr>\n",
       "      <th>top</th>\n",
       "      <td>Peuchen, Major. Arthur Godfrey</td>\n",
       "      <td>male</td>\n",
       "      <td>CA. 2343</td>\n",
       "      <td>C23 C25 C27</td>\n",
       "      <td>S</td>\n",
       "    </tr>\n",
       "    <tr>\n",
       "      <th>freq</th>\n",
       "      <td>1</td>\n",
       "      <td>577</td>\n",
       "      <td>7</td>\n",
       "      <td>4</td>\n",
       "      <td>644</td>\n",
       "    </tr>\n",
       "  </tbody>\n",
       "</table>\n",
       "</div>"
      ],
      "text/plain": [
       "                                  Name   Sex    Ticket        Cabin Embarked\n",
       "count                              891   891       891          204      889\n",
       "unique                             891     2       681          147        3\n",
       "top     Peuchen, Major. Arthur Godfrey  male  CA. 2343  C23 C25 C27        S\n",
       "freq                                 1   577         7            4      644"
      ]
     },
     "execution_count": 8,
     "metadata": {},
     "output_type": "execute_result"
    }
   ],
   "source": [
    "train_df.describe(include=['O'])"
   ]
  },
  {
   "cell_type": "markdown",
   "id": "expensive-portfolio",
   "metadata": {
    "papermill": {
     "duration": 0.096862,
     "end_time": "2021-06-05T11:17:15.863096",
     "exception": false,
     "start_time": "2021-06-05T11:17:15.766234",
     "status": "completed"
    },
    "tags": []
   },
   "source": [
    "### What is the distribution of categorical features?\n",
    "\n",
    "- Names are unique across the dataset (count=unique=891)\n",
    "- Sex variable as two possible values with 65% male (top=male, freq=577/count=891).\n",
    "- Cabin values have several dupicates across samples. Alternatively several passengers shared a cabin.\n",
    "- Embarked takes three possible values. S port used by most passengers (top=S)\n",
    "- Ticket feature has high ratio (22%) of duplicate values (unique=681)."
   ]
  },
  {
   "cell_type": "code",
   "execution_count": 9,
   "id": "prescribed-alpha",
   "metadata": {
    "execution": {
     "iopub.execute_input": "2021-06-05T11:17:16.064245Z",
     "iopub.status.busy": "2021-06-05T11:17:16.063166Z",
     "iopub.status.idle": "2021-06-05T11:17:16.078962Z",
     "shell.execute_reply": "2021-06-05T11:17:16.078244Z",
     "shell.execute_reply.started": "2021-06-05T11:13:02.352261Z"
    },
    "papermill": {
     "duration": 0.118675,
     "end_time": "2021-06-05T11:17:16.079137",
     "exception": false,
     "start_time": "2021-06-05T11:17:15.960462",
     "status": "completed"
    },
    "tags": []
   },
   "outputs": [
    {
     "name": "stdout",
     "output_type": "stream",
     "text": [
      "<class 'pandas.core.frame.DataFrame'>\n",
      "RangeIndex: 418 entries, 0 to 417\n",
      "Data columns (total 11 columns):\n",
      " #   Column       Non-Null Count  Dtype  \n",
      "---  ------       --------------  -----  \n",
      " 0   PassengerId  418 non-null    int64  \n",
      " 1   Pclass       418 non-null    int64  \n",
      " 2   Name         418 non-null    object \n",
      " 3   Sex          418 non-null    object \n",
      " 4   Age          332 non-null    float64\n",
      " 5   SibSp        418 non-null    int64  \n",
      " 6   Parch        418 non-null    int64  \n",
      " 7   Ticket       418 non-null    object \n",
      " 8   Fare         417 non-null    float64\n",
      " 9   Cabin        91 non-null     object \n",
      " 10  Embarked     418 non-null    object \n",
      "dtypes: float64(2), int64(4), object(5)\n",
      "memory usage: 36.0+ KB\n"
     ]
    }
   ],
   "source": [
    "test_df.info()"
   ]
  },
  {
   "cell_type": "code",
   "execution_count": 10,
   "id": "developmental-alberta",
   "metadata": {
    "execution": {
     "iopub.execute_input": "2021-06-05T11:17:16.287841Z",
     "iopub.status.busy": "2021-06-05T11:17:16.287135Z",
     "iopub.status.idle": "2021-06-05T11:17:16.318817Z",
     "shell.execute_reply": "2021-06-05T11:17:16.318276Z",
     "shell.execute_reply.started": "2021-06-05T11:13:02.368805Z"
    },
    "papermill": {
     "duration": 0.139545,
     "end_time": "2021-06-05T11:17:16.318977",
     "exception": false,
     "start_time": "2021-06-05T11:17:16.179432",
     "status": "completed"
    },
    "tags": []
   },
   "outputs": [
    {
     "data": {
      "text/html": [
       "<div>\n",
       "<style scoped>\n",
       "    .dataframe tbody tr th:only-of-type {\n",
       "        vertical-align: middle;\n",
       "    }\n",
       "\n",
       "    .dataframe tbody tr th {\n",
       "        vertical-align: top;\n",
       "    }\n",
       "\n",
       "    .dataframe thead th {\n",
       "        text-align: right;\n",
       "    }\n",
       "</style>\n",
       "<table border=\"1\" class=\"dataframe\">\n",
       "  <thead>\n",
       "    <tr style=\"text-align: right;\">\n",
       "      <th></th>\n",
       "      <th>PassengerId</th>\n",
       "      <th>Survived</th>\n",
       "      <th>Pclass</th>\n",
       "      <th>Age</th>\n",
       "      <th>SibSp</th>\n",
       "      <th>Parch</th>\n",
       "      <th>Fare</th>\n",
       "    </tr>\n",
       "  </thead>\n",
       "  <tbody>\n",
       "    <tr>\n",
       "      <th>count</th>\n",
       "      <td>891.000000</td>\n",
       "      <td>891.000000</td>\n",
       "      <td>891.000000</td>\n",
       "      <td>714.000000</td>\n",
       "      <td>891.000000</td>\n",
       "      <td>891.000000</td>\n",
       "      <td>891.000000</td>\n",
       "    </tr>\n",
       "    <tr>\n",
       "      <th>mean</th>\n",
       "      <td>446.000000</td>\n",
       "      <td>0.383838</td>\n",
       "      <td>2.308642</td>\n",
       "      <td>29.699118</td>\n",
       "      <td>0.523008</td>\n",
       "      <td>0.381594</td>\n",
       "      <td>32.204208</td>\n",
       "    </tr>\n",
       "    <tr>\n",
       "      <th>std</th>\n",
       "      <td>257.353842</td>\n",
       "      <td>0.486592</td>\n",
       "      <td>0.836071</td>\n",
       "      <td>14.526497</td>\n",
       "      <td>1.102743</td>\n",
       "      <td>0.806057</td>\n",
       "      <td>49.693429</td>\n",
       "    </tr>\n",
       "    <tr>\n",
       "      <th>min</th>\n",
       "      <td>1.000000</td>\n",
       "      <td>0.000000</td>\n",
       "      <td>1.000000</td>\n",
       "      <td>0.420000</td>\n",
       "      <td>0.000000</td>\n",
       "      <td>0.000000</td>\n",
       "      <td>0.000000</td>\n",
       "    </tr>\n",
       "    <tr>\n",
       "      <th>25%</th>\n",
       "      <td>223.500000</td>\n",
       "      <td>0.000000</td>\n",
       "      <td>2.000000</td>\n",
       "      <td>20.125000</td>\n",
       "      <td>0.000000</td>\n",
       "      <td>0.000000</td>\n",
       "      <td>7.910400</td>\n",
       "    </tr>\n",
       "    <tr>\n",
       "      <th>50%</th>\n",
       "      <td>446.000000</td>\n",
       "      <td>0.000000</td>\n",
       "      <td>3.000000</td>\n",
       "      <td>28.000000</td>\n",
       "      <td>0.000000</td>\n",
       "      <td>0.000000</td>\n",
       "      <td>14.454200</td>\n",
       "    </tr>\n",
       "    <tr>\n",
       "      <th>75%</th>\n",
       "      <td>668.500000</td>\n",
       "      <td>1.000000</td>\n",
       "      <td>3.000000</td>\n",
       "      <td>38.000000</td>\n",
       "      <td>1.000000</td>\n",
       "      <td>0.000000</td>\n",
       "      <td>31.000000</td>\n",
       "    </tr>\n",
       "    <tr>\n",
       "      <th>max</th>\n",
       "      <td>891.000000</td>\n",
       "      <td>1.000000</td>\n",
       "      <td>3.000000</td>\n",
       "      <td>80.000000</td>\n",
       "      <td>8.000000</td>\n",
       "      <td>6.000000</td>\n",
       "      <td>512.329200</td>\n",
       "    </tr>\n",
       "  </tbody>\n",
       "</table>\n",
       "</div>"
      ],
      "text/plain": [
       "       PassengerId    Survived      Pclass         Age       SibSp  \\\n",
       "count   891.000000  891.000000  891.000000  714.000000  891.000000   \n",
       "mean    446.000000    0.383838    2.308642   29.699118    0.523008   \n",
       "std     257.353842    0.486592    0.836071   14.526497    1.102743   \n",
       "min       1.000000    0.000000    1.000000    0.420000    0.000000   \n",
       "25%     223.500000    0.000000    2.000000   20.125000    0.000000   \n",
       "50%     446.000000    0.000000    3.000000   28.000000    0.000000   \n",
       "75%     668.500000    1.000000    3.000000   38.000000    1.000000   \n",
       "max     891.000000    1.000000    3.000000   80.000000    8.000000   \n",
       "\n",
       "            Parch        Fare  \n",
       "count  891.000000  891.000000  \n",
       "mean     0.381594   32.204208  \n",
       "std      0.806057   49.693429  \n",
       "min      0.000000    0.000000  \n",
       "25%      0.000000    7.910400  \n",
       "50%      0.000000   14.454200  \n",
       "75%      0.000000   31.000000  \n",
       "max      6.000000  512.329200  "
      ]
     },
     "execution_count": 10,
     "metadata": {},
     "output_type": "execute_result"
    }
   ],
   "source": [
    "train_df.describe()"
   ]
  },
  {
   "cell_type": "code",
   "execution_count": 11,
   "id": "pleased-character",
   "metadata": {
    "execution": {
     "iopub.execute_input": "2021-06-05T11:17:16.547500Z",
     "iopub.status.busy": "2021-06-05T11:17:16.527369Z",
     "iopub.status.idle": "2021-06-05T11:17:16.551978Z",
     "shell.execute_reply": "2021-06-05T11:17:16.551385Z",
     "shell.execute_reply.started": "2021-06-05T11:13:02.405741Z"
    },
    "papermill": {
     "duration": 0.136691,
     "end_time": "2021-06-05T11:17:16.552119",
     "exception": false,
     "start_time": "2021-06-05T11:17:16.415428",
     "status": "completed"
    },
    "tags": []
   },
   "outputs": [
    {
     "data": {
      "text/html": [
       "<div>\n",
       "<style scoped>\n",
       "    .dataframe tbody tr th:only-of-type {\n",
       "        vertical-align: middle;\n",
       "    }\n",
       "\n",
       "    .dataframe tbody tr th {\n",
       "        vertical-align: top;\n",
       "    }\n",
       "\n",
       "    .dataframe thead th {\n",
       "        text-align: right;\n",
       "    }\n",
       "</style>\n",
       "<table border=\"1\" class=\"dataframe\">\n",
       "  <thead>\n",
       "    <tr style=\"text-align: right;\">\n",
       "      <th></th>\n",
       "      <th>PassengerId</th>\n",
       "      <th>Pclass</th>\n",
       "      <th>Age</th>\n",
       "      <th>SibSp</th>\n",
       "      <th>Parch</th>\n",
       "      <th>Fare</th>\n",
       "    </tr>\n",
       "  </thead>\n",
       "  <tbody>\n",
       "    <tr>\n",
       "      <th>count</th>\n",
       "      <td>418.000000</td>\n",
       "      <td>418.000000</td>\n",
       "      <td>332.000000</td>\n",
       "      <td>418.000000</td>\n",
       "      <td>418.000000</td>\n",
       "      <td>417.000000</td>\n",
       "    </tr>\n",
       "    <tr>\n",
       "      <th>mean</th>\n",
       "      <td>1100.500000</td>\n",
       "      <td>2.265550</td>\n",
       "      <td>30.272590</td>\n",
       "      <td>0.447368</td>\n",
       "      <td>0.392344</td>\n",
       "      <td>35.627188</td>\n",
       "    </tr>\n",
       "    <tr>\n",
       "      <th>std</th>\n",
       "      <td>120.810458</td>\n",
       "      <td>0.841838</td>\n",
       "      <td>14.181209</td>\n",
       "      <td>0.896760</td>\n",
       "      <td>0.981429</td>\n",
       "      <td>55.907576</td>\n",
       "    </tr>\n",
       "    <tr>\n",
       "      <th>min</th>\n",
       "      <td>892.000000</td>\n",
       "      <td>1.000000</td>\n",
       "      <td>0.170000</td>\n",
       "      <td>0.000000</td>\n",
       "      <td>0.000000</td>\n",
       "      <td>0.000000</td>\n",
       "    </tr>\n",
       "    <tr>\n",
       "      <th>25%</th>\n",
       "      <td>996.250000</td>\n",
       "      <td>1.000000</td>\n",
       "      <td>21.000000</td>\n",
       "      <td>0.000000</td>\n",
       "      <td>0.000000</td>\n",
       "      <td>7.895800</td>\n",
       "    </tr>\n",
       "    <tr>\n",
       "      <th>50%</th>\n",
       "      <td>1100.500000</td>\n",
       "      <td>3.000000</td>\n",
       "      <td>27.000000</td>\n",
       "      <td>0.000000</td>\n",
       "      <td>0.000000</td>\n",
       "      <td>14.454200</td>\n",
       "    </tr>\n",
       "    <tr>\n",
       "      <th>75%</th>\n",
       "      <td>1204.750000</td>\n",
       "      <td>3.000000</td>\n",
       "      <td>39.000000</td>\n",
       "      <td>1.000000</td>\n",
       "      <td>0.000000</td>\n",
       "      <td>31.500000</td>\n",
       "    </tr>\n",
       "    <tr>\n",
       "      <th>max</th>\n",
       "      <td>1309.000000</td>\n",
       "      <td>3.000000</td>\n",
       "      <td>76.000000</td>\n",
       "      <td>8.000000</td>\n",
       "      <td>9.000000</td>\n",
       "      <td>512.329200</td>\n",
       "    </tr>\n",
       "  </tbody>\n",
       "</table>\n",
       "</div>"
      ],
      "text/plain": [
       "       PassengerId      Pclass         Age       SibSp       Parch        Fare\n",
       "count   418.000000  418.000000  332.000000  418.000000  418.000000  417.000000\n",
       "mean   1100.500000    2.265550   30.272590    0.447368    0.392344   35.627188\n",
       "std     120.810458    0.841838   14.181209    0.896760    0.981429   55.907576\n",
       "min     892.000000    1.000000    0.170000    0.000000    0.000000    0.000000\n",
       "25%     996.250000    1.000000   21.000000    0.000000    0.000000    7.895800\n",
       "50%    1100.500000    3.000000   27.000000    0.000000    0.000000   14.454200\n",
       "75%    1204.750000    3.000000   39.000000    1.000000    0.000000   31.500000\n",
       "max    1309.000000    3.000000   76.000000    8.000000    9.000000  512.329200"
      ]
     },
     "execution_count": 11,
     "metadata": {},
     "output_type": "execute_result"
    }
   ],
   "source": [
    "test_df.describe()"
   ]
  },
  {
   "cell_type": "markdown",
   "id": "working-boards",
   "metadata": {
    "execution": {
     "iopub.execute_input": "2021-06-05T04:58:01.306009Z",
     "iopub.status.busy": "2021-06-05T04:58:01.305499Z",
     "iopub.status.idle": "2021-06-05T04:58:01.318831Z",
     "shell.execute_reply": "2021-06-05T04:58:01.317743Z",
     "shell.execute_reply.started": "2021-06-05T04:58:01.305973Z"
    },
    "papermill": {
     "duration": 0.096109,
     "end_time": "2021-06-05T11:17:16.745143",
     "exception": false,
     "start_time": "2021-06-05T11:17:16.649034",
     "status": "completed"
    },
    "tags": []
   },
   "source": [
    "## Assumtions based on data analysis\n",
    "We arrive at following assumptions based on data analysis done so far. We may validate these assumptions further before taking appropriate actions.\n",
    "\n",
    "### Correlating.\n",
    "     \n",
    "    We want to know how well does each feature correlate with Survival. We want to do this early in our project and match these quick correlations with modelled correlations later in the project.\n",
    "\n",
    "### Completing.\n",
    "\n",
    "- We may want to complete Age feature as it is definitely correlated to survival.\n",
    "- We may want to complete the Embarked feature as it may also correlate with survival or another important feature.\n",
    "\n",
    "### Correcting.\n",
    "\n",
    "- Ticket feature may be dropped from our analysis as it contains high ratio of duplicates (22%) and there may not be a correlation between Ticket and survival.\n",
    "- Cabin feature may be dropped as it is highly incomplete or contains many null values both in training and test dataset.\n",
    "- PassengerId may be dropped from training dataset as it does not contribute to survival.\n",
    "- Name feature is relatively non-standard, may not contribute directly to survival, so maybe dropped.\n",
    "\n",
    "### Creating.\n",
    "\n",
    "- We may want to create a new feature called Family based on Parch and SibSp to get total count of family members on board.\n",
    "- We may want to engineer the Name feature to extract Title as a new feature.\n",
    "- We may want to create new feature for Age bands. This turns a continous numerical feature into an ordinal categorical feature.\n",
    "- We may also want to create a Fare range feature if it helps our analysis.\n",
    "\n",
    "### Classifying.\n",
    "\n",
    "We may also add to our assumptions based on the problem description noted earlier.\n",
    "\n",
    "- Women (Sex=female) were more likely to have survived.\n",
    "- Children (Age<?) were more likely to have survived.\n",
    "- The upper-class passengers (Pclass=1) were more likely to have survived"
   ]
  },
  {
   "cell_type": "markdown",
   "id": "particular-floating",
   "metadata": {
    "papermill": {
     "duration": 0.097025,
     "end_time": "2021-06-05T11:17:16.940430",
     "exception": false,
     "start_time": "2021-06-05T11:17:16.843405",
     "status": "completed"
    },
    "tags": []
   },
   "source": [
    "### We will quickly verify some of our assumptions by Pivoting features against Survival class."
   ]
  },
  {
   "cell_type": "code",
   "execution_count": 12,
   "id": "covered-milan",
   "metadata": {
    "execution": {
     "iopub.execute_input": "2021-06-05T11:17:17.147270Z",
     "iopub.status.busy": "2021-06-05T11:17:17.146260Z",
     "iopub.status.idle": "2021-06-05T11:17:17.164680Z",
     "shell.execute_reply": "2021-06-05T11:17:17.165374Z",
     "shell.execute_reply.started": "2021-06-05T11:13:02.443308Z"
    },
    "papermill": {
     "duration": 0.12186,
     "end_time": "2021-06-05T11:17:17.165575",
     "exception": false,
     "start_time": "2021-06-05T11:17:17.043715",
     "status": "completed"
    },
    "tags": []
   },
   "outputs": [
    {
     "data": {
      "text/html": [
       "<div>\n",
       "<style scoped>\n",
       "    .dataframe tbody tr th:only-of-type {\n",
       "        vertical-align: middle;\n",
       "    }\n",
       "\n",
       "    .dataframe tbody tr th {\n",
       "        vertical-align: top;\n",
       "    }\n",
       "\n",
       "    .dataframe thead th {\n",
       "        text-align: right;\n",
       "    }\n",
       "</style>\n",
       "<table border=\"1\" class=\"dataframe\">\n",
       "  <thead>\n",
       "    <tr style=\"text-align: right;\">\n",
       "      <th></th>\n",
       "      <th>Sex</th>\n",
       "      <th>Survived</th>\n",
       "    </tr>\n",
       "  </thead>\n",
       "  <tbody>\n",
       "    <tr>\n",
       "      <th>0</th>\n",
       "      <td>female</td>\n",
       "      <td>0.742038</td>\n",
       "    </tr>\n",
       "    <tr>\n",
       "      <th>1</th>\n",
       "      <td>male</td>\n",
       "      <td>0.188908</td>\n",
       "    </tr>\n",
       "  </tbody>\n",
       "</table>\n",
       "</div>"
      ],
      "text/plain": [
       "      Sex  Survived\n",
       "0  female  0.742038\n",
       "1    male  0.188908"
      ]
     },
     "execution_count": 12,
     "metadata": {},
     "output_type": "execute_result"
    }
   ],
   "source": [
    "# Sex against Survival\n",
    "\n",
    "train_df[[\"Sex\", \"Survived\"]].groupby(['Sex'], as_index=False).mean().sort_values(by='Survived', ascending=False)\n"
   ]
  },
  {
   "cell_type": "markdown",
   "id": "cardiovascular-runner",
   "metadata": {
    "papermill": {
     "duration": 0.099827,
     "end_time": "2021-06-05T11:17:17.363426",
     "exception": false,
     "start_time": "2021-06-05T11:17:17.263599",
     "status": "completed"
    },
    "tags": []
   },
   "source": [
    "This implies that Women survived most"
   ]
  },
  {
   "cell_type": "code",
   "execution_count": 13,
   "id": "parental-disabled",
   "metadata": {
    "execution": {
     "iopub.execute_input": "2021-06-05T11:17:17.570867Z",
     "iopub.status.busy": "2021-06-05T11:17:17.569814Z",
     "iopub.status.idle": "2021-06-05T11:17:17.587749Z",
     "shell.execute_reply": "2021-06-05T11:17:17.587224Z",
     "shell.execute_reply.started": "2021-06-05T11:13:02.465036Z"
    },
    "papermill": {
     "duration": 0.125918,
     "end_time": "2021-06-05T11:17:17.587923",
     "exception": false,
     "start_time": "2021-06-05T11:17:17.462005",
     "status": "completed"
    },
    "tags": []
   },
   "outputs": [
    {
     "data": {
      "text/html": [
       "<div>\n",
       "<style scoped>\n",
       "    .dataframe tbody tr th:only-of-type {\n",
       "        vertical-align: middle;\n",
       "    }\n",
       "\n",
       "    .dataframe tbody tr th {\n",
       "        vertical-align: top;\n",
       "    }\n",
       "\n",
       "    .dataframe thead th {\n",
       "        text-align: right;\n",
       "    }\n",
       "</style>\n",
       "<table border=\"1\" class=\"dataframe\">\n",
       "  <thead>\n",
       "    <tr style=\"text-align: right;\">\n",
       "      <th></th>\n",
       "      <th>Pclass</th>\n",
       "      <th>Survived</th>\n",
       "    </tr>\n",
       "  </thead>\n",
       "  <tbody>\n",
       "    <tr>\n",
       "      <th>0</th>\n",
       "      <td>1</td>\n",
       "      <td>0.629630</td>\n",
       "    </tr>\n",
       "    <tr>\n",
       "      <th>1</th>\n",
       "      <td>2</td>\n",
       "      <td>0.472826</td>\n",
       "    </tr>\n",
       "    <tr>\n",
       "      <th>2</th>\n",
       "      <td>3</td>\n",
       "      <td>0.242363</td>\n",
       "    </tr>\n",
       "  </tbody>\n",
       "</table>\n",
       "</div>"
      ],
      "text/plain": [
       "   Pclass  Survived\n",
       "0       1  0.629630\n",
       "1       2  0.472826\n",
       "2       3  0.242363"
      ]
     },
     "execution_count": 13,
     "metadata": {},
     "output_type": "execute_result"
    }
   ],
   "source": [
    "# Passenger Class(Pclass) Against Survival\n",
    "\n",
    "train_df[['Pclass','Survived']].groupby(['Pclass'], as_index = False).mean().sort_values(by='Survived',ascending=False)"
   ]
  },
  {
   "cell_type": "markdown",
   "id": "consecutive-trainer",
   "metadata": {
    "papermill": {
     "duration": 0.098189,
     "end_time": "2021-06-05T11:17:17.785135",
     "exception": false,
     "start_time": "2021-06-05T11:17:17.686946",
     "status": "completed"
    },
    "tags": []
   },
   "source": [
    "This implies that 1st class Passengers survived most"
   ]
  },
  {
   "cell_type": "code",
   "execution_count": 14,
   "id": "fitting-chart",
   "metadata": {
    "execution": {
     "iopub.execute_input": "2021-06-05T11:17:18.002697Z",
     "iopub.status.busy": "2021-06-05T11:17:18.001604Z",
     "iopub.status.idle": "2021-06-05T11:17:18.006096Z",
     "shell.execute_reply": "2021-06-05T11:17:18.006602Z",
     "shell.execute_reply.started": "2021-06-05T11:13:02.485795Z"
    },
    "papermill": {
     "duration": 0.123212,
     "end_time": "2021-06-05T11:17:18.006804",
     "exception": false,
     "start_time": "2021-06-05T11:17:17.883592",
     "status": "completed"
    },
    "tags": []
   },
   "outputs": [
    {
     "data": {
      "text/html": [
       "<div>\n",
       "<style scoped>\n",
       "    .dataframe tbody tr th:only-of-type {\n",
       "        vertical-align: middle;\n",
       "    }\n",
       "\n",
       "    .dataframe tbody tr th {\n",
       "        vertical-align: top;\n",
       "    }\n",
       "\n",
       "    .dataframe thead th {\n",
       "        text-align: right;\n",
       "    }\n",
       "</style>\n",
       "<table border=\"1\" class=\"dataframe\">\n",
       "  <thead>\n",
       "    <tr style=\"text-align: right;\">\n",
       "      <th></th>\n",
       "      <th>SibSp</th>\n",
       "      <th>Survived</th>\n",
       "    </tr>\n",
       "  </thead>\n",
       "  <tbody>\n",
       "    <tr>\n",
       "      <th>1</th>\n",
       "      <td>1</td>\n",
       "      <td>0.535885</td>\n",
       "    </tr>\n",
       "    <tr>\n",
       "      <th>2</th>\n",
       "      <td>2</td>\n",
       "      <td>0.464286</td>\n",
       "    </tr>\n",
       "    <tr>\n",
       "      <th>0</th>\n",
       "      <td>0</td>\n",
       "      <td>0.345395</td>\n",
       "    </tr>\n",
       "    <tr>\n",
       "      <th>3</th>\n",
       "      <td>3</td>\n",
       "      <td>0.250000</td>\n",
       "    </tr>\n",
       "    <tr>\n",
       "      <th>4</th>\n",
       "      <td>4</td>\n",
       "      <td>0.166667</td>\n",
       "    </tr>\n",
       "    <tr>\n",
       "      <th>5</th>\n",
       "      <td>5</td>\n",
       "      <td>0.000000</td>\n",
       "    </tr>\n",
       "    <tr>\n",
       "      <th>6</th>\n",
       "      <td>8</td>\n",
       "      <td>0.000000</td>\n",
       "    </tr>\n",
       "  </tbody>\n",
       "</table>\n",
       "</div>"
      ],
      "text/plain": [
       "   SibSp  Survived\n",
       "1      1  0.535885\n",
       "2      2  0.464286\n",
       "0      0  0.345395\n",
       "3      3  0.250000\n",
       "4      4  0.166667\n",
       "5      5  0.000000\n",
       "6      8  0.000000"
      ]
     },
     "execution_count": 14,
     "metadata": {},
     "output_type": "execute_result"
    }
   ],
   "source": [
    "# No. of siblings/spouses aboard(sibsp) vs Survival\n",
    "\n",
    "train_df[['SibSp', 'Survived']].groupby(['SibSp'], as_index=False).mean().sort_values(by='Survived', ascending=False)"
   ]
  },
  {
   "cell_type": "markdown",
   "id": "nuclear-upset",
   "metadata": {
    "papermill": {
     "duration": 0.100381,
     "end_time": "2021-06-05T11:17:18.207679",
     "exception": false,
     "start_time": "2021-06-05T11:17:18.107298",
     "status": "completed"
    },
    "tags": []
   },
   "source": [
    "This Implies that Passengers with 0,1 or 2 siblings/spouses survived"
   ]
  },
  {
   "cell_type": "code",
   "execution_count": 15,
   "id": "velvet-store",
   "metadata": {
    "execution": {
     "iopub.execute_input": "2021-06-05T11:17:18.413073Z",
     "iopub.status.busy": "2021-06-05T11:17:18.411936Z",
     "iopub.status.idle": "2021-06-05T11:17:18.428243Z",
     "shell.execute_reply": "2021-06-05T11:17:18.428736Z",
     "shell.execute_reply.started": "2021-06-05T11:13:02.505766Z"
    },
    "papermill": {
     "duration": 0.122086,
     "end_time": "2021-06-05T11:17:18.428951",
     "exception": false,
     "start_time": "2021-06-05T11:17:18.306865",
     "status": "completed"
    },
    "tags": []
   },
   "outputs": [
    {
     "data": {
      "text/html": [
       "<div>\n",
       "<style scoped>\n",
       "    .dataframe tbody tr th:only-of-type {\n",
       "        vertical-align: middle;\n",
       "    }\n",
       "\n",
       "    .dataframe tbody tr th {\n",
       "        vertical-align: top;\n",
       "    }\n",
       "\n",
       "    .dataframe thead th {\n",
       "        text-align: right;\n",
       "    }\n",
       "</style>\n",
       "<table border=\"1\" class=\"dataframe\">\n",
       "  <thead>\n",
       "    <tr style=\"text-align: right;\">\n",
       "      <th></th>\n",
       "      <th>Parch</th>\n",
       "      <th>Survived</th>\n",
       "    </tr>\n",
       "  </thead>\n",
       "  <tbody>\n",
       "    <tr>\n",
       "      <th>3</th>\n",
       "      <td>3</td>\n",
       "      <td>0.600000</td>\n",
       "    </tr>\n",
       "    <tr>\n",
       "      <th>1</th>\n",
       "      <td>1</td>\n",
       "      <td>0.550847</td>\n",
       "    </tr>\n",
       "    <tr>\n",
       "      <th>2</th>\n",
       "      <td>2</td>\n",
       "      <td>0.500000</td>\n",
       "    </tr>\n",
       "    <tr>\n",
       "      <th>0</th>\n",
       "      <td>0</td>\n",
       "      <td>0.343658</td>\n",
       "    </tr>\n",
       "    <tr>\n",
       "      <th>5</th>\n",
       "      <td>5</td>\n",
       "      <td>0.200000</td>\n",
       "    </tr>\n",
       "    <tr>\n",
       "      <th>4</th>\n",
       "      <td>4</td>\n",
       "      <td>0.000000</td>\n",
       "    </tr>\n",
       "    <tr>\n",
       "      <th>6</th>\n",
       "      <td>6</td>\n",
       "      <td>0.000000</td>\n",
       "    </tr>\n",
       "  </tbody>\n",
       "</table>\n",
       "</div>"
      ],
      "text/plain": [
       "   Parch  Survived\n",
       "3      3  0.600000\n",
       "1      1  0.550847\n",
       "2      2  0.500000\n",
       "0      0  0.343658\n",
       "5      5  0.200000\n",
       "4      4  0.000000\n",
       "6      6  0.000000"
      ]
     },
     "execution_count": 15,
     "metadata": {},
     "output_type": "execute_result"
    }
   ],
   "source": [
    "# No. of parents/children aboard(Parch) vs Survival\n",
    "\n",
    "train_df[['Parch','Survived']].groupby(['Parch'], as_index=False).mean().sort_values(by='Survived', ascending=False)"
   ]
  },
  {
   "cell_type": "markdown",
   "id": "private-adolescent",
   "metadata": {
    "papermill": {
     "duration": 0.105058,
     "end_time": "2021-06-05T11:17:18.636467",
     "exception": false,
     "start_time": "2021-06-05T11:17:18.531409",
     "status": "completed"
    },
    "tags": []
   },
   "source": [
    "### Lets verify some feature Correlation using Plots"
   ]
  },
  {
   "cell_type": "markdown",
   "id": "level-portuguese",
   "metadata": {
    "papermill": {
     "duration": 0.102906,
     "end_time": "2021-06-05T11:17:18.840614",
     "exception": false,
     "start_time": "2021-06-05T11:17:18.737708",
     "status": "completed"
    },
    "tags": []
   },
   "source": [
    "**Correlating numerical features**\n",
    "\n",
    "Age vs Survival"
   ]
  },
  {
   "cell_type": "code",
   "execution_count": 16,
   "id": "radical-aruba",
   "metadata": {
    "execution": {
     "iopub.execute_input": "2021-06-05T11:17:19.058550Z",
     "iopub.status.busy": "2021-06-05T11:17:19.057509Z",
     "iopub.status.idle": "2021-06-05T11:17:19.577877Z",
     "shell.execute_reply": "2021-06-05T11:17:19.577264Z",
     "shell.execute_reply.started": "2021-06-05T11:13:02.522950Z"
    },
    "papermill": {
     "duration": 0.637063,
     "end_time": "2021-06-05T11:17:19.578147",
     "exception": false,
     "start_time": "2021-06-05T11:17:18.941084",
     "status": "completed"
    },
    "tags": []
   },
   "outputs": [
    {
     "data": {
      "text/plain": [
       "<seaborn.axisgrid.FacetGrid at 0x7f98ee35ce10>"
      ]
     },
     "execution_count": 16,
     "metadata": {},
     "output_type": "execute_result"
    },
    {
     "data": {
      "image/png": "[encoded data removed]",
      "text/plain": [
       "<Figure size 432x216 with 2 Axes>"
      ]
     },
     "metadata": {
      "needs_background": "light"
     },
     "output_type": "display_data"
    }
   ],
   "source": [
    "g = sns.FacetGrid(train_df, col='Survived')\n",
    "g.map(plt.hist, 'Age', bins=20)"
   ]
  },
  {
   "cell_type": "markdown",
   "id": "accurate-lafayette",
   "metadata": {
    "papermill": {
     "duration": 0.100451,
     "end_time": "2021-06-05T11:17:19.779614",
     "exception": false,
     "start_time": "2021-06-05T11:17:19.679163",
     "status": "completed"
    },
    "tags": []
   },
   "source": [
    "**Observation**\n",
    "1. Children(Age<4) survived most\n",
    "2. Oldest Passengers (Age 80) also survived.\n",
    "3. Large number of 15-25 year olds did not survive.\n",
    "4. Most passengers are in 15-35 age range.\n",
    "\n",
    "**Conclusion**\n",
    "1. We need Age column in our Dataset\n",
    "2. We can group age column to form age categories instead of actual age\n"
   ]
  },
  {
   "cell_type": "code",
   "execution_count": null,
   "id": "perfect-enterprise",
   "metadata": {
    "papermill": {
     "duration": 0.102413,
     "end_time": "2021-06-05T11:17:19.991642",
     "exception": false,
     "start_time": "2021-06-05T11:17:19.889229",
     "status": "completed"
    },
    "tags": []
   },
   "outputs": [],
   "source": []
  },
  {
   "cell_type": "markdown",
   "id": "speaking-adobe",
   "metadata": {
    "papermill": {
     "duration": 0.100222,
     "end_time": "2021-06-05T11:17:20.193657",
     "exception": false,
     "start_time": "2021-06-05T11:17:20.093435",
     "status": "completed"
    },
    "tags": []
   },
   "source": [
    "**Correlating numerical and ordinal features**\n",
    "\n",
    "\n",
    "We can combine multiple features for identifying correlations using a single plot. This can be done with numerical and categorical features which have numeric values."
   ]
  },
  {
   "cell_type": "markdown",
   "id": "collected-regression",
   "metadata": {
    "papermill": {
     "duration": 0.100827,
     "end_time": "2021-06-05T11:17:20.394374",
     "exception": false,
     "start_time": "2021-06-05T11:17:20.293547",
     "status": "completed"
    },
    "tags": []
   },
   "source": [
    "Age and Passenger Class against Survival"
   ]
  },
  {
   "cell_type": "code",
   "execution_count": 17,
   "id": "colonial-conjunction",
   "metadata": {
    "execution": {
     "iopub.execute_input": "2021-06-05T11:17:20.720638Z",
     "iopub.status.busy": "2021-06-05T11:17:20.606235Z",
     "iopub.status.idle": "2021-06-05T11:17:22.176699Z",
     "shell.execute_reply": "2021-06-05T11:17:22.176104Z",
     "shell.execute_reply.started": "2021-06-05T11:13:02.942282Z"
    },
    "papermill": {
     "duration": 1.68029,
     "end_time": "2021-06-05T11:17:22.176866",
     "exception": false,
     "start_time": "2021-06-05T11:17:20.496576",
     "status": "completed"
    },
    "tags": []
   },
   "outputs": [
    {
     "data": {
      "image/png": "[encoded data removed]",
      "text/plain": [
       "<Figure size 514.88x475.2 with 6 Axes>"
      ]
     },
     "metadata": {
      "needs_background": "light"
     },
     "output_type": "display_data"
    }
   ],
   "source": [
    "grid = sns.FacetGrid(train_df, col='Survived', row='Pclass', height=2.2, aspect=1.6)\n",
    "grid.map(plt.hist, 'Age', alpha=.5, bins=20)\n",
    "grid.add_legend();"
   ]
  },
  {
   "cell_type": "markdown",
   "id": "tested-reunion",
   "metadata": {
    "papermill": {
     "duration": 0.104228,
     "end_time": "2021-06-05T11:17:22.382143",
     "exception": false,
     "start_time": "2021-06-05T11:17:22.277915",
     "status": "completed"
    },
    "tags": []
   },
   "source": [
    "**Observations**\n",
    "1. Pclass=3 had most passengers, however most did not survive.\n",
    "2. Infant passengers in Pclass=2 and Pclass=3 mostly survived.\n",
    "3. Most passengers in Pclass=1 survived. \n",
    "4. Pclass varies in terms of Age distribution of passengers.\n",
    "\n",
    "**Decisions.**\n",
    "\n",
    "- Consider Pclass for model training."
   ]
  },
  {
   "cell_type": "code",
   "execution_count": null,
   "id": "third-going",
   "metadata": {
    "papermill": {
     "duration": 0.101523,
     "end_time": "2021-06-05T11:17:22.586661",
     "exception": false,
     "start_time": "2021-06-05T11:17:22.485138",
     "status": "completed"
    },
    "tags": []
   },
   "outputs": [],
   "source": []
  },
  {
   "cell_type": "markdown",
   "id": "urban-stroke",
   "metadata": {
    "papermill": {
     "duration": 0.101752,
     "end_time": "2021-06-05T11:17:22.789857",
     "exception": false,
     "start_time": "2021-06-05T11:17:22.688105",
     "status": "completed"
    },
    "tags": []
   },
   "source": [
    "**Correlating categorical features**"
   ]
  },
  {
   "cell_type": "markdown",
   "id": "changed-cookbook",
   "metadata": {
    "papermill": {
     "duration": 0.10129,
     "end_time": "2021-06-05T11:17:22.993125",
     "exception": false,
     "start_time": "2021-06-05T11:17:22.891835",
     "status": "completed"
    },
    "tags": []
   },
   "source": [
    "Embarked Point and Age and Pclass vs Survival"
   ]
  },
  {
   "cell_type": "code",
   "execution_count": 18,
   "id": "sealed-cooler",
   "metadata": {
    "execution": {
     "iopub.execute_input": "2021-06-05T11:17:23.206454Z",
     "iopub.status.busy": "2021-06-05T11:17:23.205615Z",
     "iopub.status.idle": "2021-06-05T11:17:24.616511Z",
     "shell.execute_reply": "2021-06-05T11:17:24.615617Z",
     "shell.execute_reply.started": "2021-06-05T11:13:04.252841Z"
    },
    "papermill": {
     "duration": 1.516501,
     "end_time": "2021-06-05T11:17:24.617020",
     "exception": false,
     "start_time": "2021-06-05T11:17:23.100519",
     "status": "completed"
    },
    "tags": []
   },
   "outputs": [
    {
     "name": "stderr",
     "output_type": "stream",
     "text": [
      "/opt/conda/lib/python3.7/site-packages/seaborn/axisgrid.py:316: UserWarning: The `size` parameter has been renamed to `height`; please update your code.\n",
      "  warnings.warn(msg, UserWarning)\n",
      "/opt/conda/lib/python3.7/site-packages/seaborn/axisgrid.py:643: UserWarning: Using the pointplot function without specifying `order` is likely to produce an incorrect plot.\n",
      "  warnings.warn(warning)\n",
      "/opt/conda/lib/python3.7/site-packages/seaborn/axisgrid.py:648: UserWarning: Using the pointplot function without specifying `hue_order` is likely to produce an incorrect plot.\n",
      "  warnings.warn(warning)\n"
     ]
    },
    {
     "data": {
      "text/plain": [
       "<seaborn.axisgrid.FacetGrid at 0x7f98e5de9e10>"
      ]
     },
     "execution_count": 18,
     "metadata": {},
     "output_type": "execute_result"
    },
    {
     "data": {
      "image/png": "[encoded data removed]",
      "text/plain": [
       "<Figure size 323.94x475.2 with 3 Axes>"
      ]
     },
     "metadata": {
      "needs_background": "light"
     },
     "output_type": "display_data"
    }
   ],
   "source": [
    "grid = sns.FacetGrid(train_df, row='Embarked', size=2.2, aspect=1.6)\n",
    "grid.map(sns.pointplot, 'Pclass', 'Survived', 'Sex', palette='deep')\n",
    "grid.add_legend()"
   ]
  },
  {
   "cell_type": "markdown",
   "id": "taken-johnson",
   "metadata": {
    "papermill": {
     "duration": 0.107317,
     "end_time": "2021-06-05T11:17:24.830871",
     "exception": false,
     "start_time": "2021-06-05T11:17:24.723554",
     "status": "completed"
    },
    "tags": []
   },
   "source": [
    "**Observations.**\n",
    "- Female passengers had much better survival rate than males.\n",
    "- Exception in Embarked=C where males had higher survival rate. This could be a correlation between Pclass and Embarked and in turn Pclass and Survived, not necessarily direct correlation between Embarked and Survived.\n",
    "- Males had better survival rate in Pclass=3 when compared with Pclass=2 for C and Q ports.\n",
    "- Ports of embarkation have varying survival rates for Pclass=3 and among male passengers.\n",
    "\n",
    "**Decisions.**\n",
    "\n",
    "- Add Sex feature to model training.\n",
    "- Complete and add Embarked feature to model training"
   ]
  },
  {
   "cell_type": "markdown",
   "id": "invalid-handy",
   "metadata": {
    "papermill": {
     "duration": 0.131934,
     "end_time": "2021-06-05T11:17:25.089189",
     "exception": false,
     "start_time": "2021-06-05T11:17:24.957255",
     "status": "completed"
    },
    "tags": []
   },
   "source": [
    "**Correlating categorical and numerical features**"
   ]
  },
  {
   "cell_type": "markdown",
   "id": "advanced-startup",
   "metadata": {
    "papermill": {
     "duration": 0.105074,
     "end_time": "2021-06-05T11:17:25.303483",
     "exception": false,
     "start_time": "2021-06-05T11:17:25.198409",
     "status": "completed"
    },
    "tags": []
   },
   "source": [
    "Fare with Sex and Embarked Point vs Survival"
   ]
  },
  {
   "cell_type": "code",
   "execution_count": 19,
   "id": "little-liabilities",
   "metadata": {
    "execution": {
     "iopub.execute_input": "2021-06-05T11:17:25.526951Z",
     "iopub.status.busy": "2021-06-05T11:17:25.525621Z",
     "iopub.status.idle": "2021-06-05T11:17:26.602693Z",
     "shell.execute_reply": "2021-06-05T11:17:26.602111Z",
     "shell.execute_reply.started": "2021-06-05T11:13:05.403308Z"
    },
    "papermill": {
     "duration": 1.191248,
     "end_time": "2021-06-05T11:17:26.602864",
     "exception": false,
     "start_time": "2021-06-05T11:17:25.411616",
     "status": "completed"
    },
    "tags": []
   },
   "outputs": [
    {
     "name": "stderr",
     "output_type": "stream",
     "text": [
      "/opt/conda/lib/python3.7/site-packages/seaborn/axisgrid.py:316: UserWarning: The `size` parameter has been renamed to `height`; please update your code.\n",
      "  warnings.warn(msg, UserWarning)\n",
      "/opt/conda/lib/python3.7/site-packages/seaborn/axisgrid.py:643: UserWarning: Using the barplot function without specifying `order` is likely to produce an incorrect plot.\n",
      "  warnings.warn(warning)\n"
     ]
    },
    {
     "data": {
      "text/plain": [
       "<seaborn.axisgrid.FacetGrid at 0x7f98e5b9bb90>"
      ]
     },
     "execution_count": 19,
     "metadata": {},
     "output_type": "execute_result"
    },
    {
     "data": {
      "image/png": "[encoded data removed]",
      "text/plain": [
       "<Figure size 514.88x475.2 with 6 Axes>"
      ]
     },
     "metadata": {
      "needs_background": "light"
     },
     "output_type": "display_data"
    }
   ],
   "source": [
    "grid = sns.FacetGrid(train_df, row='Embarked', col='Survived', size=2.2, aspect=1.6)\n",
    "grid.map(sns.barplot, 'Sex', 'Fare', alpha=.5, ci=None)\n",
    "grid.add_legend()"
   ]
  },
  {
   "cell_type": "markdown",
   "id": "universal-elder",
   "metadata": {
    "papermill": {
     "duration": 0.107509,
     "end_time": "2021-06-05T11:17:26.820715",
     "exception": false,
     "start_time": "2021-06-05T11:17:26.713206",
     "status": "completed"
    },
    "tags": []
   },
   "source": [
    "**Observations**\n",
    "\n",
    "- Higher fare paying passengers had better survival.\n",
    "- Port of embarkation correlates with survival rates.\n",
    "\n",
    "**Decisions.**\n",
    "\n",
    "- Consider banding Fare feature."
   ]
  },
  {
   "cell_type": "code",
   "execution_count": null,
   "id": "nearby-mission",
   "metadata": {
    "papermill": {
     "duration": 0.109648,
     "end_time": "2021-06-05T11:17:27.036844",
     "exception": false,
     "start_time": "2021-06-05T11:17:26.927196",
     "status": "completed"
    },
    "tags": []
   },
   "outputs": [],
   "source": []
  },
  {
   "cell_type": "markdown",
   "id": "valid-sudan",
   "metadata": {
    "papermill": {
     "duration": 0.167093,
     "end_time": "2021-06-05T11:17:27.314535",
     "exception": false,
     "start_time": "2021-06-05T11:17:27.147442",
     "status": "completed"
    },
    "tags": []
   },
   "source": [
    "# Data Wrangling"
   ]
  },
  {
   "cell_type": "markdown",
   "id": "persistent-darkness",
   "metadata": {
    "execution": {
     "iopub.execute_input": "2021-06-05T06:02:13.753353Z",
     "iopub.status.busy": "2021-06-05T06:02:13.752939Z",
     "iopub.status.idle": "2021-06-05T06:02:13.758386Z",
     "shell.execute_reply": "2021-06-05T06:02:13.757015Z",
     "shell.execute_reply.started": "2021-06-05T06:02:13.753315Z"
    },
    "papermill": {
     "duration": 0.10937,
     "end_time": "2021-06-05T11:17:27.533556",
     "exception": false,
     "start_time": "2021-06-05T11:17:27.424186",
     "status": "completed"
    },
    "tags": []
   },
   "source": [
    "#### Now, lets drop the unwanted columns from our dataset"
   ]
  },
  {
   "cell_type": "code",
   "execution_count": 20,
   "id": "responsible-roman",
   "metadata": {
    "execution": {
     "iopub.execute_input": "2021-06-05T11:17:27.756096Z",
     "iopub.status.busy": "2021-06-05T11:17:27.755299Z",
     "iopub.status.idle": "2021-06-05T11:17:27.759023Z",
     "shell.execute_reply": "2021-06-05T11:17:27.758091Z",
     "shell.execute_reply.started": "2021-06-05T11:13:06.278656Z"
    },
    "papermill": {
     "duration": 0.118371,
     "end_time": "2021-06-05T11:17:27.759478",
     "exception": false,
     "start_time": "2021-06-05T11:17:27.641107",
     "status": "completed"
    },
    "tags": []
   },
   "outputs": [],
   "source": [
    "train_df = train_df.drop(['Ticket', 'Cabin'], axis=1)\n",
    "test_df = test_df.drop(['Ticket', 'Cabin'], axis=1)"
   ]
  },
  {
   "cell_type": "code",
   "execution_count": 21,
   "id": "continental-manner",
   "metadata": {
    "execution": {
     "iopub.execute_input": "2021-06-05T11:17:27.991042Z",
     "iopub.status.busy": "2021-06-05T11:17:27.990075Z",
     "iopub.status.idle": "2021-06-05T11:17:27.994802Z",
     "shell.execute_reply": "2021-06-05T11:17:27.994148Z",
     "shell.execute_reply.started": "2021-06-05T11:13:06.287813Z"
    },
    "papermill": {
     "duration": 0.128246,
     "end_time": "2021-06-05T11:17:27.994962",
     "exception": false,
     "start_time": "2021-06-05T11:17:27.866716",
     "status": "completed"
    },
    "tags": []
   },
   "outputs": [
    {
     "data": {
      "text/html": [
       "<div>\n",
       "<style scoped>\n",
       "    .dataframe tbody tr th:only-of-type {\n",
       "        vertical-align: middle;\n",
       "    }\n",
       "\n",
       "    .dataframe tbody tr th {\n",
       "        vertical-align: top;\n",
       "    }\n",
       "\n",
       "    .dataframe thead th {\n",
       "        text-align: right;\n",
       "    }\n",
       "</style>\n",
       "<table border=\"1\" class=\"dataframe\">\n",
       "  <thead>\n",
       "    <tr style=\"text-align: right;\">\n",
       "      <th></th>\n",
       "      <th>PassengerId</th>\n",
       "      <th>Survived</th>\n",
       "      <th>Pclass</th>\n",
       "      <th>Name</th>\n",
       "      <th>Sex</th>\n",
       "      <th>Age</th>\n",
       "      <th>SibSp</th>\n",
       "      <th>Parch</th>\n",
       "      <th>Fare</th>\n",
       "      <th>Embarked</th>\n",
       "    </tr>\n",
       "  </thead>\n",
       "  <tbody>\n",
       "    <tr>\n",
       "      <th>0</th>\n",
       "      <td>1</td>\n",
       "      <td>0</td>\n",
       "      <td>3</td>\n",
       "      <td>Braund, Mr. Owen Harris</td>\n",
       "      <td>male</td>\n",
       "      <td>22.0</td>\n",
       "      <td>1</td>\n",
       "      <td>0</td>\n",
       "      <td>7.2500</td>\n",
       "      <td>S</td>\n",
       "    </tr>\n",
       "    <tr>\n",
       "      <th>1</th>\n",
       "      <td>2</td>\n",
       "      <td>1</td>\n",
       "      <td>1</td>\n",
       "      <td>Cumings, Mrs. John Bradley (Florence Briggs Th...</td>\n",
       "      <td>female</td>\n",
       "      <td>38.0</td>\n",
       "      <td>1</td>\n",
       "      <td>0</td>\n",
       "      <td>71.2833</td>\n",
       "      <td>C</td>\n",
       "    </tr>\n",
       "    <tr>\n",
       "      <th>2</th>\n",
       "      <td>3</td>\n",
       "      <td>1</td>\n",
       "      <td>3</td>\n",
       "      <td>Heikkinen, Miss. Laina</td>\n",
       "      <td>female</td>\n",
       "      <td>26.0</td>\n",
       "      <td>0</td>\n",
       "      <td>0</td>\n",
       "      <td>7.9250</td>\n",
       "      <td>S</td>\n",
       "    </tr>\n",
       "    <tr>\n",
       "      <th>3</th>\n",
       "      <td>4</td>\n",
       "      <td>1</td>\n",
       "      <td>1</td>\n",
       "      <td>Futrelle, Mrs. Jacques Heath (Lily May Peel)</td>\n",
       "      <td>female</td>\n",
       "      <td>35.0</td>\n",
       "      <td>1</td>\n",
       "      <td>0</td>\n",
       "      <td>53.1000</td>\n",
       "      <td>S</td>\n",
       "    </tr>\n",
       "    <tr>\n",
       "      <th>4</th>\n",
       "      <td>5</td>\n",
       "      <td>0</td>\n",
       "      <td>3</td>\n",
       "      <td>Allen, Mr. William Henry</td>\n",
       "      <td>male</td>\n",
       "      <td>35.0</td>\n",
       "      <td>0</td>\n",
       "      <td>0</td>\n",
       "      <td>8.0500</td>\n",
       "      <td>S</td>\n",
       "    </tr>\n",
       "  </tbody>\n",
       "</table>\n",
       "</div>"
      ],
      "text/plain": [
       "   PassengerId  Survived  Pclass  \\\n",
       "0            1         0       3   \n",
       "1            2         1       1   \n",
       "2            3         1       3   \n",
       "3            4         1       1   \n",
       "4            5         0       3   \n",
       "\n",
       "                                                Name     Sex   Age  SibSp  \\\n",
       "0                            Braund, Mr. Owen Harris    male  22.0      1   \n",
       "1  Cumings, Mrs. John Bradley (Florence Briggs Th...  female  38.0      1   \n",
       "2                             Heikkinen, Miss. Laina  female  26.0      0   \n",
       "3       Futrelle, Mrs. Jacques Heath (Lily May Peel)  female  35.0      1   \n",
       "4                           Allen, Mr. William Henry    male  35.0      0   \n",
       "\n",
       "   Parch     Fare Embarked  \n",
       "0      0   7.2500        S  \n",
       "1      0  71.2833        C  \n",
       "2      0   7.9250        S  \n",
       "3      0  53.1000        S  \n",
       "4      0   8.0500        S  "
      ]
     },
     "execution_count": 21,
     "metadata": {},
     "output_type": "execute_result"
    }
   ],
   "source": [
    "train_df.head()"
   ]
  },
  {
   "cell_type": "code",
   "execution_count": 22,
   "id": "sitting-wilderness",
   "metadata": {
    "execution": {
     "iopub.execute_input": "2021-06-05T11:17:28.239344Z",
     "iopub.status.busy": "2021-06-05T11:17:28.238261Z",
     "iopub.status.idle": "2021-06-05T11:17:28.244925Z",
     "shell.execute_reply": "2021-06-05T11:17:28.244267Z",
     "shell.execute_reply.started": "2021-06-05T11:13:06.310246Z"
    },
    "papermill": {
     "duration": 0.132367,
     "end_time": "2021-06-05T11:17:28.245071",
     "exception": false,
     "start_time": "2021-06-05T11:17:28.112704",
     "status": "completed"
    },
    "tags": []
   },
   "outputs": [
    {
     "data": {
      "text/html": [
       "<div>\n",
       "<style scoped>\n",
       "    .dataframe tbody tr th:only-of-type {\n",
       "        vertical-align: middle;\n",
       "    }\n",
       "\n",
       "    .dataframe tbody tr th {\n",
       "        vertical-align: top;\n",
       "    }\n",
       "\n",
       "    .dataframe thead th {\n",
       "        text-align: right;\n",
       "    }\n",
       "</style>\n",
       "<table border=\"1\" class=\"dataframe\">\n",
       "  <thead>\n",
       "    <tr style=\"text-align: right;\">\n",
       "      <th></th>\n",
       "      <th>PassengerId</th>\n",
       "      <th>Pclass</th>\n",
       "      <th>Name</th>\n",
       "      <th>Sex</th>\n",
       "      <th>Age</th>\n",
       "      <th>SibSp</th>\n",
       "      <th>Parch</th>\n",
       "      <th>Fare</th>\n",
       "      <th>Embarked</th>\n",
       "    </tr>\n",
       "  </thead>\n",
       "  <tbody>\n",
       "    <tr>\n",
       "      <th>0</th>\n",
       "      <td>892</td>\n",
       "      <td>3</td>\n",
       "      <td>Kelly, Mr. James</td>\n",
       "      <td>male</td>\n",
       "      <td>34.5</td>\n",
       "      <td>0</td>\n",
       "      <td>0</td>\n",
       "      <td>7.8292</td>\n",
       "      <td>Q</td>\n",
       "    </tr>\n",
       "    <tr>\n",
       "      <th>1</th>\n",
       "      <td>893</td>\n",
       "      <td>3</td>\n",
       "      <td>Wilkes, Mrs. James (Ellen Needs)</td>\n",
       "      <td>female</td>\n",
       "      <td>47.0</td>\n",
       "      <td>1</td>\n",
       "      <td>0</td>\n",
       "      <td>7.0000</td>\n",
       "      <td>S</td>\n",
       "    </tr>\n",
       "    <tr>\n",
       "      <th>2</th>\n",
       "      <td>894</td>\n",
       "      <td>2</td>\n",
       "      <td>Myles, Mr. Thomas Francis</td>\n",
       "      <td>male</td>\n",
       "      <td>62.0</td>\n",
       "      <td>0</td>\n",
       "      <td>0</td>\n",
       "      <td>9.6875</td>\n",
       "      <td>Q</td>\n",
       "    </tr>\n",
       "    <tr>\n",
       "      <th>3</th>\n",
       "      <td>895</td>\n",
       "      <td>3</td>\n",
       "      <td>Wirz, Mr. Albert</td>\n",
       "      <td>male</td>\n",
       "      <td>27.0</td>\n",
       "      <td>0</td>\n",
       "      <td>0</td>\n",
       "      <td>8.6625</td>\n",
       "      <td>S</td>\n",
       "    </tr>\n",
       "    <tr>\n",
       "      <th>4</th>\n",
       "      <td>896</td>\n",
       "      <td>3</td>\n",
       "      <td>Hirvonen, Mrs. Alexander (Helga E Lindqvist)</td>\n",
       "      <td>female</td>\n",
       "      <td>22.0</td>\n",
       "      <td>1</td>\n",
       "      <td>1</td>\n",
       "      <td>12.2875</td>\n",
       "      <td>S</td>\n",
       "    </tr>\n",
       "  </tbody>\n",
       "</table>\n",
       "</div>"
      ],
      "text/plain": [
       "   PassengerId  Pclass                                          Name     Sex  \\\n",
       "0          892       3                              Kelly, Mr. James    male   \n",
       "1          893       3              Wilkes, Mrs. James (Ellen Needs)  female   \n",
       "2          894       2                     Myles, Mr. Thomas Francis    male   \n",
       "3          895       3                              Wirz, Mr. Albert    male   \n",
       "4          896       3  Hirvonen, Mrs. Alexander (Helga E Lindqvist)  female   \n",
       "\n",
       "    Age  SibSp  Parch     Fare Embarked  \n",
       "0  34.5      0      0   7.8292        Q  \n",
       "1  47.0      1      0   7.0000        S  \n",
       "2  62.0      0      0   9.6875        Q  \n",
       "3  27.0      0      0   8.6625        S  \n",
       "4  22.0      1      1  12.2875        S  "
      ]
     },
     "execution_count": 22,
     "metadata": {},
     "output_type": "execute_result"
    }
   ],
   "source": [
    "test_df.head()"
   ]
  },
  {
   "cell_type": "markdown",
   "id": "african-syndrome",
   "metadata": {
    "execution": {
     "iopub.execute_input": "2021-06-05T06:03:01.644416Z",
     "iopub.status.busy": "2021-06-05T06:03:01.644019Z",
     "iopub.status.idle": "2021-06-05T06:03:01.648885Z",
     "shell.execute_reply": "2021-06-05T06:03:01.647845Z",
     "shell.execute_reply.started": "2021-06-05T06:03:01.644382Z"
    },
    "papermill": {
     "duration": 0.112915,
     "end_time": "2021-06-05T11:17:28.468934",
     "exception": false,
     "start_time": "2021-06-05T11:17:28.356019",
     "status": "completed"
    },
    "tags": []
   },
   "source": [
    "**Now, Let's create new feature by extracting info from existing features**\n",
    "\n",
    "- Lets drop the Name column from the Datase and Instead Create a New Column with Title of them Passenger\n",
    "            We want to analyze if Name feature can be engineered to extract titles and test correlation between titles and survival, before dropping Name and PassengerId features."
   ]
  },
  {
   "cell_type": "code",
   "execution_count": 23,
   "id": "composed-bristol",
   "metadata": {
    "execution": {
     "iopub.execute_input": "2021-06-05T11:17:28.706449Z",
     "iopub.status.busy": "2021-06-05T11:17:28.705391Z",
     "iopub.status.idle": "2021-06-05T11:17:28.709612Z",
     "shell.execute_reply": "2021-06-05T11:17:28.709093Z",
     "shell.execute_reply.started": "2021-06-05T11:13:06.327685Z"
    },
    "papermill": {
     "duration": 0.131314,
     "end_time": "2021-06-05T11:17:28.709766",
     "exception": false,
     "start_time": "2021-06-05T11:17:28.578452",
     "status": "completed"
    },
    "tags": []
   },
   "outputs": [],
   "source": [
    "train_df['Title'] = train_df.Name.str.extract('([A-Za-z]+)\\.', expand=False)\n",
    "test_df['Title'] = test_df.Name.str.extract('([A-Za-z]+)\\.', expand=False)\n",
    "# i.e Find the First string ending with '.' in our Name column. Also,expand=False flag returns a DataFrame"
   ]
  },
  {
   "cell_type": "code",
   "execution_count": 24,
   "id": "weekly-requirement",
   "metadata": {
    "execution": {
     "iopub.execute_input": "2021-06-05T11:17:28.936161Z",
     "iopub.status.busy": "2021-06-05T11:17:28.935465Z",
     "iopub.status.idle": "2021-06-05T11:17:28.966402Z",
     "shell.execute_reply": "2021-06-05T11:17:28.967071Z",
     "shell.execute_reply.started": "2021-06-05T11:13:06.344525Z"
    },
    "papermill": {
     "duration": 0.144736,
     "end_time": "2021-06-05T11:17:28.967252",
     "exception": false,
     "start_time": "2021-06-05T11:17:28.822516",
     "status": "completed"
    },
    "tags": []
   },
   "outputs": [
    {
     "data": {
      "text/html": [
       "<div>\n",
       "<style scoped>\n",
       "    .dataframe tbody tr th:only-of-type {\n",
       "        vertical-align: middle;\n",
       "    }\n",
       "\n",
       "    .dataframe tbody tr th {\n",
       "        vertical-align: top;\n",
       "    }\n",
       "\n",
       "    .dataframe thead th {\n",
       "        text-align: right;\n",
       "    }\n",
       "</style>\n",
       "<table border=\"1\" class=\"dataframe\">\n",
       "  <thead>\n",
       "    <tr style=\"text-align: right;\">\n",
       "      <th>Sex</th>\n",
       "      <th>female</th>\n",
       "      <th>male</th>\n",
       "    </tr>\n",
       "    <tr>\n",
       "      <th>Title</th>\n",
       "      <th></th>\n",
       "      <th></th>\n",
       "    </tr>\n",
       "  </thead>\n",
       "  <tbody>\n",
       "    <tr>\n",
       "      <th>Capt</th>\n",
       "      <td>0</td>\n",
       "      <td>1</td>\n",
       "    </tr>\n",
       "    <tr>\n",
       "      <th>Col</th>\n",
       "      <td>0</td>\n",
       "      <td>2</td>\n",
       "    </tr>\n",
       "    <tr>\n",
       "      <th>Countess</th>\n",
       "      <td>1</td>\n",
       "      <td>0</td>\n",
       "    </tr>\n",
       "    <tr>\n",
       "      <th>Don</th>\n",
       "      <td>0</td>\n",
       "      <td>1</td>\n",
       "    </tr>\n",
       "    <tr>\n",
       "      <th>Dr</th>\n",
       "      <td>1</td>\n",
       "      <td>6</td>\n",
       "    </tr>\n",
       "    <tr>\n",
       "      <th>Jonkheer</th>\n",
       "      <td>0</td>\n",
       "      <td>1</td>\n",
       "    </tr>\n",
       "    <tr>\n",
       "      <th>Lady</th>\n",
       "      <td>1</td>\n",
       "      <td>0</td>\n",
       "    </tr>\n",
       "    <tr>\n",
       "      <th>Major</th>\n",
       "      <td>0</td>\n",
       "      <td>2</td>\n",
       "    </tr>\n",
       "    <tr>\n",
       "      <th>Master</th>\n",
       "      <td>0</td>\n",
       "      <td>40</td>\n",
       "    </tr>\n",
       "    <tr>\n",
       "      <th>Miss</th>\n",
       "      <td>182</td>\n",
       "      <td>0</td>\n",
       "    </tr>\n",
       "    <tr>\n",
       "      <th>Mlle</th>\n",
       "      <td>2</td>\n",
       "      <td>0</td>\n",
       "    </tr>\n",
       "    <tr>\n",
       "      <th>Mme</th>\n",
       "      <td>1</td>\n",
       "      <td>0</td>\n",
       "    </tr>\n",
       "    <tr>\n",
       "      <th>Mr</th>\n",
       "      <td>0</td>\n",
       "      <td>517</td>\n",
       "    </tr>\n",
       "    <tr>\n",
       "      <th>Mrs</th>\n",
       "      <td>125</td>\n",
       "      <td>0</td>\n",
       "    </tr>\n",
       "    <tr>\n",
       "      <th>Ms</th>\n",
       "      <td>1</td>\n",
       "      <td>0</td>\n",
       "    </tr>\n",
       "    <tr>\n",
       "      <th>Rev</th>\n",
       "      <td>0</td>\n",
       "      <td>6</td>\n",
       "    </tr>\n",
       "    <tr>\n",
       "      <th>Sir</th>\n",
       "      <td>0</td>\n",
       "      <td>1</td>\n",
       "    </tr>\n",
       "  </tbody>\n",
       "</table>\n",
       "</div>"
      ],
      "text/plain": [
       "Sex       female  male\n",
       "Title                 \n",
       "Capt           0     1\n",
       "Col            0     2\n",
       "Countess       1     0\n",
       "Don            0     1\n",
       "Dr             1     6\n",
       "Jonkheer       0     1\n",
       "Lady           1     0\n",
       "Major          0     2\n",
       "Master         0    40\n",
       "Miss         182     0\n",
       "Mlle           2     0\n",
       "Mme            1     0\n",
       "Mr             0   517\n",
       "Mrs          125     0\n",
       "Ms             1     0\n",
       "Rev            0     6\n",
       "Sir            0     1"
      ]
     },
     "execution_count": 24,
     "metadata": {},
     "output_type": "execute_result"
    }
   ],
   "source": [
    "pd.crosstab(train_df['Title'], train_df['Sex'])"
   ]
  },
  {
   "cell_type": "code",
   "execution_count": 25,
   "id": "entertaining-american",
   "metadata": {
    "execution": {
     "iopub.execute_input": "2021-06-05T11:17:29.196497Z",
     "iopub.status.busy": "2021-06-05T11:17:29.195526Z",
     "iopub.status.idle": "2021-06-05T11:17:29.199193Z",
     "shell.execute_reply": "2021-06-05T11:17:29.199727Z",
     "shell.execute_reply.started": "2021-06-05T11:13:06.389345Z"
    },
    "papermill": {
     "duration": 0.118834,
     "end_time": "2021-06-05T11:17:29.199937",
     "exception": false,
     "start_time": "2021-06-05T11:17:29.081103",
     "status": "completed"
    },
    "tags": []
   },
   "outputs": [],
   "source": [
    "# Now, lets combine the Similar Titles into one common category"
   ]
  },
  {
   "cell_type": "code",
   "execution_count": 26,
   "id": "administrative-export",
   "metadata": {
    "execution": {
     "iopub.execute_input": "2021-06-05T11:17:29.433162Z",
     "iopub.status.busy": "2021-06-05T11:17:29.432410Z",
     "iopub.status.idle": "2021-06-05T11:17:29.443294Z",
     "shell.execute_reply": "2021-06-05T11:17:29.443916Z",
     "shell.execute_reply.started": "2021-06-05T11:13:06.394323Z"
    },
    "papermill": {
     "duration": 0.12721,
     "end_time": "2021-06-05T11:17:29.444121",
     "exception": false,
     "start_time": "2021-06-05T11:17:29.316911",
     "status": "completed"
    },
    "tags": []
   },
   "outputs": [],
   "source": [
    "train_df['Title'] = train_df['Title'].replace('Mlle', 'Miss')\n",
    "train_df['Title'] = train_df['Title'].replace('Ms', 'Miss')\n",
    "train_df['Title'] = train_df['Title'].replace('Mme', 'Mrs')\n",
    "\n",
    "test_df['Title'] = test_df['Title'].replace('Mlle', 'Miss')\n",
    "test_df['Title'] = test_df['Title'].replace('Ms', 'Miss')\n",
    "test_df['Title'] = test_df['Title'].replace('Mme', 'Mrs')"
   ]
  },
  {
   "cell_type": "code",
   "execution_count": 27,
   "id": "catholic-reducing",
   "metadata": {
    "execution": {
     "iopub.execute_input": "2021-06-05T11:17:29.669376Z",
     "iopub.status.busy": "2021-06-05T11:17:29.668312Z",
     "iopub.status.idle": "2021-06-05T11:17:29.673270Z",
     "shell.execute_reply": "2021-06-05T11:17:29.673832Z",
     "shell.execute_reply.started": "2021-06-05T11:13:06.411075Z"
    },
    "papermill": {
     "duration": 0.11934,
     "end_time": "2021-06-05T11:17:29.674043",
     "exception": false,
     "start_time": "2021-06-05T11:17:29.554703",
     "status": "completed"
    },
    "tags": []
   },
   "outputs": [],
   "source": [
    "# Now let's combine the Remaining Less frequent Titles into a New Title 'Rare'"
   ]
  },
  {
   "cell_type": "code",
   "execution_count": 28,
   "id": "contemporary-pocket",
   "metadata": {
    "execution": {
     "iopub.execute_input": "2021-06-05T11:17:29.897651Z",
     "iopub.status.busy": "2021-06-05T11:17:29.896608Z",
     "iopub.status.idle": "2021-06-05T11:17:29.907772Z",
     "shell.execute_reply": "2021-06-05T11:17:29.908364Z",
     "shell.execute_reply.started": "2021-06-05T11:13:06.423723Z"
    },
    "papermill": {
     "duration": 0.12247,
     "end_time": "2021-06-05T11:17:29.908579",
     "exception": false,
     "start_time": "2021-06-05T11:17:29.786109",
     "status": "completed"
    },
    "tags": []
   },
   "outputs": [],
   "source": [
    "train_df['Title'] = train_df['Title'].replace(['Lady', 'Countess','Capt', 'Col','Don', 'Dr', 'Major', 'Rev', 'Sir', 'Jonkheer', 'Dona'], 'Rare')\n",
    "test_df['Title'] = test_df['Title'].replace(['Lady', 'Countess','Capt', 'Col','Don', 'Dr', 'Major', 'Rev', 'Sir', 'Jonkheer', 'Dona'], 'Rare')"
   ]
  },
  {
   "cell_type": "code",
   "execution_count": 29,
   "id": "civil-throw",
   "metadata": {
    "execution": {
     "iopub.execute_input": "2021-06-05T11:17:30.146369Z",
     "iopub.status.busy": "2021-06-05T11:17:30.145536Z",
     "iopub.status.idle": "2021-06-05T11:17:30.170056Z",
     "shell.execute_reply": "2021-06-05T11:17:30.169421Z",
     "shell.execute_reply.started": "2021-06-05T11:13:06.444844Z"
    },
    "papermill": {
     "duration": 0.150256,
     "end_time": "2021-06-05T11:17:30.170200",
     "exception": false,
     "start_time": "2021-06-05T11:17:30.019944",
     "status": "completed"
    },
    "tags": []
   },
   "outputs": [
    {
     "data": {
      "text/html": [
       "<div>\n",
       "<style scoped>\n",
       "    .dataframe tbody tr th:only-of-type {\n",
       "        vertical-align: middle;\n",
       "    }\n",
       "\n",
       "    .dataframe tbody tr th {\n",
       "        vertical-align: top;\n",
       "    }\n",
       "\n",
       "    .dataframe thead th {\n",
       "        text-align: right;\n",
       "    }\n",
       "</style>\n",
       "<table border=\"1\" class=\"dataframe\">\n",
       "  <thead>\n",
       "    <tr style=\"text-align: right;\">\n",
       "      <th>Sex</th>\n",
       "      <th>female</th>\n",
       "      <th>male</th>\n",
       "    </tr>\n",
       "    <tr>\n",
       "      <th>Title</th>\n",
       "      <th></th>\n",
       "      <th></th>\n",
       "    </tr>\n",
       "  </thead>\n",
       "  <tbody>\n",
       "    <tr>\n",
       "      <th>Master</th>\n",
       "      <td>0</td>\n",
       "      <td>40</td>\n",
       "    </tr>\n",
       "    <tr>\n",
       "      <th>Miss</th>\n",
       "      <td>185</td>\n",
       "      <td>0</td>\n",
       "    </tr>\n",
       "    <tr>\n",
       "      <th>Mr</th>\n",
       "      <td>0</td>\n",
       "      <td>517</td>\n",
       "    </tr>\n",
       "    <tr>\n",
       "      <th>Mrs</th>\n",
       "      <td>126</td>\n",
       "      <td>0</td>\n",
       "    </tr>\n",
       "    <tr>\n",
       "      <th>Rare</th>\n",
       "      <td>3</td>\n",
       "      <td>20</td>\n",
       "    </tr>\n",
       "  </tbody>\n",
       "</table>\n",
       "</div>"
      ],
      "text/plain": [
       "Sex     female  male\n",
       "Title               \n",
       "Master       0    40\n",
       "Miss       185     0\n",
       "Mr           0   517\n",
       "Mrs        126     0\n",
       "Rare         3    20"
      ]
     },
     "execution_count": 29,
     "metadata": {},
     "output_type": "execute_result"
    }
   ],
   "source": [
    "pd.crosstab(train_df['Title'], train_df['Sex'])"
   ]
  },
  {
   "cell_type": "markdown",
   "id": "incoming-response",
   "metadata": {
    "papermill": {
     "duration": 0.11094,
     "end_time": "2021-06-05T11:17:30.392573",
     "exception": false,
     "start_time": "2021-06-05T11:17:30.281633",
     "status": "completed"
    },
    "tags": []
   },
   "source": [
    "Now, Lets see the Title vs Survival rate"
   ]
  },
  {
   "cell_type": "code",
   "execution_count": 30,
   "id": "short-palace",
   "metadata": {
    "execution": {
     "iopub.execute_input": "2021-06-05T11:17:30.619182Z",
     "iopub.status.busy": "2021-06-05T11:17:30.618474Z",
     "iopub.status.idle": "2021-06-05T11:17:30.634357Z",
     "shell.execute_reply": "2021-06-05T11:17:30.634913Z",
     "shell.execute_reply.started": "2021-06-05T11:13:06.473141Z"
    },
    "papermill": {
     "duration": 0.131203,
     "end_time": "2021-06-05T11:17:30.635148",
     "exception": false,
     "start_time": "2021-06-05T11:17:30.503945",
     "status": "completed"
    },
    "tags": []
   },
   "outputs": [
    {
     "data": {
      "text/html": [
       "<div>\n",
       "<style scoped>\n",
       "    .dataframe tbody tr th:only-of-type {\n",
       "        vertical-align: middle;\n",
       "    }\n",
       "\n",
       "    .dataframe tbody tr th {\n",
       "        vertical-align: top;\n",
       "    }\n",
       "\n",
       "    .dataframe thead th {\n",
       "        text-align: right;\n",
       "    }\n",
       "</style>\n",
       "<table border=\"1\" class=\"dataframe\">\n",
       "  <thead>\n",
       "    <tr style=\"text-align: right;\">\n",
       "      <th></th>\n",
       "      <th>Title</th>\n",
       "      <th>Survived</th>\n",
       "    </tr>\n",
       "  </thead>\n",
       "  <tbody>\n",
       "    <tr>\n",
       "      <th>0</th>\n",
       "      <td>Master</td>\n",
       "      <td>0.575000</td>\n",
       "    </tr>\n",
       "    <tr>\n",
       "      <th>1</th>\n",
       "      <td>Miss</td>\n",
       "      <td>0.702703</td>\n",
       "    </tr>\n",
       "    <tr>\n",
       "      <th>2</th>\n",
       "      <td>Mr</td>\n",
       "      <td>0.156673</td>\n",
       "    </tr>\n",
       "    <tr>\n",
       "      <th>3</th>\n",
       "      <td>Mrs</td>\n",
       "      <td>0.793651</td>\n",
       "    </tr>\n",
       "    <tr>\n",
       "      <th>4</th>\n",
       "      <td>Rare</td>\n",
       "      <td>0.347826</td>\n",
       "    </tr>\n",
       "  </tbody>\n",
       "</table>\n",
       "</div>"
      ],
      "text/plain": [
       "    Title  Survived\n",
       "0  Master  0.575000\n",
       "1    Miss  0.702703\n",
       "2      Mr  0.156673\n",
       "3     Mrs  0.793651\n",
       "4    Rare  0.347826"
      ]
     },
     "execution_count": 30,
     "metadata": {},
     "output_type": "execute_result"
    }
   ],
   "source": [
    "train_df[['Title', 'Survived']].groupby(['Title'], as_index=False).mean()"
   ]
  },
  {
   "cell_type": "code",
   "execution_count": 31,
   "id": "uniform-thousand",
   "metadata": {
    "execution": {
     "iopub.execute_input": "2021-06-05T11:17:30.864740Z",
     "iopub.status.busy": "2021-06-05T11:17:30.864002Z",
     "iopub.status.idle": "2021-06-05T11:17:30.867424Z",
     "shell.execute_reply": "2021-06-05T11:17:30.866864Z",
     "shell.execute_reply.started": "2021-06-05T11:13:06.489591Z"
    },
    "papermill": {
     "duration": 0.123906,
     "end_time": "2021-06-05T11:17:30.867593",
     "exception": false,
     "start_time": "2021-06-05T11:17:30.743687",
     "status": "completed"
    },
    "tags": []
   },
   "outputs": [],
   "source": [
    "#Now lets drop the Name column also.\n",
    "train_df = train_df.drop(['Name'], axis = 1)\n",
    "test_df = test_df.drop(['Name'], axis = 1)\n"
   ]
  },
  {
   "cell_type": "code",
   "execution_count": 32,
   "id": "blocked-capability",
   "metadata": {
    "execution": {
     "iopub.execute_input": "2021-06-05T11:17:31.096498Z",
     "iopub.status.busy": "2021-06-05T11:17:31.095764Z",
     "iopub.status.idle": "2021-06-05T11:17:31.099412Z",
     "shell.execute_reply": "2021-06-05T11:17:31.100022Z",
     "shell.execute_reply.started": "2021-06-05T11:13:06.502710Z"
    },
    "papermill": {
     "duration": 0.123999,
     "end_time": "2021-06-05T11:17:31.100230",
     "exception": false,
     "start_time": "2021-06-05T11:17:30.976231",
     "status": "completed"
    },
    "tags": []
   },
   "outputs": [],
   "source": [
    "# Also, in our Training Dataset, we don't need Passenger ID. SO lets drop it\n",
    "train_df = train_df.drop(['PassengerId'], axis = 1)"
   ]
  },
  {
   "cell_type": "code",
   "execution_count": 33,
   "id": "rotary-professional",
   "metadata": {
    "execution": {
     "iopub.execute_input": "2021-06-05T11:17:31.321681Z",
     "iopub.status.busy": "2021-06-05T11:17:31.320007Z",
     "iopub.status.idle": "2021-06-05T11:17:31.325698Z",
     "shell.execute_reply": "2021-06-05T11:17:31.325070Z",
     "shell.execute_reply.started": "2021-06-05T11:13:06.515299Z"
    },
    "papermill": {
     "duration": 0.117748,
     "end_time": "2021-06-05T11:17:31.325884",
     "exception": false,
     "start_time": "2021-06-05T11:17:31.208136",
     "status": "completed"
    },
    "tags": []
   },
   "outputs": [
    {
     "data": {
      "text/plain": [
       "((891, 9), (418, 9))"
      ]
     },
     "execution_count": 33,
     "metadata": {},
     "output_type": "execute_result"
    }
   ],
   "source": [
    "train_df.shape, test_df.shape"
   ]
  },
  {
   "cell_type": "markdown",
   "id": "ordinary-scenario",
   "metadata": {
    "papermill": {
     "duration": 0.107439,
     "end_time": "2021-06-05T11:17:31.544864",
     "exception": false,
     "start_time": "2021-06-05T11:17:31.437425",
     "status": "completed"
    },
    "tags": []
   },
   "source": [
    "### Converting Categorical Features"
   ]
  },
  {
   "cell_type": "code",
   "execution_count": 34,
   "id": "wooden-oracle",
   "metadata": {
    "execution": {
     "iopub.execute_input": "2021-06-05T11:17:31.796776Z",
     "iopub.status.busy": "2021-06-05T11:17:31.795805Z",
     "iopub.status.idle": "2021-06-05T11:17:31.800336Z",
     "shell.execute_reply": "2021-06-05T11:17:31.799714Z",
     "shell.execute_reply.started": "2021-06-05T11:13:06.524641Z"
    },
    "papermill": {
     "duration": 0.138424,
     "end_time": "2021-06-05T11:17:31.800476",
     "exception": false,
     "start_time": "2021-06-05T11:17:31.662052",
     "status": "completed"
    },
    "tags": []
   },
   "outputs": [
    {
     "data": {
      "text/html": [
       "<div>\n",
       "<style scoped>\n",
       "    .dataframe tbody tr th:only-of-type {\n",
       "        vertical-align: middle;\n",
       "    }\n",
       "\n",
       "    .dataframe tbody tr th {\n",
       "        vertical-align: top;\n",
       "    }\n",
       "\n",
       "    .dataframe thead th {\n",
       "        text-align: right;\n",
       "    }\n",
       "</style>\n",
       "<table border=\"1\" class=\"dataframe\">\n",
       "  <thead>\n",
       "    <tr style=\"text-align: right;\">\n",
       "      <th></th>\n",
       "      <th>Survived</th>\n",
       "      <th>Pclass</th>\n",
       "      <th>Sex</th>\n",
       "      <th>Age</th>\n",
       "      <th>SibSp</th>\n",
       "      <th>Parch</th>\n",
       "      <th>Fare</th>\n",
       "      <th>Embarked</th>\n",
       "      <th>Title</th>\n",
       "    </tr>\n",
       "  </thead>\n",
       "  <tbody>\n",
       "    <tr>\n",
       "      <th>0</th>\n",
       "      <td>0</td>\n",
       "      <td>3</td>\n",
       "      <td>male</td>\n",
       "      <td>22.0</td>\n",
       "      <td>1</td>\n",
       "      <td>0</td>\n",
       "      <td>7.2500</td>\n",
       "      <td>S</td>\n",
       "      <td>1</td>\n",
       "    </tr>\n",
       "    <tr>\n",
       "      <th>1</th>\n",
       "      <td>1</td>\n",
       "      <td>1</td>\n",
       "      <td>female</td>\n",
       "      <td>38.0</td>\n",
       "      <td>1</td>\n",
       "      <td>0</td>\n",
       "      <td>71.2833</td>\n",
       "      <td>C</td>\n",
       "      <td>3</td>\n",
       "    </tr>\n",
       "    <tr>\n",
       "      <th>2</th>\n",
       "      <td>1</td>\n",
       "      <td>3</td>\n",
       "      <td>female</td>\n",
       "      <td>26.0</td>\n",
       "      <td>0</td>\n",
       "      <td>0</td>\n",
       "      <td>7.9250</td>\n",
       "      <td>S</td>\n",
       "      <td>2</td>\n",
       "    </tr>\n",
       "    <tr>\n",
       "      <th>3</th>\n",
       "      <td>1</td>\n",
       "      <td>1</td>\n",
       "      <td>female</td>\n",
       "      <td>35.0</td>\n",
       "      <td>1</td>\n",
       "      <td>0</td>\n",
       "      <td>53.1000</td>\n",
       "      <td>S</td>\n",
       "      <td>3</td>\n",
       "    </tr>\n",
       "    <tr>\n",
       "      <th>4</th>\n",
       "      <td>0</td>\n",
       "      <td>3</td>\n",
       "      <td>male</td>\n",
       "      <td>35.0</td>\n",
       "      <td>0</td>\n",
       "      <td>0</td>\n",
       "      <td>8.0500</td>\n",
       "      <td>S</td>\n",
       "      <td>1</td>\n",
       "    </tr>\n",
       "  </tbody>\n",
       "</table>\n",
       "</div>"
      ],
      "text/plain": [
       "   Survived  Pclass     Sex   Age  SibSp  Parch     Fare Embarked  Title\n",
       "0         0       3    male  22.0      1      0   7.2500        S      1\n",
       "1         1       1  female  38.0      1      0  71.2833        C      3\n",
       "2         1       3  female  26.0      0      0   7.9250        S      2\n",
       "3         1       1  female  35.0      1      0  53.1000        S      3\n",
       "4         0       3    male  35.0      0      0   8.0500        S      1"
      ]
     },
     "execution_count": 34,
     "metadata": {},
     "output_type": "execute_result"
    }
   ],
   "source": [
    "# Lets convert the Title Feature into numerical ones:\n",
    "title_mapping = {\"Mr\": 1, \"Miss\": 2, \"Mrs\": 3, \"Master\": 4, \"Rare\": 5}\n",
    "train_df['Title'] = train_df['Title'].map(title_mapping)\n",
    "test_df['Title'] = test_df['Title'].map(title_mapping)\n",
    "train_df['Title'] = train_df['Title'].fillna(0)\n",
    "test_df['Title'] = test_df['Title'].fillna(0)\n",
    "\n",
    "train_df.head()"
   ]
  },
  {
   "cell_type": "code",
   "execution_count": 35,
   "id": "sonic-culture",
   "metadata": {
    "execution": {
     "iopub.execute_input": "2021-06-05T11:17:32.038032Z",
     "iopub.status.busy": "2021-06-05T11:17:32.035535Z",
     "iopub.status.idle": "2021-06-05T11:17:32.041610Z",
     "shell.execute_reply": "2021-06-05T11:17:32.042408Z",
     "shell.execute_reply.started": "2021-06-05T11:13:06.545672Z"
    },
    "papermill": {
     "duration": 0.132047,
     "end_time": "2021-06-05T11:17:32.042623",
     "exception": false,
     "start_time": "2021-06-05T11:17:31.910576",
     "status": "completed"
    },
    "tags": []
   },
   "outputs": [],
   "source": [
    "# Lets convert Sex into Numerical Feature. Female = 1, Male=0\n",
    "\n",
    "train_df['Sex'] = train_df['Sex'].map({'female': 1, 'male':0}).astype(int)\n",
    "test_df['Sex'] = test_df['Sex'].map({'female': 1, 'male':0}).astype(int)"
   ]
  },
  {
   "cell_type": "code",
   "execution_count": 36,
   "id": "narrow-sculpture",
   "metadata": {
    "execution": {
     "iopub.execute_input": "2021-06-05T11:17:32.280109Z",
     "iopub.status.busy": "2021-06-05T11:17:32.279163Z",
     "iopub.status.idle": "2021-06-05T11:17:32.284822Z",
     "shell.execute_reply": "2021-06-05T11:17:32.284117Z",
     "shell.execute_reply.started": "2021-06-05T11:13:06.563021Z"
    },
    "papermill": {
     "duration": 0.130529,
     "end_time": "2021-06-05T11:17:32.284972",
     "exception": false,
     "start_time": "2021-06-05T11:17:32.154443",
     "status": "completed"
    },
    "tags": []
   },
   "outputs": [
    {
     "data": {
      "text/html": [
       "<div>\n",
       "<style scoped>\n",
       "    .dataframe tbody tr th:only-of-type {\n",
       "        vertical-align: middle;\n",
       "    }\n",
       "\n",
       "    .dataframe tbody tr th {\n",
       "        vertical-align: top;\n",
       "    }\n",
       "\n",
       "    .dataframe thead th {\n",
       "        text-align: right;\n",
       "    }\n",
       "</style>\n",
       "<table border=\"1\" class=\"dataframe\">\n",
       "  <thead>\n",
       "    <tr style=\"text-align: right;\">\n",
       "      <th></th>\n",
       "      <th>Survived</th>\n",
       "      <th>Pclass</th>\n",
       "      <th>Sex</th>\n",
       "      <th>Age</th>\n",
       "      <th>SibSp</th>\n",
       "      <th>Parch</th>\n",
       "      <th>Fare</th>\n",
       "      <th>Embarked</th>\n",
       "      <th>Title</th>\n",
       "    </tr>\n",
       "  </thead>\n",
       "  <tbody>\n",
       "    <tr>\n",
       "      <th>0</th>\n",
       "      <td>0</td>\n",
       "      <td>3</td>\n",
       "      <td>0</td>\n",
       "      <td>22.0</td>\n",
       "      <td>1</td>\n",
       "      <td>0</td>\n",
       "      <td>7.2500</td>\n",
       "      <td>S</td>\n",
       "      <td>1</td>\n",
       "    </tr>\n",
       "    <tr>\n",
       "      <th>1</th>\n",
       "      <td>1</td>\n",
       "      <td>1</td>\n",
       "      <td>1</td>\n",
       "      <td>38.0</td>\n",
       "      <td>1</td>\n",
       "      <td>0</td>\n",
       "      <td>71.2833</td>\n",
       "      <td>C</td>\n",
       "      <td>3</td>\n",
       "    </tr>\n",
       "    <tr>\n",
       "      <th>2</th>\n",
       "      <td>1</td>\n",
       "      <td>3</td>\n",
       "      <td>1</td>\n",
       "      <td>26.0</td>\n",
       "      <td>0</td>\n",
       "      <td>0</td>\n",
       "      <td>7.9250</td>\n",
       "      <td>S</td>\n",
       "      <td>2</td>\n",
       "    </tr>\n",
       "    <tr>\n",
       "      <th>3</th>\n",
       "      <td>1</td>\n",
       "      <td>1</td>\n",
       "      <td>1</td>\n",
       "      <td>35.0</td>\n",
       "      <td>1</td>\n",
       "      <td>0</td>\n",
       "      <td>53.1000</td>\n",
       "      <td>S</td>\n",
       "      <td>3</td>\n",
       "    </tr>\n",
       "    <tr>\n",
       "      <th>4</th>\n",
       "      <td>0</td>\n",
       "      <td>3</td>\n",
       "      <td>0</td>\n",
       "      <td>35.0</td>\n",
       "      <td>0</td>\n",
       "      <td>0</td>\n",
       "      <td>8.0500</td>\n",
       "      <td>S</td>\n",
       "      <td>1</td>\n",
       "    </tr>\n",
       "  </tbody>\n",
       "</table>\n",
       "</div>"
      ],
      "text/plain": [
       "   Survived  Pclass  Sex   Age  SibSp  Parch     Fare Embarked  Title\n",
       "0         0       3    0  22.0      1      0   7.2500        S      1\n",
       "1         1       1    1  38.0      1      0  71.2833        C      3\n",
       "2         1       3    1  26.0      0      0   7.9250        S      2\n",
       "3         1       1    1  35.0      1      0  53.1000        S      3\n",
       "4         0       3    0  35.0      0      0   8.0500        S      1"
      ]
     },
     "execution_count": 36,
     "metadata": {},
     "output_type": "execute_result"
    }
   ],
   "source": [
    "train_df.head()"
   ]
  },
  {
   "cell_type": "code",
   "execution_count": null,
   "id": "julian-filter",
   "metadata": {
    "papermill": {
     "duration": 0.107925,
     "end_time": "2021-06-05T11:17:32.505965",
     "exception": false,
     "start_time": "2021-06-05T11:17:32.398040",
     "status": "completed"
    },
    "tags": []
   },
   "outputs": [],
   "source": []
  },
  {
   "cell_type": "markdown",
   "id": "bright-senator",
   "metadata": {
    "papermill": {
     "duration": 0.113435,
     "end_time": "2021-06-05T11:17:32.731357",
     "exception": false,
     "start_time": "2021-06-05T11:17:32.617922",
     "status": "completed"
    },
    "tags": []
   },
   "source": [
    "**Completing a numerical continuous feature**\n",
    "\n",
    "Now we should start estimating and completing features with missing or null values. We will first do this for the Age feature.\n",
    "\n",
    "We can consider three methods to complete a numerical continuous feature.\n",
    "\n",
    "1. A simple way is to generate random numbers between mean and standard deviation.\n",
    "\n",
    "2. More accurate way of guessing missing values is to use other correlated features. In our case we note correlation among Age, Gender, and Pclass. Guess Age values using median values for Age across sets of Pclass and Gender feature combinations. So, median Age for Pclass=1 and Gender=0, Pclass=1 and Gender=1, and so on...\n",
    "\n",
    "3. Combine methods 1 and 2. So instead of guessing age values based on median, use random numbers between mean and standard deviation, based on sets of Pclass and Gender combinations.\n",
    "\n",
    "Method 1 and 3 will introduce random noise into our models. The results from multiple executions might vary. We will prefer method 2."
   ]
  },
  {
   "cell_type": "code",
   "execution_count": 37,
   "id": "formed-calvin",
   "metadata": {
    "execution": {
     "iopub.execute_input": "2021-06-05T11:17:32.968755Z",
     "iopub.status.busy": "2021-06-05T11:17:32.968040Z",
     "iopub.status.idle": "2021-06-05T11:17:34.551396Z",
     "shell.execute_reply": "2021-06-05T11:17:34.550804Z",
     "shell.execute_reply.started": "2021-06-05T11:13:06.583151Z"
    },
    "papermill": {
     "duration": 1.708889,
     "end_time": "2021-06-05T11:17:34.551540",
     "exception": false,
     "start_time": "2021-06-05T11:17:32.842651",
     "status": "completed"
    },
    "tags": []
   },
   "outputs": [
    {
     "data": {
      "text/plain": [
       "<seaborn.axisgrid.FacetGrid at 0x7f98e58c66d0>"
      ]
     },
     "execution_count": 37,
     "metadata": {},
     "output_type": "execute_result"
    },
    {
     "data": {
      "image/png": "[encoded data removed]",
      "text/plain": [
       "<Figure size 514.88x475.2 with 6 Axes>"
      ]
     },
     "metadata": {
      "needs_background": "light"
     },
     "output_type": "display_data"
    }
   ],
   "source": [
    "grid = sns.FacetGrid(train_df, row='Pclass', col='Sex', height=2.2, aspect=1.6)\n",
    "grid.map(plt.hist, 'Age', alpha=.5, bins=20)\n",
    "grid.add_legend()"
   ]
  },
  {
   "cell_type": "markdown",
   "id": "popular-helicopter",
   "metadata": {
    "papermill": {
     "duration": 0.109802,
     "end_time": "2021-06-05T11:17:34.773321",
     "exception": false,
     "start_time": "2021-06-05T11:17:34.663519",
     "status": "completed"
    },
    "tags": []
   },
   "source": [
    "Let us start by preparing an empty array to contain guessed Age values based on Pclass x Gender combinations."
   ]
  },
  {
   "cell_type": "code",
   "execution_count": 38,
   "id": "musical-density",
   "metadata": {
    "execution": {
     "iopub.execute_input": "2021-06-05T11:17:34.998336Z",
     "iopub.status.busy": "2021-06-05T11:17:34.997484Z",
     "iopub.status.idle": "2021-06-05T11:17:35.001836Z",
     "shell.execute_reply": "2021-06-05T11:17:35.001282Z",
     "shell.execute_reply.started": "2021-06-05T11:13:07.854137Z"
    },
    "papermill": {
     "duration": 0.119262,
     "end_time": "2021-06-05T11:17:35.002039",
     "exception": false,
     "start_time": "2021-06-05T11:17:34.882777",
     "status": "completed"
    },
    "tags": []
   },
   "outputs": [
    {
     "data": {
      "text/plain": [
       "array([[0., 0., 0.],\n",
       "       [0., 0., 0.]])"
      ]
     },
     "execution_count": 38,
     "metadata": {},
     "output_type": "execute_result"
    }
   ],
   "source": [
    "guess_ages = np.zeros((2,3))\n",
    "guess_ages"
   ]
  },
  {
   "cell_type": "markdown",
   "id": "stable-visitor",
   "metadata": {
    "papermill": {
     "duration": 0.111372,
     "end_time": "2021-06-05T11:17:35.223175",
     "exception": false,
     "start_time": "2021-06-05T11:17:35.111803",
     "status": "completed"
    },
    "tags": []
   },
   "source": [
    "Now we iterate over Sex (0 or 1) and Pclass (1, 2, 3) to calculate guessed values of Age for the six combinations."
   ]
  },
  {
   "cell_type": "code",
   "execution_count": 39,
   "id": "automotive-village",
   "metadata": {
    "execution": {
     "iopub.execute_input": "2021-06-05T11:17:35.479483Z",
     "iopub.status.busy": "2021-06-05T11:17:35.478591Z",
     "iopub.status.idle": "2021-06-05T11:17:35.485383Z",
     "shell.execute_reply": "2021-06-05T11:17:35.485859Z",
     "shell.execute_reply.started": "2021-06-05T11:13:07.861395Z"
    },
    "papermill": {
     "duration": 0.154545,
     "end_time": "2021-06-05T11:17:35.486038",
     "exception": false,
     "start_time": "2021-06-05T11:17:35.331493",
     "status": "completed"
    },
    "tags": []
   },
   "outputs": [
    {
     "data": {
      "text/html": [
       "<div>\n",
       "<style scoped>\n",
       "    .dataframe tbody tr th:only-of-type {\n",
       "        vertical-align: middle;\n",
       "    }\n",
       "\n",
       "    .dataframe tbody tr th {\n",
       "        vertical-align: top;\n",
       "    }\n",
       "\n",
       "    .dataframe thead th {\n",
       "        text-align: right;\n",
       "    }\n",
       "</style>\n",
       "<table border=\"1\" class=\"dataframe\">\n",
       "  <thead>\n",
       "    <tr style=\"text-align: right;\">\n",
       "      <th></th>\n",
       "      <th>Survived</th>\n",
       "      <th>Pclass</th>\n",
       "      <th>Sex</th>\n",
       "      <th>Age</th>\n",
       "      <th>SibSp</th>\n",
       "      <th>Parch</th>\n",
       "      <th>Fare</th>\n",
       "      <th>Embarked</th>\n",
       "      <th>Title</th>\n",
       "    </tr>\n",
       "  </thead>\n",
       "  <tbody>\n",
       "    <tr>\n",
       "      <th>0</th>\n",
       "      <td>0</td>\n",
       "      <td>3</td>\n",
       "      <td>0</td>\n",
       "      <td>22</td>\n",
       "      <td>1</td>\n",
       "      <td>0</td>\n",
       "      <td>7.2500</td>\n",
       "      <td>S</td>\n",
       "      <td>1</td>\n",
       "    </tr>\n",
       "    <tr>\n",
       "      <th>1</th>\n",
       "      <td>1</td>\n",
       "      <td>1</td>\n",
       "      <td>1</td>\n",
       "      <td>38</td>\n",
       "      <td>1</td>\n",
       "      <td>0</td>\n",
       "      <td>71.2833</td>\n",
       "      <td>C</td>\n",
       "      <td>3</td>\n",
       "    </tr>\n",
       "    <tr>\n",
       "      <th>2</th>\n",
       "      <td>1</td>\n",
       "      <td>3</td>\n",
       "      <td>1</td>\n",
       "      <td>26</td>\n",
       "      <td>0</td>\n",
       "      <td>0</td>\n",
       "      <td>7.9250</td>\n",
       "      <td>S</td>\n",
       "      <td>2</td>\n",
       "    </tr>\n",
       "    <tr>\n",
       "      <th>3</th>\n",
       "      <td>1</td>\n",
       "      <td>1</td>\n",
       "      <td>1</td>\n",
       "      <td>35</td>\n",
       "      <td>1</td>\n",
       "      <td>0</td>\n",
       "      <td>53.1000</td>\n",
       "      <td>S</td>\n",
       "      <td>3</td>\n",
       "    </tr>\n",
       "    <tr>\n",
       "      <th>4</th>\n",
       "      <td>0</td>\n",
       "      <td>3</td>\n",
       "      <td>0</td>\n",
       "      <td>35</td>\n",
       "      <td>0</td>\n",
       "      <td>0</td>\n",
       "      <td>8.0500</td>\n",
       "      <td>S</td>\n",
       "      <td>1</td>\n",
       "    </tr>\n",
       "  </tbody>\n",
       "</table>\n",
       "</div>"
      ],
      "text/plain": [
       "   Survived  Pclass  Sex  Age  SibSp  Parch     Fare Embarked  Title\n",
       "0         0       3    0   22      1      0   7.2500        S      1\n",
       "1         1       1    1   38      1      0  71.2833        C      3\n",
       "2         1       3    1   26      0      0   7.9250        S      2\n",
       "3         1       1    1   35      1      0  53.1000        S      3\n",
       "4         0       3    0   35      0      0   8.0500        S      1"
      ]
     },
     "execution_count": 39,
     "metadata": {},
     "output_type": "execute_result"
    }
   ],
   "source": [
    "for i in range(0, 2):\n",
    "    for j in range(0, 3):\n",
    "        guess_df = train_df[(train_df['Sex'] == i) & \\\n",
    "                                  (train_df['Pclass'] == j+1)]['Age'].dropna()\n",
    "        \n",
    "        age_guess = guess_df.median()\n",
    "\n",
    "        # Convert random age float to nearest .5 age\n",
    "        guess_ages[i,j] = int( age_guess/0.5 + 0.5 ) * 0.5\n",
    "\n",
    "for i in range(0, 2):\n",
    "    for j in range(0, 3):\n",
    "        train_df.loc[ (train_df.Age.isnull()) & (train_df.Sex == i) & (train_df.Pclass == j+1),\\\n",
    "                'Age'] = guess_ages[i,j]\n",
    "\n",
    "train_df['Age'] = train_df['Age'].astype(int)\n",
    "\n",
    "train_df.head()"
   ]
  },
  {
   "cell_type": "code",
   "execution_count": 40,
   "id": "front-ribbon",
   "metadata": {
    "execution": {
     "iopub.execute_input": "2021-06-05T11:17:35.712798Z",
     "iopub.status.busy": "2021-06-05T11:17:35.711756Z",
     "iopub.status.idle": "2021-06-05T11:17:35.716243Z",
     "shell.execute_reply": "2021-06-05T11:17:35.715630Z",
     "shell.execute_reply.started": "2021-06-05T11:13:07.899749Z"
    },
    "papermill": {
     "duration": 0.11922,
     "end_time": "2021-06-05T11:17:35.716378",
     "exception": false,
     "start_time": "2021-06-05T11:17:35.597158",
     "status": "completed"
    },
    "tags": []
   },
   "outputs": [
    {
     "data": {
      "text/plain": [
       "array([[40. , 30. , 25. ],\n",
       "       [35. , 28. , 21.5]])"
      ]
     },
     "execution_count": 40,
     "metadata": {},
     "output_type": "execute_result"
    }
   ],
   "source": [
    "guess_ages"
   ]
  },
  {
   "cell_type": "code",
   "execution_count": 41,
   "id": "seeing-polish",
   "metadata": {
    "execution": {
     "iopub.execute_input": "2021-06-05T11:17:35.954115Z",
     "iopub.status.busy": "2021-06-05T11:17:35.953072Z",
     "iopub.status.idle": "2021-06-05T11:17:35.983779Z",
     "shell.execute_reply": "2021-06-05T11:17:35.984459Z",
     "shell.execute_reply.started": "2021-06-05T11:13:07.905731Z"
    },
    "papermill": {
     "duration": 0.159493,
     "end_time": "2021-06-05T11:17:35.984719",
     "exception": false,
     "start_time": "2021-06-05T11:17:35.825226",
     "status": "completed"
    },
    "tags": []
   },
   "outputs": [],
   "source": [
    "for i in range(0, 2):\n",
    "    for j in range(0, 3):\n",
    "        guess_df = test_df[(test_df['Sex'] == i) & \\\n",
    "                                  (test_df['Pclass'] == j+1)]['Age'].dropna()\n",
    "        \n",
    "        age_guess = guess_df.median()\n",
    "\n",
    "        # Convert random age float to nearest .5 age\n",
    "        guess_ages[i,j] = int( age_guess/0.5 + 0.5 ) * 0.5\n",
    "\n",
    "for i in range(0, 2):\n",
    "    for j in range(0, 3):\n",
    "        test_df.loc[ (test_df.Age.isnull()) & (test_df.Sex == i) & (test_df.Pclass == j+1),\\\n",
    "                'Age'] = guess_ages[i,j]\n",
    "\n",
    "test_df['Age'] = test_df['Age'].astype(int)"
   ]
  },
  {
   "cell_type": "code",
   "execution_count": 42,
   "id": "coastal-position",
   "metadata": {
    "execution": {
     "iopub.execute_input": "2021-06-05T11:17:36.220517Z",
     "iopub.status.busy": "2021-06-05T11:17:36.219582Z",
     "iopub.status.idle": "2021-06-05T11:17:36.225300Z",
     "shell.execute_reply": "2021-06-05T11:17:36.225870Z",
     "shell.execute_reply.started": "2021-06-05T11:13:07.935628Z"
    },
    "papermill": {
     "duration": 0.120137,
     "end_time": "2021-06-05T11:17:36.226047",
     "exception": false,
     "start_time": "2021-06-05T11:17:36.105910",
     "status": "completed"
    },
    "tags": []
   },
   "outputs": [
    {
     "data": {
      "text/plain": [
       "array([[42., 28., 24.],\n",
       "       [41., 24., 22.]])"
      ]
     },
     "execution_count": 42,
     "metadata": {},
     "output_type": "execute_result"
    }
   ],
   "source": [
    "guess_ages"
   ]
  },
  {
   "cell_type": "markdown",
   "id": "reserved-barrel",
   "metadata": {
    "papermill": {
     "duration": 0.109727,
     "end_time": "2021-06-05T11:17:36.446139",
     "exception": false,
     "start_time": "2021-06-05T11:17:36.336412",
     "status": "completed"
    },
    "tags": []
   },
   "source": [
    "Let us create Age bands and determine correlations with Survived."
   ]
  },
  {
   "cell_type": "code",
   "execution_count": 43,
   "id": "cellular-swimming",
   "metadata": {
    "execution": {
     "iopub.execute_input": "2021-06-05T11:17:36.669422Z",
     "iopub.status.busy": "2021-06-05T11:17:36.668735Z",
     "iopub.status.idle": "2021-06-05T11:17:36.694203Z",
     "shell.execute_reply": "2021-06-05T11:17:36.694712Z",
     "shell.execute_reply.started": "2021-06-05T11:13:07.951934Z"
    },
    "papermill": {
     "duration": 0.139478,
     "end_time": "2021-06-05T11:17:36.694905",
     "exception": false,
     "start_time": "2021-06-05T11:17:36.555427",
     "status": "completed"
    },
    "tags": []
   },
   "outputs": [
    {
     "data": {
      "text/html": [
       "<div>\n",
       "<style scoped>\n",
       "    .dataframe tbody tr th:only-of-type {\n",
       "        vertical-align: middle;\n",
       "    }\n",
       "\n",
       "    .dataframe tbody tr th {\n",
       "        vertical-align: top;\n",
       "    }\n",
       "\n",
       "    .dataframe thead th {\n",
       "        text-align: right;\n",
       "    }\n",
       "</style>\n",
       "<table border=\"1\" class=\"dataframe\">\n",
       "  <thead>\n",
       "    <tr style=\"text-align: right;\">\n",
       "      <th></th>\n",
       "      <th>AgeBand</th>\n",
       "      <th>Survived</th>\n",
       "    </tr>\n",
       "  </thead>\n",
       "  <tbody>\n",
       "    <tr>\n",
       "      <th>0</th>\n",
       "      <td>(-0.08, 16.0]</td>\n",
       "      <td>0.550000</td>\n",
       "    </tr>\n",
       "    <tr>\n",
       "      <th>1</th>\n",
       "      <td>(16.0, 32.0]</td>\n",
       "      <td>0.337374</td>\n",
       "    </tr>\n",
       "    <tr>\n",
       "      <th>2</th>\n",
       "      <td>(32.0, 48.0]</td>\n",
       "      <td>0.412037</td>\n",
       "    </tr>\n",
       "    <tr>\n",
       "      <th>3</th>\n",
       "      <td>(48.0, 64.0]</td>\n",
       "      <td>0.434783</td>\n",
       "    </tr>\n",
       "    <tr>\n",
       "      <th>4</th>\n",
       "      <td>(64.0, 80.0]</td>\n",
       "      <td>0.090909</td>\n",
       "    </tr>\n",
       "  </tbody>\n",
       "</table>\n",
       "</div>"
      ],
      "text/plain": [
       "         AgeBand  Survived\n",
       "0  (-0.08, 16.0]  0.550000\n",
       "1   (16.0, 32.0]  0.337374\n",
       "2   (32.0, 48.0]  0.412037\n",
       "3   (48.0, 64.0]  0.434783\n",
       "4   (64.0, 80.0]  0.090909"
      ]
     },
     "execution_count": 43,
     "metadata": {},
     "output_type": "execute_result"
    }
   ],
   "source": [
    "train_df['AgeBand'] = pd.cut(train_df['Age'], 5)\n",
    "train_df[['AgeBand', 'Survived']].groupby(['AgeBand'], as_index=False).mean().sort_values(by='AgeBand', ascending=True)"
   ]
  },
  {
   "cell_type": "markdown",
   "id": "standard-validation",
   "metadata": {
    "papermill": {
     "duration": 0.110909,
     "end_time": "2021-06-05T11:17:36.916758",
     "exception": false,
     "start_time": "2021-06-05T11:17:36.805849",
     "status": "completed"
    },
    "tags": []
   },
   "source": [
    "Let us replace Age with ordinals based on these bands."
   ]
  },
  {
   "cell_type": "code",
   "execution_count": 44,
   "id": "uniform-somalia",
   "metadata": {
    "execution": {
     "iopub.execute_input": "2021-06-05T11:17:37.168243Z",
     "iopub.status.busy": "2021-06-05T11:17:37.164527Z",
     "iopub.status.idle": "2021-06-05T11:17:37.173501Z",
     "shell.execute_reply": "2021-06-05T11:17:37.172871Z",
     "shell.execute_reply.started": "2021-06-05T11:13:07.984608Z"
    },
    "papermill": {
     "duration": 0.143818,
     "end_time": "2021-06-05T11:17:37.173667",
     "exception": false,
     "start_time": "2021-06-05T11:17:37.029849",
     "status": "completed"
    },
    "tags": []
   },
   "outputs": [
    {
     "data": {
      "text/html": [
       "<div>\n",
       "<style scoped>\n",
       "    .dataframe tbody tr th:only-of-type {\n",
       "        vertical-align: middle;\n",
       "    }\n",
       "\n",
       "    .dataframe tbody tr th {\n",
       "        vertical-align: top;\n",
       "    }\n",
       "\n",
       "    .dataframe thead th {\n",
       "        text-align: right;\n",
       "    }\n",
       "</style>\n",
       "<table border=\"1\" class=\"dataframe\">\n",
       "  <thead>\n",
       "    <tr style=\"text-align: right;\">\n",
       "      <th></th>\n",
       "      <th>Survived</th>\n",
       "      <th>Pclass</th>\n",
       "      <th>Sex</th>\n",
       "      <th>Age</th>\n",
       "      <th>SibSp</th>\n",
       "      <th>Parch</th>\n",
       "      <th>Fare</th>\n",
       "      <th>Embarked</th>\n",
       "      <th>Title</th>\n",
       "      <th>AgeBand</th>\n",
       "    </tr>\n",
       "  </thead>\n",
       "  <tbody>\n",
       "    <tr>\n",
       "      <th>0</th>\n",
       "      <td>0</td>\n",
       "      <td>3</td>\n",
       "      <td>0</td>\n",
       "      <td>1</td>\n",
       "      <td>1</td>\n",
       "      <td>0</td>\n",
       "      <td>7.2500</td>\n",
       "      <td>S</td>\n",
       "      <td>1</td>\n",
       "      <td>(16.0, 32.0]</td>\n",
       "    </tr>\n",
       "    <tr>\n",
       "      <th>1</th>\n",
       "      <td>1</td>\n",
       "      <td>1</td>\n",
       "      <td>1</td>\n",
       "      <td>2</td>\n",
       "      <td>1</td>\n",
       "      <td>0</td>\n",
       "      <td>71.2833</td>\n",
       "      <td>C</td>\n",
       "      <td>3</td>\n",
       "      <td>(32.0, 48.0]</td>\n",
       "    </tr>\n",
       "    <tr>\n",
       "      <th>2</th>\n",
       "      <td>1</td>\n",
       "      <td>3</td>\n",
       "      <td>1</td>\n",
       "      <td>1</td>\n",
       "      <td>0</td>\n",
       "      <td>0</td>\n",
       "      <td>7.9250</td>\n",
       "      <td>S</td>\n",
       "      <td>2</td>\n",
       "      <td>(16.0, 32.0]</td>\n",
       "    </tr>\n",
       "    <tr>\n",
       "      <th>3</th>\n",
       "      <td>1</td>\n",
       "      <td>1</td>\n",
       "      <td>1</td>\n",
       "      <td>2</td>\n",
       "      <td>1</td>\n",
       "      <td>0</td>\n",
       "      <td>53.1000</td>\n",
       "      <td>S</td>\n",
       "      <td>3</td>\n",
       "      <td>(32.0, 48.0]</td>\n",
       "    </tr>\n",
       "    <tr>\n",
       "      <th>4</th>\n",
       "      <td>0</td>\n",
       "      <td>3</td>\n",
       "      <td>0</td>\n",
       "      <td>2</td>\n",
       "      <td>0</td>\n",
       "      <td>0</td>\n",
       "      <td>8.0500</td>\n",
       "      <td>S</td>\n",
       "      <td>1</td>\n",
       "      <td>(32.0, 48.0]</td>\n",
       "    </tr>\n",
       "  </tbody>\n",
       "</table>\n",
       "</div>"
      ],
      "text/plain": [
       "   Survived  Pclass  Sex  Age  SibSp  Parch     Fare Embarked  Title  \\\n",
       "0         0       3    0    1      1      0   7.2500        S      1   \n",
       "1         1       1    1    2      1      0  71.2833        C      3   \n",
       "2         1       3    1    1      0      0   7.9250        S      2   \n",
       "3         1       1    1    2      1      0  53.1000        S      3   \n",
       "4         0       3    0    2      0      0   8.0500        S      1   \n",
       "\n",
       "        AgeBand  \n",
       "0  (16.0, 32.0]  \n",
       "1  (32.0, 48.0]  \n",
       "2  (16.0, 32.0]  \n",
       "3  (32.0, 48.0]  \n",
       "4  (32.0, 48.0]  "
      ]
     },
     "execution_count": 44,
     "metadata": {},
     "output_type": "execute_result"
    }
   ],
   "source": [
    "train_df.loc[ train_df['Age'] <= 16, 'Age'] = 0\n",
    "train_df.loc[(train_df['Age'] > 16) & (train_df['Age'] <= 32), 'Age'] = 1\n",
    "train_df.loc[(train_df['Age'] > 32) & (train_df['Age'] <= 48), 'Age'] = 2\n",
    "train_df.loc[(train_df['Age'] > 48) & (train_df['Age'] <= 64), 'Age'] = 3\n",
    "train_df.loc[ train_df['Age'] > 64, 'Age'] = 4\n",
    "train_df.head()"
   ]
  },
  {
   "cell_type": "code",
   "execution_count": 45,
   "id": "dying-major",
   "metadata": {
    "execution": {
     "iopub.execute_input": "2021-06-05T11:17:37.410617Z",
     "iopub.status.busy": "2021-06-05T11:17:37.409901Z",
     "iopub.status.idle": "2021-06-05T11:17:37.426153Z",
     "shell.execute_reply": "2021-06-05T11:17:37.426678Z",
     "shell.execute_reply.started": "2021-06-05T11:13:08.011354Z"
    },
    "papermill": {
     "duration": 0.139381,
     "end_time": "2021-06-05T11:17:37.426869",
     "exception": false,
     "start_time": "2021-06-05T11:17:37.287488",
     "status": "completed"
    },
    "tags": []
   },
   "outputs": [
    {
     "data": {
      "text/html": [
       "<div>\n",
       "<style scoped>\n",
       "    .dataframe tbody tr th:only-of-type {\n",
       "        vertical-align: middle;\n",
       "    }\n",
       "\n",
       "    .dataframe tbody tr th {\n",
       "        vertical-align: top;\n",
       "    }\n",
       "\n",
       "    .dataframe thead th {\n",
       "        text-align: right;\n",
       "    }\n",
       "</style>\n",
       "<table border=\"1\" class=\"dataframe\">\n",
       "  <thead>\n",
       "    <tr style=\"text-align: right;\">\n",
       "      <th></th>\n",
       "      <th>PassengerId</th>\n",
       "      <th>Pclass</th>\n",
       "      <th>Sex</th>\n",
       "      <th>Age</th>\n",
       "      <th>SibSp</th>\n",
       "      <th>Parch</th>\n",
       "      <th>Fare</th>\n",
       "      <th>Embarked</th>\n",
       "      <th>Title</th>\n",
       "    </tr>\n",
       "  </thead>\n",
       "  <tbody>\n",
       "    <tr>\n",
       "      <th>0</th>\n",
       "      <td>892</td>\n",
       "      <td>3</td>\n",
       "      <td>0</td>\n",
       "      <td>2</td>\n",
       "      <td>0</td>\n",
       "      <td>0</td>\n",
       "      <td>7.8292</td>\n",
       "      <td>Q</td>\n",
       "      <td>1</td>\n",
       "    </tr>\n",
       "    <tr>\n",
       "      <th>1</th>\n",
       "      <td>893</td>\n",
       "      <td>3</td>\n",
       "      <td>1</td>\n",
       "      <td>2</td>\n",
       "      <td>1</td>\n",
       "      <td>0</td>\n",
       "      <td>7.0000</td>\n",
       "      <td>S</td>\n",
       "      <td>3</td>\n",
       "    </tr>\n",
       "    <tr>\n",
       "      <th>2</th>\n",
       "      <td>894</td>\n",
       "      <td>2</td>\n",
       "      <td>0</td>\n",
       "      <td>3</td>\n",
       "      <td>0</td>\n",
       "      <td>0</td>\n",
       "      <td>9.6875</td>\n",
       "      <td>Q</td>\n",
       "      <td>1</td>\n",
       "    </tr>\n",
       "    <tr>\n",
       "      <th>3</th>\n",
       "      <td>895</td>\n",
       "      <td>3</td>\n",
       "      <td>0</td>\n",
       "      <td>1</td>\n",
       "      <td>0</td>\n",
       "      <td>0</td>\n",
       "      <td>8.6625</td>\n",
       "      <td>S</td>\n",
       "      <td>1</td>\n",
       "    </tr>\n",
       "    <tr>\n",
       "      <th>4</th>\n",
       "      <td>896</td>\n",
       "      <td>3</td>\n",
       "      <td>1</td>\n",
       "      <td>1</td>\n",
       "      <td>1</td>\n",
       "      <td>1</td>\n",
       "      <td>12.2875</td>\n",
       "      <td>S</td>\n",
       "      <td>3</td>\n",
       "    </tr>\n",
       "  </tbody>\n",
       "</table>\n",
       "</div>"
      ],
      "text/plain": [
       "   PassengerId  Pclass  Sex  Age  SibSp  Parch     Fare Embarked  Title\n",
       "0          892       3    0    2      0      0   7.8292        Q      1\n",
       "1          893       3    1    2      1      0   7.0000        S      3\n",
       "2          894       2    0    3      0      0   9.6875        Q      1\n",
       "3          895       3    0    1      0      0   8.6625        S      1\n",
       "4          896       3    1    1      1      1  12.2875        S      3"
      ]
     },
     "execution_count": 45,
     "metadata": {},
     "output_type": "execute_result"
    }
   ],
   "source": [
    "test_df.loc[ test_df['Age'] <= 16, 'Age'] = 0\n",
    "test_df.loc[(test_df['Age'] > 16) & (test_df['Age'] <= 32), 'Age'] = 1\n",
    "test_df.loc[(test_df['Age'] > 32) & (test_df['Age'] <= 48), 'Age'] = 2\n",
    "test_df.loc[(test_df['Age'] > 48) & (test_df['Age'] <= 64), 'Age'] = 3\n",
    "test_df.loc[ test_df['Age'] > 64, 'Age'] = 4\n",
    "test_df.head()"
   ]
  },
  {
   "cell_type": "code",
   "execution_count": null,
   "id": "defined-catalog",
   "metadata": {
    "papermill": {
     "duration": 0.113518,
     "end_time": "2021-06-05T11:17:37.653443",
     "exception": false,
     "start_time": "2021-06-05T11:17:37.539925",
     "status": "completed"
    },
    "tags": []
   },
   "outputs": [],
   "source": []
  },
  {
   "cell_type": "markdown",
   "id": "romantic-belgium",
   "metadata": {
    "papermill": {
     "duration": 0.111809,
     "end_time": "2021-06-05T11:17:37.878971",
     "exception": false,
     "start_time": "2021-06-05T11:17:37.767162",
     "status": "completed"
    },
    "tags": []
   },
   "source": [
    "We can now remove the AgeBand feature."
   ]
  },
  {
   "cell_type": "code",
   "execution_count": 46,
   "id": "global-horror",
   "metadata": {
    "execution": {
     "iopub.execute_input": "2021-06-05T11:17:38.109522Z",
     "iopub.status.busy": "2021-06-05T11:17:38.108535Z",
     "iopub.status.idle": "2021-06-05T11:17:38.122499Z",
     "shell.execute_reply": "2021-06-05T11:17:38.123041Z",
     "shell.execute_reply.started": "2021-06-05T11:13:08.031666Z"
    },
    "papermill": {
     "duration": 0.13061,
     "end_time": "2021-06-05T11:17:38.123220",
     "exception": false,
     "start_time": "2021-06-05T11:17:37.992610",
     "status": "completed"
    },
    "tags": []
   },
   "outputs": [
    {
     "data": {
      "text/html": [
       "<div>\n",
       "<style scoped>\n",
       "    .dataframe tbody tr th:only-of-type {\n",
       "        vertical-align: middle;\n",
       "    }\n",
       "\n",
       "    .dataframe tbody tr th {\n",
       "        vertical-align: top;\n",
       "    }\n",
       "\n",
       "    .dataframe thead th {\n",
       "        text-align: right;\n",
       "    }\n",
       "</style>\n",
       "<table border=\"1\" class=\"dataframe\">\n",
       "  <thead>\n",
       "    <tr style=\"text-align: right;\">\n",
       "      <th></th>\n",
       "      <th>Survived</th>\n",
       "      <th>Pclass</th>\n",
       "      <th>Sex</th>\n",
       "      <th>Age</th>\n",
       "      <th>SibSp</th>\n",
       "      <th>Parch</th>\n",
       "      <th>Fare</th>\n",
       "      <th>Embarked</th>\n",
       "      <th>Title</th>\n",
       "    </tr>\n",
       "  </thead>\n",
       "  <tbody>\n",
       "    <tr>\n",
       "      <th>0</th>\n",
       "      <td>0</td>\n",
       "      <td>3</td>\n",
       "      <td>0</td>\n",
       "      <td>1</td>\n",
       "      <td>1</td>\n",
       "      <td>0</td>\n",
       "      <td>7.2500</td>\n",
       "      <td>S</td>\n",
       "      <td>1</td>\n",
       "    </tr>\n",
       "    <tr>\n",
       "      <th>1</th>\n",
       "      <td>1</td>\n",
       "      <td>1</td>\n",
       "      <td>1</td>\n",
       "      <td>2</td>\n",
       "      <td>1</td>\n",
       "      <td>0</td>\n",
       "      <td>71.2833</td>\n",
       "      <td>C</td>\n",
       "      <td>3</td>\n",
       "    </tr>\n",
       "    <tr>\n",
       "      <th>2</th>\n",
       "      <td>1</td>\n",
       "      <td>3</td>\n",
       "      <td>1</td>\n",
       "      <td>1</td>\n",
       "      <td>0</td>\n",
       "      <td>0</td>\n",
       "      <td>7.9250</td>\n",
       "      <td>S</td>\n",
       "      <td>2</td>\n",
       "    </tr>\n",
       "    <tr>\n",
       "      <th>3</th>\n",
       "      <td>1</td>\n",
       "      <td>1</td>\n",
       "      <td>1</td>\n",
       "      <td>2</td>\n",
       "      <td>1</td>\n",
       "      <td>0</td>\n",
       "      <td>53.1000</td>\n",
       "      <td>S</td>\n",
       "      <td>3</td>\n",
       "    </tr>\n",
       "    <tr>\n",
       "      <th>4</th>\n",
       "      <td>0</td>\n",
       "      <td>3</td>\n",
       "      <td>0</td>\n",
       "      <td>2</td>\n",
       "      <td>0</td>\n",
       "      <td>0</td>\n",
       "      <td>8.0500</td>\n",
       "      <td>S</td>\n",
       "      <td>1</td>\n",
       "    </tr>\n",
       "  </tbody>\n",
       "</table>\n",
       "</div>"
      ],
      "text/plain": [
       "   Survived  Pclass  Sex  Age  SibSp  Parch     Fare Embarked  Title\n",
       "0         0       3    0    1      1      0   7.2500        S      1\n",
       "1         1       1    1    2      1      0  71.2833        C      3\n",
       "2         1       3    1    1      0      0   7.9250        S      2\n",
       "3         1       1    1    2      1      0  53.1000        S      3\n",
       "4         0       3    0    2      0      0   8.0500        S      1"
      ]
     },
     "execution_count": 46,
     "metadata": {},
     "output_type": "execute_result"
    }
   ],
   "source": [
    "train_df = train_df.drop(['AgeBand'], axis=1)\n",
    "train_df.head()"
   ]
  },
  {
   "cell_type": "markdown",
   "id": "continued-oakland",
   "metadata": {
    "papermill": {
     "duration": 0.117751,
     "end_time": "2021-06-05T11:17:38.356461",
     "exception": false,
     "start_time": "2021-06-05T11:17:38.238710",
     "status": "completed"
    },
    "tags": []
   },
   "source": [
    "- Now, lets repeat the Same for the Fare Feature and convert it into Numeric feature.\n",
    "\n",
    "- But, First we need to fill the one missing Value present there.\n",
    "    - For this, we will simply use the Median value"
   ]
  },
  {
   "cell_type": "code",
   "execution_count": 47,
   "id": "traditional-thailand",
   "metadata": {
    "execution": {
     "iopub.execute_input": "2021-06-05T11:17:38.585942Z",
     "iopub.status.busy": "2021-06-05T11:17:38.585300Z",
     "iopub.status.idle": "2021-06-05T11:17:38.592413Z",
     "shell.execute_reply": "2021-06-05T11:17:38.592933Z",
     "shell.execute_reply.started": "2021-06-05T11:13:08.055536Z"
    },
    "papermill": {
     "duration": 0.123975,
     "end_time": "2021-06-05T11:17:38.593112",
     "exception": false,
     "start_time": "2021-06-05T11:17:38.469137",
     "status": "completed"
    },
    "tags": []
   },
   "outputs": [
    {
     "data": {
      "text/plain": [
       "0"
      ]
     },
     "execution_count": 47,
     "metadata": {},
     "output_type": "execute_result"
    }
   ],
   "source": [
    "#Replace NA to median value \n",
    "test_df['Fare'].fillna(test_df['Fare'].dropna().median(), inplace=True)\n",
    "test_df['Fare'].isnull().sum()"
   ]
  },
  {
   "cell_type": "code",
   "execution_count": 48,
   "id": "chubby-moral",
   "metadata": {
    "execution": {
     "iopub.execute_input": "2021-06-05T11:17:38.821334Z",
     "iopub.status.busy": "2021-06-05T11:17:38.820665Z",
     "iopub.status.idle": "2021-06-05T11:17:38.826553Z",
     "shell.execute_reply": "2021-06-05T11:17:38.827096Z",
     "shell.execute_reply.started": "2021-06-05T11:13:08.074390Z"
    },
    "papermill": {
     "duration": 0.121053,
     "end_time": "2021-06-05T11:17:38.827276",
     "exception": false,
     "start_time": "2021-06-05T11:17:38.706223",
     "status": "completed"
    },
    "tags": []
   },
   "outputs": [
    {
     "data": {
      "text/plain": [
       "14.4542"
      ]
     },
     "execution_count": 48,
     "metadata": {},
     "output_type": "execute_result"
    }
   ],
   "source": [
    "test_df['Fare'].median()"
   ]
  },
  {
   "cell_type": "code",
   "execution_count": 49,
   "id": "fancy-combat",
   "metadata": {
    "execution": {
     "iopub.execute_input": "2021-06-05T11:17:39.059861Z",
     "iopub.status.busy": "2021-06-05T11:17:39.059217Z",
     "iopub.status.idle": "2021-06-05T11:17:39.072315Z",
     "shell.execute_reply": "2021-06-05T11:17:39.072829Z",
     "shell.execute_reply.started": "2021-06-05T11:13:08.085107Z"
    },
    "papermill": {
     "duration": 0.130582,
     "end_time": "2021-06-05T11:17:39.073060",
     "exception": false,
     "start_time": "2021-06-05T11:17:38.942478",
     "status": "completed"
    },
    "tags": []
   },
   "outputs": [
    {
     "data": {
      "text/html": [
       "<div>\n",
       "<style scoped>\n",
       "    .dataframe tbody tr th:only-of-type {\n",
       "        vertical-align: middle;\n",
       "    }\n",
       "\n",
       "    .dataframe tbody tr th {\n",
       "        vertical-align: top;\n",
       "    }\n",
       "\n",
       "    .dataframe thead th {\n",
       "        text-align: right;\n",
       "    }\n",
       "</style>\n",
       "<table border=\"1\" class=\"dataframe\">\n",
       "  <thead>\n",
       "    <tr style=\"text-align: right;\">\n",
       "      <th></th>\n",
       "      <th>PassengerId</th>\n",
       "      <th>Pclass</th>\n",
       "      <th>Sex</th>\n",
       "      <th>Age</th>\n",
       "      <th>SibSp</th>\n",
       "      <th>Parch</th>\n",
       "      <th>Fare</th>\n",
       "      <th>Embarked</th>\n",
       "      <th>Title</th>\n",
       "    </tr>\n",
       "  </thead>\n",
       "  <tbody>\n",
       "    <tr>\n",
       "      <th>0</th>\n",
       "      <td>892</td>\n",
       "      <td>3</td>\n",
       "      <td>0</td>\n",
       "      <td>2</td>\n",
       "      <td>0</td>\n",
       "      <td>0</td>\n",
       "      <td>7.8292</td>\n",
       "      <td>Q</td>\n",
       "      <td>1</td>\n",
       "    </tr>\n",
       "    <tr>\n",
       "      <th>1</th>\n",
       "      <td>893</td>\n",
       "      <td>3</td>\n",
       "      <td>1</td>\n",
       "      <td>2</td>\n",
       "      <td>1</td>\n",
       "      <td>0</td>\n",
       "      <td>7.0000</td>\n",
       "      <td>S</td>\n",
       "      <td>3</td>\n",
       "    </tr>\n",
       "    <tr>\n",
       "      <th>2</th>\n",
       "      <td>894</td>\n",
       "      <td>2</td>\n",
       "      <td>0</td>\n",
       "      <td>3</td>\n",
       "      <td>0</td>\n",
       "      <td>0</td>\n",
       "      <td>9.6875</td>\n",
       "      <td>Q</td>\n",
       "      <td>1</td>\n",
       "    </tr>\n",
       "    <tr>\n",
       "      <th>3</th>\n",
       "      <td>895</td>\n",
       "      <td>3</td>\n",
       "      <td>0</td>\n",
       "      <td>1</td>\n",
       "      <td>0</td>\n",
       "      <td>0</td>\n",
       "      <td>8.6625</td>\n",
       "      <td>S</td>\n",
       "      <td>1</td>\n",
       "    </tr>\n",
       "    <tr>\n",
       "      <th>4</th>\n",
       "      <td>896</td>\n",
       "      <td>3</td>\n",
       "      <td>1</td>\n",
       "      <td>1</td>\n",
       "      <td>1</td>\n",
       "      <td>1</td>\n",
       "      <td>12.2875</td>\n",
       "      <td>S</td>\n",
       "      <td>3</td>\n",
       "    </tr>\n",
       "  </tbody>\n",
       "</table>\n",
       "</div>"
      ],
      "text/plain": [
       "   PassengerId  Pclass  Sex  Age  SibSp  Parch     Fare Embarked  Title\n",
       "0          892       3    0    2      0      0   7.8292        Q      1\n",
       "1          893       3    1    2      1      0   7.0000        S      3\n",
       "2          894       2    0    3      0      0   9.6875        Q      1\n",
       "3          895       3    0    1      0      0   8.6625        S      1\n",
       "4          896       3    1    1      1      1  12.2875        S      3"
      ]
     },
     "execution_count": 49,
     "metadata": {},
     "output_type": "execute_result"
    }
   ],
   "source": [
    "test_df.head()"
   ]
  },
  {
   "cell_type": "code",
   "execution_count": 50,
   "id": "visible-vienna",
   "metadata": {
    "execution": {
     "iopub.execute_input": "2021-06-05T11:17:39.315019Z",
     "iopub.status.busy": "2021-06-05T11:17:39.310313Z",
     "iopub.status.idle": "2021-06-05T11:17:39.343195Z",
     "shell.execute_reply": "2021-06-05T11:17:39.343699Z",
     "shell.execute_reply.started": "2021-06-05T11:13:08.102992Z"
    },
    "papermill": {
     "duration": 0.155225,
     "end_time": "2021-06-05T11:17:39.343895",
     "exception": false,
     "start_time": "2021-06-05T11:17:39.188670",
     "status": "completed"
    },
    "tags": []
   },
   "outputs": [
    {
     "data": {
      "text/html": [
       "<div>\n",
       "<style scoped>\n",
       "    .dataframe tbody tr th:only-of-type {\n",
       "        vertical-align: middle;\n",
       "    }\n",
       "\n",
       "    .dataframe tbody tr th {\n",
       "        vertical-align: top;\n",
       "    }\n",
       "\n",
       "    .dataframe thead th {\n",
       "        text-align: right;\n",
       "    }\n",
       "</style>\n",
       "<table border=\"1\" class=\"dataframe\">\n",
       "  <thead>\n",
       "    <tr style=\"text-align: right;\">\n",
       "      <th></th>\n",
       "      <th>Survived</th>\n",
       "      <th>Pclass</th>\n",
       "      <th>Sex</th>\n",
       "      <th>Age</th>\n",
       "      <th>SibSp</th>\n",
       "      <th>Parch</th>\n",
       "      <th>Fare</th>\n",
       "      <th>Title</th>\n",
       "    </tr>\n",
       "  </thead>\n",
       "  <tbody>\n",
       "    <tr>\n",
       "      <th>count</th>\n",
       "      <td>891.000000</td>\n",
       "      <td>891.000000</td>\n",
       "      <td>891.000000</td>\n",
       "      <td>891.000000</td>\n",
       "      <td>891.000000</td>\n",
       "      <td>891.000000</td>\n",
       "      <td>891.000000</td>\n",
       "      <td>891.000000</td>\n",
       "    </tr>\n",
       "    <tr>\n",
       "      <th>mean</th>\n",
       "      <td>0.383838</td>\n",
       "      <td>2.308642</td>\n",
       "      <td>0.352413</td>\n",
       "      <td>1.322110</td>\n",
       "      <td>0.523008</td>\n",
       "      <td>0.381594</td>\n",
       "      <td>32.204208</td>\n",
       "      <td>1.728395</td>\n",
       "    </tr>\n",
       "    <tr>\n",
       "      <th>std</th>\n",
       "      <td>0.486592</td>\n",
       "      <td>0.836071</td>\n",
       "      <td>0.477990</td>\n",
       "      <td>0.820081</td>\n",
       "      <td>1.102743</td>\n",
       "      <td>0.806057</td>\n",
       "      <td>49.693429</td>\n",
       "      <td>1.030039</td>\n",
       "    </tr>\n",
       "    <tr>\n",
       "      <th>min</th>\n",
       "      <td>0.000000</td>\n",
       "      <td>1.000000</td>\n",
       "      <td>0.000000</td>\n",
       "      <td>0.000000</td>\n",
       "      <td>0.000000</td>\n",
       "      <td>0.000000</td>\n",
       "      <td>0.000000</td>\n",
       "      <td>1.000000</td>\n",
       "    </tr>\n",
       "    <tr>\n",
       "      <th>25%</th>\n",
       "      <td>0.000000</td>\n",
       "      <td>2.000000</td>\n",
       "      <td>0.000000</td>\n",
       "      <td>1.000000</td>\n",
       "      <td>0.000000</td>\n",
       "      <td>0.000000</td>\n",
       "      <td>7.910400</td>\n",
       "      <td>1.000000</td>\n",
       "    </tr>\n",
       "    <tr>\n",
       "      <th>50%</th>\n",
       "      <td>0.000000</td>\n",
       "      <td>3.000000</td>\n",
       "      <td>0.000000</td>\n",
       "      <td>1.000000</td>\n",
       "      <td>0.000000</td>\n",
       "      <td>0.000000</td>\n",
       "      <td>14.454200</td>\n",
       "      <td>1.000000</td>\n",
       "    </tr>\n",
       "    <tr>\n",
       "      <th>75%</th>\n",
       "      <td>1.000000</td>\n",
       "      <td>3.000000</td>\n",
       "      <td>1.000000</td>\n",
       "      <td>2.000000</td>\n",
       "      <td>1.000000</td>\n",
       "      <td>0.000000</td>\n",
       "      <td>31.000000</td>\n",
       "      <td>2.000000</td>\n",
       "    </tr>\n",
       "    <tr>\n",
       "      <th>max</th>\n",
       "      <td>1.000000</td>\n",
       "      <td>3.000000</td>\n",
       "      <td>1.000000</td>\n",
       "      <td>4.000000</td>\n",
       "      <td>8.000000</td>\n",
       "      <td>6.000000</td>\n",
       "      <td>512.329200</td>\n",
       "      <td>5.000000</td>\n",
       "    </tr>\n",
       "  </tbody>\n",
       "</table>\n",
       "</div>"
      ],
      "text/plain": [
       "         Survived      Pclass         Sex         Age       SibSp       Parch  \\\n",
       "count  891.000000  891.000000  891.000000  891.000000  891.000000  891.000000   \n",
       "mean     0.383838    2.308642    0.352413    1.322110    0.523008    0.381594   \n",
       "std      0.486592    0.836071    0.477990    0.820081    1.102743    0.806057   \n",
       "min      0.000000    1.000000    0.000000    0.000000    0.000000    0.000000   \n",
       "25%      0.000000    2.000000    0.000000    1.000000    0.000000    0.000000   \n",
       "50%      0.000000    3.000000    0.000000    1.000000    0.000000    0.000000   \n",
       "75%      1.000000    3.000000    1.000000    2.000000    1.000000    0.000000   \n",
       "max      1.000000    3.000000    1.000000    4.000000    8.000000    6.000000   \n",
       "\n",
       "             Fare       Title  \n",
       "count  891.000000  891.000000  \n",
       "mean    32.204208    1.728395  \n",
       "std     49.693429    1.030039  \n",
       "min      0.000000    1.000000  \n",
       "25%      7.910400    1.000000  \n",
       "50%     14.454200    1.000000  \n",
       "75%     31.000000    2.000000  \n",
       "max    512.329200    5.000000  "
      ]
     },
     "execution_count": 50,
     "metadata": {},
     "output_type": "execute_result"
    }
   ],
   "source": [
    "train_df.describe()"
   ]
  },
  {
   "cell_type": "markdown",
   "id": "earlier-philippines",
   "metadata": {
    "papermill": {
     "duration": 0.114518,
     "end_time": "2021-06-05T11:17:39.572772",
     "exception": false,
     "start_time": "2021-06-05T11:17:39.458254",
     "status": "completed"
    },
    "tags": []
   },
   "source": [
    "Now, Lets create the Fare band"
   ]
  },
  {
   "cell_type": "code",
   "execution_count": 51,
   "id": "celtic-nudist",
   "metadata": {
    "execution": {
     "iopub.execute_input": "2021-06-05T11:17:39.808074Z",
     "iopub.status.busy": "2021-06-05T11:17:39.807372Z",
     "iopub.status.idle": "2021-06-05T11:17:39.826625Z",
     "shell.execute_reply": "2021-06-05T11:17:39.827133Z",
     "shell.execute_reply.started": "2021-06-05T11:13:08.141820Z"
    },
    "papermill": {
     "duration": 0.137839,
     "end_time": "2021-06-05T11:17:39.827329",
     "exception": false,
     "start_time": "2021-06-05T11:17:39.689490",
     "status": "completed"
    },
    "tags": []
   },
   "outputs": [
    {
     "data": {
      "text/html": [
       "<div>\n",
       "<style scoped>\n",
       "    .dataframe tbody tr th:only-of-type {\n",
       "        vertical-align: middle;\n",
       "    }\n",
       "\n",
       "    .dataframe tbody tr th {\n",
       "        vertical-align: top;\n",
       "    }\n",
       "\n",
       "    .dataframe thead th {\n",
       "        text-align: right;\n",
       "    }\n",
       "</style>\n",
       "<table border=\"1\" class=\"dataframe\">\n",
       "  <thead>\n",
       "    <tr style=\"text-align: right;\">\n",
       "      <th></th>\n",
       "      <th>FareBand</th>\n",
       "      <th>Survived</th>\n",
       "    </tr>\n",
       "  </thead>\n",
       "  <tbody>\n",
       "    <tr>\n",
       "      <th>0</th>\n",
       "      <td>(-0.001, 7.91]</td>\n",
       "      <td>0.197309</td>\n",
       "    </tr>\n",
       "    <tr>\n",
       "      <th>1</th>\n",
       "      <td>(7.91, 14.454]</td>\n",
       "      <td>0.303571</td>\n",
       "    </tr>\n",
       "    <tr>\n",
       "      <th>2</th>\n",
       "      <td>(14.454, 31.0]</td>\n",
       "      <td>0.454955</td>\n",
       "    </tr>\n",
       "    <tr>\n",
       "      <th>3</th>\n",
       "      <td>(31.0, 512.329]</td>\n",
       "      <td>0.581081</td>\n",
       "    </tr>\n",
       "  </tbody>\n",
       "</table>\n",
       "</div>"
      ],
      "text/plain": [
       "          FareBand  Survived\n",
       "0   (-0.001, 7.91]  0.197309\n",
       "1   (7.91, 14.454]  0.303571\n",
       "2   (14.454, 31.0]  0.454955\n",
       "3  (31.0, 512.329]  0.581081"
      ]
     },
     "execution_count": 51,
     "metadata": {},
     "output_type": "execute_result"
    }
   ],
   "source": [
    "train_df['FareBand'] = pd.qcut(train_df['Fare'], 4)\n",
    "train_df[['FareBand', 'Survived']].groupby(['FareBand'], as_index=False).mean().sort_values(by='FareBand', ascending=True)"
   ]
  },
  {
   "cell_type": "code",
   "execution_count": 52,
   "id": "polished-astrology",
   "metadata": {
    "execution": {
     "iopub.execute_input": "2021-06-05T11:17:40.079096Z",
     "iopub.status.busy": "2021-06-05T11:17:40.078141Z",
     "iopub.status.idle": "2021-06-05T11:17:40.081203Z",
     "shell.execute_reply": "2021-06-05T11:17:40.081711Z",
     "shell.execute_reply.started": "2021-06-05T11:13:08.162373Z"
    },
    "papermill": {
     "duration": 0.138826,
     "end_time": "2021-06-05T11:17:40.081891",
     "exception": false,
     "start_time": "2021-06-05T11:17:39.943065",
     "status": "completed"
    },
    "tags": []
   },
   "outputs": [
    {
     "data": {
      "text/html": [
       "<div>\n",
       "<style scoped>\n",
       "    .dataframe tbody tr th:only-of-type {\n",
       "        vertical-align: middle;\n",
       "    }\n",
       "\n",
       "    .dataframe tbody tr th {\n",
       "        vertical-align: top;\n",
       "    }\n",
       "\n",
       "    .dataframe thead th {\n",
       "        text-align: right;\n",
       "    }\n",
       "</style>\n",
       "<table border=\"1\" class=\"dataframe\">\n",
       "  <thead>\n",
       "    <tr style=\"text-align: right;\">\n",
       "      <th></th>\n",
       "      <th>Survived</th>\n",
       "      <th>Pclass</th>\n",
       "      <th>Sex</th>\n",
       "      <th>Age</th>\n",
       "      <th>SibSp</th>\n",
       "      <th>Parch</th>\n",
       "      <th>Fare</th>\n",
       "      <th>Embarked</th>\n",
       "      <th>Title</th>\n",
       "      <th>FareBand</th>\n",
       "    </tr>\n",
       "  </thead>\n",
       "  <tbody>\n",
       "    <tr>\n",
       "      <th>0</th>\n",
       "      <td>0</td>\n",
       "      <td>3</td>\n",
       "      <td>0</td>\n",
       "      <td>1</td>\n",
       "      <td>1</td>\n",
       "      <td>0</td>\n",
       "      <td>0.0</td>\n",
       "      <td>S</td>\n",
       "      <td>1</td>\n",
       "      <td>(-0.001, 7.91]</td>\n",
       "    </tr>\n",
       "    <tr>\n",
       "      <th>1</th>\n",
       "      <td>1</td>\n",
       "      <td>1</td>\n",
       "      <td>1</td>\n",
       "      <td>2</td>\n",
       "      <td>1</td>\n",
       "      <td>0</td>\n",
       "      <td>3.0</td>\n",
       "      <td>C</td>\n",
       "      <td>3</td>\n",
       "      <td>(31.0, 512.329]</td>\n",
       "    </tr>\n",
       "    <tr>\n",
       "      <th>2</th>\n",
       "      <td>1</td>\n",
       "      <td>3</td>\n",
       "      <td>1</td>\n",
       "      <td>1</td>\n",
       "      <td>0</td>\n",
       "      <td>0</td>\n",
       "      <td>1.0</td>\n",
       "      <td>S</td>\n",
       "      <td>2</td>\n",
       "      <td>(7.91, 14.454]</td>\n",
       "    </tr>\n",
       "    <tr>\n",
       "      <th>3</th>\n",
       "      <td>1</td>\n",
       "      <td>1</td>\n",
       "      <td>1</td>\n",
       "      <td>2</td>\n",
       "      <td>1</td>\n",
       "      <td>0</td>\n",
       "      <td>3.0</td>\n",
       "      <td>S</td>\n",
       "      <td>3</td>\n",
       "      <td>(31.0, 512.329]</td>\n",
       "    </tr>\n",
       "    <tr>\n",
       "      <th>4</th>\n",
       "      <td>0</td>\n",
       "      <td>3</td>\n",
       "      <td>0</td>\n",
       "      <td>2</td>\n",
       "      <td>0</td>\n",
       "      <td>0</td>\n",
       "      <td>1.0</td>\n",
       "      <td>S</td>\n",
       "      <td>1</td>\n",
       "      <td>(7.91, 14.454]</td>\n",
       "    </tr>\n",
       "  </tbody>\n",
       "</table>\n",
       "</div>"
      ],
      "text/plain": [
       "   Survived  Pclass  Sex  Age  SibSp  Parch  Fare Embarked  Title  \\\n",
       "0         0       3    0    1      1      0   0.0        S      1   \n",
       "1         1       1    1    2      1      0   3.0        C      3   \n",
       "2         1       3    1    1      0      0   1.0        S      2   \n",
       "3         1       1    1    2      1      0   3.0        S      3   \n",
       "4         0       3    0    2      0      0   1.0        S      1   \n",
       "\n",
       "          FareBand  \n",
       "0   (-0.001, 7.91]  \n",
       "1  (31.0, 512.329]  \n",
       "2   (7.91, 14.454]  \n",
       "3  (31.0, 512.329]  \n",
       "4   (7.91, 14.454]  "
      ]
     },
     "execution_count": 52,
     "metadata": {},
     "output_type": "execute_result"
    }
   ],
   "source": [
    "train_df.loc[ train_df['Fare'] <= 7.91, 'Fare'] = 0\n",
    "train_df.loc[(train_df['Fare'] > 7.91) & (train_df['Fare'] <= 14.454), 'Fare'] = 1\n",
    "train_df.loc[(train_df['Fare'] > 14.454) & (train_df['Fare'] <= 31), 'Fare'] = 2\n",
    "train_df.loc[(train_df['Fare'] > 31), 'Fare'] = 3\n",
    "train_df.head()"
   ]
  },
  {
   "cell_type": "code",
   "execution_count": 53,
   "id": "mineral-presentation",
   "metadata": {
    "execution": {
     "iopub.execute_input": "2021-06-05T11:17:40.317482Z",
     "iopub.status.busy": "2021-06-05T11:17:40.316750Z",
     "iopub.status.idle": "2021-06-05T11:17:40.336475Z",
     "shell.execute_reply": "2021-06-05T11:17:40.335949Z",
     "shell.execute_reply.started": "2021-06-05T11:13:08.183950Z"
    },
    "papermill": {
     "duration": 0.138881,
     "end_time": "2021-06-05T11:17:40.336624",
     "exception": false,
     "start_time": "2021-06-05T11:17:40.197743",
     "status": "completed"
    },
    "tags": []
   },
   "outputs": [
    {
     "data": {
      "text/html": [
       "<div>\n",
       "<style scoped>\n",
       "    .dataframe tbody tr th:only-of-type {\n",
       "        vertical-align: middle;\n",
       "    }\n",
       "\n",
       "    .dataframe tbody tr th {\n",
       "        vertical-align: top;\n",
       "    }\n",
       "\n",
       "    .dataframe thead th {\n",
       "        text-align: right;\n",
       "    }\n",
       "</style>\n",
       "<table border=\"1\" class=\"dataframe\">\n",
       "  <thead>\n",
       "    <tr style=\"text-align: right;\">\n",
       "      <th></th>\n",
       "      <th>PassengerId</th>\n",
       "      <th>Pclass</th>\n",
       "      <th>Sex</th>\n",
       "      <th>Age</th>\n",
       "      <th>SibSp</th>\n",
       "      <th>Parch</th>\n",
       "      <th>Fare</th>\n",
       "      <th>Embarked</th>\n",
       "      <th>Title</th>\n",
       "    </tr>\n",
       "  </thead>\n",
       "  <tbody>\n",
       "    <tr>\n",
       "      <th>0</th>\n",
       "      <td>892</td>\n",
       "      <td>3</td>\n",
       "      <td>0</td>\n",
       "      <td>2</td>\n",
       "      <td>0</td>\n",
       "      <td>0</td>\n",
       "      <td>0.0</td>\n",
       "      <td>Q</td>\n",
       "      <td>1</td>\n",
       "    </tr>\n",
       "    <tr>\n",
       "      <th>1</th>\n",
       "      <td>893</td>\n",
       "      <td>3</td>\n",
       "      <td>1</td>\n",
       "      <td>2</td>\n",
       "      <td>1</td>\n",
       "      <td>0</td>\n",
       "      <td>0.0</td>\n",
       "      <td>S</td>\n",
       "      <td>3</td>\n",
       "    </tr>\n",
       "    <tr>\n",
       "      <th>2</th>\n",
       "      <td>894</td>\n",
       "      <td>2</td>\n",
       "      <td>0</td>\n",
       "      <td>3</td>\n",
       "      <td>0</td>\n",
       "      <td>0</td>\n",
       "      <td>1.0</td>\n",
       "      <td>Q</td>\n",
       "      <td>1</td>\n",
       "    </tr>\n",
       "    <tr>\n",
       "      <th>3</th>\n",
       "      <td>895</td>\n",
       "      <td>3</td>\n",
       "      <td>0</td>\n",
       "      <td>1</td>\n",
       "      <td>0</td>\n",
       "      <td>0</td>\n",
       "      <td>1.0</td>\n",
       "      <td>S</td>\n",
       "      <td>1</td>\n",
       "    </tr>\n",
       "    <tr>\n",
       "      <th>4</th>\n",
       "      <td>896</td>\n",
       "      <td>3</td>\n",
       "      <td>1</td>\n",
       "      <td>1</td>\n",
       "      <td>1</td>\n",
       "      <td>1</td>\n",
       "      <td>1.0</td>\n",
       "      <td>S</td>\n",
       "      <td>3</td>\n",
       "    </tr>\n",
       "  </tbody>\n",
       "</table>\n",
       "</div>"
      ],
      "text/plain": [
       "   PassengerId  Pclass  Sex  Age  SibSp  Parch  Fare Embarked  Title\n",
       "0          892       3    0    2      0      0   0.0        Q      1\n",
       "1          893       3    1    2      1      0   0.0        S      3\n",
       "2          894       2    0    3      0      0   1.0        Q      1\n",
       "3          895       3    0    1      0      0   1.0        S      1\n",
       "4          896       3    1    1      1      1   1.0        S      3"
      ]
     },
     "execution_count": 53,
     "metadata": {},
     "output_type": "execute_result"
    }
   ],
   "source": [
    "test_df.loc[ test_df['Fare'] <= 7.91, 'Fare'] = 0\n",
    "test_df.loc[(test_df['Fare'] > 7.91) & (test_df['Fare'] <= 14.454), 'Fare'] = 1\n",
    "test_df.loc[(test_df['Fare'] > 14.454) & (test_df['Fare'] <= 31), 'Fare'] = 2\n",
    "test_df.loc[(test_df['Fare'] > 31), 'Fare'] = 3\n",
    "test_df.head()"
   ]
  },
  {
   "cell_type": "markdown",
   "id": "tribal-coordination",
   "metadata": {
    "papermill": {
     "duration": 0.115775,
     "end_time": "2021-06-05T11:17:40.569577",
     "exception": false,
     "start_time": "2021-06-05T11:17:40.453802",
     "status": "completed"
    },
    "tags": []
   },
   "source": [
    "Lets remove the FareBand now."
   ]
  },
  {
   "cell_type": "code",
   "execution_count": 54,
   "id": "dominant-arnold",
   "metadata": {
    "execution": {
     "iopub.execute_input": "2021-06-05T11:17:40.823751Z",
     "iopub.status.busy": "2021-06-05T11:17:40.823072Z",
     "iopub.status.idle": "2021-06-05T11:17:40.826669Z",
     "shell.execute_reply": "2021-06-05T11:17:40.827323Z",
     "shell.execute_reply.started": "2021-06-05T11:13:08.203263Z"
    },
    "papermill": {
     "duration": 0.138738,
     "end_time": "2021-06-05T11:17:40.827498",
     "exception": false,
     "start_time": "2021-06-05T11:17:40.688760",
     "status": "completed"
    },
    "tags": []
   },
   "outputs": [
    {
     "data": {
      "text/html": [
       "<div>\n",
       "<style scoped>\n",
       "    .dataframe tbody tr th:only-of-type {\n",
       "        vertical-align: middle;\n",
       "    }\n",
       "\n",
       "    .dataframe tbody tr th {\n",
       "        vertical-align: top;\n",
       "    }\n",
       "\n",
       "    .dataframe thead th {\n",
       "        text-align: right;\n",
       "    }\n",
       "</style>\n",
       "<table border=\"1\" class=\"dataframe\">\n",
       "  <thead>\n",
       "    <tr style=\"text-align: right;\">\n",
       "      <th></th>\n",
       "      <th>Survived</th>\n",
       "      <th>Pclass</th>\n",
       "      <th>Sex</th>\n",
       "      <th>Age</th>\n",
       "      <th>SibSp</th>\n",
       "      <th>Parch</th>\n",
       "      <th>Fare</th>\n",
       "      <th>Embarked</th>\n",
       "      <th>Title</th>\n",
       "    </tr>\n",
       "  </thead>\n",
       "  <tbody>\n",
       "    <tr>\n",
       "      <th>0</th>\n",
       "      <td>0</td>\n",
       "      <td>3</td>\n",
       "      <td>0</td>\n",
       "      <td>1</td>\n",
       "      <td>1</td>\n",
       "      <td>0</td>\n",
       "      <td>0.0</td>\n",
       "      <td>S</td>\n",
       "      <td>1</td>\n",
       "    </tr>\n",
       "    <tr>\n",
       "      <th>1</th>\n",
       "      <td>1</td>\n",
       "      <td>1</td>\n",
       "      <td>1</td>\n",
       "      <td>2</td>\n",
       "      <td>1</td>\n",
       "      <td>0</td>\n",
       "      <td>3.0</td>\n",
       "      <td>C</td>\n",
       "      <td>3</td>\n",
       "    </tr>\n",
       "    <tr>\n",
       "      <th>2</th>\n",
       "      <td>1</td>\n",
       "      <td>3</td>\n",
       "      <td>1</td>\n",
       "      <td>1</td>\n",
       "      <td>0</td>\n",
       "      <td>0</td>\n",
       "      <td>1.0</td>\n",
       "      <td>S</td>\n",
       "      <td>2</td>\n",
       "    </tr>\n",
       "    <tr>\n",
       "      <th>3</th>\n",
       "      <td>1</td>\n",
       "      <td>1</td>\n",
       "      <td>1</td>\n",
       "      <td>2</td>\n",
       "      <td>1</td>\n",
       "      <td>0</td>\n",
       "      <td>3.0</td>\n",
       "      <td>S</td>\n",
       "      <td>3</td>\n",
       "    </tr>\n",
       "    <tr>\n",
       "      <th>4</th>\n",
       "      <td>0</td>\n",
       "      <td>3</td>\n",
       "      <td>0</td>\n",
       "      <td>2</td>\n",
       "      <td>0</td>\n",
       "      <td>0</td>\n",
       "      <td>1.0</td>\n",
       "      <td>S</td>\n",
       "      <td>1</td>\n",
       "    </tr>\n",
       "  </tbody>\n",
       "</table>\n",
       "</div>"
      ],
      "text/plain": [
       "   Survived  Pclass  Sex  Age  SibSp  Parch  Fare Embarked  Title\n",
       "0         0       3    0    1      1      0   0.0        S      1\n",
       "1         1       1    1    2      1      0   3.0        C      3\n",
       "2         1       3    1    1      0      0   1.0        S      2\n",
       "3         1       1    1    2      1      0   3.0        S      3\n",
       "4         0       3    0    2      0      0   1.0        S      1"
      ]
     },
     "execution_count": 54,
     "metadata": {},
     "output_type": "execute_result"
    }
   ],
   "source": [
    "train_df = train_df.drop(['FareBand'], axis=1)\n",
    "train_df.head()"
   ]
  },
  {
   "cell_type": "markdown",
   "id": "intimate-pound",
   "metadata": {
    "papermill": {
     "duration": 0.122023,
     "end_time": "2021-06-05T11:17:41.069334",
     "exception": false,
     "start_time": "2021-06-05T11:17:40.947311",
     "status": "completed"
    },
    "tags": []
   },
   "source": [
    "**Create new feature combining existing features**\n",
    "\n",
    "We can create a new feature for FamilySize which combines Parch and SibSp. This will enable us to drop Parch and SibSp from our datasets."
   ]
  },
  {
   "cell_type": "code",
   "execution_count": 55,
   "id": "advance-estonia",
   "metadata": {
    "execution": {
     "iopub.execute_input": "2021-06-05T11:17:41.308915Z",
     "iopub.status.busy": "2021-06-05T11:17:41.307934Z",
     "iopub.status.idle": "2021-06-05T11:17:41.327990Z",
     "shell.execute_reply": "2021-06-05T11:17:41.328494Z",
     "shell.execute_reply.started": "2021-06-05T11:13:08.220593Z"
    },
    "papermill": {
     "duration": 0.14119,
     "end_time": "2021-06-05T11:17:41.328682",
     "exception": false,
     "start_time": "2021-06-05T11:17:41.187492",
     "status": "completed"
    },
    "tags": []
   },
   "outputs": [
    {
     "data": {
      "text/html": [
       "<div>\n",
       "<style scoped>\n",
       "    .dataframe tbody tr th:only-of-type {\n",
       "        vertical-align: middle;\n",
       "    }\n",
       "\n",
       "    .dataframe tbody tr th {\n",
       "        vertical-align: top;\n",
       "    }\n",
       "\n",
       "    .dataframe thead th {\n",
       "        text-align: right;\n",
       "    }\n",
       "</style>\n",
       "<table border=\"1\" class=\"dataframe\">\n",
       "  <thead>\n",
       "    <tr style=\"text-align: right;\">\n",
       "      <th></th>\n",
       "      <th>FamilySize</th>\n",
       "      <th>Survived</th>\n",
       "    </tr>\n",
       "  </thead>\n",
       "  <tbody>\n",
       "    <tr>\n",
       "      <th>3</th>\n",
       "      <td>4</td>\n",
       "      <td>0.724138</td>\n",
       "    </tr>\n",
       "    <tr>\n",
       "      <th>2</th>\n",
       "      <td>3</td>\n",
       "      <td>0.578431</td>\n",
       "    </tr>\n",
       "    <tr>\n",
       "      <th>1</th>\n",
       "      <td>2</td>\n",
       "      <td>0.552795</td>\n",
       "    </tr>\n",
       "    <tr>\n",
       "      <th>6</th>\n",
       "      <td>7</td>\n",
       "      <td>0.333333</td>\n",
       "    </tr>\n",
       "    <tr>\n",
       "      <th>0</th>\n",
       "      <td>1</td>\n",
       "      <td>0.303538</td>\n",
       "    </tr>\n",
       "    <tr>\n",
       "      <th>4</th>\n",
       "      <td>5</td>\n",
       "      <td>0.200000</td>\n",
       "    </tr>\n",
       "    <tr>\n",
       "      <th>5</th>\n",
       "      <td>6</td>\n",
       "      <td>0.136364</td>\n",
       "    </tr>\n",
       "    <tr>\n",
       "      <th>7</th>\n",
       "      <td>8</td>\n",
       "      <td>0.000000</td>\n",
       "    </tr>\n",
       "    <tr>\n",
       "      <th>8</th>\n",
       "      <td>11</td>\n",
       "      <td>0.000000</td>\n",
       "    </tr>\n",
       "  </tbody>\n",
       "</table>\n",
       "</div>"
      ],
      "text/plain": [
       "   FamilySize  Survived\n",
       "3           4  0.724138\n",
       "2           3  0.578431\n",
       "1           2  0.552795\n",
       "6           7  0.333333\n",
       "0           1  0.303538\n",
       "4           5  0.200000\n",
       "5           6  0.136364\n",
       "7           8  0.000000\n",
       "8          11  0.000000"
      ]
     },
     "execution_count": 55,
     "metadata": {},
     "output_type": "execute_result"
    }
   ],
   "source": [
    "train_df['FamilySize'] = train_df['SibSp'] + train_df['Parch'] + 1\n",
    "test_df['FamilySize'] = test_df['SibSp'] + test_df['Parch'] + 1\n",
    "\n",
    "train_df[['FamilySize', 'Survived']].groupby(['FamilySize'], as_index=False).mean().sort_values(by='Survived', ascending=False)"
   ]
  },
  {
   "cell_type": "markdown",
   "id": "posted-bangkok",
   "metadata": {
    "papermill": {
     "duration": 0.117557,
     "end_time": "2021-06-05T11:17:41.568256",
     "exception": false,
     "start_time": "2021-06-05T11:17:41.450699",
     "status": "completed"
    },
    "tags": []
   },
   "source": [
    "We can create another feature called IsAlone."
   ]
  },
  {
   "cell_type": "code",
   "execution_count": 56,
   "id": "respiratory-minute",
   "metadata": {
    "execution": {
     "iopub.execute_input": "2021-06-05T11:17:41.824993Z",
     "iopub.status.busy": "2021-06-05T11:17:41.823995Z",
     "iopub.status.idle": "2021-06-05T11:17:41.842126Z",
     "shell.execute_reply": "2021-06-05T11:17:41.841411Z",
     "shell.execute_reply.started": "2021-06-05T11:13:08.244523Z"
    },
    "papermill": {
     "duration": 0.145588,
     "end_time": "2021-06-05T11:17:41.842277",
     "exception": false,
     "start_time": "2021-06-05T11:17:41.696689",
     "status": "completed"
    },
    "tags": []
   },
   "outputs": [
    {
     "data": {
      "text/html": [
       "<div>\n",
       "<style scoped>\n",
       "    .dataframe tbody tr th:only-of-type {\n",
       "        vertical-align: middle;\n",
       "    }\n",
       "\n",
       "    .dataframe tbody tr th {\n",
       "        vertical-align: top;\n",
       "    }\n",
       "\n",
       "    .dataframe thead th {\n",
       "        text-align: right;\n",
       "    }\n",
       "</style>\n",
       "<table border=\"1\" class=\"dataframe\">\n",
       "  <thead>\n",
       "    <tr style=\"text-align: right;\">\n",
       "      <th></th>\n",
       "      <th>IsAlone</th>\n",
       "      <th>Survived</th>\n",
       "    </tr>\n",
       "  </thead>\n",
       "  <tbody>\n",
       "    <tr>\n",
       "      <th>0</th>\n",
       "      <td>0</td>\n",
       "      <td>0.505650</td>\n",
       "    </tr>\n",
       "    <tr>\n",
       "      <th>1</th>\n",
       "      <td>1</td>\n",
       "      <td>0.303538</td>\n",
       "    </tr>\n",
       "  </tbody>\n",
       "</table>\n",
       "</div>"
      ],
      "text/plain": [
       "   IsAlone  Survived\n",
       "0        0  0.505650\n",
       "1        1  0.303538"
      ]
     },
     "execution_count": 56,
     "metadata": {},
     "output_type": "execute_result"
    }
   ],
   "source": [
    "train_df['IsAlone'] = 0\n",
    "train_df.loc[train_df['FamilySize'] == 1, 'IsAlone'] = 1\n",
    "\n",
    "train_df[['IsAlone', 'Survived']].groupby(['IsAlone'], as_index=False).mean()"
   ]
  },
  {
   "cell_type": "code",
   "execution_count": 57,
   "id": "possible-assault",
   "metadata": {
    "execution": {
     "iopub.execute_input": "2021-06-05T11:17:42.097897Z",
     "iopub.status.busy": "2021-06-05T11:17:42.096880Z",
     "iopub.status.idle": "2021-06-05T11:17:42.099194Z",
     "shell.execute_reply": "2021-06-05T11:17:42.099651Z",
     "shell.execute_reply.started": "2021-06-05T11:13:08.269505Z"
    },
    "papermill": {
     "duration": 0.132809,
     "end_time": "2021-06-05T11:17:42.099851",
     "exception": false,
     "start_time": "2021-06-05T11:17:41.967042",
     "status": "completed"
    },
    "tags": []
   },
   "outputs": [],
   "source": [
    "test_df['IsAlone'] = 0\n",
    "test_df.loc[test_df['FamilySize'] == 1, 'IsAlone'] = 1"
   ]
  },
  {
   "cell_type": "markdown",
   "id": "after-commonwealth",
   "metadata": {
    "papermill": {
     "duration": 0.123761,
     "end_time": "2021-06-05T11:17:42.344494",
     "exception": false,
     "start_time": "2021-06-05T11:17:42.220733",
     "status": "completed"
    },
    "tags": []
   },
   "source": [
    "Let us drop Parch, SibSp, and FamilySize features in favor of IsAlone."
   ]
  },
  {
   "cell_type": "code",
   "execution_count": 58,
   "id": "entertaining-mission",
   "metadata": {
    "execution": {
     "iopub.execute_input": "2021-06-05T11:17:42.593778Z",
     "iopub.status.busy": "2021-06-05T11:17:42.592586Z",
     "iopub.status.idle": "2021-06-05T11:17:42.609407Z",
     "shell.execute_reply": "2021-06-05T11:17:42.609861Z",
     "shell.execute_reply.started": "2021-06-05T11:13:08.278554Z"
    },
    "papermill": {
     "duration": 0.143352,
     "end_time": "2021-06-05T11:17:42.610046",
     "exception": false,
     "start_time": "2021-06-05T11:17:42.466694",
     "status": "completed"
    },
    "tags": []
   },
   "outputs": [
    {
     "data": {
      "text/html": [
       "<div>\n",
       "<style scoped>\n",
       "    .dataframe tbody tr th:only-of-type {\n",
       "        vertical-align: middle;\n",
       "    }\n",
       "\n",
       "    .dataframe tbody tr th {\n",
       "        vertical-align: top;\n",
       "    }\n",
       "\n",
       "    .dataframe thead th {\n",
       "        text-align: right;\n",
       "    }\n",
       "</style>\n",
       "<table border=\"1\" class=\"dataframe\">\n",
       "  <thead>\n",
       "    <tr style=\"text-align: right;\">\n",
       "      <th></th>\n",
       "      <th>Survived</th>\n",
       "      <th>Pclass</th>\n",
       "      <th>Sex</th>\n",
       "      <th>Age</th>\n",
       "      <th>Fare</th>\n",
       "      <th>Embarked</th>\n",
       "      <th>Title</th>\n",
       "      <th>IsAlone</th>\n",
       "    </tr>\n",
       "  </thead>\n",
       "  <tbody>\n",
       "    <tr>\n",
       "      <th>0</th>\n",
       "      <td>0</td>\n",
       "      <td>3</td>\n",
       "      <td>0</td>\n",
       "      <td>1</td>\n",
       "      <td>0.0</td>\n",
       "      <td>S</td>\n",
       "      <td>1</td>\n",
       "      <td>0</td>\n",
       "    </tr>\n",
       "    <tr>\n",
       "      <th>1</th>\n",
       "      <td>1</td>\n",
       "      <td>1</td>\n",
       "      <td>1</td>\n",
       "      <td>2</td>\n",
       "      <td>3.0</td>\n",
       "      <td>C</td>\n",
       "      <td>3</td>\n",
       "      <td>0</td>\n",
       "    </tr>\n",
       "    <tr>\n",
       "      <th>2</th>\n",
       "      <td>1</td>\n",
       "      <td>3</td>\n",
       "      <td>1</td>\n",
       "      <td>1</td>\n",
       "      <td>1.0</td>\n",
       "      <td>S</td>\n",
       "      <td>2</td>\n",
       "      <td>1</td>\n",
       "    </tr>\n",
       "    <tr>\n",
       "      <th>3</th>\n",
       "      <td>1</td>\n",
       "      <td>1</td>\n",
       "      <td>1</td>\n",
       "      <td>2</td>\n",
       "      <td>3.0</td>\n",
       "      <td>S</td>\n",
       "      <td>3</td>\n",
       "      <td>0</td>\n",
       "    </tr>\n",
       "    <tr>\n",
       "      <th>4</th>\n",
       "      <td>0</td>\n",
       "      <td>3</td>\n",
       "      <td>0</td>\n",
       "      <td>2</td>\n",
       "      <td>1.0</td>\n",
       "      <td>S</td>\n",
       "      <td>1</td>\n",
       "      <td>1</td>\n",
       "    </tr>\n",
       "  </tbody>\n",
       "</table>\n",
       "</div>"
      ],
      "text/plain": [
       "   Survived  Pclass  Sex  Age  Fare Embarked  Title  IsAlone\n",
       "0         0       3    0    1   0.0        S      1        0\n",
       "1         1       1    1    2   3.0        C      3        0\n",
       "2         1       3    1    1   1.0        S      2        1\n",
       "3         1       1    1    2   3.0        S      3        0\n",
       "4         0       3    0    2   1.0        S      1        1"
      ]
     },
     "execution_count": 58,
     "metadata": {},
     "output_type": "execute_result"
    }
   ],
   "source": [
    "train_df = train_df.drop(['Parch', 'SibSp', 'FamilySize'], axis=1)\n",
    "test_df = test_df.drop(['Parch', 'SibSp', 'FamilySize'], axis=1)\n",
    "\n",
    "train_df.head()"
   ]
  },
  {
   "cell_type": "markdown",
   "id": "interior-teens",
   "metadata": {
    "papermill": {
     "duration": 0.121088,
     "end_time": "2021-06-05T11:17:42.851624",
     "exception": false,
     "start_time": "2021-06-05T11:17:42.730536",
     "status": "completed"
    },
    "tags": []
   },
   "source": [
    "**Completing a categorical feature**\n",
    "\n",
    "Embarked feature takes S, Q, C values based on port of embarkation. Our training dataset has two missing values. We simply fill these with the most common occurance."
   ]
  },
  {
   "cell_type": "code",
   "execution_count": 59,
   "id": "adjacent-saturday",
   "metadata": {
    "execution": {
     "iopub.execute_input": "2021-06-05T11:17:43.104673Z",
     "iopub.status.busy": "2021-06-05T11:17:43.103724Z",
     "iopub.status.idle": "2021-06-05T11:17:43.110516Z",
     "shell.execute_reply": "2021-06-05T11:17:43.110967Z",
     "shell.execute_reply.started": "2021-06-05T11:13:08.298664Z"
    },
    "papermill": {
     "duration": 0.132453,
     "end_time": "2021-06-05T11:17:43.111148",
     "exception": false,
     "start_time": "2021-06-05T11:17:42.978695",
     "status": "completed"
    },
    "tags": []
   },
   "outputs": [
    {
     "data": {
      "text/plain": [
       "'S'"
      ]
     },
     "execution_count": 59,
     "metadata": {},
     "output_type": "execute_result"
    }
   ],
   "source": [
    "freq_port = train_df.Embarked.dropna().mode()[0]\n",
    "freq_port"
   ]
  },
  {
   "cell_type": "code",
   "execution_count": 60,
   "id": "realistic-supplier",
   "metadata": {
    "execution": {
     "iopub.execute_input": "2021-06-05T11:17:43.364048Z",
     "iopub.status.busy": "2021-06-05T11:17:43.363036Z",
     "iopub.status.idle": "2021-06-05T11:17:43.381667Z",
     "shell.execute_reply": "2021-06-05T11:17:43.382180Z",
     "shell.execute_reply.started": "2021-06-05T11:13:08.305681Z"
    },
    "papermill": {
     "duration": 0.146255,
     "end_time": "2021-06-05T11:17:43.382367",
     "exception": false,
     "start_time": "2021-06-05T11:17:43.236112",
     "status": "completed"
    },
    "tags": []
   },
   "outputs": [
    {
     "data": {
      "text/html": [
       "<div>\n",
       "<style scoped>\n",
       "    .dataframe tbody tr th:only-of-type {\n",
       "        vertical-align: middle;\n",
       "    }\n",
       "\n",
       "    .dataframe tbody tr th {\n",
       "        vertical-align: top;\n",
       "    }\n",
       "\n",
       "    .dataframe thead th {\n",
       "        text-align: right;\n",
       "    }\n",
       "</style>\n",
       "<table border=\"1\" class=\"dataframe\">\n",
       "  <thead>\n",
       "    <tr style=\"text-align: right;\">\n",
       "      <th></th>\n",
       "      <th>Embarked</th>\n",
       "      <th>Survived</th>\n",
       "    </tr>\n",
       "  </thead>\n",
       "  <tbody>\n",
       "    <tr>\n",
       "      <th>0</th>\n",
       "      <td>C</td>\n",
       "      <td>0.553571</td>\n",
       "    </tr>\n",
       "    <tr>\n",
       "      <th>1</th>\n",
       "      <td>Q</td>\n",
       "      <td>0.389610</td>\n",
       "    </tr>\n",
       "    <tr>\n",
       "      <th>2</th>\n",
       "      <td>S</td>\n",
       "      <td>0.339009</td>\n",
       "    </tr>\n",
       "  </tbody>\n",
       "</table>\n",
       "</div>"
      ],
      "text/plain": [
       "  Embarked  Survived\n",
       "0        C  0.553571\n",
       "1        Q  0.389610\n",
       "2        S  0.339009"
      ]
     },
     "execution_count": 60,
     "metadata": {},
     "output_type": "execute_result"
    }
   ],
   "source": [
    "train_df['Embarked'] = train_df['Embarked'].fillna(freq_port)\n",
    "\n",
    "train_df[['Embarked', 'Survived']].groupby(['Embarked'], as_index=False).mean().sort_values(by='Survived', ascending=False)"
   ]
  },
  {
   "cell_type": "code",
   "execution_count": 61,
   "id": "demographic-involvement",
   "metadata": {
    "execution": {
     "iopub.execute_input": "2021-06-05T11:17:43.628900Z",
     "iopub.status.busy": "2021-06-05T11:17:43.627716Z",
     "iopub.status.idle": "2021-06-05T11:17:43.645005Z",
     "shell.execute_reply": "2021-06-05T11:17:43.645470Z",
     "shell.execute_reply.started": "2021-06-05T11:13:08.327753Z"
    },
    "papermill": {
     "duration": 0.14533,
     "end_time": "2021-06-05T11:17:43.645649",
     "exception": false,
     "start_time": "2021-06-05T11:17:43.500319",
     "status": "completed"
    },
    "tags": []
   },
   "outputs": [
    {
     "data": {
      "text/html": [
       "<div>\n",
       "<style scoped>\n",
       "    .dataframe tbody tr th:only-of-type {\n",
       "        vertical-align: middle;\n",
       "    }\n",
       "\n",
       "    .dataframe tbody tr th {\n",
       "        vertical-align: top;\n",
       "    }\n",
       "\n",
       "    .dataframe thead th {\n",
       "        text-align: right;\n",
       "    }\n",
       "</style>\n",
       "<table border=\"1\" class=\"dataframe\">\n",
       "  <thead>\n",
       "    <tr style=\"text-align: right;\">\n",
       "      <th></th>\n",
       "      <th>Survived</th>\n",
       "      <th>Pclass</th>\n",
       "      <th>Sex</th>\n",
       "      <th>Age</th>\n",
       "      <th>Fare</th>\n",
       "      <th>Embarked</th>\n",
       "      <th>Title</th>\n",
       "      <th>IsAlone</th>\n",
       "    </tr>\n",
       "  </thead>\n",
       "  <tbody>\n",
       "    <tr>\n",
       "      <th>0</th>\n",
       "      <td>0</td>\n",
       "      <td>3</td>\n",
       "      <td>0</td>\n",
       "      <td>1</td>\n",
       "      <td>0.0</td>\n",
       "      <td>0</td>\n",
       "      <td>1</td>\n",
       "      <td>0</td>\n",
       "    </tr>\n",
       "    <tr>\n",
       "      <th>1</th>\n",
       "      <td>1</td>\n",
       "      <td>1</td>\n",
       "      <td>1</td>\n",
       "      <td>2</td>\n",
       "      <td>3.0</td>\n",
       "      <td>1</td>\n",
       "      <td>3</td>\n",
       "      <td>0</td>\n",
       "    </tr>\n",
       "    <tr>\n",
       "      <th>2</th>\n",
       "      <td>1</td>\n",
       "      <td>3</td>\n",
       "      <td>1</td>\n",
       "      <td>1</td>\n",
       "      <td>1.0</td>\n",
       "      <td>0</td>\n",
       "      <td>2</td>\n",
       "      <td>1</td>\n",
       "    </tr>\n",
       "    <tr>\n",
       "      <th>3</th>\n",
       "      <td>1</td>\n",
       "      <td>1</td>\n",
       "      <td>1</td>\n",
       "      <td>2</td>\n",
       "      <td>3.0</td>\n",
       "      <td>0</td>\n",
       "      <td>3</td>\n",
       "      <td>0</td>\n",
       "    </tr>\n",
       "    <tr>\n",
       "      <th>4</th>\n",
       "      <td>0</td>\n",
       "      <td>3</td>\n",
       "      <td>0</td>\n",
       "      <td>2</td>\n",
       "      <td>1.0</td>\n",
       "      <td>0</td>\n",
       "      <td>1</td>\n",
       "      <td>1</td>\n",
       "    </tr>\n",
       "  </tbody>\n",
       "</table>\n",
       "</div>"
      ],
      "text/plain": [
       "   Survived  Pclass  Sex  Age  Fare  Embarked  Title  IsAlone\n",
       "0         0       3    0    1   0.0         0      1        0\n",
       "1         1       1    1    2   3.0         1      3        0\n",
       "2         1       3    1    1   1.0         0      2        1\n",
       "3         1       1    1    2   3.0         0      3        0\n",
       "4         0       3    0    2   1.0         0      1        1"
      ]
     },
     "execution_count": 61,
     "metadata": {},
     "output_type": "execute_result"
    }
   ],
   "source": [
    "train_df['Embarked'] = train_df['Embarked'].map( {'S': 0, 'C': 1, 'Q': 2} ).astype(int)\n",
    "test_df['Embarked'] = test_df['Embarked'].map( {'S': 0, 'C': 1, 'Q': 2} ).astype(int)\n",
    "\n",
    "train_df.head()"
   ]
  },
  {
   "cell_type": "markdown",
   "id": "defensive-genre",
   "metadata": {
    "papermill": {
     "duration": 0.12552,
     "end_time": "2021-06-05T11:17:43.898535",
     "exception": false,
     "start_time": "2021-06-05T11:17:43.773015",
     "status": "completed"
    },
    "tags": []
   },
   "source": [
    "Now, lets see our Training and Testing Data"
   ]
  },
  {
   "cell_type": "code",
   "execution_count": 62,
   "id": "arctic-arbitration",
   "metadata": {
    "execution": {
     "iopub.execute_input": "2021-06-05T11:17:44.148254Z",
     "iopub.status.busy": "2021-06-05T11:17:44.147286Z",
     "iopub.status.idle": "2021-06-05T11:17:44.161564Z",
     "shell.execute_reply": "2021-06-05T11:17:44.162037Z",
     "shell.execute_reply.started": "2021-06-05T11:13:08.348660Z"
    },
    "papermill": {
     "duration": 0.142978,
     "end_time": "2021-06-05T11:17:44.162222",
     "exception": false,
     "start_time": "2021-06-05T11:17:44.019244",
     "status": "completed"
    },
    "tags": []
   },
   "outputs": [
    {
     "data": {
      "text/html": [
       "<div>\n",
       "<style scoped>\n",
       "    .dataframe tbody tr th:only-of-type {\n",
       "        vertical-align: middle;\n",
       "    }\n",
       "\n",
       "    .dataframe tbody tr th {\n",
       "        vertical-align: top;\n",
       "    }\n",
       "\n",
       "    .dataframe thead th {\n",
       "        text-align: right;\n",
       "    }\n",
       "</style>\n",
       "<table border=\"1\" class=\"dataframe\">\n",
       "  <thead>\n",
       "    <tr style=\"text-align: right;\">\n",
       "      <th></th>\n",
       "      <th>Survived</th>\n",
       "      <th>Pclass</th>\n",
       "      <th>Sex</th>\n",
       "      <th>Age</th>\n",
       "      <th>Fare</th>\n",
       "      <th>Embarked</th>\n",
       "      <th>Title</th>\n",
       "      <th>IsAlone</th>\n",
       "    </tr>\n",
       "  </thead>\n",
       "  <tbody>\n",
       "    <tr>\n",
       "      <th>0</th>\n",
       "      <td>0</td>\n",
       "      <td>3</td>\n",
       "      <td>0</td>\n",
       "      <td>1</td>\n",
       "      <td>0.0</td>\n",
       "      <td>0</td>\n",
       "      <td>1</td>\n",
       "      <td>0</td>\n",
       "    </tr>\n",
       "    <tr>\n",
       "      <th>1</th>\n",
       "      <td>1</td>\n",
       "      <td>1</td>\n",
       "      <td>1</td>\n",
       "      <td>2</td>\n",
       "      <td>3.0</td>\n",
       "      <td>1</td>\n",
       "      <td>3</td>\n",
       "      <td>0</td>\n",
       "    </tr>\n",
       "    <tr>\n",
       "      <th>2</th>\n",
       "      <td>1</td>\n",
       "      <td>3</td>\n",
       "      <td>1</td>\n",
       "      <td>1</td>\n",
       "      <td>1.0</td>\n",
       "      <td>0</td>\n",
       "      <td>2</td>\n",
       "      <td>1</td>\n",
       "    </tr>\n",
       "    <tr>\n",
       "      <th>3</th>\n",
       "      <td>1</td>\n",
       "      <td>1</td>\n",
       "      <td>1</td>\n",
       "      <td>2</td>\n",
       "      <td>3.0</td>\n",
       "      <td>0</td>\n",
       "      <td>3</td>\n",
       "      <td>0</td>\n",
       "    </tr>\n",
       "    <tr>\n",
       "      <th>4</th>\n",
       "      <td>0</td>\n",
       "      <td>3</td>\n",
       "      <td>0</td>\n",
       "      <td>2</td>\n",
       "      <td>1.0</td>\n",
       "      <td>0</td>\n",
       "      <td>1</td>\n",
       "      <td>1</td>\n",
       "    </tr>\n",
       "    <tr>\n",
       "      <th>5</th>\n",
       "      <td>0</td>\n",
       "      <td>3</td>\n",
       "      <td>0</td>\n",
       "      <td>1</td>\n",
       "      <td>1.0</td>\n",
       "      <td>2</td>\n",
       "      <td>1</td>\n",
       "      <td>1</td>\n",
       "    </tr>\n",
       "    <tr>\n",
       "      <th>6</th>\n",
       "      <td>0</td>\n",
       "      <td>1</td>\n",
       "      <td>0</td>\n",
       "      <td>3</td>\n",
       "      <td>3.0</td>\n",
       "      <td>0</td>\n",
       "      <td>1</td>\n",
       "      <td>1</td>\n",
       "    </tr>\n",
       "    <tr>\n",
       "      <th>7</th>\n",
       "      <td>0</td>\n",
       "      <td>3</td>\n",
       "      <td>0</td>\n",
       "      <td>0</td>\n",
       "      <td>2.0</td>\n",
       "      <td>0</td>\n",
       "      <td>4</td>\n",
       "      <td>0</td>\n",
       "    </tr>\n",
       "    <tr>\n",
       "      <th>8</th>\n",
       "      <td>1</td>\n",
       "      <td>3</td>\n",
       "      <td>1</td>\n",
       "      <td>1</td>\n",
       "      <td>1.0</td>\n",
       "      <td>0</td>\n",
       "      <td>3</td>\n",
       "      <td>0</td>\n",
       "    </tr>\n",
       "    <tr>\n",
       "      <th>9</th>\n",
       "      <td>1</td>\n",
       "      <td>2</td>\n",
       "      <td>1</td>\n",
       "      <td>0</td>\n",
       "      <td>2.0</td>\n",
       "      <td>1</td>\n",
       "      <td>3</td>\n",
       "      <td>0</td>\n",
       "    </tr>\n",
       "  </tbody>\n",
       "</table>\n",
       "</div>"
      ],
      "text/plain": [
       "   Survived  Pclass  Sex  Age  Fare  Embarked  Title  IsAlone\n",
       "0         0       3    0    1   0.0         0      1        0\n",
       "1         1       1    1    2   3.0         1      3        0\n",
       "2         1       3    1    1   1.0         0      2        1\n",
       "3         1       1    1    2   3.0         0      3        0\n",
       "4         0       3    0    2   1.0         0      1        1\n",
       "5         0       3    0    1   1.0         2      1        1\n",
       "6         0       1    0    3   3.0         0      1        1\n",
       "7         0       3    0    0   2.0         0      4        0\n",
       "8         1       3    1    1   1.0         0      3        0\n",
       "9         1       2    1    0   2.0         1      3        0"
      ]
     },
     "execution_count": 62,
     "metadata": {},
     "output_type": "execute_result"
    }
   ],
   "source": [
    "train_df.head(10)"
   ]
  },
  {
   "cell_type": "code",
   "execution_count": 63,
   "id": "answering-vitamin",
   "metadata": {
    "execution": {
     "iopub.execute_input": "2021-06-05T11:17:44.415287Z",
     "iopub.status.busy": "2021-06-05T11:17:44.414307Z",
     "iopub.status.idle": "2021-06-05T11:17:44.428093Z",
     "shell.execute_reply": "2021-06-05T11:17:44.428586Z",
     "shell.execute_reply.started": "2021-06-05T11:13:08.374209Z"
    },
    "papermill": {
     "duration": 0.144178,
     "end_time": "2021-06-05T11:17:44.428756",
     "exception": false,
     "start_time": "2021-06-05T11:17:44.284578",
     "status": "completed"
    },
    "tags": []
   },
   "outputs": [
    {
     "name": "stdout",
     "output_type": "stream",
     "text": [
      "<class 'pandas.core.frame.DataFrame'>\n",
      "RangeIndex: 891 entries, 0 to 890\n",
      "Data columns (total 8 columns):\n",
      " #   Column    Non-Null Count  Dtype  \n",
      "---  ------    --------------  -----  \n",
      " 0   Survived  891 non-null    int64  \n",
      " 1   Pclass    891 non-null    int64  \n",
      " 2   Sex       891 non-null    int64  \n",
      " 3   Age       891 non-null    int64  \n",
      " 4   Fare      891 non-null    float64\n",
      " 5   Embarked  891 non-null    int64  \n",
      " 6   Title     891 non-null    int64  \n",
      " 7   IsAlone   891 non-null    int64  \n",
      "dtypes: float64(1), int64(7)\n",
      "memory usage: 55.8 KB\n"
     ]
    }
   ],
   "source": [
    "train_df.info()"
   ]
  },
  {
   "cell_type": "code",
   "execution_count": 64,
   "id": "incorporated-payday",
   "metadata": {
    "execution": {
     "iopub.execute_input": "2021-06-05T11:17:44.678921Z",
     "iopub.status.busy": "2021-06-05T11:17:44.677927Z",
     "iopub.status.idle": "2021-06-05T11:17:44.692911Z",
     "shell.execute_reply": "2021-06-05T11:17:44.693480Z",
     "shell.execute_reply.started": "2021-06-05T11:13:08.389409Z"
    },
    "papermill": {
     "duration": 0.142266,
     "end_time": "2021-06-05T11:17:44.693679",
     "exception": false,
     "start_time": "2021-06-05T11:17:44.551413",
     "status": "completed"
    },
    "tags": []
   },
   "outputs": [
    {
     "data": {
      "text/html": [
       "<div>\n",
       "<style scoped>\n",
       "    .dataframe tbody tr th:only-of-type {\n",
       "        vertical-align: middle;\n",
       "    }\n",
       "\n",
       "    .dataframe tbody tr th {\n",
       "        vertical-align: top;\n",
       "    }\n",
       "\n",
       "    .dataframe thead th {\n",
       "        text-align: right;\n",
       "    }\n",
       "</style>\n",
       "<table border=\"1\" class=\"dataframe\">\n",
       "  <thead>\n",
       "    <tr style=\"text-align: right;\">\n",
       "      <th></th>\n",
       "      <th>PassengerId</th>\n",
       "      <th>Pclass</th>\n",
       "      <th>Sex</th>\n",
       "      <th>Age</th>\n",
       "      <th>Fare</th>\n",
       "      <th>Embarked</th>\n",
       "      <th>Title</th>\n",
       "      <th>IsAlone</th>\n",
       "    </tr>\n",
       "  </thead>\n",
       "  <tbody>\n",
       "    <tr>\n",
       "      <th>0</th>\n",
       "      <td>892</td>\n",
       "      <td>3</td>\n",
       "      <td>0</td>\n",
       "      <td>2</td>\n",
       "      <td>0.0</td>\n",
       "      <td>2</td>\n",
       "      <td>1</td>\n",
       "      <td>1</td>\n",
       "    </tr>\n",
       "    <tr>\n",
       "      <th>1</th>\n",
       "      <td>893</td>\n",
       "      <td>3</td>\n",
       "      <td>1</td>\n",
       "      <td>2</td>\n",
       "      <td>0.0</td>\n",
       "      <td>0</td>\n",
       "      <td>3</td>\n",
       "      <td>0</td>\n",
       "    </tr>\n",
       "    <tr>\n",
       "      <th>2</th>\n",
       "      <td>894</td>\n",
       "      <td>2</td>\n",
       "      <td>0</td>\n",
       "      <td>3</td>\n",
       "      <td>1.0</td>\n",
       "      <td>2</td>\n",
       "      <td>1</td>\n",
       "      <td>1</td>\n",
       "    </tr>\n",
       "    <tr>\n",
       "      <th>3</th>\n",
       "      <td>895</td>\n",
       "      <td>3</td>\n",
       "      <td>0</td>\n",
       "      <td>1</td>\n",
       "      <td>1.0</td>\n",
       "      <td>0</td>\n",
       "      <td>1</td>\n",
       "      <td>1</td>\n",
       "    </tr>\n",
       "    <tr>\n",
       "      <th>4</th>\n",
       "      <td>896</td>\n",
       "      <td>3</td>\n",
       "      <td>1</td>\n",
       "      <td>1</td>\n",
       "      <td>1.0</td>\n",
       "      <td>0</td>\n",
       "      <td>3</td>\n",
       "      <td>0</td>\n",
       "    </tr>\n",
       "    <tr>\n",
       "      <th>5</th>\n",
       "      <td>897</td>\n",
       "      <td>3</td>\n",
       "      <td>0</td>\n",
       "      <td>0</td>\n",
       "      <td>1.0</td>\n",
       "      <td>0</td>\n",
       "      <td>1</td>\n",
       "      <td>1</td>\n",
       "    </tr>\n",
       "    <tr>\n",
       "      <th>6</th>\n",
       "      <td>898</td>\n",
       "      <td>3</td>\n",
       "      <td>1</td>\n",
       "      <td>1</td>\n",
       "      <td>0.0</td>\n",
       "      <td>2</td>\n",
       "      <td>2</td>\n",
       "      <td>1</td>\n",
       "    </tr>\n",
       "    <tr>\n",
       "      <th>7</th>\n",
       "      <td>899</td>\n",
       "      <td>2</td>\n",
       "      <td>0</td>\n",
       "      <td>1</td>\n",
       "      <td>2.0</td>\n",
       "      <td>0</td>\n",
       "      <td>1</td>\n",
       "      <td>0</td>\n",
       "    </tr>\n",
       "    <tr>\n",
       "      <th>8</th>\n",
       "      <td>900</td>\n",
       "      <td>3</td>\n",
       "      <td>1</td>\n",
       "      <td>1</td>\n",
       "      <td>0.0</td>\n",
       "      <td>1</td>\n",
       "      <td>3</td>\n",
       "      <td>1</td>\n",
       "    </tr>\n",
       "    <tr>\n",
       "      <th>9</th>\n",
       "      <td>901</td>\n",
       "      <td>3</td>\n",
       "      <td>0</td>\n",
       "      <td>1</td>\n",
       "      <td>2.0</td>\n",
       "      <td>0</td>\n",
       "      <td>1</td>\n",
       "      <td>0</td>\n",
       "    </tr>\n",
       "  </tbody>\n",
       "</table>\n",
       "</div>"
      ],
      "text/plain": [
       "   PassengerId  Pclass  Sex  Age  Fare  Embarked  Title  IsAlone\n",
       "0          892       3    0    2   0.0         2      1        1\n",
       "1          893       3    1    2   0.0         0      3        0\n",
       "2          894       2    0    3   1.0         2      1        1\n",
       "3          895       3    0    1   1.0         0      1        1\n",
       "4          896       3    1    1   1.0         0      3        0\n",
       "5          897       3    0    0   1.0         0      1        1\n",
       "6          898       3    1    1   0.0         2      2        1\n",
       "7          899       2    0    1   2.0         0      1        0\n",
       "8          900       3    1    1   0.0         1      3        1\n",
       "9          901       3    0    1   2.0         0      1        0"
      ]
     },
     "execution_count": 64,
     "metadata": {},
     "output_type": "execute_result"
    }
   ],
   "source": [
    "test_df.head(10)"
   ]
  },
  {
   "cell_type": "code",
   "execution_count": 65,
   "id": "dental-prediction",
   "metadata": {
    "execution": {
     "iopub.execute_input": "2021-06-05T11:17:44.949095Z",
     "iopub.status.busy": "2021-06-05T11:17:44.948391Z",
     "iopub.status.idle": "2021-06-05T11:17:44.961361Z",
     "shell.execute_reply": "2021-06-05T11:17:44.962058Z",
     "shell.execute_reply.started": "2021-06-05T11:13:08.409705Z"
    },
    "papermill": {
     "duration": 0.143557,
     "end_time": "2021-06-05T11:17:44.962301",
     "exception": false,
     "start_time": "2021-06-05T11:17:44.818744",
     "status": "completed"
    },
    "tags": []
   },
   "outputs": [
    {
     "name": "stdout",
     "output_type": "stream",
     "text": [
      "<class 'pandas.core.frame.DataFrame'>\n",
      "RangeIndex: 418 entries, 0 to 417\n",
      "Data columns (total 8 columns):\n",
      " #   Column       Non-Null Count  Dtype  \n",
      "---  ------       --------------  -----  \n",
      " 0   PassengerId  418 non-null    int64  \n",
      " 1   Pclass       418 non-null    int64  \n",
      " 2   Sex          418 non-null    int64  \n",
      " 3   Age          418 non-null    int64  \n",
      " 4   Fare         418 non-null    float64\n",
      " 5   Embarked     418 non-null    int64  \n",
      " 6   Title        418 non-null    int64  \n",
      " 7   IsAlone      418 non-null    int64  \n",
      "dtypes: float64(1), int64(7)\n",
      "memory usage: 26.2 KB\n"
     ]
    }
   ],
   "source": [
    "test_df.info()"
   ]
  },
  {
   "cell_type": "markdown",
   "id": "demanding-financing",
   "metadata": {
    "papermill": {
     "duration": 0.124353,
     "end_time": "2021-06-05T11:17:45.215755",
     "exception": false,
     "start_time": "2021-06-05T11:17:45.091402",
     "status": "completed"
    },
    "tags": []
   },
   "source": [
    "# Model Building"
   ]
  },
  {
   "cell_type": "markdown",
   "id": "mexican-impossible",
   "metadata": {
    "papermill": {
     "duration": 0.125788,
     "end_time": "2021-06-05T11:17:45.464484",
     "exception": false,
     "start_time": "2021-06-05T11:17:45.338696",
     "status": "completed"
    },
    "tags": []
   },
   "source": [
    "Models Used:\n",
    "1. Logistic Regression\n",
    "2. KNN or k-Nearest Neighbors\n",
    "3. Support Vector Machines\n",
    "4. Naive Bayes classifier\n",
    "5. Decision Tree\n",
    "6. Random Forrest\n",
    "7. Perceptron"
   ]
  },
  {
   "cell_type": "markdown",
   "id": "several-realtor",
   "metadata": {
    "papermill": {
     "duration": 0.1237,
     "end_time": "2021-06-05T11:17:45.712172",
     "exception": false,
     "start_time": "2021-06-05T11:17:45.588472",
     "status": "completed"
    },
    "tags": []
   },
   "source": [
    "1. Logistic Regression is a useful model to run early in the workflow. Logistic regression measures the relationship between the categorical dependent variable (feature) and one or more independent variables (features) by estimating probabilities using a logistic function, which is the cumulative logistic distribution. Reference [Wikipedia](https://en.wikipedia.org/wiki/Logistic_regression).\n",
    "\n",
    "2. Support Vector Machines are supervised learning models with associated learning algorithms that analyze data used for classification and regression analysis. Given a set of training samples, each marked as belonging to one or the other of two categories, an SVM training algorithm builds a model that assigns new test samples to one category or the other, making it a non-probabilistic binary linear classifier. Reference [Wikipedia](https://en.wikipedia.org/wiki/Support_vector_machine).\n",
    "\n",
    "3. In pattern recognition, the k-Nearest Neighbors algorithm (or k-NN for short) is a non-parametric method used for classification and regression. A sample is classified by a majority vote of its neighbors, with the sample being assigned to the class most common among its k nearest neighbors (k is a positive integer, typically small). If k = 1, then the object is simply assigned to the class of that single nearest neighbor. Reference [Wikipedia](https://en.wikipedia.org/wiki/K-nearest_neighbors_algorithm).\n",
    "\n",
    "4. In machine learning, naive Bayes classifiers are a family of simple probabilistic classifiers based on applying Bayes' theorem with strong (naive) independence assumptions between the features. Naive Bayes classifiers are highly scalable, requiring a number of parameters linear in the number of variables (features) in a learning problem. Reference [Wikipedia](https://en.wikipedia.org/wiki/Naive_Bayes_classifier).\n",
    "\n",
    "5. The perceptron is an algorithm for supervised learning of binary classifiers (functions that can decide whether an input, represented by a vector of numbers, belongs to some specific class or not). It is a type of linear classifier, i.e. a classification algorithm that makes its predictions based on a linear predictor function combining a set of weights with the feature vector. The algorithm allows for online learning, in that it processes elements in the training set one at a time. Reference [Wikipedia](https://en.wikipedia.org/wiki/Perceptron).\n",
    "\n",
    "6. Decision Tree is a predictive model which maps features (tree branches) to conclusions about the target value (tree leaves). Tree models where the target variable can take a finite set of values are called classification trees; in these tree structures, leaves represent class labels and branches represent conjunctions of features that lead to those class labels. Decision trees where the target variable can take continuous values (typically real numbers) are called regression trees. Reference [Wikipedia](https://en.wikipedia.org/wiki/Decision_tree_learning).\n",
    "\n",
    "7. Random Forests is one of the most popular. Random forests or random decision forests are an ensemble learning method for classification, regression and other tasks, that operate by constructing a multitude of decision trees (n_estimators=100) at training time and outputting the class that is the mode of the classes (classification) or mean prediction (regression) of the individual trees. Reference [Wikipedia](https://en.wikipedia.org/wiki/Random_forest).\n"
   ]
  },
  {
   "cell_type": "code",
   "execution_count": 66,
   "id": "english-values",
   "metadata": {
    "execution": {
     "iopub.execute_input": "2021-06-05T11:17:45.987124Z",
     "iopub.status.busy": "2021-06-05T11:17:45.986113Z",
     "iopub.status.idle": "2021-06-05T11:17:45.997752Z",
     "shell.execute_reply": "2021-06-05T11:17:45.998394Z",
     "shell.execute_reply.started": "2021-06-05T11:13:08.430320Z"
    },
    "papermill": {
     "duration": 0.163331,
     "end_time": "2021-06-05T11:17:45.998593",
     "exception": false,
     "start_time": "2021-06-05T11:17:45.835262",
     "status": "completed"
    },
    "tags": []
   },
   "outputs": [
    {
     "data": {
      "text/plain": [
       "((891, 7), (891,), (418, 7))"
      ]
     },
     "execution_count": 66,
     "metadata": {},
     "output_type": "execute_result"
    }
   ],
   "source": [
    "X_train = train_df.drop(\"Survived\", axis=1)\n",
    "Y_train = train_df[\"Survived\"]\n",
    "X_test  = test_df.drop(\"PassengerId\", axis=1).copy()\n",
    "X_train.shape, Y_train.shape, X_test.shape"
   ]
  },
  {
   "cell_type": "markdown",
   "id": "serial-explorer",
   "metadata": {
    "papermill": {
     "duration": 0.144048,
     "end_time": "2021-06-05T11:17:46.277256",
     "exception": false,
     "start_time": "2021-06-05T11:17:46.133208",
     "status": "completed"
    },
    "tags": []
   },
   "source": [
    "**Logistic Regression**"
   ]
  },
  {
   "cell_type": "code",
   "execution_count": 67,
   "id": "painted-zoning",
   "metadata": {
    "execution": {
     "iopub.execute_input": "2021-06-05T11:17:46.550764Z",
     "iopub.status.busy": "2021-06-05T11:17:46.549742Z",
     "iopub.status.idle": "2021-06-05T11:17:46.577211Z",
     "shell.execute_reply": "2021-06-05T11:17:46.577877Z",
     "shell.execute_reply.started": "2021-06-05T11:13:08.446559Z"
    },
    "papermill": {
     "duration": 0.166776,
     "end_time": "2021-06-05T11:17:46.578071",
     "exception": false,
     "start_time": "2021-06-05T11:17:46.411295",
     "status": "completed"
    },
    "tags": []
   },
   "outputs": [
    {
     "data": {
      "text/plain": [
       "81.37"
      ]
     },
     "execution_count": 67,
     "metadata": {},
     "output_type": "execute_result"
    }
   ],
   "source": [
    "# Logistic Regression\n",
    "\n",
    "logreg = LogisticRegression()\n",
    "logreg.fit(X_train, Y_train)\n",
    "Y_pred = logreg.predict(X_test)\n",
    "acc_log = round(logreg.score(X_train, Y_train) * 100, 2)\n",
    "acc_log"
   ]
  },
  {
   "cell_type": "markdown",
   "id": "signed-world",
   "metadata": {
    "papermill": {
     "duration": 0.129101,
     "end_time": "2021-06-05T11:17:46.839812",
     "exception": false,
     "start_time": "2021-06-05T11:17:46.710711",
     "status": "completed"
    },
    "tags": []
   },
   "source": [
    "**KNN**"
   ]
  },
  {
   "cell_type": "code",
   "execution_count": 68,
   "id": "harmful-timer",
   "metadata": {
    "execution": {
     "iopub.execute_input": "2021-06-05T11:17:47.124284Z",
     "iopub.status.busy": "2021-06-05T11:17:47.123316Z",
     "iopub.status.idle": "2021-06-05T11:17:47.194452Z",
     "shell.execute_reply": "2021-06-05T11:17:47.195021Z",
     "shell.execute_reply.started": "2021-06-05T11:13:08.482028Z"
    },
    "papermill": {
     "duration": 0.21898,
     "end_time": "2021-06-05T11:17:47.195206",
     "exception": false,
     "start_time": "2021-06-05T11:17:46.976226",
     "status": "completed"
    },
    "tags": []
   },
   "outputs": [
    {
     "data": {
      "text/plain": [
       "84.62"
      ]
     },
     "execution_count": 68,
     "metadata": {},
     "output_type": "execute_result"
    }
   ],
   "source": [
    "knn = KNeighborsClassifier(n_neighbors = 3)\n",
    "knn.fit(X_train, Y_train)\n",
    "Y_pred = knn.predict(X_test)\n",
    "acc_knn = round(knn.score(X_train, Y_train) * 100, 2)\n",
    "acc_knn"
   ]
  },
  {
   "cell_type": "markdown",
   "id": "bacterial-uruguay",
   "metadata": {
    "papermill": {
     "duration": 0.123971,
     "end_time": "2021-06-05T11:17:47.445339",
     "exception": false,
     "start_time": "2021-06-05T11:17:47.321368",
     "status": "completed"
    },
    "tags": []
   },
   "source": [
    "**Support Vector Machines (SVM)**"
   ]
  },
  {
   "cell_type": "code",
   "execution_count": 69,
   "id": "flying-photography",
   "metadata": {
    "execution": {
     "iopub.execute_input": "2021-06-05T11:17:47.701606Z",
     "iopub.status.busy": "2021-06-05T11:17:47.700660Z",
     "iopub.status.idle": "2021-06-05T11:17:47.773809Z",
     "shell.execute_reply": "2021-06-05T11:17:47.774258Z",
     "shell.execute_reply.started": "2021-06-05T11:13:08.545176Z"
    },
    "papermill": {
     "duration": 0.202946,
     "end_time": "2021-06-05T11:17:47.774435",
     "exception": false,
     "start_time": "2021-06-05T11:17:47.571489",
     "status": "completed"
    },
    "tags": []
   },
   "outputs": [
    {
     "data": {
      "text/plain": [
       "83.28"
      ]
     },
     "execution_count": 69,
     "metadata": {},
     "output_type": "execute_result"
    }
   ],
   "source": [
    "# Support Vector Machines\n",
    "\n",
    "svc = SVC()\n",
    "svc.fit(X_train, Y_train)\n",
    "Y_pred = svc.predict(X_test)\n",
    "acc_svc = round(svc.score(X_train, Y_train) * 100, 2)\n",
    "acc_svc"
   ]
  },
  {
   "cell_type": "markdown",
   "id": "interior-sunglasses",
   "metadata": {
    "papermill": {
     "duration": 0.122931,
     "end_time": "2021-06-05T11:17:48.020528",
     "exception": false,
     "start_time": "2021-06-05T11:17:47.897597",
     "status": "completed"
    },
    "tags": []
   },
   "source": [
    "**Naive Bayes**"
   ]
  },
  {
   "cell_type": "code",
   "execution_count": 70,
   "id": "silent-rouge",
   "metadata": {
    "execution": {
     "iopub.execute_input": "2021-06-05T11:17:48.272175Z",
     "iopub.status.busy": "2021-06-05T11:17:48.271161Z",
     "iopub.status.idle": "2021-06-05T11:17:48.286051Z",
     "shell.execute_reply": "2021-06-05T11:17:48.286495Z",
     "shell.execute_reply.started": "2021-06-05T11:13:08.614947Z"
    },
    "papermill": {
     "duration": 0.142002,
     "end_time": "2021-06-05T11:17:48.286673",
     "exception": false,
     "start_time": "2021-06-05T11:17:48.144671",
     "status": "completed"
    },
    "tags": []
   },
   "outputs": [
    {
     "data": {
      "text/plain": [
       "77.33"
      ]
     },
     "execution_count": 70,
     "metadata": {},
     "output_type": "execute_result"
    }
   ],
   "source": [
    "# Gaussian Naive Bayes\n",
    "\n",
    "gaussian = GaussianNB()\n",
    "gaussian.fit(X_train, Y_train)\n",
    "Y_pred = gaussian.predict(X_test)\n",
    "acc_gaussian = round(gaussian.score(X_train, Y_train) * 100, 2)\n",
    "acc_gaussian"
   ]
  },
  {
   "cell_type": "markdown",
   "id": "renewable-score",
   "metadata": {
    "papermill": {
     "duration": 0.125203,
     "end_time": "2021-06-05T11:17:48.532970",
     "exception": false,
     "start_time": "2021-06-05T11:17:48.407767",
     "status": "completed"
    },
    "tags": []
   },
   "source": [
    "**Decision Trees**"
   ]
  },
  {
   "cell_type": "code",
   "execution_count": 71,
   "id": "wireless-estimate",
   "metadata": {
    "execution": {
     "iopub.execute_input": "2021-06-05T11:17:48.787351Z",
     "iopub.status.busy": "2021-06-05T11:17:48.786334Z",
     "iopub.status.idle": "2021-06-05T11:17:48.801750Z",
     "shell.execute_reply": "2021-06-05T11:17:48.802230Z",
     "shell.execute_reply.started": "2021-06-05T11:13:08.628239Z"
    },
    "papermill": {
     "duration": 0.14785,
     "end_time": "2021-06-05T11:17:48.802418",
     "exception": false,
     "start_time": "2021-06-05T11:17:48.654568",
     "status": "completed"
    },
    "tags": []
   },
   "outputs": [
    {
     "data": {
      "text/plain": [
       "86.64"
      ]
     },
     "execution_count": 71,
     "metadata": {},
     "output_type": "execute_result"
    }
   ],
   "source": [
    "# Decision Tree\n",
    "\n",
    "decision_tree = DecisionTreeClassifier()\n",
    "decision_tree.fit(X_train, Y_train)\n",
    "Y_pred = decision_tree.predict(X_test)\n",
    "acc_decision_tree = round(decision_tree.score(X_train, Y_train) * 100, 2)\n",
    "acc_decision_tree"
   ]
  },
  {
   "cell_type": "markdown",
   "id": "north-congo",
   "metadata": {
    "papermill": {
     "duration": 0.127296,
     "end_time": "2021-06-05T11:17:49.054689",
     "exception": false,
     "start_time": "2021-06-05T11:17:48.927393",
     "status": "completed"
    },
    "tags": []
   },
   "source": [
    "**Random Forest**"
   ]
  },
  {
   "cell_type": "code",
   "execution_count": 72,
   "id": "improved-experiment",
   "metadata": {
    "execution": {
     "iopub.execute_input": "2021-06-05T11:17:49.310966Z",
     "iopub.status.busy": "2021-06-05T11:17:49.309975Z",
     "iopub.status.idle": "2021-06-05T11:17:49.609022Z",
     "shell.execute_reply": "2021-06-05T11:17:49.609509Z",
     "shell.execute_reply.started": "2021-06-05T11:13:08.643204Z"
    },
    "papermill": {
     "duration": 0.427699,
     "end_time": "2021-06-05T11:17:49.609712",
     "exception": false,
     "start_time": "2021-06-05T11:17:49.182013",
     "status": "completed"
    },
    "tags": []
   },
   "outputs": [
    {
     "data": {
      "text/plain": [
       "86.64"
      ]
     },
     "execution_count": 72,
     "metadata": {},
     "output_type": "execute_result"
    }
   ],
   "source": [
    "# Random Forest\n",
    "\n",
    "random_forest = RandomForestClassifier(n_estimators=100)\n",
    "random_forest.fit(X_train, Y_train)\n",
    "Y_pred = random_forest.predict(X_test)\n",
    "random_forest.score(X_train, Y_train)\n",
    "acc_random_forest = round(random_forest.score(X_train, Y_train) * 100, 2)\n",
    "acc_random_forest"
   ]
  },
  {
   "cell_type": "markdown",
   "id": "arabic-ferry",
   "metadata": {
    "papermill": {
     "duration": 0.128346,
     "end_time": "2021-06-05T11:17:49.866950",
     "exception": false,
     "start_time": "2021-06-05T11:17:49.738604",
     "status": "completed"
    },
    "tags": []
   },
   "source": [
    "**Preceptron**"
   ]
  },
  {
   "cell_type": "code",
   "execution_count": 73,
   "id": "straight-potential",
   "metadata": {
    "execution": {
     "iopub.execute_input": "2021-06-05T11:17:50.129699Z",
     "iopub.status.busy": "2021-06-05T11:17:50.128726Z",
     "iopub.status.idle": "2021-06-05T11:17:50.146742Z",
     "shell.execute_reply": "2021-06-05T11:17:50.147338Z",
     "shell.execute_reply.started": "2021-06-05T11:13:08.859675Z"
    },
    "papermill": {
     "duration": 0.152908,
     "end_time": "2021-06-05T11:17:50.147531",
     "exception": false,
     "start_time": "2021-06-05T11:17:49.994623",
     "status": "completed"
    },
    "tags": []
   },
   "outputs": [
    {
     "data": {
      "text/plain": [
       "78.34"
      ]
     },
     "execution_count": 73,
     "metadata": {},
     "output_type": "execute_result"
    }
   ],
   "source": [
    "# Perceptron\n",
    "\n",
    "perceptron = Perceptron()\n",
    "perceptron.fit(X_train, Y_train)\n",
    "Y_pred = perceptron.predict(X_test)\n",
    "acc_perceptron = round(perceptron.score(X_train, Y_train) * 100, 2)\n",
    "acc_perceptron"
   ]
  },
  {
   "cell_type": "markdown",
   "id": "binary-ceramic",
   "metadata": {
    "papermill": {
     "duration": 0.128714,
     "end_time": "2021-06-05T11:17:50.403969",
     "exception": false,
     "start_time": "2021-06-05T11:17:50.275255",
     "status": "completed"
    },
    "tags": []
   },
   "source": [
    "**Linear SVC**"
   ]
  },
  {
   "cell_type": "code",
   "execution_count": 74,
   "id": "composed-american",
   "metadata": {
    "execution": {
     "iopub.execute_input": "2021-06-05T11:17:50.665572Z",
     "iopub.status.busy": "2021-06-05T11:17:50.664888Z",
     "iopub.status.idle": "2021-06-05T11:17:50.717931Z",
     "shell.execute_reply": "2021-06-05T11:17:50.718424Z",
     "shell.execute_reply.started": "2021-06-05T11:13:08.877538Z"
    },
    "papermill": {
     "duration": 0.185277,
     "end_time": "2021-06-05T11:17:50.718608",
     "exception": false,
     "start_time": "2021-06-05T11:17:50.533331",
     "status": "completed"
    },
    "tags": []
   },
   "outputs": [
    {
     "name": "stderr",
     "output_type": "stream",
     "text": [
      "/opt/conda/lib/python3.7/site-packages/sklearn/svm/_base.py:986: ConvergenceWarning: Liblinear failed to converge, increase the number of iterations.\n",
      "  \"the number of iterations.\", ConvergenceWarning)\n"
     ]
    },
    {
     "data": {
      "text/plain": [
       "80.02"
      ]
     },
     "execution_count": 74,
     "metadata": {},
     "output_type": "execute_result"
    }
   ],
   "source": [
    "# Linear SVC\n",
    "\n",
    "linear_svc = LinearSVC()\n",
    "linear_svc.fit(X_train, Y_train)\n",
    "Y_pred = linear_svc.predict(X_test)\n",
    "acc_linear_svc = round(linear_svc.score(X_train, Y_train) * 100, 2)\n",
    "acc_linear_svc"
   ]
  },
  {
   "cell_type": "markdown",
   "id": "informational-sweet",
   "metadata": {
    "papermill": {
     "duration": 0.129603,
     "end_time": "2021-06-05T11:17:50.977678",
     "exception": false,
     "start_time": "2021-06-05T11:17:50.848075",
     "status": "completed"
    },
    "tags": []
   },
   "source": [
    "**Stochastic Gradient Descent**"
   ]
  },
  {
   "cell_type": "code",
   "execution_count": 75,
   "id": "mighty-zimbabwe",
   "metadata": {
    "execution": {
     "iopub.execute_input": "2021-06-05T11:17:51.254639Z",
     "iopub.status.busy": "2021-06-05T11:17:51.253524Z",
     "iopub.status.idle": "2021-06-05T11:17:51.271729Z",
     "shell.execute_reply": "2021-06-05T11:17:51.271076Z",
     "shell.execute_reply.started": "2021-06-05T11:13:08.932275Z"
    },
    "papermill": {
     "duration": 0.161121,
     "end_time": "2021-06-05T11:17:51.271974",
     "exception": false,
     "start_time": "2021-06-05T11:17:51.110853",
     "status": "completed"
    },
    "tags": []
   },
   "outputs": [
    {
     "data": {
      "text/plain": [
       "76.66"
      ]
     },
     "execution_count": 75,
     "metadata": {},
     "output_type": "execute_result"
    }
   ],
   "source": [
    "# Stochastic Gradient Descent\n",
    "\n",
    "sgd = SGDClassifier()\n",
    "sgd.fit(X_train, Y_train)\n",
    "Y_pred = sgd.predict(X_test)\n",
    "acc_sgd = round(sgd.score(X_train, Y_train) * 100, 2)\n",
    "acc_sgd"
   ]
  },
  {
   "cell_type": "markdown",
   "id": "special-relative",
   "metadata": {
    "papermill": {
     "duration": 0.131565,
     "end_time": "2021-06-05T11:17:51.531262",
     "exception": false,
     "start_time": "2021-06-05T11:17:51.399697",
     "status": "completed"
    },
    "tags": []
   },
   "source": [
    "**Model evaluation**\n",
    "\n",
    "We can now rank our evaluation of all the models to choose the best one for our problem. While both Decision Tree and Random Forest score the same, we choose to use Random Forest as they correct for decision trees' habit of overfitting to their training set."
   ]
  },
  {
   "cell_type": "code",
   "execution_count": 76,
   "id": "super-university",
   "metadata": {
    "execution": {
     "iopub.execute_input": "2021-06-05T11:17:51.808570Z",
     "iopub.status.busy": "2021-06-05T11:17:51.807418Z",
     "iopub.status.idle": "2021-06-05T11:17:51.812401Z",
     "shell.execute_reply": "2021-06-05T11:17:51.811716Z",
     "shell.execute_reply.started": "2021-06-05T11:13:08.951679Z"
    },
    "papermill": {
     "duration": 0.149355,
     "end_time": "2021-06-05T11:17:51.812544",
     "exception": false,
     "start_time": "2021-06-05T11:17:51.663189",
     "status": "completed"
    },
    "tags": []
   },
   "outputs": [
    {
     "data": {
      "text/html": [
       "<div>\n",
       "<style scoped>\n",
       "    .dataframe tbody tr th:only-of-type {\n",
       "        vertical-align: middle;\n",
       "    }\n",
       "\n",
       "    .dataframe tbody tr th {\n",
       "        vertical-align: top;\n",
       "    }\n",
       "\n",
       "    .dataframe thead th {\n",
       "        text-align: right;\n",
       "    }\n",
       "</style>\n",
       "<table border=\"1\" class=\"dataframe\">\n",
       "  <thead>\n",
       "    <tr style=\"text-align: right;\">\n",
       "      <th></th>\n",
       "      <th>Model</th>\n",
       "      <th>Score</th>\n",
       "    </tr>\n",
       "  </thead>\n",
       "  <tbody>\n",
       "    <tr>\n",
       "      <th>3</th>\n",
       "      <td>Random Forest</td>\n",
       "      <td>86.64</td>\n",
       "    </tr>\n",
       "    <tr>\n",
       "      <th>8</th>\n",
       "      <td>Decision Tree</td>\n",
       "      <td>86.64</td>\n",
       "    </tr>\n",
       "    <tr>\n",
       "      <th>1</th>\n",
       "      <td>KNN</td>\n",
       "      <td>84.62</td>\n",
       "    </tr>\n",
       "    <tr>\n",
       "      <th>0</th>\n",
       "      <td>Support Vector Machines</td>\n",
       "      <td>83.28</td>\n",
       "    </tr>\n",
       "    <tr>\n",
       "      <th>2</th>\n",
       "      <td>Logistic Regression</td>\n",
       "      <td>81.37</td>\n",
       "    </tr>\n",
       "    <tr>\n",
       "      <th>7</th>\n",
       "      <td>Linear SVC</td>\n",
       "      <td>80.02</td>\n",
       "    </tr>\n",
       "    <tr>\n",
       "      <th>5</th>\n",
       "      <td>Perceptron</td>\n",
       "      <td>78.34</td>\n",
       "    </tr>\n",
       "    <tr>\n",
       "      <th>4</th>\n",
       "      <td>Naive Bayes</td>\n",
       "      <td>77.33</td>\n",
       "    </tr>\n",
       "    <tr>\n",
       "      <th>6</th>\n",
       "      <td>Stochastic Gradient Decent</td>\n",
       "      <td>76.66</td>\n",
       "    </tr>\n",
       "  </tbody>\n",
       "</table>\n",
       "</div>"
      ],
      "text/plain": [
       "                        Model  Score\n",
       "3               Random Forest  86.64\n",
       "8               Decision Tree  86.64\n",
       "1                         KNN  84.62\n",
       "0     Support Vector Machines  83.28\n",
       "2         Logistic Regression  81.37\n",
       "7                  Linear SVC  80.02\n",
       "5                  Perceptron  78.34\n",
       "4                 Naive Bayes  77.33\n",
       "6  Stochastic Gradient Decent  76.66"
      ]
     },
     "execution_count": 76,
     "metadata": {},
     "output_type": "execute_result"
    }
   ],
   "source": [
    "models = pd.DataFrame({\n",
    "    'Model': ['Support Vector Machines', 'KNN', 'Logistic Regression', \n",
    "              'Random Forest', 'Naive Bayes', 'Perceptron', \n",
    "              'Stochastic Gradient Decent', 'Linear SVC', \n",
    "              'Decision Tree'],\n",
    "    'Score': [acc_svc, acc_knn, acc_log, \n",
    "              acc_random_forest, acc_gaussian, acc_perceptron, \n",
    "              acc_sgd, acc_linear_svc, acc_decision_tree]})\n",
    "models.sort_values(by='Score', ascending=False)"
   ]
  },
  {
   "cell_type": "markdown",
   "id": "recent-journal",
   "metadata": {
    "papermill": {
     "duration": 0.128548,
     "end_time": "2021-06-05T11:17:52.074317",
     "exception": false,
     "start_time": "2021-06-05T11:17:51.945769",
     "status": "completed"
    },
    "tags": []
   },
   "source": [
    "**Submission**"
   ]
  },
  {
   "cell_type": "code",
   "execution_count": 77,
   "id": "successful-hindu",
   "metadata": {
    "execution": {
     "iopub.execute_input": "2021-06-05T11:17:52.349808Z",
     "iopub.status.busy": "2021-06-05T11:17:52.344627Z",
     "iopub.status.idle": "2021-06-05T11:17:52.629607Z",
     "shell.execute_reply": "2021-06-05T11:17:52.629067Z",
     "shell.execute_reply.started": "2021-06-05T11:13:08.966599Z"
    },
    "papermill": {
     "duration": 0.423198,
     "end_time": "2021-06-05T11:17:52.629750",
     "exception": false,
     "start_time": "2021-06-05T11:17:52.206552",
     "status": "completed"
    },
    "tags": []
   },
   "outputs": [
    {
     "data": {
      "text/plain": [
       "86.64"
      ]
     },
     "execution_count": 77,
     "metadata": {},
     "output_type": "execute_result"
    }
   ],
   "source": [
    "# Random Forest\n",
    "\n",
    "random_forest = RandomForestClassifier(n_estimators=100)\n",
    "random_forest.fit(X_train, Y_train)\n",
    "Y_pred = random_forest.predict(X_test)\n",
    "random_forest.score(X_train, Y_train)\n",
    "acc_random_forest = round(random_forest.score(X_train, Y_train) * 100, 2)\n",
    "acc_random_forest"
   ]
  },
  {
   "cell_type": "code",
   "execution_count": 78,
   "id": "imperial-manufacturer",
   "metadata": {
    "execution": {
     "iopub.execute_input": "2021-06-05T11:17:52.897178Z",
     "iopub.status.busy": "2021-06-05T11:17:52.896472Z",
     "iopub.status.idle": "2021-06-05T11:17:52.900147Z",
     "shell.execute_reply": "2021-06-05T11:17:52.899437Z",
     "shell.execute_reply.started": "2021-06-05T11:13:09.192443Z"
    },
    "papermill": {
     "duration": 0.140161,
     "end_time": "2021-06-05T11:17:52.900344",
     "exception": false,
     "start_time": "2021-06-05T11:17:52.760183",
     "status": "completed"
    },
    "tags": []
   },
   "outputs": [],
   "source": [
    "submission = pd.DataFrame({\n",
    "        \"PassengerId\": test_df[\"PassengerId\"],\n",
    "        \"Survived\": Y_pred\n",
    "    })"
   ]
  },
  {
   "cell_type": "code",
   "execution_count": 79,
   "id": "tender-growing",
   "metadata": {
    "execution": {
     "iopub.execute_input": "2021-06-05T11:17:53.164330Z",
     "iopub.status.busy": "2021-06-05T11:17:53.163586Z",
     "iopub.status.idle": "2021-06-05T11:17:53.166634Z",
     "shell.execute_reply": "2021-06-05T11:17:53.166107Z",
     "shell.execute_reply.started": "2021-06-05T11:13:09.199403Z"
    },
    "papermill": {
     "duration": 0.137343,
     "end_time": "2021-06-05T11:17:53.166771",
     "exception": false,
     "start_time": "2021-06-05T11:17:53.029428",
     "status": "completed"
    },
    "tags": []
   },
   "outputs": [],
   "source": [
    "#submission.to_csv('submission.csv', index=False)"
   ]
  },
  {
   "cell_type": "code",
   "execution_count": 80,
   "id": "nearby-windows",
   "metadata": {
    "execution": {
     "iopub.execute_input": "2021-06-05T11:17:53.429752Z",
     "iopub.status.busy": "2021-06-05T11:17:53.429100Z",
     "iopub.status.idle": "2021-06-05T11:17:53.449913Z",
     "shell.execute_reply": "2021-06-05T11:17:53.450385Z",
     "shell.execute_reply.started": "2021-06-05T11:16:25.918162Z"
    },
    "papermill": {
     "duration": 0.156173,
     "end_time": "2021-06-05T11:17:53.450582",
     "exception": false,
     "start_time": "2021-06-05T11:17:53.294409",
     "status": "completed"
    },
    "tags": []
   },
   "outputs": [],
   "source": [
    "train_data = pd.read_csv(\"/kaggle/input/titanic/train.csv\")\n",
    "test_data = pd.read_csv(\"/kaggle/input/titanic/test.csv\")"
   ]
  },
  {
   "cell_type": "code",
   "execution_count": 81,
   "id": "asian-store",
   "metadata": {
    "execution": {
     "iopub.execute_input": "2021-06-05T11:17:53.737843Z",
     "iopub.status.busy": "2021-06-05T11:17:53.728306Z",
     "iopub.status.idle": "2021-06-05T11:17:53.961015Z",
     "shell.execute_reply": "2021-06-05T11:17:53.960295Z",
     "shell.execute_reply.started": "2021-06-05T11:16:30.464802Z"
    },
    "papermill": {
     "duration": 0.381165,
     "end_time": "2021-06-05T11:17:53.961170",
     "exception": false,
     "start_time": "2021-06-05T11:17:53.580005",
     "status": "completed"
    },
    "tags": []
   },
   "outputs": [],
   "source": [
    "from sklearn.ensemble import RandomForestClassifier\n",
    "\n",
    "#data[\"Age\"] = data[\"Age\"].astype(int)\n",
    "#if [\"Age\"]\n",
    "\n",
    "y = train_data[\"Survived\"]\n",
    "\n",
    "features = [\"Pclass\", \"Sex\", \"SibSp\", \"Parch\"]\n",
    "X = pd.get_dummies(train_data[features])\n",
    "X_test = pd.get_dummies(test_data[features])\n",
    "\n",
    "model = RandomForestClassifier(n_estimators=100, max_depth=3, random_state=2)\n",
    "model.fit(X, y)\n",
    "predictions = model.predict(X_test)\n",
    "\n",
    "output = pd.DataFrame({'PassengerId': test_data.PassengerId, 'Survived': predictions})\n",
    "output.to_csv('submission.csv', index=False)"
   ]
  },
  {
   "cell_type": "code",
   "execution_count": 82,
   "id": "approximate-synthesis",
   "metadata": {
    "execution": {
     "iopub.execute_input": "2021-06-05T11:17:54.233842Z",
     "iopub.status.busy": "2021-06-05T11:17:54.233140Z",
     "iopub.status.idle": "2021-06-05T11:17:54.237905Z",
     "shell.execute_reply": "2021-06-05T11:17:54.237336Z",
     "shell.execute_reply.started": "2021-06-05T11:16:43.386241Z"
    },
    "papermill": {
     "duration": 0.142594,
     "end_time": "2021-06-05T11:17:54.238048",
     "exception": false,
     "start_time": "2021-06-05T11:17:54.095454",
     "status": "completed"
    },
    "tags": []
   },
   "outputs": [
    {
     "data": {
      "text/html": [
       "<div>\n",
       "<style scoped>\n",
       "    .dataframe tbody tr th:only-of-type {\n",
       "        vertical-align: middle;\n",
       "    }\n",
       "\n",
       "    .dataframe tbody tr th {\n",
       "        vertical-align: top;\n",
       "    }\n",
       "\n",
       "    .dataframe thead th {\n",
       "        text-align: right;\n",
       "    }\n",
       "</style>\n",
       "<table border=\"1\" class=\"dataframe\">\n",
       "  <thead>\n",
       "    <tr style=\"text-align: right;\">\n",
       "      <th></th>\n",
       "      <th>PassengerId</th>\n",
       "      <th>Survived</th>\n",
       "    </tr>\n",
       "  </thead>\n",
       "  <tbody>\n",
       "    <tr>\n",
       "      <th>0</th>\n",
       "      <td>892</td>\n",
       "      <td>0</td>\n",
       "    </tr>\n",
       "    <tr>\n",
       "      <th>1</th>\n",
       "      <td>893</td>\n",
       "      <td>1</td>\n",
       "    </tr>\n",
       "    <tr>\n",
       "      <th>2</th>\n",
       "      <td>894</td>\n",
       "      <td>0</td>\n",
       "    </tr>\n",
       "    <tr>\n",
       "      <th>3</th>\n",
       "      <td>895</td>\n",
       "      <td>0</td>\n",
       "    </tr>\n",
       "    <tr>\n",
       "      <th>4</th>\n",
       "      <td>896</td>\n",
       "      <td>1</td>\n",
       "    </tr>\n",
       "    <tr>\n",
       "      <th>...</th>\n",
       "      <td>...</td>\n",
       "      <td>...</td>\n",
       "    </tr>\n",
       "    <tr>\n",
       "      <th>413</th>\n",
       "      <td>1305</td>\n",
       "      <td>0</td>\n",
       "    </tr>\n",
       "    <tr>\n",
       "      <th>414</th>\n",
       "      <td>1306</td>\n",
       "      <td>1</td>\n",
       "    </tr>\n",
       "    <tr>\n",
       "      <th>415</th>\n",
       "      <td>1307</td>\n",
       "      <td>0</td>\n",
       "    </tr>\n",
       "    <tr>\n",
       "      <th>416</th>\n",
       "      <td>1308</td>\n",
       "      <td>0</td>\n",
       "    </tr>\n",
       "    <tr>\n",
       "      <th>417</th>\n",
       "      <td>1309</td>\n",
       "      <td>0</td>\n",
       "    </tr>\n",
       "  </tbody>\n",
       "</table>\n",
       "<p>418 rows × 2 columns</p>\n",
       "</div>"
      ],
      "text/plain": [
       "     PassengerId  Survived\n",
       "0            892         0\n",
       "1            893         1\n",
       "2            894         0\n",
       "3            895         0\n",
       "4            896         1\n",
       "..           ...       ...\n",
       "413         1305         0\n",
       "414         1306         1\n",
       "415         1307         0\n",
       "416         1308         0\n",
       "417         1309         0\n",
       "\n",
       "[418 rows x 2 columns]"
      ]
     },
     "execution_count": 82,
     "metadata": {},
     "output_type": "execute_result"
    }
   ],
   "source": [
    "output"
   ]
  },
  {
   "cell_type": "code",
   "execution_count": null,
   "id": "romance-singing",
   "metadata": {
    "papermill": {
     "duration": 0.132119,
     "end_time": "2021-06-05T11:17:54.497833",
     "exception": false,
     "start_time": "2021-06-05T11:17:54.365714",
     "status": "completed"
    },
    "tags": []
   },
   "outputs": [],
   "source": []
  }
 ],
 "metadata": {
  "kernelspec": {
   "display_name": "Python 3",
   "language": "python",
   "name": "python3"
  },
  "language_info": {
   "codemirror_mode": {
    "name": "ipython",
    "version": 3
   },
   "file_extension": ".py",
   "mimetype": "text/x-python",
   "name": "python",
   "nbconvert_exporter": "python",
   "pygments_lexer": "ipython3",
   "version": "3.7.10"
  },
  "papermill": {
   "default_parameters": {},
   "duration": 52.076352,
   "end_time": "2021-06-05T11:17:55.544376",
   "environment_variables": {},
   "exception": null,
   "input_path": "__notebook__.ipynb",
   "output_path": "__notebook__.ipynb",
   "parameters": {},
   "start_time": "2021-06-05T11:17:03.468024",
   "version": "2.3.3"
  }
 },
 "nbformat": 4,
 "nbformat_minor": 5
}
