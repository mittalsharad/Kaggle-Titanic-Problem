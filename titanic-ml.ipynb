{
 "cells": [
  {
   "cell_type": "code",
   "execution_count": 1,
   "id": "pretty-korea",
   "metadata": {
    "_cell_guid": "b1076dfc-b9ad-4769-8c92-a6c4dae69d19",
    "_uuid": "8f2839f25d086af736a60e9eeb907d3b93b6e0e5",
    "execution": {
     "iopub.execute_input": "2021-06-05T08:48:31.901268Z",
     "iopub.status.busy": "2021-06-05T08:48:31.900603Z",
     "iopub.status.idle": "2021-06-05T08:48:31.909905Z",
     "shell.execute_reply": "2021-06-05T08:48:31.910536Z",
     "shell.execute_reply.started": "2021-06-05T07:38:12.520209Z"
    },
    "papermill": {
     "duration": 0.104985,
     "end_time": "2021-06-05T08:48:31.910843",
     "exception": false,
     "start_time": "2021-06-05T08:48:31.805858",
     "status": "completed"
    },
    "tags": []
   },
   "outputs": [
    {
     "name": "stdout",
     "output_type": "stream",
     "text": [
      "/kaggle/input/titanic/train.csv\n",
      "/kaggle/input/titanic/test.csv\n",
      "/kaggle/input/titanic/gender_submission.csv\n"
     ]
    }
   ],
   "source": [
    "# This Python 3 environment comes with many helpful analytics libraries installed\n",
    "# It is defined by the kaggle/python Docker image: https://github.com/kaggle/docker-python\n",
    "# For example, here's several helpful packages to load\n",
    "\n",
    "import numpy as np # linear algebra\n",
    "import pandas as pd # data processing, CSV file I/O (e.g. pd.read_csv)\n",
    "\n",
    "# Input data files are available in the read-only \"../input/\" directory\n",
    "# For example, running this (by clicking run or pressing Shift+Enter) will list all files under the input directory\n",
    "\n",
    "import os\n",
    "for dirname, _, filenames in os.walk('/kaggle/input'):\n",
    "    for filename in filenames:\n",
    "        print(os.path.join(dirname, filename))\n",
    "\n",
    "# You can write up to 20GB to the current directory (/kaggle/working/) that gets preserved as output when you create a version using \"Save & Run All\" \n",
    "# You can also write temporary files to /kaggle/temp/, but they won't be saved outside of the current session"
   ]
  },
  {
   "cell_type": "markdown",
   "id": "guilty-charity",
   "metadata": {
    "papermill": {
     "duration": 0.08763,
     "end_time": "2021-06-05T08:48:32.088257",
     "exception": false,
     "start_time": "2021-06-05T08:48:32.000627",
     "status": "completed"
    },
    "tags": []
   },
   "source": [
    "## Importing Required Libraries"
   ]
  },
  {
   "cell_type": "code",
   "execution_count": 2,
   "id": "rocky-spelling",
   "metadata": {
    "execution": {
     "iopub.execute_input": "2021-06-05T08:48:32.274326Z",
     "iopub.status.busy": "2021-06-05T08:48:32.273699Z",
     "iopub.status.idle": "2021-06-05T08:48:33.592420Z",
     "shell.execute_reply": "2021-06-05T08:48:33.591697Z",
     "shell.execute_reply.started": "2021-06-05T08:16:54.382068Z"
    },
    "papermill": {
     "duration": 1.412512,
     "end_time": "2021-06-05T08:48:33.592561",
     "exception": false,
     "start_time": "2021-06-05T08:48:32.180049",
     "status": "completed"
    },
    "tags": []
   },
   "outputs": [],
   "source": [
    "import pandas as pd\n",
    "import numpy as np\n",
    "import seaborn as sns\n",
    "import matplotlib.pyplot as plt\n",
    "%matplotlib inline\n",
    "\n",
    "\n",
    "# Models\n",
    "from sklearn.linear_model import LogisticRegression\n",
    "from sklearn.svm import SVC, LinearSVC\n",
    "from sklearn.ensemble import RandomForestClassifier\n",
    "from sklearn.neighbors import KNeighborsClassifier\n",
    "from sklearn.naive_bayes import GaussianNB\n",
    "from sklearn.linear_model import Perceptron\n",
    "from sklearn.linear_model import SGDClassifier\n",
    "from sklearn.tree import DecisionTreeClassifier"
   ]
  },
  {
   "cell_type": "markdown",
   "id": "intelligent-coast",
   "metadata": {
    "papermill": {
     "duration": 0.086192,
     "end_time": "2021-06-05T08:48:33.766682",
     "exception": false,
     "start_time": "2021-06-05T08:48:33.680490",
     "status": "completed"
    },
    "tags": []
   },
   "source": [
    "## Loading the Data"
   ]
  },
  {
   "cell_type": "code",
   "execution_count": 3,
   "id": "hearing-terrorist",
   "metadata": {
    "execution": {
     "iopub.execute_input": "2021-06-05T08:48:33.945018Z",
     "iopub.status.busy": "2021-06-05T08:48:33.944362Z",
     "iopub.status.idle": "2021-06-05T08:48:33.971155Z",
     "shell.execute_reply": "2021-06-05T08:48:33.970422Z",
     "shell.execute_reply.started": "2021-06-05T07:38:12.544763Z"
    },
    "papermill": {
     "duration": 0.119236,
     "end_time": "2021-06-05T08:48:33.971335",
     "exception": false,
     "start_time": "2021-06-05T08:48:33.852099",
     "status": "completed"
    },
    "tags": []
   },
   "outputs": [],
   "source": [
    "train_df = pd.read_csv(\"/kaggle/input/titanic/train.csv\")\n",
    "test_df = pd.read_csv(\"/kaggle/input/titanic/test.csv\")"
   ]
  },
  {
   "cell_type": "code",
   "execution_count": 4,
   "id": "atomic-rendering",
   "metadata": {
    "execution": {
     "iopub.execute_input": "2021-06-05T08:48:34.156479Z",
     "iopub.status.busy": "2021-06-05T08:48:34.155580Z",
     "iopub.status.idle": "2021-06-05T08:48:34.176134Z",
     "shell.execute_reply": "2021-06-05T08:48:34.176552Z",
     "shell.execute_reply.started": "2021-06-05T07:38:12.568929Z"
    },
    "papermill": {
     "duration": 0.11952,
     "end_time": "2021-06-05T08:48:34.176709",
     "exception": false,
     "start_time": "2021-06-05T08:48:34.057189",
     "status": "completed"
    },
    "tags": []
   },
   "outputs": [
    {
     "data": {
      "text/html": [
       "<div>\n",
       "<style scoped>\n",
       "    .dataframe tbody tr th:only-of-type {\n",
       "        vertical-align: middle;\n",
       "    }\n",
       "\n",
       "    .dataframe tbody tr th {\n",
       "        vertical-align: top;\n",
       "    }\n",
       "\n",
       "    .dataframe thead th {\n",
       "        text-align: right;\n",
       "    }\n",
       "</style>\n",
       "<table border=\"1\" class=\"dataframe\">\n",
       "  <thead>\n",
       "    <tr style=\"text-align: right;\">\n",
       "      <th></th>\n",
       "      <th>PassengerId</th>\n",
       "      <th>Survived</th>\n",
       "      <th>Pclass</th>\n",
       "      <th>Name</th>\n",
       "      <th>Sex</th>\n",
       "      <th>Age</th>\n",
       "      <th>SibSp</th>\n",
       "      <th>Parch</th>\n",
       "      <th>Ticket</th>\n",
       "      <th>Fare</th>\n",
       "      <th>Cabin</th>\n",
       "      <th>Embarked</th>\n",
       "    </tr>\n",
       "  </thead>\n",
       "  <tbody>\n",
       "    <tr>\n",
       "      <th>0</th>\n",
       "      <td>1</td>\n",
       "      <td>0</td>\n",
       "      <td>3</td>\n",
       "      <td>Braund, Mr. Owen Harris</td>\n",
       "      <td>male</td>\n",
       "      <td>22.0</td>\n",
       "      <td>1</td>\n",
       "      <td>0</td>\n",
       "      <td>A/5 21171</td>\n",
       "      <td>7.2500</td>\n",
       "      <td>NaN</td>\n",
       "      <td>S</td>\n",
       "    </tr>\n",
       "    <tr>\n",
       "      <th>1</th>\n",
       "      <td>2</td>\n",
       "      <td>1</td>\n",
       "      <td>1</td>\n",
       "      <td>Cumings, Mrs. John Bradley (Florence Briggs Th...</td>\n",
       "      <td>female</td>\n",
       "      <td>38.0</td>\n",
       "      <td>1</td>\n",
       "      <td>0</td>\n",
       "      <td>PC 17599</td>\n",
       "      <td>71.2833</td>\n",
       "      <td>C85</td>\n",
       "      <td>C</td>\n",
       "    </tr>\n",
       "    <tr>\n",
       "      <th>2</th>\n",
       "      <td>3</td>\n",
       "      <td>1</td>\n",
       "      <td>3</td>\n",
       "      <td>Heikkinen, Miss. Laina</td>\n",
       "      <td>female</td>\n",
       "      <td>26.0</td>\n",
       "      <td>0</td>\n",
       "      <td>0</td>\n",
       "      <td>STON/O2. 3101282</td>\n",
       "      <td>7.9250</td>\n",
       "      <td>NaN</td>\n",
       "      <td>S</td>\n",
       "    </tr>\n",
       "    <tr>\n",
       "      <th>3</th>\n",
       "      <td>4</td>\n",
       "      <td>1</td>\n",
       "      <td>1</td>\n",
       "      <td>Futrelle, Mrs. Jacques Heath (Lily May Peel)</td>\n",
       "      <td>female</td>\n",
       "      <td>35.0</td>\n",
       "      <td>1</td>\n",
       "      <td>0</td>\n",
       "      <td>113803</td>\n",
       "      <td>53.1000</td>\n",
       "      <td>C123</td>\n",
       "      <td>S</td>\n",
       "    </tr>\n",
       "    <tr>\n",
       "      <th>4</th>\n",
       "      <td>5</td>\n",
       "      <td>0</td>\n",
       "      <td>3</td>\n",
       "      <td>Allen, Mr. William Henry</td>\n",
       "      <td>male</td>\n",
       "      <td>35.0</td>\n",
       "      <td>0</td>\n",
       "      <td>0</td>\n",
       "      <td>373450</td>\n",
       "      <td>8.0500</td>\n",
       "      <td>NaN</td>\n",
       "      <td>S</td>\n",
       "    </tr>\n",
       "  </tbody>\n",
       "</table>\n",
       "</div>"
      ],
      "text/plain": [
       "   PassengerId  Survived  Pclass  \\\n",
       "0            1         0       3   \n",
       "1            2         1       1   \n",
       "2            3         1       3   \n",
       "3            4         1       1   \n",
       "4            5         0       3   \n",
       "\n",
       "                                                Name     Sex   Age  SibSp  \\\n",
       "0                            Braund, Mr. Owen Harris    male  22.0      1   \n",
       "1  Cumings, Mrs. John Bradley (Florence Briggs Th...  female  38.0      1   \n",
       "2                             Heikkinen, Miss. Laina  female  26.0      0   \n",
       "3       Futrelle, Mrs. Jacques Heath (Lily May Peel)  female  35.0      1   \n",
       "4                           Allen, Mr. William Henry    male  35.0      0   \n",
       "\n",
       "   Parch            Ticket     Fare Cabin Embarked  \n",
       "0      0         A/5 21171   7.2500   NaN        S  \n",
       "1      0          PC 17599  71.2833   C85        C  \n",
       "2      0  STON/O2. 3101282   7.9250   NaN        S  \n",
       "3      0            113803  53.1000  C123        S  \n",
       "4      0            373450   8.0500   NaN        S  "
      ]
     },
     "execution_count": 4,
     "metadata": {},
     "output_type": "execute_result"
    }
   ],
   "source": [
    "train_df.head()"
   ]
  },
  {
   "cell_type": "code",
   "execution_count": 5,
   "id": "engaged-forwarding",
   "metadata": {
    "execution": {
     "iopub.execute_input": "2021-06-05T08:48:34.365311Z",
     "iopub.status.busy": "2021-06-05T08:48:34.364676Z",
     "iopub.status.idle": "2021-06-05T08:48:34.369231Z",
     "shell.execute_reply": "2021-06-05T08:48:34.368684Z",
     "shell.execute_reply.started": "2021-06-05T07:38:12.59098Z"
    },
    "papermill": {
     "duration": 0.106198,
     "end_time": "2021-06-05T08:48:34.369355",
     "exception": false,
     "start_time": "2021-06-05T08:48:34.263157",
     "status": "completed"
    },
    "tags": []
   },
   "outputs": [
    {
     "data": {
      "text/html": [
       "<div>\n",
       "<style scoped>\n",
       "    .dataframe tbody tr th:only-of-type {\n",
       "        vertical-align: middle;\n",
       "    }\n",
       "\n",
       "    .dataframe tbody tr th {\n",
       "        vertical-align: top;\n",
       "    }\n",
       "\n",
       "    .dataframe thead th {\n",
       "        text-align: right;\n",
       "    }\n",
       "</style>\n",
       "<table border=\"1\" class=\"dataframe\">\n",
       "  <thead>\n",
       "    <tr style=\"text-align: right;\">\n",
       "      <th></th>\n",
       "      <th>PassengerId</th>\n",
       "      <th>Pclass</th>\n",
       "      <th>Name</th>\n",
       "      <th>Sex</th>\n",
       "      <th>Age</th>\n",
       "      <th>SibSp</th>\n",
       "      <th>Parch</th>\n",
       "      <th>Ticket</th>\n",
       "      <th>Fare</th>\n",
       "      <th>Cabin</th>\n",
       "      <th>Embarked</th>\n",
       "    </tr>\n",
       "  </thead>\n",
       "  <tbody>\n",
       "    <tr>\n",
       "      <th>0</th>\n",
       "      <td>892</td>\n",
       "      <td>3</td>\n",
       "      <td>Kelly, Mr. James</td>\n",
       "      <td>male</td>\n",
       "      <td>34.5</td>\n",
       "      <td>0</td>\n",
       "      <td>0</td>\n",
       "      <td>330911</td>\n",
       "      <td>7.8292</td>\n",
       "      <td>NaN</td>\n",
       "      <td>Q</td>\n",
       "    </tr>\n",
       "    <tr>\n",
       "      <th>1</th>\n",
       "      <td>893</td>\n",
       "      <td>3</td>\n",
       "      <td>Wilkes, Mrs. James (Ellen Needs)</td>\n",
       "      <td>female</td>\n",
       "      <td>47.0</td>\n",
       "      <td>1</td>\n",
       "      <td>0</td>\n",
       "      <td>363272</td>\n",
       "      <td>7.0000</td>\n",
       "      <td>NaN</td>\n",
       "      <td>S</td>\n",
       "    </tr>\n",
       "    <tr>\n",
       "      <th>2</th>\n",
       "      <td>894</td>\n",
       "      <td>2</td>\n",
       "      <td>Myles, Mr. Thomas Francis</td>\n",
       "      <td>male</td>\n",
       "      <td>62.0</td>\n",
       "      <td>0</td>\n",
       "      <td>0</td>\n",
       "      <td>240276</td>\n",
       "      <td>9.6875</td>\n",
       "      <td>NaN</td>\n",
       "      <td>Q</td>\n",
       "    </tr>\n",
       "    <tr>\n",
       "      <th>3</th>\n",
       "      <td>895</td>\n",
       "      <td>3</td>\n",
       "      <td>Wirz, Mr. Albert</td>\n",
       "      <td>male</td>\n",
       "      <td>27.0</td>\n",
       "      <td>0</td>\n",
       "      <td>0</td>\n",
       "      <td>315154</td>\n",
       "      <td>8.6625</td>\n",
       "      <td>NaN</td>\n",
       "      <td>S</td>\n",
       "    </tr>\n",
       "    <tr>\n",
       "      <th>4</th>\n",
       "      <td>896</td>\n",
       "      <td>3</td>\n",
       "      <td>Hirvonen, Mrs. Alexander (Helga E Lindqvist)</td>\n",
       "      <td>female</td>\n",
       "      <td>22.0</td>\n",
       "      <td>1</td>\n",
       "      <td>1</td>\n",
       "      <td>3101298</td>\n",
       "      <td>12.2875</td>\n",
       "      <td>NaN</td>\n",
       "      <td>S</td>\n",
       "    </tr>\n",
       "  </tbody>\n",
       "</table>\n",
       "</div>"
      ],
      "text/plain": [
       "   PassengerId  Pclass                                          Name     Sex  \\\n",
       "0          892       3                              Kelly, Mr. James    male   \n",
       "1          893       3              Wilkes, Mrs. James (Ellen Needs)  female   \n",
       "2          894       2                     Myles, Mr. Thomas Francis    male   \n",
       "3          895       3                              Wirz, Mr. Albert    male   \n",
       "4          896       3  Hirvonen, Mrs. Alexander (Helga E Lindqvist)  female   \n",
       "\n",
       "    Age  SibSp  Parch   Ticket     Fare Cabin Embarked  \n",
       "0  34.5      0      0   330911   7.8292   NaN        Q  \n",
       "1  47.0      1      0   363272   7.0000   NaN        S  \n",
       "2  62.0      0      0   240276   9.6875   NaN        Q  \n",
       "3  27.0      0      0   315154   8.6625   NaN        S  \n",
       "4  22.0      1      1  3101298  12.2875   NaN        S  "
      ]
     },
     "execution_count": 5,
     "metadata": {},
     "output_type": "execute_result"
    }
   ],
   "source": [
    "test_df.head()"
   ]
  },
  {
   "cell_type": "markdown",
   "id": "vulnerable-hughes",
   "metadata": {
    "papermill": {
     "duration": 0.087129,
     "end_time": "2021-06-05T08:48:34.545749",
     "exception": false,
     "start_time": "2021-06-05T08:48:34.458620",
     "status": "completed"
    },
    "tags": []
   },
   "source": [
    "## Data Analysis"
   ]
  },
  {
   "cell_type": "markdown",
   "id": "aging-instrument",
   "metadata": {
    "papermill": {
     "duration": 0.08653,
     "end_time": "2021-06-05T08:48:34.720973",
     "exception": false,
     "start_time": "2021-06-05T08:48:34.634443",
     "status": "completed"
    },
    "tags": []
   },
   "source": [
    "Getting basic info about our dataframes like Column name, Types, count etc"
   ]
  },
  {
   "cell_type": "code",
   "execution_count": 6,
   "id": "promotional-overview",
   "metadata": {
    "execution": {
     "iopub.execute_input": "2021-06-05T08:48:34.902521Z",
     "iopub.status.busy": "2021-06-05T08:48:34.901891Z",
     "iopub.status.idle": "2021-06-05T08:48:34.905269Z",
     "shell.execute_reply": "2021-06-05T08:48:34.905659Z",
     "shell.execute_reply.started": "2021-06-05T07:38:12.618162Z"
    },
    "papermill": {
     "duration": 0.096457,
     "end_time": "2021-06-05T08:48:34.905815",
     "exception": false,
     "start_time": "2021-06-05T08:48:34.809358",
     "status": "completed"
    },
    "tags": []
   },
   "outputs": [
    {
     "name": "stdout",
     "output_type": "stream",
     "text": [
      "Training Data Columns:  Index(['PassengerId', 'Survived', 'Pclass', 'Name', 'Sex', 'Age', 'SibSp',\n",
      "       'Parch', 'Ticket', 'Fare', 'Cabin', 'Embarked'],\n",
      "      dtype='object')\n",
      "Testing Data Columns:  Index(['PassengerId', 'Pclass', 'Name', 'Sex', 'Age', 'SibSp', 'Parch',\n",
      "       'Ticket', 'Fare', 'Cabin', 'Embarked'],\n",
      "      dtype='object')\n"
     ]
    }
   ],
   "source": [
    "# Analysis of Clumns present\n",
    "\n",
    "print(\"Training Data Columns: \",train_df.columns)\n",
    "print(\"Testing Data Columns: \",test_df.columns)"
   ]
  },
  {
   "cell_type": "code",
   "execution_count": 7,
   "id": "conscious-yacht",
   "metadata": {
    "execution": {
     "iopub.execute_input": "2021-06-05T08:48:35.084667Z",
     "iopub.status.busy": "2021-06-05T08:48:35.084149Z",
     "iopub.status.idle": "2021-06-05T08:48:35.104077Z",
     "shell.execute_reply": "2021-06-05T08:48:35.103459Z",
     "shell.execute_reply.started": "2021-06-05T07:38:12.630648Z"
    },
    "papermill": {
     "duration": 0.109517,
     "end_time": "2021-06-05T08:48:35.104233",
     "exception": false,
     "start_time": "2021-06-05T08:48:34.994716",
     "status": "completed"
    },
    "tags": []
   },
   "outputs": [
    {
     "name": "stdout",
     "output_type": "stream",
     "text": [
      "<class 'pandas.core.frame.DataFrame'>\n",
      "RangeIndex: 891 entries, 0 to 890\n",
      "Data columns (total 12 columns):\n",
      " #   Column       Non-Null Count  Dtype  \n",
      "---  ------       --------------  -----  \n",
      " 0   PassengerId  891 non-null    int64  \n",
      " 1   Survived     891 non-null    int64  \n",
      " 2   Pclass       891 non-null    int64  \n",
      " 3   Name         891 non-null    object \n",
      " 4   Sex          891 non-null    object \n",
      " 5   Age          714 non-null    float64\n",
      " 6   SibSp        891 non-null    int64  \n",
      " 7   Parch        891 non-null    int64  \n",
      " 8   Ticket       891 non-null    object \n",
      " 9   Fare         891 non-null    float64\n",
      " 10  Cabin        204 non-null    object \n",
      " 11  Embarked     889 non-null    object \n",
      "dtypes: float64(2), int64(5), object(5)\n",
      "memory usage: 83.7+ KB\n"
     ]
    }
   ],
   "source": [
    "train_df.info()"
   ]
  },
  {
   "cell_type": "code",
   "execution_count": 8,
   "id": "aging-continent",
   "metadata": {
    "execution": {
     "iopub.execute_input": "2021-06-05T08:48:35.286693Z",
     "iopub.status.busy": "2021-06-05T08:48:35.286002Z",
     "iopub.status.idle": "2021-06-05T08:48:35.319486Z",
     "shell.execute_reply": "2021-06-05T08:48:35.318911Z",
     "shell.execute_reply.started": "2021-06-05T07:38:12.65551Z"
    },
    "papermill": {
     "duration": 0.128179,
     "end_time": "2021-06-05T08:48:35.319624",
     "exception": false,
     "start_time": "2021-06-05T08:48:35.191445",
     "status": "completed"
    },
    "tags": []
   },
   "outputs": [
    {
     "data": {
      "text/html": [
       "<div>\n",
       "<style scoped>\n",
       "    .dataframe tbody tr th:only-of-type {\n",
       "        vertical-align: middle;\n",
       "    }\n",
       "\n",
       "    .dataframe tbody tr th {\n",
       "        vertical-align: top;\n",
       "    }\n",
       "\n",
       "    .dataframe thead th {\n",
       "        text-align: right;\n",
       "    }\n",
       "</style>\n",
       "<table border=\"1\" class=\"dataframe\">\n",
       "  <thead>\n",
       "    <tr style=\"text-align: right;\">\n",
       "      <th></th>\n",
       "      <th>Name</th>\n",
       "      <th>Sex</th>\n",
       "      <th>Ticket</th>\n",
       "      <th>Cabin</th>\n",
       "      <th>Embarked</th>\n",
       "    </tr>\n",
       "  </thead>\n",
       "  <tbody>\n",
       "    <tr>\n",
       "      <th>count</th>\n",
       "      <td>891</td>\n",
       "      <td>891</td>\n",
       "      <td>891</td>\n",
       "      <td>204</td>\n",
       "      <td>889</td>\n",
       "    </tr>\n",
       "    <tr>\n",
       "      <th>unique</th>\n",
       "      <td>891</td>\n",
       "      <td>2</td>\n",
       "      <td>681</td>\n",
       "      <td>147</td>\n",
       "      <td>3</td>\n",
       "    </tr>\n",
       "    <tr>\n",
       "      <th>top</th>\n",
       "      <td>Troupiansky, Mr. Moses Aaron</td>\n",
       "      <td>male</td>\n",
       "      <td>CA. 2343</td>\n",
       "      <td>G6</td>\n",
       "      <td>S</td>\n",
       "    </tr>\n",
       "    <tr>\n",
       "      <th>freq</th>\n",
       "      <td>1</td>\n",
       "      <td>577</td>\n",
       "      <td>7</td>\n",
       "      <td>4</td>\n",
       "      <td>644</td>\n",
       "    </tr>\n",
       "  </tbody>\n",
       "</table>\n",
       "</div>"
      ],
      "text/plain": [
       "                                Name   Sex    Ticket Cabin Embarked\n",
       "count                            891   891       891   204      889\n",
       "unique                           891     2       681   147        3\n",
       "top     Troupiansky, Mr. Moses Aaron  male  CA. 2343    G6        S\n",
       "freq                               1   577         7     4      644"
      ]
     },
     "execution_count": 8,
     "metadata": {},
     "output_type": "execute_result"
    }
   ],
   "source": [
    "train_df.describe(include=['O'])"
   ]
  },
  {
   "cell_type": "markdown",
   "id": "encouraging-currency",
   "metadata": {
    "papermill": {
     "duration": 0.104743,
     "end_time": "2021-06-05T08:48:35.520658",
     "exception": false,
     "start_time": "2021-06-05T08:48:35.415915",
     "status": "completed"
    },
    "tags": []
   },
   "source": [
    "### What is the distribution of categorical features?\n",
    "\n",
    "- Names are unique across the dataset (count=unique=891)\n",
    "- Sex variable as two possible values with 65% male (top=male, freq=577/count=891).\n",
    "- Cabin values have several dupicates across samples. Alternatively several passengers shared a cabin.\n",
    "- Embarked takes three possible values. S port used by most passengers (top=S)\n",
    "- Ticket feature has high ratio (22%) of duplicate values (unique=681)."
   ]
  },
  {
   "cell_type": "code",
   "execution_count": 9,
   "id": "double-traffic",
   "metadata": {
    "execution": {
     "iopub.execute_input": "2021-06-05T08:48:35.698239Z",
     "iopub.status.busy": "2021-06-05T08:48:35.697592Z",
     "iopub.status.idle": "2021-06-05T08:48:35.710227Z",
     "shell.execute_reply": "2021-06-05T08:48:35.710733Z",
     "shell.execute_reply.started": "2021-06-05T07:38:12.691427Z"
    },
    "papermill": {
     "duration": 0.102626,
     "end_time": "2021-06-05T08:48:35.710918",
     "exception": false,
     "start_time": "2021-06-05T08:48:35.608292",
     "status": "completed"
    },
    "tags": []
   },
   "outputs": [
    {
     "name": "stdout",
     "output_type": "stream",
     "text": [
      "<class 'pandas.core.frame.DataFrame'>\n",
      "RangeIndex: 418 entries, 0 to 417\n",
      "Data columns (total 11 columns):\n",
      " #   Column       Non-Null Count  Dtype  \n",
      "---  ------       --------------  -----  \n",
      " 0   PassengerId  418 non-null    int64  \n",
      " 1   Pclass       418 non-null    int64  \n",
      " 2   Name         418 non-null    object \n",
      " 3   Sex          418 non-null    object \n",
      " 4   Age          332 non-null    float64\n",
      " 5   SibSp        418 non-null    int64  \n",
      " 6   Parch        418 non-null    int64  \n",
      " 7   Ticket       418 non-null    object \n",
      " 8   Fare         417 non-null    float64\n",
      " 9   Cabin        91 non-null     object \n",
      " 10  Embarked     418 non-null    object \n",
      "dtypes: float64(2), int64(4), object(5)\n",
      "memory usage: 36.0+ KB\n"
     ]
    }
   ],
   "source": [
    "test_df.info()"
   ]
  },
  {
   "cell_type": "code",
   "execution_count": 10,
   "id": "radio-petite",
   "metadata": {
    "execution": {
     "iopub.execute_input": "2021-06-05T08:48:35.892920Z",
     "iopub.status.busy": "2021-06-05T08:48:35.892312Z",
     "iopub.status.idle": "2021-06-05T08:48:35.923945Z",
     "shell.execute_reply": "2021-06-05T08:48:35.924458Z",
     "shell.execute_reply.started": "2021-06-05T07:38:12.713018Z"
    },
    "papermill": {
     "duration": 0.123818,
     "end_time": "2021-06-05T08:48:35.924620",
     "exception": false,
     "start_time": "2021-06-05T08:48:35.800802",
     "status": "completed"
    },
    "tags": []
   },
   "outputs": [
    {
     "data": {
      "text/html": [
       "<div>\n",
       "<style scoped>\n",
       "    .dataframe tbody tr th:only-of-type {\n",
       "        vertical-align: middle;\n",
       "    }\n",
       "\n",
       "    .dataframe tbody tr th {\n",
       "        vertical-align: top;\n",
       "    }\n",
       "\n",
       "    .dataframe thead th {\n",
       "        text-align: right;\n",
       "    }\n",
       "</style>\n",
       "<table border=\"1\" class=\"dataframe\">\n",
       "  <thead>\n",
       "    <tr style=\"text-align: right;\">\n",
       "      <th></th>\n",
       "      <th>PassengerId</th>\n",
       "      <th>Survived</th>\n",
       "      <th>Pclass</th>\n",
       "      <th>Age</th>\n",
       "      <th>SibSp</th>\n",
       "      <th>Parch</th>\n",
       "      <th>Fare</th>\n",
       "    </tr>\n",
       "  </thead>\n",
       "  <tbody>\n",
       "    <tr>\n",
       "      <th>count</th>\n",
       "      <td>891.000000</td>\n",
       "      <td>891.000000</td>\n",
       "      <td>891.000000</td>\n",
       "      <td>714.000000</td>\n",
       "      <td>891.000000</td>\n",
       "      <td>891.000000</td>\n",
       "      <td>891.000000</td>\n",
       "    </tr>\n",
       "    <tr>\n",
       "      <th>mean</th>\n",
       "      <td>446.000000</td>\n",
       "      <td>0.383838</td>\n",
       "      <td>2.308642</td>\n",
       "      <td>29.699118</td>\n",
       "      <td>0.523008</td>\n",
       "      <td>0.381594</td>\n",
       "      <td>32.204208</td>\n",
       "    </tr>\n",
       "    <tr>\n",
       "      <th>std</th>\n",
       "      <td>257.353842</td>\n",
       "      <td>0.486592</td>\n",
       "      <td>0.836071</td>\n",
       "      <td>14.526497</td>\n",
       "      <td>1.102743</td>\n",
       "      <td>0.806057</td>\n",
       "      <td>49.693429</td>\n",
       "    </tr>\n",
       "    <tr>\n",
       "      <th>min</th>\n",
       "      <td>1.000000</td>\n",
       "      <td>0.000000</td>\n",
       "      <td>1.000000</td>\n",
       "      <td>0.420000</td>\n",
       "      <td>0.000000</td>\n",
       "      <td>0.000000</td>\n",
       "      <td>0.000000</td>\n",
       "    </tr>\n",
       "    <tr>\n",
       "      <th>25%</th>\n",
       "      <td>223.500000</td>\n",
       "      <td>0.000000</td>\n",
       "      <td>2.000000</td>\n",
       "      <td>20.125000</td>\n",
       "      <td>0.000000</td>\n",
       "      <td>0.000000</td>\n",
       "      <td>7.910400</td>\n",
       "    </tr>\n",
       "    <tr>\n",
       "      <th>50%</th>\n",
       "      <td>446.000000</td>\n",
       "      <td>0.000000</td>\n",
       "      <td>3.000000</td>\n",
       "      <td>28.000000</td>\n",
       "      <td>0.000000</td>\n",
       "      <td>0.000000</td>\n",
       "      <td>14.454200</td>\n",
       "    </tr>\n",
       "    <tr>\n",
       "      <th>75%</th>\n",
       "      <td>668.500000</td>\n",
       "      <td>1.000000</td>\n",
       "      <td>3.000000</td>\n",
       "      <td>38.000000</td>\n",
       "      <td>1.000000</td>\n",
       "      <td>0.000000</td>\n",
       "      <td>31.000000</td>\n",
       "    </tr>\n",
       "    <tr>\n",
       "      <th>max</th>\n",
       "      <td>891.000000</td>\n",
       "      <td>1.000000</td>\n",
       "      <td>3.000000</td>\n",
       "      <td>80.000000</td>\n",
       "      <td>8.000000</td>\n",
       "      <td>6.000000</td>\n",
       "      <td>512.329200</td>\n",
       "    </tr>\n",
       "  </tbody>\n",
       "</table>\n",
       "</div>"
      ],
      "text/plain": [
       "       PassengerId    Survived      Pclass         Age       SibSp  \\\n",
       "count   891.000000  891.000000  891.000000  714.000000  891.000000   \n",
       "mean    446.000000    0.383838    2.308642   29.699118    0.523008   \n",
       "std     257.353842    0.486592    0.836071   14.526497    1.102743   \n",
       "min       1.000000    0.000000    1.000000    0.420000    0.000000   \n",
       "25%     223.500000    0.000000    2.000000   20.125000    0.000000   \n",
       "50%     446.000000    0.000000    3.000000   28.000000    0.000000   \n",
       "75%     668.500000    1.000000    3.000000   38.000000    1.000000   \n",
       "max     891.000000    1.000000    3.000000   80.000000    8.000000   \n",
       "\n",
       "            Parch        Fare  \n",
       "count  891.000000  891.000000  \n",
       "mean     0.381594   32.204208  \n",
       "std      0.806057   49.693429  \n",
       "min      0.000000    0.000000  \n",
       "25%      0.000000    7.910400  \n",
       "50%      0.000000   14.454200  \n",
       "75%      0.000000   31.000000  \n",
       "max      6.000000  512.329200  "
      ]
     },
     "execution_count": 10,
     "metadata": {},
     "output_type": "execute_result"
    }
   ],
   "source": [
    "train_df.describe()"
   ]
  },
  {
   "cell_type": "code",
   "execution_count": 11,
   "id": "exclusive-mount",
   "metadata": {
    "execution": {
     "iopub.execute_input": "2021-06-05T08:48:36.110302Z",
     "iopub.status.busy": "2021-06-05T08:48:36.109412Z",
     "iopub.status.idle": "2021-06-05T08:48:36.135790Z",
     "shell.execute_reply": "2021-06-05T08:48:36.136234Z",
     "shell.execute_reply.started": "2021-06-05T07:38:12.753872Z"
    },
    "papermill": {
     "duration": 0.121239,
     "end_time": "2021-06-05T08:48:36.136399",
     "exception": false,
     "start_time": "2021-06-05T08:48:36.015160",
     "status": "completed"
    },
    "tags": []
   },
   "outputs": [
    {
     "data": {
      "text/html": [
       "<div>\n",
       "<style scoped>\n",
       "    .dataframe tbody tr th:only-of-type {\n",
       "        vertical-align: middle;\n",
       "    }\n",
       "\n",
       "    .dataframe tbody tr th {\n",
       "        vertical-align: top;\n",
       "    }\n",
       "\n",
       "    .dataframe thead th {\n",
       "        text-align: right;\n",
       "    }\n",
       "</style>\n",
       "<table border=\"1\" class=\"dataframe\">\n",
       "  <thead>\n",
       "    <tr style=\"text-align: right;\">\n",
       "      <th></th>\n",
       "      <th>PassengerId</th>\n",
       "      <th>Pclass</th>\n",
       "      <th>Age</th>\n",
       "      <th>SibSp</th>\n",
       "      <th>Parch</th>\n",
       "      <th>Fare</th>\n",
       "    </tr>\n",
       "  </thead>\n",
       "  <tbody>\n",
       "    <tr>\n",
       "      <th>count</th>\n",
       "      <td>418.000000</td>\n",
       "      <td>418.000000</td>\n",
       "      <td>332.000000</td>\n",
       "      <td>418.000000</td>\n",
       "      <td>418.000000</td>\n",
       "      <td>417.000000</td>\n",
       "    </tr>\n",
       "    <tr>\n",
       "      <th>mean</th>\n",
       "      <td>1100.500000</td>\n",
       "      <td>2.265550</td>\n",
       "      <td>30.272590</td>\n",
       "      <td>0.447368</td>\n",
       "      <td>0.392344</td>\n",
       "      <td>35.627188</td>\n",
       "    </tr>\n",
       "    <tr>\n",
       "      <th>std</th>\n",
       "      <td>120.810458</td>\n",
       "      <td>0.841838</td>\n",
       "      <td>14.181209</td>\n",
       "      <td>0.896760</td>\n",
       "      <td>0.981429</td>\n",
       "      <td>55.907576</td>\n",
       "    </tr>\n",
       "    <tr>\n",
       "      <th>min</th>\n",
       "      <td>892.000000</td>\n",
       "      <td>1.000000</td>\n",
       "      <td>0.170000</td>\n",
       "      <td>0.000000</td>\n",
       "      <td>0.000000</td>\n",
       "      <td>0.000000</td>\n",
       "    </tr>\n",
       "    <tr>\n",
       "      <th>25%</th>\n",
       "      <td>996.250000</td>\n",
       "      <td>1.000000</td>\n",
       "      <td>21.000000</td>\n",
       "      <td>0.000000</td>\n",
       "      <td>0.000000</td>\n",
       "      <td>7.895800</td>\n",
       "    </tr>\n",
       "    <tr>\n",
       "      <th>50%</th>\n",
       "      <td>1100.500000</td>\n",
       "      <td>3.000000</td>\n",
       "      <td>27.000000</td>\n",
       "      <td>0.000000</td>\n",
       "      <td>0.000000</td>\n",
       "      <td>14.454200</td>\n",
       "    </tr>\n",
       "    <tr>\n",
       "      <th>75%</th>\n",
       "      <td>1204.750000</td>\n",
       "      <td>3.000000</td>\n",
       "      <td>39.000000</td>\n",
       "      <td>1.000000</td>\n",
       "      <td>0.000000</td>\n",
       "      <td>31.500000</td>\n",
       "    </tr>\n",
       "    <tr>\n",
       "      <th>max</th>\n",
       "      <td>1309.000000</td>\n",
       "      <td>3.000000</td>\n",
       "      <td>76.000000</td>\n",
       "      <td>8.000000</td>\n",
       "      <td>9.000000</td>\n",
       "      <td>512.329200</td>\n",
       "    </tr>\n",
       "  </tbody>\n",
       "</table>\n",
       "</div>"
      ],
      "text/plain": [
       "       PassengerId      Pclass         Age       SibSp       Parch        Fare\n",
       "count   418.000000  418.000000  332.000000  418.000000  418.000000  417.000000\n",
       "mean   1100.500000    2.265550   30.272590    0.447368    0.392344   35.627188\n",
       "std     120.810458    0.841838   14.181209    0.896760    0.981429   55.907576\n",
       "min     892.000000    1.000000    0.170000    0.000000    0.000000    0.000000\n",
       "25%     996.250000    1.000000   21.000000    0.000000    0.000000    7.895800\n",
       "50%    1100.500000    3.000000   27.000000    0.000000    0.000000   14.454200\n",
       "75%    1204.750000    3.000000   39.000000    1.000000    0.000000   31.500000\n",
       "max    1309.000000    3.000000   76.000000    8.000000    9.000000  512.329200"
      ]
     },
     "execution_count": 11,
     "metadata": {},
     "output_type": "execute_result"
    }
   ],
   "source": [
    "test_df.describe()"
   ]
  },
  {
   "cell_type": "markdown",
   "id": "transparent-teach",
   "metadata": {
    "execution": {
     "iopub.execute_input": "2021-06-05T04:58:01.306009Z",
     "iopub.status.busy": "2021-06-05T04:58:01.305499Z",
     "iopub.status.idle": "2021-06-05T04:58:01.318831Z",
     "shell.execute_reply": "2021-06-05T04:58:01.317743Z",
     "shell.execute_reply.started": "2021-06-05T04:58:01.305973Z"
    },
    "papermill": {
     "duration": 0.090447,
     "end_time": "2021-06-05T08:48:36.316613",
     "exception": false,
     "start_time": "2021-06-05T08:48:36.226166",
     "status": "completed"
    },
    "tags": []
   },
   "source": [
    "## Assumtions based on data analysis\n",
    "We arrive at following assumptions based on data analysis done so far. We may validate these assumptions further before taking appropriate actions.\n",
    "\n",
    "### Correlating.\n",
    "     \n",
    "    We want to know how well does each feature correlate with Survival. We want to do this early in our project and match these quick correlations with modelled correlations later in the project.\n",
    "\n",
    "### Completing.\n",
    "\n",
    "- We may want to complete Age feature as it is definitely correlated to survival.\n",
    "- We may want to complete the Embarked feature as it may also correlate with survival or another important feature.\n",
    "\n",
    "### Correcting.\n",
    "\n",
    "- Ticket feature may be dropped from our analysis as it contains high ratio of duplicates (22%) and there may not be a correlation between Ticket and survival.\n",
    "- Cabin feature may be dropped as it is highly incomplete or contains many null values both in training and test dataset.\n",
    "- PassengerId may be dropped from training dataset as it does not contribute to survival.\n",
    "- Name feature is relatively non-standard, may not contribute directly to survival, so maybe dropped.\n",
    "\n",
    "### Creating.\n",
    "\n",
    "- We may want to create a new feature called Family based on Parch and SibSp to get total count of family members on board.\n",
    "- We may want to engineer the Name feature to extract Title as a new feature.\n",
    "- We may want to create new feature for Age bands. This turns a continous numerical feature into an ordinal categorical feature.\n",
    "- We may also want to create a Fare range feature if it helps our analysis.\n",
    "\n",
    "### Classifying.\n",
    "\n",
    "We may also add to our assumptions based on the problem description noted earlier.\n",
    "\n",
    "- Women (Sex=female) were more likely to have survived.\n",
    "- Children (Age<?) were more likely to have survived.\n",
    "- The upper-class passengers (Pclass=1) were more likely to have survived"
   ]
  },
  {
   "cell_type": "markdown",
   "id": "numeric-objective",
   "metadata": {
    "papermill": {
     "duration": 0.090618,
     "end_time": "2021-06-05T08:48:36.496726",
     "exception": false,
     "start_time": "2021-06-05T08:48:36.406108",
     "status": "completed"
    },
    "tags": []
   },
   "source": [
    "### We will quickly verify some of our assumptions by Pivoting features against Survival class."
   ]
  },
  {
   "cell_type": "code",
   "execution_count": 12,
   "id": "shaped-moral",
   "metadata": {
    "execution": {
     "iopub.execute_input": "2021-06-05T08:48:36.676415Z",
     "iopub.status.busy": "2021-06-05T08:48:36.675505Z",
     "iopub.status.idle": "2021-06-05T08:48:36.688153Z",
     "shell.execute_reply": "2021-06-05T08:48:36.688597Z",
     "shell.execute_reply.started": "2021-06-05T07:38:12.791049Z"
    },
    "papermill": {
     "duration": 0.103173,
     "end_time": "2021-06-05T08:48:36.688787",
     "exception": false,
     "start_time": "2021-06-05T08:48:36.585614",
     "status": "completed"
    },
    "tags": []
   },
   "outputs": [
    {
     "data": {
      "text/html": [
       "<div>\n",
       "<style scoped>\n",
       "    .dataframe tbody tr th:only-of-type {\n",
       "        vertical-align: middle;\n",
       "    }\n",
       "\n",
       "    .dataframe tbody tr th {\n",
       "        vertical-align: top;\n",
       "    }\n",
       "\n",
       "    .dataframe thead th {\n",
       "        text-align: right;\n",
       "    }\n",
       "</style>\n",
       "<table border=\"1\" class=\"dataframe\">\n",
       "  <thead>\n",
       "    <tr style=\"text-align: right;\">\n",
       "      <th></th>\n",
       "      <th>Sex</th>\n",
       "      <th>Survived</th>\n",
       "    </tr>\n",
       "  </thead>\n",
       "  <tbody>\n",
       "    <tr>\n",
       "      <th>0</th>\n",
       "      <td>female</td>\n",
       "      <td>0.742038</td>\n",
       "    </tr>\n",
       "    <tr>\n",
       "      <th>1</th>\n",
       "      <td>male</td>\n",
       "      <td>0.188908</td>\n",
       "    </tr>\n",
       "  </tbody>\n",
       "</table>\n",
       "</div>"
      ],
      "text/plain": [
       "      Sex  Survived\n",
       "0  female  0.742038\n",
       "1    male  0.188908"
      ]
     },
     "execution_count": 12,
     "metadata": {},
     "output_type": "execute_result"
    }
   ],
   "source": [
    "# Sex against Survival\n",
    "\n",
    "train_df[[\"Sex\", \"Survived\"]].groupby(['Sex'], as_index=False).mean().sort_values(by='Survived', ascending=False)\n"
   ]
  },
  {
   "cell_type": "markdown",
   "id": "surprised-emperor",
   "metadata": {
    "papermill": {
     "duration": 0.08984,
     "end_time": "2021-06-05T08:48:36.869526",
     "exception": false,
     "start_time": "2021-06-05T08:48:36.779686",
     "status": "completed"
    },
    "tags": []
   },
   "source": [
    "This implies that Women survived most"
   ]
  },
  {
   "cell_type": "code",
   "execution_count": 13,
   "id": "strange-passage",
   "metadata": {
    "execution": {
     "iopub.execute_input": "2021-06-05T08:48:37.057584Z",
     "iopub.status.busy": "2021-06-05T08:48:37.056942Z",
     "iopub.status.idle": "2021-06-05T08:48:37.071914Z",
     "shell.execute_reply": "2021-06-05T08:48:37.071297Z",
     "shell.execute_reply.started": "2021-06-05T07:38:12.814389Z"
    },
    "papermill": {
     "duration": 0.109012,
     "end_time": "2021-06-05T08:48:37.072045",
     "exception": false,
     "start_time": "2021-06-05T08:48:36.963033",
     "status": "completed"
    },
    "tags": []
   },
   "outputs": [
    {
     "data": {
      "text/html": [
       "<div>\n",
       "<style scoped>\n",
       "    .dataframe tbody tr th:only-of-type {\n",
       "        vertical-align: middle;\n",
       "    }\n",
       "\n",
       "    .dataframe tbody tr th {\n",
       "        vertical-align: top;\n",
       "    }\n",
       "\n",
       "    .dataframe thead th {\n",
       "        text-align: right;\n",
       "    }\n",
       "</style>\n",
       "<table border=\"1\" class=\"dataframe\">\n",
       "  <thead>\n",
       "    <tr style=\"text-align: right;\">\n",
       "      <th></th>\n",
       "      <th>Pclass</th>\n",
       "      <th>Survived</th>\n",
       "    </tr>\n",
       "  </thead>\n",
       "  <tbody>\n",
       "    <tr>\n",
       "      <th>0</th>\n",
       "      <td>1</td>\n",
       "      <td>0.629630</td>\n",
       "    </tr>\n",
       "    <tr>\n",
       "      <th>1</th>\n",
       "      <td>2</td>\n",
       "      <td>0.472826</td>\n",
       "    </tr>\n",
       "    <tr>\n",
       "      <th>2</th>\n",
       "      <td>3</td>\n",
       "      <td>0.242363</td>\n",
       "    </tr>\n",
       "  </tbody>\n",
       "</table>\n",
       "</div>"
      ],
      "text/plain": [
       "   Pclass  Survived\n",
       "0       1  0.629630\n",
       "1       2  0.472826\n",
       "2       3  0.242363"
      ]
     },
     "execution_count": 13,
     "metadata": {},
     "output_type": "execute_result"
    }
   ],
   "source": [
    "# Passenger Class(Pclass) Against Survival\n",
    "\n",
    "train_df[['Pclass','Survived']].groupby(['Pclass'], as_index = False).mean().sort_values(by='Survived',ascending=False)"
   ]
  },
  {
   "cell_type": "markdown",
   "id": "hybrid-complex",
   "metadata": {
    "papermill": {
     "duration": 0.092737,
     "end_time": "2021-06-05T08:48:37.255379",
     "exception": false,
     "start_time": "2021-06-05T08:48:37.162642",
     "status": "completed"
    },
    "tags": []
   },
   "source": [
    "This implies that 1st class Passengers survived most"
   ]
  },
  {
   "cell_type": "code",
   "execution_count": 14,
   "id": "successful-heavy",
   "metadata": {
    "execution": {
     "iopub.execute_input": "2021-06-05T08:48:37.452455Z",
     "iopub.status.busy": "2021-06-05T08:48:37.451707Z",
     "iopub.status.idle": "2021-06-05T08:48:37.454685Z",
     "shell.execute_reply": "2021-06-05T08:48:37.455204Z",
     "shell.execute_reply.started": "2021-06-05T07:38:12.835646Z"
    },
    "papermill": {
     "duration": 0.107377,
     "end_time": "2021-06-05T08:48:37.455361",
     "exception": false,
     "start_time": "2021-06-05T08:48:37.347984",
     "status": "completed"
    },
    "tags": []
   },
   "outputs": [
    {
     "data": {
      "text/html": [
       "<div>\n",
       "<style scoped>\n",
       "    .dataframe tbody tr th:only-of-type {\n",
       "        vertical-align: middle;\n",
       "    }\n",
       "\n",
       "    .dataframe tbody tr th {\n",
       "        vertical-align: top;\n",
       "    }\n",
       "\n",
       "    .dataframe thead th {\n",
       "        text-align: right;\n",
       "    }\n",
       "</style>\n",
       "<table border=\"1\" class=\"dataframe\">\n",
       "  <thead>\n",
       "    <tr style=\"text-align: right;\">\n",
       "      <th></th>\n",
       "      <th>SibSp</th>\n",
       "      <th>Survived</th>\n",
       "    </tr>\n",
       "  </thead>\n",
       "  <tbody>\n",
       "    <tr>\n",
       "      <th>1</th>\n",
       "      <td>1</td>\n",
       "      <td>0.535885</td>\n",
       "    </tr>\n",
       "    <tr>\n",
       "      <th>2</th>\n",
       "      <td>2</td>\n",
       "      <td>0.464286</td>\n",
       "    </tr>\n",
       "    <tr>\n",
       "      <th>0</th>\n",
       "      <td>0</td>\n",
       "      <td>0.345395</td>\n",
       "    </tr>\n",
       "    <tr>\n",
       "      <th>3</th>\n",
       "      <td>3</td>\n",
       "      <td>0.250000</td>\n",
       "    </tr>\n",
       "    <tr>\n",
       "      <th>4</th>\n",
       "      <td>4</td>\n",
       "      <td>0.166667</td>\n",
       "    </tr>\n",
       "    <tr>\n",
       "      <th>5</th>\n",
       "      <td>5</td>\n",
       "      <td>0.000000</td>\n",
       "    </tr>\n",
       "    <tr>\n",
       "      <th>6</th>\n",
       "      <td>8</td>\n",
       "      <td>0.000000</td>\n",
       "    </tr>\n",
       "  </tbody>\n",
       "</table>\n",
       "</div>"
      ],
      "text/plain": [
       "   SibSp  Survived\n",
       "1      1  0.535885\n",
       "2      2  0.464286\n",
       "0      0  0.345395\n",
       "3      3  0.250000\n",
       "4      4  0.166667\n",
       "5      5  0.000000\n",
       "6      8  0.000000"
      ]
     },
     "execution_count": 14,
     "metadata": {},
     "output_type": "execute_result"
    }
   ],
   "source": [
    "# No. of siblings/spouses aboard(sibsp) vs Survival\n",
    "\n",
    "train_df[['SibSp', 'Survived']].groupby(['SibSp'], as_index=False).mean().sort_values(by='Survived', ascending=False)"
   ]
  },
  {
   "cell_type": "markdown",
   "id": "literary-circuit",
   "metadata": {
    "papermill": {
     "duration": 0.090188,
     "end_time": "2021-06-05T08:48:37.636658",
     "exception": false,
     "start_time": "2021-06-05T08:48:37.546470",
     "status": "completed"
    },
    "tags": []
   },
   "source": [
    "This Implies that Passengers with 0,1 or 2 siblings/spouses survived"
   ]
  },
  {
   "cell_type": "code",
   "execution_count": 15,
   "id": "alien-oxford",
   "metadata": {
    "execution": {
     "iopub.execute_input": "2021-06-05T08:48:37.823526Z",
     "iopub.status.busy": "2021-06-05T08:48:37.822920Z",
     "iopub.status.idle": "2021-06-05T08:48:37.835208Z",
     "shell.execute_reply": "2021-06-05T08:48:37.835646Z",
     "shell.execute_reply.started": "2021-06-05T07:38:12.854189Z"
    },
    "papermill": {
     "duration": 0.107847,
     "end_time": "2021-06-05T08:48:37.835807",
     "exception": false,
     "start_time": "2021-06-05T08:48:37.727960",
     "status": "completed"
    },
    "tags": []
   },
   "outputs": [
    {
     "data": {
      "text/html": [
       "<div>\n",
       "<style scoped>\n",
       "    .dataframe tbody tr th:only-of-type {\n",
       "        vertical-align: middle;\n",
       "    }\n",
       "\n",
       "    .dataframe tbody tr th {\n",
       "        vertical-align: top;\n",
       "    }\n",
       "\n",
       "    .dataframe thead th {\n",
       "        text-align: right;\n",
       "    }\n",
       "</style>\n",
       "<table border=\"1\" class=\"dataframe\">\n",
       "  <thead>\n",
       "    <tr style=\"text-align: right;\">\n",
       "      <th></th>\n",
       "      <th>Parch</th>\n",
       "      <th>Survived</th>\n",
       "    </tr>\n",
       "  </thead>\n",
       "  <tbody>\n",
       "    <tr>\n",
       "      <th>3</th>\n",
       "      <td>3</td>\n",
       "      <td>0.600000</td>\n",
       "    </tr>\n",
       "    <tr>\n",
       "      <th>1</th>\n",
       "      <td>1</td>\n",
       "      <td>0.550847</td>\n",
       "    </tr>\n",
       "    <tr>\n",
       "      <th>2</th>\n",
       "      <td>2</td>\n",
       "      <td>0.500000</td>\n",
       "    </tr>\n",
       "    <tr>\n",
       "      <th>0</th>\n",
       "      <td>0</td>\n",
       "      <td>0.343658</td>\n",
       "    </tr>\n",
       "    <tr>\n",
       "      <th>5</th>\n",
       "      <td>5</td>\n",
       "      <td>0.200000</td>\n",
       "    </tr>\n",
       "    <tr>\n",
       "      <th>4</th>\n",
       "      <td>4</td>\n",
       "      <td>0.000000</td>\n",
       "    </tr>\n",
       "    <tr>\n",
       "      <th>6</th>\n",
       "      <td>6</td>\n",
       "      <td>0.000000</td>\n",
       "    </tr>\n",
       "  </tbody>\n",
       "</table>\n",
       "</div>"
      ],
      "text/plain": [
       "   Parch  Survived\n",
       "3      3  0.600000\n",
       "1      1  0.550847\n",
       "2      2  0.500000\n",
       "0      0  0.343658\n",
       "5      5  0.200000\n",
       "4      4  0.000000\n",
       "6      6  0.000000"
      ]
     },
     "execution_count": 15,
     "metadata": {},
     "output_type": "execute_result"
    }
   ],
   "source": [
    "# No. of parents/children aboard(Parch) vs Survival\n",
    "\n",
    "train_df[['Parch','Survived']].groupby(['Parch'], as_index=False).mean().sort_values(by='Survived', ascending=False)"
   ]
  },
  {
   "cell_type": "markdown",
   "id": "suburban-incidence",
   "metadata": {
    "papermill": {
     "duration": 0.092614,
     "end_time": "2021-06-05T08:48:38.018956",
     "exception": false,
     "start_time": "2021-06-05T08:48:37.926342",
     "status": "completed"
    },
    "tags": []
   },
   "source": [
    "### Lets verify some feature Correlation using Plots"
   ]
  },
  {
   "cell_type": "markdown",
   "id": "answering-titanium",
   "metadata": {
    "papermill": {
     "duration": 0.090637,
     "end_time": "2021-06-05T08:48:38.202162",
     "exception": false,
     "start_time": "2021-06-05T08:48:38.111525",
     "status": "completed"
    },
    "tags": []
   },
   "source": [
    "**Correlating numerical features**\n",
    "\n",
    "Age vs Survival"
   ]
  },
  {
   "cell_type": "code",
   "execution_count": 16,
   "id": "civilian-listing",
   "metadata": {
    "execution": {
     "iopub.execute_input": "2021-06-05T08:48:38.387244Z",
     "iopub.status.busy": "2021-06-05T08:48:38.386588Z",
     "iopub.status.idle": "2021-06-05T08:48:38.786954Z",
     "shell.execute_reply": "2021-06-05T08:48:38.786362Z",
     "shell.execute_reply.started": "2021-06-05T07:38:12.873742Z"
    },
    "papermill": {
     "duration": 0.493728,
     "end_time": "2021-06-05T08:48:38.787099",
     "exception": false,
     "start_time": "2021-06-05T08:48:38.293371",
     "status": "completed"
    },
    "tags": []
   },
   "outputs": [
    {
     "data": {
      "text/plain": [
       "<seaborn.axisgrid.FacetGrid at 0x7f579d4b70d0>"
      ]
     },
     "execution_count": 16,
     "metadata": {},
     "output_type": "execute_result"
    },
    {
     "data": {
      "image/png": "[encoded data removed]",
      "text/plain": [
       "<Figure size 432x216 with 2 Axes>"
      ]
     },
     "metadata": {
      "needs_background": "light"
     },
     "output_type": "display_data"
    }
   ],
   "source": [
    "g = sns.FacetGrid(train_df, col='Survived')\n",
    "g.map(plt.hist, 'Age', bins=20)"
   ]
  },
  {
   "cell_type": "markdown",
   "id": "auburn-nancy",
   "metadata": {
    "papermill": {
     "duration": 0.093312,
     "end_time": "2021-06-05T08:48:38.974398",
     "exception": false,
     "start_time": "2021-06-05T08:48:38.881086",
     "status": "completed"
    },
    "tags": []
   },
   "source": [
    "**Observation**\n",
    "1. Children(Age<4) survived most\n",
    "2. Oldest Passengers (Age 80) also survived.\n",
    "3. Large number of 15-25 year olds did not survive.\n",
    "4. Most passengers are in 15-35 age range.\n",
    "\n",
    "**Conclusion**\n",
    "1. We need Age column in our Dataset\n",
    "2. We can group age column to form age categories instead of actual age\n"
   ]
  },
  {
   "cell_type": "code",
   "execution_count": null,
   "id": "statewide-irrigation",
   "metadata": {
    "papermill": {
     "duration": 0.091878,
     "end_time": "2021-06-05T08:48:39.157694",
     "exception": false,
     "start_time": "2021-06-05T08:48:39.065816",
     "status": "completed"
    },
    "tags": []
   },
   "outputs": [],
   "source": []
  },
  {
   "cell_type": "markdown",
   "id": "iraqi-hello",
   "metadata": {
    "papermill": {
     "duration": 0.092962,
     "end_time": "2021-06-05T08:48:39.351973",
     "exception": false,
     "start_time": "2021-06-05T08:48:39.259011",
     "status": "completed"
    },
    "tags": []
   },
   "source": [
    "**Correlating numerical and ordinal features**\n",
    "\n",
    "\n",
    "We can combine multiple features for identifying correlations using a single plot. This can be done with numerical and categorical features which have numeric values."
   ]
  },
  {
   "cell_type": "markdown",
   "id": "finite-silly",
   "metadata": {
    "papermill": {
     "duration": 0.091613,
     "end_time": "2021-06-05T08:48:39.536269",
     "exception": false,
     "start_time": "2021-06-05T08:48:39.444656",
     "status": "completed"
    },
    "tags": []
   },
   "source": [
    "Age and Passenger Class against Survival"
   ]
  },
  {
   "cell_type": "code",
   "execution_count": 17,
   "id": "known-growing",
   "metadata": {
    "execution": {
     "iopub.execute_input": "2021-06-05T08:48:39.760677Z",
     "iopub.status.busy": "2021-06-05T08:48:39.725877Z",
     "iopub.status.idle": "2021-06-05T08:48:41.039255Z",
     "shell.execute_reply": "2021-06-05T08:48:41.038723Z",
     "shell.execute_reply.started": "2021-06-05T07:38:13.39837Z"
    },
    "papermill": {
     "duration": 1.409369,
     "end_time": "2021-06-05T08:48:41.039390",
     "exception": false,
     "start_time": "2021-06-05T08:48:39.630021",
     "status": "completed"
    },
    "tags": []
   },
   "outputs": [
    {
     "data": {
      "image/png": "[encoded data removed]",
      "text/plain": [
       "<Figure size 514.88x475.2 with 6 Axes>"
      ]
     },
     "metadata": {
      "needs_background": "light"
     },
     "output_type": "display_data"
    }
   ],
   "source": [
    "grid = sns.FacetGrid(train_df, col='Survived', row='Pclass', height=2.2, aspect=1.6)\n",
    "grid.map(plt.hist, 'Age', alpha=.5, bins=20)\n",
    "grid.add_legend();"
   ]
  },
  {
   "cell_type": "markdown",
   "id": "disciplinary-charge",
   "metadata": {
    "papermill": {
     "duration": 0.094927,
     "end_time": "2021-06-05T08:48:41.229555",
     "exception": false,
     "start_time": "2021-06-05T08:48:41.134628",
     "status": "completed"
    },
    "tags": []
   },
   "source": [
    "**Observations**\n",
    "1. Pclass=3 had most passengers, however most did not survive.\n",
    "2. Infant passengers in Pclass=2 and Pclass=3 mostly survived.\n",
    "3. Most passengers in Pclass=1 survived. \n",
    "4. Pclass varies in terms of Age distribution of passengers.\n",
    "\n",
    "**Decisions.**\n",
    "\n",
    "- Consider Pclass for model training."
   ]
  },
  {
   "cell_type": "code",
   "execution_count": null,
   "id": "outside-retro",
   "metadata": {
    "papermill": {
     "duration": 0.093248,
     "end_time": "2021-06-05T08:48:41.415873",
     "exception": false,
     "start_time": "2021-06-05T08:48:41.322625",
     "status": "completed"
    },
    "tags": []
   },
   "outputs": [],
   "source": []
  },
  {
   "cell_type": "markdown",
   "id": "weird-chorus",
   "metadata": {
    "papermill": {
     "duration": 0.093351,
     "end_time": "2021-06-05T08:48:41.602625",
     "exception": false,
     "start_time": "2021-06-05T08:48:41.509274",
     "status": "completed"
    },
    "tags": []
   },
   "source": [
    "**Correlating categorical features**"
   ]
  },
  {
   "cell_type": "markdown",
   "id": "thrown-marriage",
   "metadata": {
    "papermill": {
     "duration": 0.093249,
     "end_time": "2021-06-05T08:48:41.788998",
     "exception": false,
     "start_time": "2021-06-05T08:48:41.695749",
     "status": "completed"
    },
    "tags": []
   },
   "source": [
    "Embarked Point and Age and Pclass vs Survival"
   ]
  },
  {
   "cell_type": "code",
   "execution_count": 18,
   "id": "spread-missile",
   "metadata": {
    "execution": {
     "iopub.execute_input": "2021-06-05T08:48:41.979050Z",
     "iopub.status.busy": "2021-06-05T08:48:41.978424Z",
     "iopub.status.idle": "2021-06-05T08:48:43.351917Z",
     "shell.execute_reply": "2021-06-05T08:48:43.351413Z",
     "shell.execute_reply.started": "2021-06-05T07:38:15.6621Z"
    },
    "papermill": {
     "duration": 1.471184,
     "end_time": "2021-06-05T08:48:43.352086",
     "exception": false,
     "start_time": "2021-06-05T08:48:41.880902",
     "status": "completed"
    },
    "tags": []
   },
   "outputs": [
    {
     "name": "stderr",
     "output_type": "stream",
     "text": [
      "/opt/conda/lib/python3.7/site-packages/seaborn/axisgrid.py:316: UserWarning: The `size` parameter has been renamed to `height`; please update your code.\n",
      "  warnings.warn(msg, UserWarning)\n",
      "/opt/conda/lib/python3.7/site-packages/seaborn/axisgrid.py:643: UserWarning: Using the pointplot function without specifying `order` is likely to produce an incorrect plot.\n",
      "  warnings.warn(warning)\n",
      "/opt/conda/lib/python3.7/site-packages/seaborn/axisgrid.py:648: UserWarning: Using the pointplot function without specifying `hue_order` is likely to produce an incorrect plot.\n",
      "  warnings.warn(warning)\n"
     ]
    },
    {
     "data": {
      "text/plain": [
       "<seaborn.axisgrid.FacetGrid at 0x7f5792f29e10>"
      ]
     },
     "execution_count": 18,
     "metadata": {},
     "output_type": "execute_result"
    },
    {
     "data": {
      "image/png": "[encoded data removed]",
      "text/plain": [
       "<Figure size 323.94x475.2 with 3 Axes>"
      ]
     },
     "metadata": {
      "needs_background": "light"
     },
     "output_type": "display_data"
    }
   ],
   "source": [
    "grid = sns.FacetGrid(train_df, row='Embarked', size=2.2, aspect=1.6)\n",
    "grid.map(sns.pointplot, 'Pclass', 'Survived', 'Sex', palette='deep')\n",
    "grid.add_legend()"
   ]
  },
  {
   "cell_type": "markdown",
   "id": "extreme-thirty",
   "metadata": {
    "papermill": {
     "duration": 0.094436,
     "end_time": "2021-06-05T08:48:43.543897",
     "exception": false,
     "start_time": "2021-06-05T08:48:43.449461",
     "status": "completed"
    },
    "tags": []
   },
   "source": [
    "**Observations.**\n",
    "- Female passengers had much better survival rate than males.\n",
    "- Exception in Embarked=C where males had higher survival rate. This could be a correlation between Pclass and Embarked and in turn Pclass and Survived, not necessarily direct correlation between Embarked and Survived.\n",
    "- Males had better survival rate in Pclass=3 when compared with Pclass=2 for C and Q ports.\n",
    "- Ports of embarkation have varying survival rates for Pclass=3 and among male passengers.\n",
    "\n",
    "**Decisions.**\n",
    "\n",
    "- Add Sex feature to model training.\n",
    "- Complete and add Embarked feature to model training"
   ]
  },
  {
   "cell_type": "markdown",
   "id": "lucky-craps",
   "metadata": {
    "papermill": {
     "duration": 0.09577,
     "end_time": "2021-06-05T08:48:43.734490",
     "exception": false,
     "start_time": "2021-06-05T08:48:43.638720",
     "status": "completed"
    },
    "tags": []
   },
   "source": [
    "**Correlating categorical and numerical features**"
   ]
  },
  {
   "cell_type": "markdown",
   "id": "delayed-engagement",
   "metadata": {
    "papermill": {
     "duration": 0.093681,
     "end_time": "2021-06-05T08:48:43.921646",
     "exception": false,
     "start_time": "2021-06-05T08:48:43.827965",
     "status": "completed"
    },
    "tags": []
   },
   "source": [
    "Fare with Sex and Embarked Point vs Survival"
   ]
  },
  {
   "cell_type": "code",
   "execution_count": 19,
   "id": "differential-cartoon",
   "metadata": {
    "execution": {
     "iopub.execute_input": "2021-06-05T08:48:44.116657Z",
     "iopub.status.busy": "2021-06-05T08:48:44.115986Z",
     "iopub.status.idle": "2021-06-05T08:48:45.019219Z",
     "shell.execute_reply": "2021-06-05T08:48:45.019676Z",
     "shell.execute_reply.started": "2021-06-05T07:38:17.055936Z"
    },
    "papermill": {
     "duration": 1.003267,
     "end_time": "2021-06-05T08:48:45.019849",
     "exception": false,
     "start_time": "2021-06-05T08:48:44.016582",
     "status": "completed"
    },
    "tags": []
   },
   "outputs": [
    {
     "name": "stderr",
     "output_type": "stream",
     "text": [
      "/opt/conda/lib/python3.7/site-packages/seaborn/axisgrid.py:316: UserWarning: The `size` parameter has been renamed to `height`; please update your code.\n",
      "  warnings.warn(msg, UserWarning)\n",
      "/opt/conda/lib/python3.7/site-packages/seaborn/axisgrid.py:643: UserWarning: Using the barplot function without specifying `order` is likely to produce an incorrect plot.\n",
      "  warnings.warn(warning)\n"
     ]
    },
    {
     "data": {
      "text/plain": [
       "<seaborn.axisgrid.FacetGrid at 0x7f5792da4e90>"
      ]
     },
     "execution_count": 19,
     "metadata": {},
     "output_type": "execute_result"
    },
    {
     "data": {
      "image/png": "[encoded data removed]",
      "text/plain": [
       "<Figure size 514.88x475.2 with 6 Axes>"
      ]
     },
     "metadata": {
      "needs_background": "light"
     },
     "output_type": "display_data"
    }
   ],
   "source": [
    "grid = sns.FacetGrid(train_df, row='Embarked', col='Survived', size=2.2, aspect=1.6)\n",
    "grid.map(sns.barplot, 'Sex', 'Fare', alpha=.5, ci=None)\n",
    "grid.add_legend()"
   ]
  },
  {
   "cell_type": "markdown",
   "id": "seasonal-appendix",
   "metadata": {
    "papermill": {
     "duration": 0.094942,
     "end_time": "2021-06-05T08:48:45.213560",
     "exception": false,
     "start_time": "2021-06-05T08:48:45.118618",
     "status": "completed"
    },
    "tags": []
   },
   "source": [
    "**Observations**\n",
    "\n",
    "- Higher fare paying passengers had better survival.\n",
    "- Port of embarkation correlates with survival rates.\n",
    "\n",
    "**Decisions.**\n",
    "\n",
    "- Consider banding Fare feature."
   ]
  },
  {
   "cell_type": "code",
   "execution_count": null,
   "id": "personal-croatia",
   "metadata": {
    "papermill": {
     "duration": 0.097598,
     "end_time": "2021-06-05T08:48:45.408672",
     "exception": false,
     "start_time": "2021-06-05T08:48:45.311074",
     "status": "completed"
    },
    "tags": []
   },
   "outputs": [],
   "source": []
  },
  {
   "cell_type": "markdown",
   "id": "certified-thickness",
   "metadata": {
    "papermill": {
     "duration": 0.095669,
     "end_time": "2021-06-05T08:48:45.599673",
     "exception": false,
     "start_time": "2021-06-05T08:48:45.504004",
     "status": "completed"
    },
    "tags": []
   },
   "source": [
    "# Data Wrangling"
   ]
  },
  {
   "cell_type": "markdown",
   "id": "annoying-football",
   "metadata": {
    "execution": {
     "iopub.execute_input": "2021-06-05T06:02:13.753353Z",
     "iopub.status.busy": "2021-06-05T06:02:13.752939Z",
     "iopub.status.idle": "2021-06-05T06:02:13.758386Z",
     "shell.execute_reply": "2021-06-05T06:02:13.757015Z",
     "shell.execute_reply.started": "2021-06-05T06:02:13.753315Z"
    },
    "papermill": {
     "duration": 0.094834,
     "end_time": "2021-06-05T08:48:45.789565",
     "exception": false,
     "start_time": "2021-06-05T08:48:45.694731",
     "status": "completed"
    },
    "tags": []
   },
   "source": [
    "#### Now, lets drop the unwanted columns from our dataset"
   ]
  },
  {
   "cell_type": "code",
   "execution_count": 20,
   "id": "worst-baghdad",
   "metadata": {
    "execution": {
     "iopub.execute_input": "2021-06-05T08:48:45.985217Z",
     "iopub.status.busy": "2021-06-05T08:48:45.984537Z",
     "iopub.status.idle": "2021-06-05T08:48:45.990336Z",
     "shell.execute_reply": "2021-06-05T08:48:45.990786Z",
     "shell.execute_reply.started": "2021-06-05T07:38:18.123306Z"
    },
    "papermill": {
     "duration": 0.105717,
     "end_time": "2021-06-05T08:48:45.990949",
     "exception": false,
     "start_time": "2021-06-05T08:48:45.885232",
     "status": "completed"
    },
    "tags": []
   },
   "outputs": [],
   "source": [
    "train_df = train_df.drop(['Ticket', 'Cabin'], axis=1)\n",
    "test_df = test_df.drop(['Ticket', 'Cabin'], axis=1)"
   ]
  },
  {
   "cell_type": "code",
   "execution_count": 21,
   "id": "cross-cancer",
   "metadata": {
    "execution": {
     "iopub.execute_input": "2021-06-05T08:48:46.190384Z",
     "iopub.status.busy": "2021-06-05T08:48:46.189780Z",
     "iopub.status.idle": "2021-06-05T08:48:46.202881Z",
     "shell.execute_reply": "2021-06-05T08:48:46.203371Z",
     "shell.execute_reply.started": "2021-06-05T07:38:18.131686Z"
    },
    "papermill": {
     "duration": 0.11493,
     "end_time": "2021-06-05T08:48:46.203522",
     "exception": false,
     "start_time": "2021-06-05T08:48:46.088592",
     "status": "completed"
    },
    "tags": []
   },
   "outputs": [
    {
     "data": {
      "text/html": [
       "<div>\n",
       "<style scoped>\n",
       "    .dataframe tbody tr th:only-of-type {\n",
       "        vertical-align: middle;\n",
       "    }\n",
       "\n",
       "    .dataframe tbody tr th {\n",
       "        vertical-align: top;\n",
       "    }\n",
       "\n",
       "    .dataframe thead th {\n",
       "        text-align: right;\n",
       "    }\n",
       "</style>\n",
       "<table border=\"1\" class=\"dataframe\">\n",
       "  <thead>\n",
       "    <tr style=\"text-align: right;\">\n",
       "      <th></th>\n",
       "      <th>PassengerId</th>\n",
       "      <th>Survived</th>\n",
       "      <th>Pclass</th>\n",
       "      <th>Name</th>\n",
       "      <th>Sex</th>\n",
       "      <th>Age</th>\n",
       "      <th>SibSp</th>\n",
       "      <th>Parch</th>\n",
       "      <th>Fare</th>\n",
       "      <th>Embarked</th>\n",
       "    </tr>\n",
       "  </thead>\n",
       "  <tbody>\n",
       "    <tr>\n",
       "      <th>0</th>\n",
       "      <td>1</td>\n",
       "      <td>0</td>\n",
       "      <td>3</td>\n",
       "      <td>Braund, Mr. Owen Harris</td>\n",
       "      <td>male</td>\n",
       "      <td>22.0</td>\n",
       "      <td>1</td>\n",
       "      <td>0</td>\n",
       "      <td>7.2500</td>\n",
       "      <td>S</td>\n",
       "    </tr>\n",
       "    <tr>\n",
       "      <th>1</th>\n",
       "      <td>2</td>\n",
       "      <td>1</td>\n",
       "      <td>1</td>\n",
       "      <td>Cumings, Mrs. John Bradley (Florence Briggs Th...</td>\n",
       "      <td>female</td>\n",
       "      <td>38.0</td>\n",
       "      <td>1</td>\n",
       "      <td>0</td>\n",
       "      <td>71.2833</td>\n",
       "      <td>C</td>\n",
       "    </tr>\n",
       "    <tr>\n",
       "      <th>2</th>\n",
       "      <td>3</td>\n",
       "      <td>1</td>\n",
       "      <td>3</td>\n",
       "      <td>Heikkinen, Miss. Laina</td>\n",
       "      <td>female</td>\n",
       "      <td>26.0</td>\n",
       "      <td>0</td>\n",
       "      <td>0</td>\n",
       "      <td>7.9250</td>\n",
       "      <td>S</td>\n",
       "    </tr>\n",
       "    <tr>\n",
       "      <th>3</th>\n",
       "      <td>4</td>\n",
       "      <td>1</td>\n",
       "      <td>1</td>\n",
       "      <td>Futrelle, Mrs. Jacques Heath (Lily May Peel)</td>\n",
       "      <td>female</td>\n",
       "      <td>35.0</td>\n",
       "      <td>1</td>\n",
       "      <td>0</td>\n",
       "      <td>53.1000</td>\n",
       "      <td>S</td>\n",
       "    </tr>\n",
       "    <tr>\n",
       "      <th>4</th>\n",
       "      <td>5</td>\n",
       "      <td>0</td>\n",
       "      <td>3</td>\n",
       "      <td>Allen, Mr. William Henry</td>\n",
       "      <td>male</td>\n",
       "      <td>35.0</td>\n",
       "      <td>0</td>\n",
       "      <td>0</td>\n",
       "      <td>8.0500</td>\n",
       "      <td>S</td>\n",
       "    </tr>\n",
       "  </tbody>\n",
       "</table>\n",
       "</div>"
      ],
      "text/plain": [
       "   PassengerId  Survived  Pclass  \\\n",
       "0            1         0       3   \n",
       "1            2         1       1   \n",
       "2            3         1       3   \n",
       "3            4         1       1   \n",
       "4            5         0       3   \n",
       "\n",
       "                                                Name     Sex   Age  SibSp  \\\n",
       "0                            Braund, Mr. Owen Harris    male  22.0      1   \n",
       "1  Cumings, Mrs. John Bradley (Florence Briggs Th...  female  38.0      1   \n",
       "2                             Heikkinen, Miss. Laina  female  26.0      0   \n",
       "3       Futrelle, Mrs. Jacques Heath (Lily May Peel)  female  35.0      1   \n",
       "4                           Allen, Mr. William Henry    male  35.0      0   \n",
       "\n",
       "   Parch     Fare Embarked  \n",
       "0      0   7.2500        S  \n",
       "1      0  71.2833        C  \n",
       "2      0   7.9250        S  \n",
       "3      0  53.1000        S  \n",
       "4      0   8.0500        S  "
      ]
     },
     "execution_count": 21,
     "metadata": {},
     "output_type": "execute_result"
    }
   ],
   "source": [
    "train_df.head()"
   ]
  },
  {
   "cell_type": "code",
   "execution_count": 22,
   "id": "blocked-highway",
   "metadata": {
    "execution": {
     "iopub.execute_input": "2021-06-05T08:48:46.402833Z",
     "iopub.status.busy": "2021-06-05T08:48:46.402057Z",
     "iopub.status.idle": "2021-06-05T08:48:46.423170Z",
     "shell.execute_reply": "2021-06-05T08:48:46.422398Z",
     "shell.execute_reply.started": "2021-06-05T07:38:18.155893Z"
    },
    "papermill": {
     "duration": 0.122184,
     "end_time": "2021-06-05T08:48:46.423382",
     "exception": false,
     "start_time": "2021-06-05T08:48:46.301198",
     "status": "completed"
    },
    "tags": []
   },
   "outputs": [
    {
     "data": {
      "text/html": [
       "<div>\n",
       "<style scoped>\n",
       "    .dataframe tbody tr th:only-of-type {\n",
       "        vertical-align: middle;\n",
       "    }\n",
       "\n",
       "    .dataframe tbody tr th {\n",
       "        vertical-align: top;\n",
       "    }\n",
       "\n",
       "    .dataframe thead th {\n",
       "        text-align: right;\n",
       "    }\n",
       "</style>\n",
       "<table border=\"1\" class=\"dataframe\">\n",
       "  <thead>\n",
       "    <tr style=\"text-align: right;\">\n",
       "      <th></th>\n",
       "      <th>PassengerId</th>\n",
       "      <th>Pclass</th>\n",
       "      <th>Name</th>\n",
       "      <th>Sex</th>\n",
       "      <th>Age</th>\n",
       "      <th>SibSp</th>\n",
       "      <th>Parch</th>\n",
       "      <th>Fare</th>\n",
       "      <th>Embarked</th>\n",
       "    </tr>\n",
       "  </thead>\n",
       "  <tbody>\n",
       "    <tr>\n",
       "      <th>0</th>\n",
       "      <td>892</td>\n",
       "      <td>3</td>\n",
       "      <td>Kelly, Mr. James</td>\n",
       "      <td>male</td>\n",
       "      <td>34.5</td>\n",
       "      <td>0</td>\n",
       "      <td>0</td>\n",
       "      <td>7.8292</td>\n",
       "      <td>Q</td>\n",
       "    </tr>\n",
       "    <tr>\n",
       "      <th>1</th>\n",
       "      <td>893</td>\n",
       "      <td>3</td>\n",
       "      <td>Wilkes, Mrs. James (Ellen Needs)</td>\n",
       "      <td>female</td>\n",
       "      <td>47.0</td>\n",
       "      <td>1</td>\n",
       "      <td>0</td>\n",
       "      <td>7.0000</td>\n",
       "      <td>S</td>\n",
       "    </tr>\n",
       "    <tr>\n",
       "      <th>2</th>\n",
       "      <td>894</td>\n",
       "      <td>2</td>\n",
       "      <td>Myles, Mr. Thomas Francis</td>\n",
       "      <td>male</td>\n",
       "      <td>62.0</td>\n",
       "      <td>0</td>\n",
       "      <td>0</td>\n",
       "      <td>9.6875</td>\n",
       "      <td>Q</td>\n",
       "    </tr>\n",
       "    <tr>\n",
       "      <th>3</th>\n",
       "      <td>895</td>\n",
       "      <td>3</td>\n",
       "      <td>Wirz, Mr. Albert</td>\n",
       "      <td>male</td>\n",
       "      <td>27.0</td>\n",
       "      <td>0</td>\n",
       "      <td>0</td>\n",
       "      <td>8.6625</td>\n",
       "      <td>S</td>\n",
       "    </tr>\n",
       "    <tr>\n",
       "      <th>4</th>\n",
       "      <td>896</td>\n",
       "      <td>3</td>\n",
       "      <td>Hirvonen, Mrs. Alexander (Helga E Lindqvist)</td>\n",
       "      <td>female</td>\n",
       "      <td>22.0</td>\n",
       "      <td>1</td>\n",
       "      <td>1</td>\n",
       "      <td>12.2875</td>\n",
       "      <td>S</td>\n",
       "    </tr>\n",
       "  </tbody>\n",
       "</table>\n",
       "</div>"
      ],
      "text/plain": [
       "   PassengerId  Pclass                                          Name     Sex  \\\n",
       "0          892       3                              Kelly, Mr. James    male   \n",
       "1          893       3              Wilkes, Mrs. James (Ellen Needs)  female   \n",
       "2          894       2                     Myles, Mr. Thomas Francis    male   \n",
       "3          895       3                              Wirz, Mr. Albert    male   \n",
       "4          896       3  Hirvonen, Mrs. Alexander (Helga E Lindqvist)  female   \n",
       "\n",
       "    Age  SibSp  Parch     Fare Embarked  \n",
       "0  34.5      0      0   7.8292        Q  \n",
       "1  47.0      1      0   7.0000        S  \n",
       "2  62.0      0      0   9.6875        Q  \n",
       "3  27.0      0      0   8.6625        S  \n",
       "4  22.0      1      1  12.2875        S  "
      ]
     },
     "execution_count": 22,
     "metadata": {},
     "output_type": "execute_result"
    }
   ],
   "source": [
    "test_df.head()"
   ]
  },
  {
   "cell_type": "markdown",
   "id": "tough-cleanup",
   "metadata": {
    "execution": {
     "iopub.execute_input": "2021-06-05T06:03:01.644416Z",
     "iopub.status.busy": "2021-06-05T06:03:01.644019Z",
     "iopub.status.idle": "2021-06-05T06:03:01.648885Z",
     "shell.execute_reply": "2021-06-05T06:03:01.647845Z",
     "shell.execute_reply.started": "2021-06-05T06:03:01.644382Z"
    },
    "papermill": {
     "duration": 0.097876,
     "end_time": "2021-06-05T08:48:46.644680",
     "exception": false,
     "start_time": "2021-06-05T08:48:46.546804",
     "status": "completed"
    },
    "tags": []
   },
   "source": [
    "**Now, Let's create new feature by extracting info from existing features**\n",
    "\n",
    "- Lets drop the Name column from the Datase and Instead Create a New Column with Title of them Passenger\n",
    "            We want to analyze if Name feature can be engineered to extract titles and test correlation between titles and survival, before dropping Name and PassengerId features."
   ]
  },
  {
   "cell_type": "code",
   "execution_count": 23,
   "id": "behind-coordinator",
   "metadata": {
    "execution": {
     "iopub.execute_input": "2021-06-05T08:48:46.855901Z",
     "iopub.status.busy": "2021-06-05T08:48:46.855246Z",
     "iopub.status.idle": "2021-06-05T08:48:46.858418Z",
     "shell.execute_reply": "2021-06-05T08:48:46.857948Z",
     "shell.execute_reply.started": "2021-06-05T07:38:18.176463Z"
    },
    "papermill": {
     "duration": 0.115306,
     "end_time": "2021-06-05T08:48:46.858548",
     "exception": false,
     "start_time": "2021-06-05T08:48:46.743242",
     "status": "completed"
    },
    "tags": []
   },
   "outputs": [],
   "source": [
    "train_df['Title'] = train_df.Name.str.extract('([A-Za-z]+)\\.', expand=False)\n",
    "test_df['Title'] = test_df.Name.str.extract('([A-Za-z]+)\\.', expand=False)\n",
    "# i.e Find the First string ending with '.' in our Name column. Also,expand=False flag returns a DataFrame"
   ]
  },
  {
   "cell_type": "code",
   "execution_count": 24,
   "id": "hungry-graphic",
   "metadata": {
    "execution": {
     "iopub.execute_input": "2021-06-05T08:48:47.079513Z",
     "iopub.status.busy": "2021-06-05T08:48:47.068701Z",
     "iopub.status.idle": "2021-06-05T08:48:47.093902Z",
     "shell.execute_reply": "2021-06-05T08:48:47.094385Z",
     "shell.execute_reply.started": "2021-06-05T07:38:18.195147Z"
    },
    "papermill": {
     "duration": 0.134977,
     "end_time": "2021-06-05T08:48:47.094548",
     "exception": false,
     "start_time": "2021-06-05T08:48:46.959571",
     "status": "completed"
    },
    "tags": []
   },
   "outputs": [
    {
     "data": {
      "text/html": [
       "<div>\n",
       "<style scoped>\n",
       "    .dataframe tbody tr th:only-of-type {\n",
       "        vertical-align: middle;\n",
       "    }\n",
       "\n",
       "    .dataframe tbody tr th {\n",
       "        vertical-align: top;\n",
       "    }\n",
       "\n",
       "    .dataframe thead th {\n",
       "        text-align: right;\n",
       "    }\n",
       "</style>\n",
       "<table border=\"1\" class=\"dataframe\">\n",
       "  <thead>\n",
       "    <tr style=\"text-align: right;\">\n",
       "      <th>Sex</th>\n",
       "      <th>female</th>\n",
       "      <th>male</th>\n",
       "    </tr>\n",
       "    <tr>\n",
       "      <th>Title</th>\n",
       "      <th></th>\n",
       "      <th></th>\n",
       "    </tr>\n",
       "  </thead>\n",
       "  <tbody>\n",
       "    <tr>\n",
       "      <th>Capt</th>\n",
       "      <td>0</td>\n",
       "      <td>1</td>\n",
       "    </tr>\n",
       "    <tr>\n",
       "      <th>Col</th>\n",
       "      <td>0</td>\n",
       "      <td>2</td>\n",
       "    </tr>\n",
       "    <tr>\n",
       "      <th>Countess</th>\n",
       "      <td>1</td>\n",
       "      <td>0</td>\n",
       "    </tr>\n",
       "    <tr>\n",
       "      <th>Don</th>\n",
       "      <td>0</td>\n",
       "      <td>1</td>\n",
       "    </tr>\n",
       "    <tr>\n",
       "      <th>Dr</th>\n",
       "      <td>1</td>\n",
       "      <td>6</td>\n",
       "    </tr>\n",
       "    <tr>\n",
       "      <th>Jonkheer</th>\n",
       "      <td>0</td>\n",
       "      <td>1</td>\n",
       "    </tr>\n",
       "    <tr>\n",
       "      <th>Lady</th>\n",
       "      <td>1</td>\n",
       "      <td>0</td>\n",
       "    </tr>\n",
       "    <tr>\n",
       "      <th>Major</th>\n",
       "      <td>0</td>\n",
       "      <td>2</td>\n",
       "    </tr>\n",
       "    <tr>\n",
       "      <th>Master</th>\n",
       "      <td>0</td>\n",
       "      <td>40</td>\n",
       "    </tr>\n",
       "    <tr>\n",
       "      <th>Miss</th>\n",
       "      <td>182</td>\n",
       "      <td>0</td>\n",
       "    </tr>\n",
       "    <tr>\n",
       "      <th>Mlle</th>\n",
       "      <td>2</td>\n",
       "      <td>0</td>\n",
       "    </tr>\n",
       "    <tr>\n",
       "      <th>Mme</th>\n",
       "      <td>1</td>\n",
       "      <td>0</td>\n",
       "    </tr>\n",
       "    <tr>\n",
       "      <th>Mr</th>\n",
       "      <td>0</td>\n",
       "      <td>517</td>\n",
       "    </tr>\n",
       "    <tr>\n",
       "      <th>Mrs</th>\n",
       "      <td>125</td>\n",
       "      <td>0</td>\n",
       "    </tr>\n",
       "    <tr>\n",
       "      <th>Ms</th>\n",
       "      <td>1</td>\n",
       "      <td>0</td>\n",
       "    </tr>\n",
       "    <tr>\n",
       "      <th>Rev</th>\n",
       "      <td>0</td>\n",
       "      <td>6</td>\n",
       "    </tr>\n",
       "    <tr>\n",
       "      <th>Sir</th>\n",
       "      <td>0</td>\n",
       "      <td>1</td>\n",
       "    </tr>\n",
       "  </tbody>\n",
       "</table>\n",
       "</div>"
      ],
      "text/plain": [
       "Sex       female  male\n",
       "Title                 \n",
       "Capt           0     1\n",
       "Col            0     2\n",
       "Countess       1     0\n",
       "Don            0     1\n",
       "Dr             1     6\n",
       "Jonkheer       0     1\n",
       "Lady           1     0\n",
       "Major          0     2\n",
       "Master         0    40\n",
       "Miss         182     0\n",
       "Mlle           2     0\n",
       "Mme            1     0\n",
       "Mr             0   517\n",
       "Mrs          125     0\n",
       "Ms             1     0\n",
       "Rev            0     6\n",
       "Sir            0     1"
      ]
     },
     "execution_count": 24,
     "metadata": {},
     "output_type": "execute_result"
    }
   ],
   "source": [
    "pd.crosstab(train_df['Title'], train_df['Sex'])"
   ]
  },
  {
   "cell_type": "code",
   "execution_count": 25,
   "id": "stunning-track",
   "metadata": {
    "execution": {
     "iopub.execute_input": "2021-06-05T08:48:47.302945Z",
     "iopub.status.busy": "2021-06-05T08:48:47.302330Z",
     "iopub.status.idle": "2021-06-05T08:48:47.304890Z",
     "shell.execute_reply": "2021-06-05T08:48:47.304293Z",
     "shell.execute_reply.started": "2021-06-05T07:38:18.235869Z"
    },
    "papermill": {
     "duration": 0.105707,
     "end_time": "2021-06-05T08:48:47.305012",
     "exception": false,
     "start_time": "2021-06-05T08:48:47.199305",
     "status": "completed"
    },
    "tags": []
   },
   "outputs": [],
   "source": [
    "# Now, lets combine the Similar Titles into one common category"
   ]
  },
  {
   "cell_type": "code",
   "execution_count": 26,
   "id": "shared-burden",
   "metadata": {
    "execution": {
     "iopub.execute_input": "2021-06-05T08:48:47.514239Z",
     "iopub.status.busy": "2021-06-05T08:48:47.513460Z",
     "iopub.status.idle": "2021-06-05T08:48:47.516485Z",
     "shell.execute_reply": "2021-06-05T08:48:47.515933Z",
     "shell.execute_reply.started": "2021-06-05T07:38:18.244002Z"
    },
    "papermill": {
     "duration": 0.11361,
     "end_time": "2021-06-05T08:48:47.516607",
     "exception": false,
     "start_time": "2021-06-05T08:48:47.402997",
     "status": "completed"
    },
    "tags": []
   },
   "outputs": [],
   "source": [
    "train_df['Title'] = train_df['Title'].replace('Mlle', 'Miss')\n",
    "train_df['Title'] = train_df['Title'].replace('Ms', 'Miss')\n",
    "train_df['Title'] = train_df['Title'].replace('Mme', 'Mrs')\n",
    "\n",
    "test_df['Title'] = test_df['Title'].replace('Mlle', 'Miss')\n",
    "test_df['Title'] = test_df['Title'].replace('Ms', 'Miss')\n",
    "test_df['Title'] = test_df['Title'].replace('Mme', 'Mrs')"
   ]
  },
  {
   "cell_type": "code",
   "execution_count": 27,
   "id": "opponent-niger",
   "metadata": {
    "execution": {
     "iopub.execute_input": "2021-06-05T08:48:47.721624Z",
     "iopub.status.busy": "2021-06-05T08:48:47.720911Z",
     "iopub.status.idle": "2021-06-05T08:48:47.723636Z",
     "shell.execute_reply": "2021-06-05T08:48:47.723128Z",
     "shell.execute_reply.started": "2021-06-05T07:38:18.259346Z"
    },
    "papermill": {
     "duration": 0.108025,
     "end_time": "2021-06-05T08:48:47.723770",
     "exception": false,
     "start_time": "2021-06-05T08:48:47.615745",
     "status": "completed"
    },
    "tags": []
   },
   "outputs": [],
   "source": [
    "# Now let's combine the Remaining Less frequent Titles into a New Title 'Rare'"
   ]
  },
  {
   "cell_type": "code",
   "execution_count": 28,
   "id": "accurate-absorption",
   "metadata": {
    "execution": {
     "iopub.execute_input": "2021-06-05T08:48:47.936248Z",
     "iopub.status.busy": "2021-06-05T08:48:47.935535Z",
     "iopub.status.idle": "2021-06-05T08:48:47.941173Z",
     "shell.execute_reply": "2021-06-05T08:48:47.941678Z",
     "shell.execute_reply.started": "2021-06-05T07:38:18.268241Z"
    },
    "papermill": {
     "duration": 0.117772,
     "end_time": "2021-06-05T08:48:47.941839",
     "exception": false,
     "start_time": "2021-06-05T08:48:47.824067",
     "status": "completed"
    },
    "tags": []
   },
   "outputs": [],
   "source": [
    "train_df['Title'] = train_df['Title'].replace(['Lady', 'Countess','Capt', 'Col','Don', 'Dr', 'Major', 'Rev', 'Sir', 'Jonkheer', 'Dona'], 'Rare')\n",
    "test_df['Title'] = test_df['Title'].replace(['Lady', 'Countess','Capt', 'Col','Don', 'Dr', 'Major', 'Rev', 'Sir', 'Jonkheer', 'Dona'], 'Rare')"
   ]
  },
  {
   "cell_type": "code",
   "execution_count": 29,
   "id": "ruled-analysis",
   "metadata": {
    "execution": {
     "iopub.execute_input": "2021-06-05T08:48:48.144409Z",
     "iopub.status.busy": "2021-06-05T08:48:48.143877Z",
     "iopub.status.idle": "2021-06-05T08:48:48.163784Z",
     "shell.execute_reply": "2021-06-05T08:48:48.164289Z",
     "shell.execute_reply.started": "2021-06-05T07:38:18.285574Z"
    },
    "papermill": {
     "duration": 0.123323,
     "end_time": "2021-06-05T08:48:48.164449",
     "exception": false,
     "start_time": "2021-06-05T08:48:48.041126",
     "status": "completed"
    },
    "tags": []
   },
   "outputs": [
    {
     "data": {
      "text/html": [
       "<div>\n",
       "<style scoped>\n",
       "    .dataframe tbody tr th:only-of-type {\n",
       "        vertical-align: middle;\n",
       "    }\n",
       "\n",
       "    .dataframe tbody tr th {\n",
       "        vertical-align: top;\n",
       "    }\n",
       "\n",
       "    .dataframe thead th {\n",
       "        text-align: right;\n",
       "    }\n",
       "</style>\n",
       "<table border=\"1\" class=\"dataframe\">\n",
       "  <thead>\n",
       "    <tr style=\"text-align: right;\">\n",
       "      <th>Sex</th>\n",
       "      <th>female</th>\n",
       "      <th>male</th>\n",
       "    </tr>\n",
       "    <tr>\n",
       "      <th>Title</th>\n",
       "      <th></th>\n",
       "      <th></th>\n",
       "    </tr>\n",
       "  </thead>\n",
       "  <tbody>\n",
       "    <tr>\n",
       "      <th>Master</th>\n",
       "      <td>0</td>\n",
       "      <td>40</td>\n",
       "    </tr>\n",
       "    <tr>\n",
       "      <th>Miss</th>\n",
       "      <td>185</td>\n",
       "      <td>0</td>\n",
       "    </tr>\n",
       "    <tr>\n",
       "      <th>Mr</th>\n",
       "      <td>0</td>\n",
       "      <td>517</td>\n",
       "    </tr>\n",
       "    <tr>\n",
       "      <th>Mrs</th>\n",
       "      <td>126</td>\n",
       "      <td>0</td>\n",
       "    </tr>\n",
       "    <tr>\n",
       "      <th>Rare</th>\n",
       "      <td>3</td>\n",
       "      <td>20</td>\n",
       "    </tr>\n",
       "  </tbody>\n",
       "</table>\n",
       "</div>"
      ],
      "text/plain": [
       "Sex     female  male\n",
       "Title               \n",
       "Master       0    40\n",
       "Miss       185     0\n",
       "Mr           0   517\n",
       "Mrs        126     0\n",
       "Rare         3    20"
      ]
     },
     "execution_count": 29,
     "metadata": {},
     "output_type": "execute_result"
    }
   ],
   "source": [
    "pd.crosstab(train_df['Title'], train_df['Sex'])"
   ]
  },
  {
   "cell_type": "markdown",
   "id": "chicken-exposure",
   "metadata": {
    "papermill": {
     "duration": 0.103916,
     "end_time": "2021-06-05T08:48:48.388902",
     "exception": false,
     "start_time": "2021-06-05T08:48:48.284986",
     "status": "completed"
    },
    "tags": []
   },
   "source": [
    "Now, Lets see the Title vs Survival rate"
   ]
  },
  {
   "cell_type": "code",
   "execution_count": 30,
   "id": "expired-creek",
   "metadata": {
    "execution": {
     "iopub.execute_input": "2021-06-05T08:48:48.588613Z",
     "iopub.status.busy": "2021-06-05T08:48:48.588048Z",
     "iopub.status.idle": "2021-06-05T08:48:48.600446Z",
     "shell.execute_reply": "2021-06-05T08:48:48.600928Z",
     "shell.execute_reply.started": "2021-06-05T07:38:18.318429Z"
    },
    "papermill": {
     "duration": 0.113623,
     "end_time": "2021-06-05T08:48:48.601103",
     "exception": false,
     "start_time": "2021-06-05T08:48:48.487480",
     "status": "completed"
    },
    "tags": []
   },
   "outputs": [
    {
     "data": {
      "text/html": [
       "<div>\n",
       "<style scoped>\n",
       "    .dataframe tbody tr th:only-of-type {\n",
       "        vertical-align: middle;\n",
       "    }\n",
       "\n",
       "    .dataframe tbody tr th {\n",
       "        vertical-align: top;\n",
       "    }\n",
       "\n",
       "    .dataframe thead th {\n",
       "        text-align: right;\n",
       "    }\n",
       "</style>\n",
       "<table border=\"1\" class=\"dataframe\">\n",
       "  <thead>\n",
       "    <tr style=\"text-align: right;\">\n",
       "      <th></th>\n",
       "      <th>Title</th>\n",
       "      <th>Survived</th>\n",
       "    </tr>\n",
       "  </thead>\n",
       "  <tbody>\n",
       "    <tr>\n",
       "      <th>0</th>\n",
       "      <td>Master</td>\n",
       "      <td>0.575000</td>\n",
       "    </tr>\n",
       "    <tr>\n",
       "      <th>1</th>\n",
       "      <td>Miss</td>\n",
       "      <td>0.702703</td>\n",
       "    </tr>\n",
       "    <tr>\n",
       "      <th>2</th>\n",
       "      <td>Mr</td>\n",
       "      <td>0.156673</td>\n",
       "    </tr>\n",
       "    <tr>\n",
       "      <th>3</th>\n",
       "      <td>Mrs</td>\n",
       "      <td>0.793651</td>\n",
       "    </tr>\n",
       "    <tr>\n",
       "      <th>4</th>\n",
       "      <td>Rare</td>\n",
       "      <td>0.347826</td>\n",
       "    </tr>\n",
       "  </tbody>\n",
       "</table>\n",
       "</div>"
      ],
      "text/plain": [
       "    Title  Survived\n",
       "0  Master  0.575000\n",
       "1    Miss  0.702703\n",
       "2      Mr  0.156673\n",
       "3     Mrs  0.793651\n",
       "4    Rare  0.347826"
      ]
     },
     "execution_count": 30,
     "metadata": {},
     "output_type": "execute_result"
    }
   ],
   "source": [
    "train_df[['Title', 'Survived']].groupby(['Title'], as_index=False).mean()"
   ]
  },
  {
   "cell_type": "code",
   "execution_count": 31,
   "id": "adult-shepherd",
   "metadata": {
    "execution": {
     "iopub.execute_input": "2021-06-05T08:48:48.829398Z",
     "iopub.status.busy": "2021-06-05T08:48:48.828595Z",
     "iopub.status.idle": "2021-06-05T08:48:48.834526Z",
     "shell.execute_reply": "2021-06-05T08:48:48.835098Z",
     "shell.execute_reply.started": "2021-06-05T07:38:18.339165Z"
    },
    "papermill": {
     "duration": 0.133895,
     "end_time": "2021-06-05T08:48:48.835275",
     "exception": false,
     "start_time": "2021-06-05T08:48:48.701380",
     "status": "completed"
    },
    "tags": []
   },
   "outputs": [],
   "source": [
    "#Now lets drop the Name column also.\n",
    "train_df = train_df.drop(['Name'], axis = 1)\n",
    "test_df = test_df.drop(['Name'], axis = 1)\n"
   ]
  },
  {
   "cell_type": "code",
   "execution_count": 32,
   "id": "social-consumer",
   "metadata": {
    "execution": {
     "iopub.execute_input": "2021-06-05T08:48:49.066593Z",
     "iopub.status.busy": "2021-06-05T08:48:49.065990Z",
     "iopub.status.idle": "2021-06-05T08:48:49.070901Z",
     "shell.execute_reply": "2021-06-05T08:48:49.071454Z",
     "shell.execute_reply.started": "2021-06-05T07:38:18.350227Z"
    },
    "papermill": {
     "duration": 0.110574,
     "end_time": "2021-06-05T08:48:49.071620",
     "exception": false,
     "start_time": "2021-06-05T08:48:48.961046",
     "status": "completed"
    },
    "tags": []
   },
   "outputs": [],
   "source": [
    "# Also, in our Training Dataset, we don't need Passenger ID. SO lets drop it\n",
    "train_df = train_df.drop(['PassengerId'], axis = 1)"
   ]
  },
  {
   "cell_type": "code",
   "execution_count": 33,
   "id": "norwegian-daisy",
   "metadata": {
    "execution": {
     "iopub.execute_input": "2021-06-05T08:48:49.278304Z",
     "iopub.status.busy": "2021-06-05T08:48:49.277679Z",
     "iopub.status.idle": "2021-06-05T08:48:49.282165Z",
     "shell.execute_reply": "2021-06-05T08:48:49.282641Z",
     "shell.execute_reply.started": "2021-06-05T07:38:18.362506Z"
    },
    "papermill": {
     "duration": 0.109081,
     "end_time": "2021-06-05T08:48:49.282804",
     "exception": false,
     "start_time": "2021-06-05T08:48:49.173723",
     "status": "completed"
    },
    "tags": []
   },
   "outputs": [
    {
     "data": {
      "text/plain": [
       "((891, 9), (418, 9))"
      ]
     },
     "execution_count": 33,
     "metadata": {},
     "output_type": "execute_result"
    }
   ],
   "source": [
    "train_df.shape, test_df.shape"
   ]
  },
  {
   "cell_type": "markdown",
   "id": "invisible-ambassador",
   "metadata": {
    "papermill": {
     "duration": 0.100593,
     "end_time": "2021-06-05T08:48:49.488374",
     "exception": false,
     "start_time": "2021-06-05T08:48:49.387781",
     "status": "completed"
    },
    "tags": []
   },
   "source": [
    "### Converting Categorical Features"
   ]
  },
  {
   "cell_type": "code",
   "execution_count": 34,
   "id": "knowing-incidence",
   "metadata": {
    "execution": {
     "iopub.execute_input": "2021-06-05T08:48:49.693831Z",
     "iopub.status.busy": "2021-06-05T08:48:49.693181Z",
     "iopub.status.idle": "2021-06-05T08:48:49.710809Z",
     "shell.execute_reply": "2021-06-05T08:48:49.711315Z",
     "shell.execute_reply.started": "2021-06-05T07:38:18.376979Z"
    },
    "papermill": {
     "duration": 0.121129,
     "end_time": "2021-06-05T08:48:49.711476",
     "exception": false,
     "start_time": "2021-06-05T08:48:49.590347",
     "status": "completed"
    },
    "tags": []
   },
   "outputs": [
    {
     "data": {
      "text/html": [
       "<div>\n",
       "<style scoped>\n",
       "    .dataframe tbody tr th:only-of-type {\n",
       "        vertical-align: middle;\n",
       "    }\n",
       "\n",
       "    .dataframe tbody tr th {\n",
       "        vertical-align: top;\n",
       "    }\n",
       "\n",
       "    .dataframe thead th {\n",
       "        text-align: right;\n",
       "    }\n",
       "</style>\n",
       "<table border=\"1\" class=\"dataframe\">\n",
       "  <thead>\n",
       "    <tr style=\"text-align: right;\">\n",
       "      <th></th>\n",
       "      <th>Survived</th>\n",
       "      <th>Pclass</th>\n",
       "      <th>Sex</th>\n",
       "      <th>Age</th>\n",
       "      <th>SibSp</th>\n",
       "      <th>Parch</th>\n",
       "      <th>Fare</th>\n",
       "      <th>Embarked</th>\n",
       "      <th>Title</th>\n",
       "    </tr>\n",
       "  </thead>\n",
       "  <tbody>\n",
       "    <tr>\n",
       "      <th>0</th>\n",
       "      <td>0</td>\n",
       "      <td>3</td>\n",
       "      <td>male</td>\n",
       "      <td>22.0</td>\n",
       "      <td>1</td>\n",
       "      <td>0</td>\n",
       "      <td>7.2500</td>\n",
       "      <td>S</td>\n",
       "      <td>1</td>\n",
       "    </tr>\n",
       "    <tr>\n",
       "      <th>1</th>\n",
       "      <td>1</td>\n",
       "      <td>1</td>\n",
       "      <td>female</td>\n",
       "      <td>38.0</td>\n",
       "      <td>1</td>\n",
       "      <td>0</td>\n",
       "      <td>71.2833</td>\n",
       "      <td>C</td>\n",
       "      <td>3</td>\n",
       "    </tr>\n",
       "    <tr>\n",
       "      <th>2</th>\n",
       "      <td>1</td>\n",
       "      <td>3</td>\n",
       "      <td>female</td>\n",
       "      <td>26.0</td>\n",
       "      <td>0</td>\n",
       "      <td>0</td>\n",
       "      <td>7.9250</td>\n",
       "      <td>S</td>\n",
       "      <td>2</td>\n",
       "    </tr>\n",
       "    <tr>\n",
       "      <th>3</th>\n",
       "      <td>1</td>\n",
       "      <td>1</td>\n",
       "      <td>female</td>\n",
       "      <td>35.0</td>\n",
       "      <td>1</td>\n",
       "      <td>0</td>\n",
       "      <td>53.1000</td>\n",
       "      <td>S</td>\n",
       "      <td>3</td>\n",
       "    </tr>\n",
       "    <tr>\n",
       "      <th>4</th>\n",
       "      <td>0</td>\n",
       "      <td>3</td>\n",
       "      <td>male</td>\n",
       "      <td>35.0</td>\n",
       "      <td>0</td>\n",
       "      <td>0</td>\n",
       "      <td>8.0500</td>\n",
       "      <td>S</td>\n",
       "      <td>1</td>\n",
       "    </tr>\n",
       "  </tbody>\n",
       "</table>\n",
       "</div>"
      ],
      "text/plain": [
       "   Survived  Pclass     Sex   Age  SibSp  Parch     Fare Embarked  Title\n",
       "0         0       3    male  22.0      1      0   7.2500        S      1\n",
       "1         1       1  female  38.0      1      0  71.2833        C      3\n",
       "2         1       3  female  26.0      0      0   7.9250        S      2\n",
       "3         1       1  female  35.0      1      0  53.1000        S      3\n",
       "4         0       3    male  35.0      0      0   8.0500        S      1"
      ]
     },
     "execution_count": 34,
     "metadata": {},
     "output_type": "execute_result"
    }
   ],
   "source": [
    "# Lets convert the Title Feature into numerical ones:\n",
    "title_mapping = {\"Mr\": 1, \"Miss\": 2, \"Mrs\": 3, \"Master\": 4, \"Rare\": 5}\n",
    "train_df['Title'] = train_df['Title'].map(title_mapping)\n",
    "test_df['Title'] = test_df['Title'].map(title_mapping)\n",
    "train_df['Title'] = train_df['Title'].fillna(0)\n",
    "test_df['Title'] = test_df['Title'].fillna(0)\n",
    "\n",
    "train_df.head()"
   ]
  },
  {
   "cell_type": "code",
   "execution_count": 35,
   "id": "arranged-clone",
   "metadata": {
    "execution": {
     "iopub.execute_input": "2021-06-05T08:48:49.921558Z",
     "iopub.status.busy": "2021-06-05T08:48:49.920859Z",
     "iopub.status.idle": "2021-06-05T08:48:49.924316Z",
     "shell.execute_reply": "2021-06-05T08:48:49.923612Z",
     "shell.execute_reply.started": "2021-06-05T07:38:18.403912Z"
    },
    "papermill": {
     "duration": 0.114582,
     "end_time": "2021-06-05T08:48:49.924455",
     "exception": false,
     "start_time": "2021-06-05T08:48:49.809873",
     "status": "completed"
    },
    "tags": []
   },
   "outputs": [],
   "source": [
    "# Lets convert Sex into Numerical Feature. Female = 1, Male=0\n",
    "\n",
    "train_df['Sex'] = train_df['Sex'].map({'female': 1, 'male':0}).astype(int)\n",
    "test_df['Sex'] = test_df['Sex'].map({'female': 1, 'male':0}).astype(int)"
   ]
  },
  {
   "cell_type": "code",
   "execution_count": 36,
   "id": "republican-recording",
   "metadata": {
    "execution": {
     "iopub.execute_input": "2021-06-05T08:48:50.154122Z",
     "iopub.status.busy": "2021-06-05T08:48:50.153171Z",
     "iopub.status.idle": "2021-06-05T08:48:50.156724Z",
     "shell.execute_reply": "2021-06-05T08:48:50.157217Z",
     "shell.execute_reply.started": "2021-06-05T07:38:18.415623Z"
    },
    "papermill": {
     "duration": 0.129324,
     "end_time": "2021-06-05T08:48:50.157369",
     "exception": false,
     "start_time": "2021-06-05T08:48:50.028045",
     "status": "completed"
    },
    "tags": []
   },
   "outputs": [
    {
     "data": {
      "text/html": [
       "<div>\n",
       "<style scoped>\n",
       "    .dataframe tbody tr th:only-of-type {\n",
       "        vertical-align: middle;\n",
       "    }\n",
       "\n",
       "    .dataframe tbody tr th {\n",
       "        vertical-align: top;\n",
       "    }\n",
       "\n",
       "    .dataframe thead th {\n",
       "        text-align: right;\n",
       "    }\n",
       "</style>\n",
       "<table border=\"1\" class=\"dataframe\">\n",
       "  <thead>\n",
       "    <tr style=\"text-align: right;\">\n",
       "      <th></th>\n",
       "      <th>Survived</th>\n",
       "      <th>Pclass</th>\n",
       "      <th>Sex</th>\n",
       "      <th>Age</th>\n",
       "      <th>SibSp</th>\n",
       "      <th>Parch</th>\n",
       "      <th>Fare</th>\n",
       "      <th>Embarked</th>\n",
       "      <th>Title</th>\n",
       "    </tr>\n",
       "  </thead>\n",
       "  <tbody>\n",
       "    <tr>\n",
       "      <th>0</th>\n",
       "      <td>0</td>\n",
       "      <td>3</td>\n",
       "      <td>0</td>\n",
       "      <td>22.0</td>\n",
       "      <td>1</td>\n",
       "      <td>0</td>\n",
       "      <td>7.2500</td>\n",
       "      <td>S</td>\n",
       "      <td>1</td>\n",
       "    </tr>\n",
       "    <tr>\n",
       "      <th>1</th>\n",
       "      <td>1</td>\n",
       "      <td>1</td>\n",
       "      <td>1</td>\n",
       "      <td>38.0</td>\n",
       "      <td>1</td>\n",
       "      <td>0</td>\n",
       "      <td>71.2833</td>\n",
       "      <td>C</td>\n",
       "      <td>3</td>\n",
       "    </tr>\n",
       "    <tr>\n",
       "      <th>2</th>\n",
       "      <td>1</td>\n",
       "      <td>3</td>\n",
       "      <td>1</td>\n",
       "      <td>26.0</td>\n",
       "      <td>0</td>\n",
       "      <td>0</td>\n",
       "      <td>7.9250</td>\n",
       "      <td>S</td>\n",
       "      <td>2</td>\n",
       "    </tr>\n",
       "    <tr>\n",
       "      <th>3</th>\n",
       "      <td>1</td>\n",
       "      <td>1</td>\n",
       "      <td>1</td>\n",
       "      <td>35.0</td>\n",
       "      <td>1</td>\n",
       "      <td>0</td>\n",
       "      <td>53.1000</td>\n",
       "      <td>S</td>\n",
       "      <td>3</td>\n",
       "    </tr>\n",
       "    <tr>\n",
       "      <th>4</th>\n",
       "      <td>0</td>\n",
       "      <td>3</td>\n",
       "      <td>0</td>\n",
       "      <td>35.0</td>\n",
       "      <td>0</td>\n",
       "      <td>0</td>\n",
       "      <td>8.0500</td>\n",
       "      <td>S</td>\n",
       "      <td>1</td>\n",
       "    </tr>\n",
       "  </tbody>\n",
       "</table>\n",
       "</div>"
      ],
      "text/plain": [
       "   Survived  Pclass  Sex   Age  SibSp  Parch     Fare Embarked  Title\n",
       "0         0       3    0  22.0      1      0   7.2500        S      1\n",
       "1         1       1    1  38.0      1      0  71.2833        C      3\n",
       "2         1       3    1  26.0      0      0   7.9250        S      2\n",
       "3         1       1    1  35.0      1      0  53.1000        S      3\n",
       "4         0       3    0  35.0      0      0   8.0500        S      1"
      ]
     },
     "execution_count": 36,
     "metadata": {},
     "output_type": "execute_result"
    }
   ],
   "source": [
    "train_df.head()"
   ]
  },
  {
   "cell_type": "code",
   "execution_count": null,
   "id": "unlikely-agriculture",
   "metadata": {
    "papermill": {
     "duration": 0.099703,
     "end_time": "2021-06-05T08:48:50.357191",
     "exception": false,
     "start_time": "2021-06-05T08:48:50.257488",
     "status": "completed"
    },
    "tags": []
   },
   "outputs": [],
   "source": []
  },
  {
   "cell_type": "markdown",
   "id": "facial-tolerance",
   "metadata": {
    "papermill": {
     "duration": 0.099347,
     "end_time": "2021-06-05T08:48:50.555295",
     "exception": false,
     "start_time": "2021-06-05T08:48:50.455948",
     "status": "completed"
    },
    "tags": []
   },
   "source": [
    "**Completing a numerical continuous feature**\n",
    "\n",
    "Now we should start estimating and completing features with missing or null values. We will first do this for the Age feature.\n",
    "\n",
    "We can consider three methods to complete a numerical continuous feature.\n",
    "\n",
    "1. A simple way is to generate random numbers between mean and standard deviation.\n",
    "\n",
    "2. More accurate way of guessing missing values is to use other correlated features. In our case we note correlation among Age, Gender, and Pclass. Guess Age values using median values for Age across sets of Pclass and Gender feature combinations. So, median Age for Pclass=1 and Gender=0, Pclass=1 and Gender=1, and so on...\n",
    "\n",
    "3. Combine methods 1 and 2. So instead of guessing age values based on median, use random numbers between mean and standard deviation, based on sets of Pclass and Gender combinations.\n",
    "\n",
    "Method 1 and 3 will introduce random noise into our models. The results from multiple executions might vary. We will prefer method 2."
   ]
  },
  {
   "cell_type": "code",
   "execution_count": 37,
   "id": "sharp-matter",
   "metadata": {
    "execution": {
     "iopub.execute_input": "2021-06-05T08:48:50.753602Z",
     "iopub.status.busy": "2021-06-05T08:48:50.752657Z",
     "iopub.status.idle": "2021-06-05T08:48:52.025129Z",
     "shell.execute_reply": "2021-06-05T08:48:52.024552Z",
     "shell.execute_reply.started": "2021-06-05T07:38:18.442299Z"
    },
    "papermill": {
     "duration": 1.37289,
     "end_time": "2021-06-05T08:48:52.025257",
     "exception": false,
     "start_time": "2021-06-05T08:48:50.652367",
     "status": "completed"
    },
    "tags": []
   },
   "outputs": [
    {
     "data": {
      "text/plain": [
       "<seaborn.axisgrid.FacetGrid at 0x7f5792a0f3d0>"
      ]
     },
     "execution_count": 37,
     "metadata": {},
     "output_type": "execute_result"
    },
    {
     "data": {
      "image/png": "[encoded data removed]",
      "text/plain": [
       "<Figure size 514.88x475.2 with 6 Axes>"
      ]
     },
     "metadata": {
      "needs_background": "light"
     },
     "output_type": "display_data"
    }
   ],
   "source": [
    "grid = sns.FacetGrid(train_df, row='Pclass', col='Sex', height=2.2, aspect=1.6)\n",
    "grid.map(plt.hist, 'Age', alpha=.5, bins=20)\n",
    "grid.add_legend()"
   ]
  },
  {
   "cell_type": "markdown",
   "id": "elder-minneapolis",
   "metadata": {
    "papermill": {
     "duration": 0.106749,
     "end_time": "2021-06-05T08:48:52.234865",
     "exception": false,
     "start_time": "2021-06-05T08:48:52.128116",
     "status": "completed"
    },
    "tags": []
   },
   "source": [
    "Let us start by preparing an empty array to contain guessed Age values based on Pclass x Gender combinations."
   ]
  },
  {
   "cell_type": "code",
   "execution_count": 38,
   "id": "varying-frost",
   "metadata": {
    "execution": {
     "iopub.execute_input": "2021-06-05T08:48:52.475828Z",
     "iopub.status.busy": "2021-06-05T08:48:52.474921Z",
     "iopub.status.idle": "2021-06-05T08:48:52.478492Z",
     "shell.execute_reply": "2021-06-05T08:48:52.478952Z",
     "shell.execute_reply.started": "2021-06-05T07:38:19.925852Z"
    },
    "papermill": {
     "duration": 0.133513,
     "end_time": "2021-06-05T08:48:52.479119",
     "exception": false,
     "start_time": "2021-06-05T08:48:52.345606",
     "status": "completed"
    },
    "tags": []
   },
   "outputs": [
    {
     "data": {
      "text/plain": [
       "array([[0., 0., 0.],\n",
       "       [0., 0., 0.]])"
      ]
     },
     "execution_count": 38,
     "metadata": {},
     "output_type": "execute_result"
    }
   ],
   "source": [
    "guess_ages = np.zeros((2,3))\n",
    "guess_ages"
   ]
  },
  {
   "cell_type": "markdown",
   "id": "frequent-isolation",
   "metadata": {
    "papermill": {
     "duration": 0.099966,
     "end_time": "2021-06-05T08:48:52.678663",
     "exception": false,
     "start_time": "2021-06-05T08:48:52.578697",
     "status": "completed"
    },
    "tags": []
   },
   "source": [
    "Now we iterate over Sex (0 or 1) and Pclass (1, 2, 3) to calculate guessed values of Age for the six combinations."
   ]
  },
  {
   "cell_type": "code",
   "execution_count": 39,
   "id": "peaceful-understanding",
   "metadata": {
    "execution": {
     "iopub.execute_input": "2021-06-05T08:48:52.886345Z",
     "iopub.status.busy": "2021-06-05T08:48:52.885395Z",
     "iopub.status.idle": "2021-06-05T08:48:52.917473Z",
     "shell.execute_reply": "2021-06-05T08:48:52.918005Z",
     "shell.execute_reply.started": "2021-06-05T07:38:19.935533Z"
    },
    "papermill": {
     "duration": 0.138096,
     "end_time": "2021-06-05T08:48:52.918190",
     "exception": false,
     "start_time": "2021-06-05T08:48:52.780094",
     "status": "completed"
    },
    "tags": []
   },
   "outputs": [
    {
     "data": {
      "text/html": [
       "<div>\n",
       "<style scoped>\n",
       "    .dataframe tbody tr th:only-of-type {\n",
       "        vertical-align: middle;\n",
       "    }\n",
       "\n",
       "    .dataframe tbody tr th {\n",
       "        vertical-align: top;\n",
       "    }\n",
       "\n",
       "    .dataframe thead th {\n",
       "        text-align: right;\n",
       "    }\n",
       "</style>\n",
       "<table border=\"1\" class=\"dataframe\">\n",
       "  <thead>\n",
       "    <tr style=\"text-align: right;\">\n",
       "      <th></th>\n",
       "      <th>Survived</th>\n",
       "      <th>Pclass</th>\n",
       "      <th>Sex</th>\n",
       "      <th>Age</th>\n",
       "      <th>SibSp</th>\n",
       "      <th>Parch</th>\n",
       "      <th>Fare</th>\n",
       "      <th>Embarked</th>\n",
       "      <th>Title</th>\n",
       "    </tr>\n",
       "  </thead>\n",
       "  <tbody>\n",
       "    <tr>\n",
       "      <th>0</th>\n",
       "      <td>0</td>\n",
       "      <td>3</td>\n",
       "      <td>0</td>\n",
       "      <td>22</td>\n",
       "      <td>1</td>\n",
       "      <td>0</td>\n",
       "      <td>7.2500</td>\n",
       "      <td>S</td>\n",
       "      <td>1</td>\n",
       "    </tr>\n",
       "    <tr>\n",
       "      <th>1</th>\n",
       "      <td>1</td>\n",
       "      <td>1</td>\n",
       "      <td>1</td>\n",
       "      <td>38</td>\n",
       "      <td>1</td>\n",
       "      <td>0</td>\n",
       "      <td>71.2833</td>\n",
       "      <td>C</td>\n",
       "      <td>3</td>\n",
       "    </tr>\n",
       "    <tr>\n",
       "      <th>2</th>\n",
       "      <td>1</td>\n",
       "      <td>3</td>\n",
       "      <td>1</td>\n",
       "      <td>26</td>\n",
       "      <td>0</td>\n",
       "      <td>0</td>\n",
       "      <td>7.9250</td>\n",
       "      <td>S</td>\n",
       "      <td>2</td>\n",
       "    </tr>\n",
       "    <tr>\n",
       "      <th>3</th>\n",
       "      <td>1</td>\n",
       "      <td>1</td>\n",
       "      <td>1</td>\n",
       "      <td>35</td>\n",
       "      <td>1</td>\n",
       "      <td>0</td>\n",
       "      <td>53.1000</td>\n",
       "      <td>S</td>\n",
       "      <td>3</td>\n",
       "    </tr>\n",
       "    <tr>\n",
       "      <th>4</th>\n",
       "      <td>0</td>\n",
       "      <td>3</td>\n",
       "      <td>0</td>\n",
       "      <td>35</td>\n",
       "      <td>0</td>\n",
       "      <td>0</td>\n",
       "      <td>8.0500</td>\n",
       "      <td>S</td>\n",
       "      <td>1</td>\n",
       "    </tr>\n",
       "  </tbody>\n",
       "</table>\n",
       "</div>"
      ],
      "text/plain": [
       "   Survived  Pclass  Sex  Age  SibSp  Parch     Fare Embarked  Title\n",
       "0         0       3    0   22      1      0   7.2500        S      1\n",
       "1         1       1    1   38      1      0  71.2833        C      3\n",
       "2         1       3    1   26      0      0   7.9250        S      2\n",
       "3         1       1    1   35      1      0  53.1000        S      3\n",
       "4         0       3    0   35      0      0   8.0500        S      1"
      ]
     },
     "execution_count": 39,
     "metadata": {},
     "output_type": "execute_result"
    }
   ],
   "source": [
    "for i in range(0, 2):\n",
    "    for j in range(0, 3):\n",
    "        guess_df = train_df[(train_df['Sex'] == i) & \\\n",
    "                                  (train_df['Pclass'] == j+1)]['Age'].dropna()\n",
    "        \n",
    "        age_guess = guess_df.median()\n",
    "\n",
    "        # Convert random age float to nearest .5 age\n",
    "        guess_ages[i,j] = int( age_guess/0.5 + 0.5 ) * 0.5\n",
    "\n",
    "for i in range(0, 2):\n",
    "    for j in range(0, 3):\n",
    "        train_df.loc[ (train_df.Age.isnull()) & (train_df.Sex == i) & (train_df.Pclass == j+1),\\\n",
    "                'Age'] = guess_ages[i,j]\n",
    "\n",
    "train_df['Age'] = train_df['Age'].astype(int)\n",
    "\n",
    "train_df.head()"
   ]
  },
  {
   "cell_type": "code",
   "execution_count": 40,
   "id": "dynamic-robert",
   "metadata": {
    "execution": {
     "iopub.execute_input": "2021-06-05T08:48:53.129657Z",
     "iopub.status.busy": "2021-06-05T08:48:53.129027Z",
     "iopub.status.idle": "2021-06-05T08:48:53.134117Z",
     "shell.execute_reply": "2021-06-05T08:48:53.134642Z",
     "shell.execute_reply.started": "2021-06-05T07:38:19.976735Z"
    },
    "papermill": {
     "duration": 0.111491,
     "end_time": "2021-06-05T08:48:53.134848",
     "exception": false,
     "start_time": "2021-06-05T08:48:53.023357",
     "status": "completed"
    },
    "tags": []
   },
   "outputs": [
    {
     "data": {
      "text/plain": [
       "array([[40. , 30. , 25. ],\n",
       "       [35. , 28. , 21.5]])"
      ]
     },
     "execution_count": 40,
     "metadata": {},
     "output_type": "execute_result"
    }
   ],
   "source": [
    "guess_ages"
   ]
  },
  {
   "cell_type": "code",
   "execution_count": 41,
   "id": "responsible-participant",
   "metadata": {
    "execution": {
     "iopub.execute_input": "2021-06-05T08:48:53.344443Z",
     "iopub.status.busy": "2021-06-05T08:48:53.343863Z",
     "iopub.status.idle": "2021-06-05T08:48:53.367030Z",
     "shell.execute_reply": "2021-06-05T08:48:53.367511Z",
     "shell.execute_reply.started": "2021-06-05T07:38:19.985528Z"
    },
    "papermill": {
     "duration": 0.128627,
     "end_time": "2021-06-05T08:48:53.367670",
     "exception": false,
     "start_time": "2021-06-05T08:48:53.239043",
     "status": "completed"
    },
    "tags": []
   },
   "outputs": [],
   "source": [
    "for i in range(0, 2):\n",
    "    for j in range(0, 3):\n",
    "        guess_df = test_df[(test_df['Sex'] == i) & \\\n",
    "                                  (test_df['Pclass'] == j+1)]['Age'].dropna()\n",
    "        \n",
    "        age_guess = guess_df.median()\n",
    "\n",
    "        # Convert random age float to nearest .5 age\n",
    "        guess_ages[i,j] = int( age_guess/0.5 + 0.5 ) * 0.5\n",
    "\n",
    "for i in range(0, 2):\n",
    "    for j in range(0, 3):\n",
    "        test_df.loc[ (test_df.Age.isnull()) & (test_df.Sex == i) & (test_df.Pclass == j+1),\\\n",
    "                'Age'] = guess_ages[i,j]\n",
    "\n",
    "test_df['Age'] = test_df['Age'].astype(int)"
   ]
  },
  {
   "cell_type": "code",
   "execution_count": 42,
   "id": "built-emphasis",
   "metadata": {
    "execution": {
     "iopub.execute_input": "2021-06-05T08:48:53.578300Z",
     "iopub.status.busy": "2021-06-05T08:48:53.577722Z",
     "iopub.status.idle": "2021-06-05T08:48:53.582266Z",
     "shell.execute_reply": "2021-06-05T08:48:53.582831Z",
     "shell.execute_reply.started": "2021-06-05T07:38:20.016003Z"
    },
    "papermill": {
     "duration": 0.110479,
     "end_time": "2021-06-05T08:48:53.582992",
     "exception": false,
     "start_time": "2021-06-05T08:48:53.472513",
     "status": "completed"
    },
    "tags": []
   },
   "outputs": [
    {
     "data": {
      "text/plain": [
       "array([[42., 28., 24.],\n",
       "       [41., 24., 22.]])"
      ]
     },
     "execution_count": 42,
     "metadata": {},
     "output_type": "execute_result"
    }
   ],
   "source": [
    "guess_ages"
   ]
  },
  {
   "cell_type": "markdown",
   "id": "alpha-scoop",
   "metadata": {
    "papermill": {
     "duration": 0.10177,
     "end_time": "2021-06-05T08:48:53.788333",
     "exception": false,
     "start_time": "2021-06-05T08:48:53.686563",
     "status": "completed"
    },
    "tags": []
   },
   "source": [
    "Let us create Age bands and determine correlations with Survived."
   ]
  },
  {
   "cell_type": "code",
   "execution_count": 43,
   "id": "looking-pressure",
   "metadata": {
    "execution": {
     "iopub.execute_input": "2021-06-05T08:48:53.997579Z",
     "iopub.status.busy": "2021-06-05T08:48:53.996955Z",
     "iopub.status.idle": "2021-06-05T08:48:54.022837Z",
     "shell.execute_reply": "2021-06-05T08:48:54.022178Z",
     "shell.execute_reply.started": "2021-06-05T07:38:20.026149Z"
    },
    "papermill": {
     "duration": 0.132516,
     "end_time": "2021-06-05T08:48:54.022981",
     "exception": false,
     "start_time": "2021-06-05T08:48:53.890465",
     "status": "completed"
    },
    "tags": []
   },
   "outputs": [
    {
     "data": {
      "text/html": [
       "<div>\n",
       "<style scoped>\n",
       "    .dataframe tbody tr th:only-of-type {\n",
       "        vertical-align: middle;\n",
       "    }\n",
       "\n",
       "    .dataframe tbody tr th {\n",
       "        vertical-align: top;\n",
       "    }\n",
       "\n",
       "    .dataframe thead th {\n",
       "        text-align: right;\n",
       "    }\n",
       "</style>\n",
       "<table border=\"1\" class=\"dataframe\">\n",
       "  <thead>\n",
       "    <tr style=\"text-align: right;\">\n",
       "      <th></th>\n",
       "      <th>AgeBand</th>\n",
       "      <th>Survived</th>\n",
       "    </tr>\n",
       "  </thead>\n",
       "  <tbody>\n",
       "    <tr>\n",
       "      <th>0</th>\n",
       "      <td>(-0.08, 16.0]</td>\n",
       "      <td>0.550000</td>\n",
       "    </tr>\n",
       "    <tr>\n",
       "      <th>1</th>\n",
       "      <td>(16.0, 32.0]</td>\n",
       "      <td>0.337374</td>\n",
       "    </tr>\n",
       "    <tr>\n",
       "      <th>2</th>\n",
       "      <td>(32.0, 48.0]</td>\n",
       "      <td>0.412037</td>\n",
       "    </tr>\n",
       "    <tr>\n",
       "      <th>3</th>\n",
       "      <td>(48.0, 64.0]</td>\n",
       "      <td>0.434783</td>\n",
       "    </tr>\n",
       "    <tr>\n",
       "      <th>4</th>\n",
       "      <td>(64.0, 80.0]</td>\n",
       "      <td>0.090909</td>\n",
       "    </tr>\n",
       "  </tbody>\n",
       "</table>\n",
       "</div>"
      ],
      "text/plain": [
       "         AgeBand  Survived\n",
       "0  (-0.08, 16.0]  0.550000\n",
       "1   (16.0, 32.0]  0.337374\n",
       "2   (32.0, 48.0]  0.412037\n",
       "3   (48.0, 64.0]  0.434783\n",
       "4   (64.0, 80.0]  0.090909"
      ]
     },
     "execution_count": 43,
     "metadata": {},
     "output_type": "execute_result"
    }
   ],
   "source": [
    "train_df['AgeBand'] = pd.cut(train_df['Age'], 5)\n",
    "train_df[['AgeBand', 'Survived']].groupby(['AgeBand'], as_index=False).mean().sort_values(by='AgeBand', ascending=True)"
   ]
  },
  {
   "cell_type": "markdown",
   "id": "universal-tablet",
   "metadata": {
    "papermill": {
     "duration": 0.103869,
     "end_time": "2021-06-05T08:48:54.235543",
     "exception": false,
     "start_time": "2021-06-05T08:48:54.131674",
     "status": "completed"
    },
    "tags": []
   },
   "source": [
    "Let us replace Age with ordinals based on these bands."
   ]
  },
  {
   "cell_type": "code",
   "execution_count": 44,
   "id": "fuzzy-robertson",
   "metadata": {
    "execution": {
     "iopub.execute_input": "2021-06-05T08:48:54.454033Z",
     "iopub.status.busy": "2021-06-05T08:48:54.452959Z",
     "iopub.status.idle": "2021-06-05T08:48:54.468977Z",
     "shell.execute_reply": "2021-06-05T08:48:54.469426Z",
     "shell.execute_reply.started": "2021-06-05T07:38:20.054437Z"
    },
    "papermill": {
     "duration": 0.133448,
     "end_time": "2021-06-05T08:48:54.469595",
     "exception": false,
     "start_time": "2021-06-05T08:48:54.336147",
     "status": "completed"
    },
    "tags": []
   },
   "outputs": [
    {
     "data": {
      "text/html": [
       "<div>\n",
       "<style scoped>\n",
       "    .dataframe tbody tr th:only-of-type {\n",
       "        vertical-align: middle;\n",
       "    }\n",
       "\n",
       "    .dataframe tbody tr th {\n",
       "        vertical-align: top;\n",
       "    }\n",
       "\n",
       "    .dataframe thead th {\n",
       "        text-align: right;\n",
       "    }\n",
       "</style>\n",
       "<table border=\"1\" class=\"dataframe\">\n",
       "  <thead>\n",
       "    <tr style=\"text-align: right;\">\n",
       "      <th></th>\n",
       "      <th>Survived</th>\n",
       "      <th>Pclass</th>\n",
       "      <th>Sex</th>\n",
       "      <th>Age</th>\n",
       "      <th>SibSp</th>\n",
       "      <th>Parch</th>\n",
       "      <th>Fare</th>\n",
       "      <th>Embarked</th>\n",
       "      <th>Title</th>\n",
       "      <th>AgeBand</th>\n",
       "    </tr>\n",
       "  </thead>\n",
       "  <tbody>\n",
       "    <tr>\n",
       "      <th>0</th>\n",
       "      <td>0</td>\n",
       "      <td>3</td>\n",
       "      <td>0</td>\n",
       "      <td>1</td>\n",
       "      <td>1</td>\n",
       "      <td>0</td>\n",
       "      <td>7.2500</td>\n",
       "      <td>S</td>\n",
       "      <td>1</td>\n",
       "      <td>(16.0, 32.0]</td>\n",
       "    </tr>\n",
       "    <tr>\n",
       "      <th>1</th>\n",
       "      <td>1</td>\n",
       "      <td>1</td>\n",
       "      <td>1</td>\n",
       "      <td>2</td>\n",
       "      <td>1</td>\n",
       "      <td>0</td>\n",
       "      <td>71.2833</td>\n",
       "      <td>C</td>\n",
       "      <td>3</td>\n",
       "      <td>(32.0, 48.0]</td>\n",
       "    </tr>\n",
       "    <tr>\n",
       "      <th>2</th>\n",
       "      <td>1</td>\n",
       "      <td>3</td>\n",
       "      <td>1</td>\n",
       "      <td>1</td>\n",
       "      <td>0</td>\n",
       "      <td>0</td>\n",
       "      <td>7.9250</td>\n",
       "      <td>S</td>\n",
       "      <td>2</td>\n",
       "      <td>(16.0, 32.0]</td>\n",
       "    </tr>\n",
       "    <tr>\n",
       "      <th>3</th>\n",
       "      <td>1</td>\n",
       "      <td>1</td>\n",
       "      <td>1</td>\n",
       "      <td>2</td>\n",
       "      <td>1</td>\n",
       "      <td>0</td>\n",
       "      <td>53.1000</td>\n",
       "      <td>S</td>\n",
       "      <td>3</td>\n",
       "      <td>(32.0, 48.0]</td>\n",
       "    </tr>\n",
       "    <tr>\n",
       "      <th>4</th>\n",
       "      <td>0</td>\n",
       "      <td>3</td>\n",
       "      <td>0</td>\n",
       "      <td>2</td>\n",
       "      <td>0</td>\n",
       "      <td>0</td>\n",
       "      <td>8.0500</td>\n",
       "      <td>S</td>\n",
       "      <td>1</td>\n",
       "      <td>(32.0, 48.0]</td>\n",
       "    </tr>\n",
       "  </tbody>\n",
       "</table>\n",
       "</div>"
      ],
      "text/plain": [
       "   Survived  Pclass  Sex  Age  SibSp  Parch     Fare Embarked  Title  \\\n",
       "0         0       3    0    1      1      0   7.2500        S      1   \n",
       "1         1       1    1    2      1      0  71.2833        C      3   \n",
       "2         1       3    1    1      0      0   7.9250        S      2   \n",
       "3         1       1    1    2      1      0  53.1000        S      3   \n",
       "4         0       3    0    2      0      0   8.0500        S      1   \n",
       "\n",
       "        AgeBand  \n",
       "0  (16.0, 32.0]  \n",
       "1  (32.0, 48.0]  \n",
       "2  (16.0, 32.0]  \n",
       "3  (32.0, 48.0]  \n",
       "4  (32.0, 48.0]  "
      ]
     },
     "execution_count": 44,
     "metadata": {},
     "output_type": "execute_result"
    }
   ],
   "source": [
    "train_df.loc[ train_df['Age'] <= 16, 'Age'] = 0\n",
    "train_df.loc[(train_df['Age'] > 16) & (train_df['Age'] <= 32), 'Age'] = 1\n",
    "train_df.loc[(train_df['Age'] > 32) & (train_df['Age'] <= 48), 'Age'] = 2\n",
    "train_df.loc[(train_df['Age'] > 48) & (train_df['Age'] <= 64), 'Age'] = 3\n",
    "train_df.loc[ train_df['Age'] > 64, 'Age'] = 4\n",
    "train_df.head()"
   ]
  },
  {
   "cell_type": "code",
   "execution_count": 45,
   "id": "postal-parliament",
   "metadata": {
    "execution": {
     "iopub.execute_input": "2021-06-05T08:48:54.682115Z",
     "iopub.status.busy": "2021-06-05T08:48:54.681175Z",
     "iopub.status.idle": "2021-06-05T08:48:54.700181Z",
     "shell.execute_reply": "2021-06-05T08:48:54.700606Z",
     "shell.execute_reply.started": "2021-06-05T07:38:20.082899Z"
    },
    "papermill": {
     "duration": 0.126753,
     "end_time": "2021-06-05T08:48:54.700802",
     "exception": false,
     "start_time": "2021-06-05T08:48:54.574049",
     "status": "completed"
    },
    "tags": []
   },
   "outputs": [
    {
     "data": {
      "text/html": [
       "<div>\n",
       "<style scoped>\n",
       "    .dataframe tbody tr th:only-of-type {\n",
       "        vertical-align: middle;\n",
       "    }\n",
       "\n",
       "    .dataframe tbody tr th {\n",
       "        vertical-align: top;\n",
       "    }\n",
       "\n",
       "    .dataframe thead th {\n",
       "        text-align: right;\n",
       "    }\n",
       "</style>\n",
       "<table border=\"1\" class=\"dataframe\">\n",
       "  <thead>\n",
       "    <tr style=\"text-align: right;\">\n",
       "      <th></th>\n",
       "      <th>PassengerId</th>\n",
       "      <th>Pclass</th>\n",
       "      <th>Sex</th>\n",
       "      <th>Age</th>\n",
       "      <th>SibSp</th>\n",
       "      <th>Parch</th>\n",
       "      <th>Fare</th>\n",
       "      <th>Embarked</th>\n",
       "      <th>Title</th>\n",
       "    </tr>\n",
       "  </thead>\n",
       "  <tbody>\n",
       "    <tr>\n",
       "      <th>0</th>\n",
       "      <td>892</td>\n",
       "      <td>3</td>\n",
       "      <td>0</td>\n",
       "      <td>2</td>\n",
       "      <td>0</td>\n",
       "      <td>0</td>\n",
       "      <td>7.8292</td>\n",
       "      <td>Q</td>\n",
       "      <td>1</td>\n",
       "    </tr>\n",
       "    <tr>\n",
       "      <th>1</th>\n",
       "      <td>893</td>\n",
       "      <td>3</td>\n",
       "      <td>1</td>\n",
       "      <td>2</td>\n",
       "      <td>1</td>\n",
       "      <td>0</td>\n",
       "      <td>7.0000</td>\n",
       "      <td>S</td>\n",
       "      <td>3</td>\n",
       "    </tr>\n",
       "    <tr>\n",
       "      <th>2</th>\n",
       "      <td>894</td>\n",
       "      <td>2</td>\n",
       "      <td>0</td>\n",
       "      <td>3</td>\n",
       "      <td>0</td>\n",
       "      <td>0</td>\n",
       "      <td>9.6875</td>\n",
       "      <td>Q</td>\n",
       "      <td>1</td>\n",
       "    </tr>\n",
       "    <tr>\n",
       "      <th>3</th>\n",
       "      <td>895</td>\n",
       "      <td>3</td>\n",
       "      <td>0</td>\n",
       "      <td>1</td>\n",
       "      <td>0</td>\n",
       "      <td>0</td>\n",
       "      <td>8.6625</td>\n",
       "      <td>S</td>\n",
       "      <td>1</td>\n",
       "    </tr>\n",
       "    <tr>\n",
       "      <th>4</th>\n",
       "      <td>896</td>\n",
       "      <td>3</td>\n",
       "      <td>1</td>\n",
       "      <td>1</td>\n",
       "      <td>1</td>\n",
       "      <td>1</td>\n",
       "      <td>12.2875</td>\n",
       "      <td>S</td>\n",
       "      <td>3</td>\n",
       "    </tr>\n",
       "  </tbody>\n",
       "</table>\n",
       "</div>"
      ],
      "text/plain": [
       "   PassengerId  Pclass  Sex  Age  SibSp  Parch     Fare Embarked  Title\n",
       "0          892       3    0    2      0      0   7.8292        Q      1\n",
       "1          893       3    1    2      1      0   7.0000        S      3\n",
       "2          894       2    0    3      0      0   9.6875        Q      1\n",
       "3          895       3    0    1      0      0   8.6625        S      1\n",
       "4          896       3    1    1      1      1  12.2875        S      3"
      ]
     },
     "execution_count": 45,
     "metadata": {},
     "output_type": "execute_result"
    }
   ],
   "source": [
    "test_df.loc[ test_df['Age'] <= 16, 'Age'] = 0\n",
    "test_df.loc[(test_df['Age'] > 16) & (test_df['Age'] <= 32), 'Age'] = 1\n",
    "test_df.loc[(test_df['Age'] > 32) & (test_df['Age'] <= 48), 'Age'] = 2\n",
    "test_df.loc[(test_df['Age'] > 48) & (test_df['Age'] <= 64), 'Age'] = 3\n",
    "test_df.loc[ test_df['Age'] > 64, 'Age'] = 4\n",
    "test_df.head()"
   ]
  },
  {
   "cell_type": "code",
   "execution_count": null,
   "id": "organized-shape",
   "metadata": {
    "execution": {
     "iopub.execute_input": "2021-06-05T07:49:24.660139Z",
     "iopub.status.busy": "2021-06-05T07:49:24.659787Z",
     "iopub.status.idle": "2021-06-05T07:49:24.666934Z",
     "shell.execute_reply": "2021-06-05T07:49:24.665661Z",
     "shell.execute_reply.started": "2021-06-05T07:49:24.660109Z"
    },
    "papermill": {
     "duration": 0.145865,
     "end_time": "2021-06-05T08:48:54.952981",
     "exception": false,
     "start_time": "2021-06-05T08:48:54.807116",
     "status": "completed"
    },
    "tags": []
   },
   "outputs": [],
   "source": []
  },
  {
   "cell_type": "markdown",
   "id": "improving-cornell",
   "metadata": {
    "papermill": {
     "duration": 0.104152,
     "end_time": "2021-06-05T08:48:55.162801",
     "exception": false,
     "start_time": "2021-06-05T08:48:55.058649",
     "status": "completed"
    },
    "tags": []
   },
   "source": [
    "We can now remove the AgeBand feature."
   ]
  },
  {
   "cell_type": "code",
   "execution_count": 46,
   "id": "declared-pixel",
   "metadata": {
    "execution": {
     "iopub.execute_input": "2021-06-05T08:48:55.371764Z",
     "iopub.status.busy": "2021-06-05T08:48:55.371120Z",
     "iopub.status.idle": "2021-06-05T08:48:55.383220Z",
     "shell.execute_reply": "2021-06-05T08:48:55.383675Z",
     "shell.execute_reply.started": "2021-06-05T07:38:20.109756Z"
    },
    "papermill": {
     "duration": 0.1197,
     "end_time": "2021-06-05T08:48:55.383834",
     "exception": false,
     "start_time": "2021-06-05T08:48:55.264134",
     "status": "completed"
    },
    "tags": []
   },
   "outputs": [
    {
     "data": {
      "text/html": [
       "<div>\n",
       "<style scoped>\n",
       "    .dataframe tbody tr th:only-of-type {\n",
       "        vertical-align: middle;\n",
       "    }\n",
       "\n",
       "    .dataframe tbody tr th {\n",
       "        vertical-align: top;\n",
       "    }\n",
       "\n",
       "    .dataframe thead th {\n",
       "        text-align: right;\n",
       "    }\n",
       "</style>\n",
       "<table border=\"1\" class=\"dataframe\">\n",
       "  <thead>\n",
       "    <tr style=\"text-align: right;\">\n",
       "      <th></th>\n",
       "      <th>Survived</th>\n",
       "      <th>Pclass</th>\n",
       "      <th>Sex</th>\n",
       "      <th>Age</th>\n",
       "      <th>SibSp</th>\n",
       "      <th>Parch</th>\n",
       "      <th>Fare</th>\n",
       "      <th>Embarked</th>\n",
       "      <th>Title</th>\n",
       "    </tr>\n",
       "  </thead>\n",
       "  <tbody>\n",
       "    <tr>\n",
       "      <th>0</th>\n",
       "      <td>0</td>\n",
       "      <td>3</td>\n",
       "      <td>0</td>\n",
       "      <td>1</td>\n",
       "      <td>1</td>\n",
       "      <td>0</td>\n",
       "      <td>7.2500</td>\n",
       "      <td>S</td>\n",
       "      <td>1</td>\n",
       "    </tr>\n",
       "    <tr>\n",
       "      <th>1</th>\n",
       "      <td>1</td>\n",
       "      <td>1</td>\n",
       "      <td>1</td>\n",
       "      <td>2</td>\n",
       "      <td>1</td>\n",
       "      <td>0</td>\n",
       "      <td>71.2833</td>\n",
       "      <td>C</td>\n",
       "      <td>3</td>\n",
       "    </tr>\n",
       "    <tr>\n",
       "      <th>2</th>\n",
       "      <td>1</td>\n",
       "      <td>3</td>\n",
       "      <td>1</td>\n",
       "      <td>1</td>\n",
       "      <td>0</td>\n",
       "      <td>0</td>\n",
       "      <td>7.9250</td>\n",
       "      <td>S</td>\n",
       "      <td>2</td>\n",
       "    </tr>\n",
       "    <tr>\n",
       "      <th>3</th>\n",
       "      <td>1</td>\n",
       "      <td>1</td>\n",
       "      <td>1</td>\n",
       "      <td>2</td>\n",
       "      <td>1</td>\n",
       "      <td>0</td>\n",
       "      <td>53.1000</td>\n",
       "      <td>S</td>\n",
       "      <td>3</td>\n",
       "    </tr>\n",
       "    <tr>\n",
       "      <th>4</th>\n",
       "      <td>0</td>\n",
       "      <td>3</td>\n",
       "      <td>0</td>\n",
       "      <td>2</td>\n",
       "      <td>0</td>\n",
       "      <td>0</td>\n",
       "      <td>8.0500</td>\n",
       "      <td>S</td>\n",
       "      <td>1</td>\n",
       "    </tr>\n",
       "  </tbody>\n",
       "</table>\n",
       "</div>"
      ],
      "text/plain": [
       "   Survived  Pclass  Sex  Age  SibSp  Parch     Fare Embarked  Title\n",
       "0         0       3    0    1      1      0   7.2500        S      1\n",
       "1         1       1    1    2      1      0  71.2833        C      3\n",
       "2         1       3    1    1      0      0   7.9250        S      2\n",
       "3         1       1    1    2      1      0  53.1000        S      3\n",
       "4         0       3    0    2      0      0   8.0500        S      1"
      ]
     },
     "execution_count": 46,
     "metadata": {},
     "output_type": "execute_result"
    }
   ],
   "source": [
    "train_df = train_df.drop(['AgeBand'], axis=1)\n",
    "train_df.head()"
   ]
  },
  {
   "cell_type": "markdown",
   "id": "resident-farmer",
   "metadata": {
    "papermill": {
     "duration": 0.103261,
     "end_time": "2021-06-05T08:48:55.590804",
     "exception": false,
     "start_time": "2021-06-05T08:48:55.487543",
     "status": "completed"
    },
    "tags": []
   },
   "source": [
    "- Now, lets repeat the Same for the Fare Feature and convert it into Numeric feature.\n",
    "\n",
    "- But, First we need to fill the one missing Value present there.\n",
    "    - For this, we will simply use the Median value"
   ]
  },
  {
   "cell_type": "code",
   "execution_count": 47,
   "id": "completed-shipping",
   "metadata": {
    "execution": {
     "iopub.execute_input": "2021-06-05T08:48:55.796574Z",
     "iopub.status.busy": "2021-06-05T08:48:55.796003Z",
     "iopub.status.idle": "2021-06-05T08:48:55.803139Z",
     "shell.execute_reply": "2021-06-05T08:48:55.802510Z",
     "shell.execute_reply.started": "2021-06-05T07:38:20.130815Z"
    },
    "papermill": {
     "duration": 0.109919,
     "end_time": "2021-06-05T08:48:55.803271",
     "exception": false,
     "start_time": "2021-06-05T08:48:55.693352",
     "status": "completed"
    },
    "tags": []
   },
   "outputs": [
    {
     "data": {
      "text/plain": [
       "0"
      ]
     },
     "execution_count": 47,
     "metadata": {},
     "output_type": "execute_result"
    }
   ],
   "source": [
    "#Replace NA to median value \n",
    "test_df['Fare'].fillna(test_df['Fare'].dropna().median(), inplace=True)\n",
    "test_df['Fare'].isnull().sum()"
   ]
  },
  {
   "cell_type": "code",
   "execution_count": 48,
   "id": "crucial-understanding",
   "metadata": {
    "execution": {
     "iopub.execute_input": "2021-06-05T08:48:56.015614Z",
     "iopub.status.busy": "2021-06-05T08:48:56.014967Z",
     "iopub.status.idle": "2021-06-05T08:48:56.017477Z",
     "shell.execute_reply": "2021-06-05T08:48:56.017878Z",
     "shell.execute_reply.started": "2021-06-05T07:38:20.144844Z"
    },
    "papermill": {
     "duration": 0.111106,
     "end_time": "2021-06-05T08:48:56.018026",
     "exception": false,
     "start_time": "2021-06-05T08:48:55.906920",
     "status": "completed"
    },
    "tags": []
   },
   "outputs": [
    {
     "data": {
      "text/plain": [
       "14.4542"
      ]
     },
     "execution_count": 48,
     "metadata": {},
     "output_type": "execute_result"
    }
   ],
   "source": [
    "test_df['Fare'].median()"
   ]
  },
  {
   "cell_type": "code",
   "execution_count": 49,
   "id": "mature-brush",
   "metadata": {
    "execution": {
     "iopub.execute_input": "2021-06-05T08:48:56.226911Z",
     "iopub.status.busy": "2021-06-05T08:48:56.226365Z",
     "iopub.status.idle": "2021-06-05T08:48:56.236944Z",
     "shell.execute_reply": "2021-06-05T08:48:56.237378Z",
     "shell.execute_reply.started": "2021-06-05T07:38:20.156551Z"
    },
    "papermill": {
     "duration": 0.116538,
     "end_time": "2021-06-05T08:48:56.237521",
     "exception": false,
     "start_time": "2021-06-05T08:48:56.120983",
     "status": "completed"
    },
    "tags": []
   },
   "outputs": [
    {
     "data": {
      "text/html": [
       "<div>\n",
       "<style scoped>\n",
       "    .dataframe tbody tr th:only-of-type {\n",
       "        vertical-align: middle;\n",
       "    }\n",
       "\n",
       "    .dataframe tbody tr th {\n",
       "        vertical-align: top;\n",
       "    }\n",
       "\n",
       "    .dataframe thead th {\n",
       "        text-align: right;\n",
       "    }\n",
       "</style>\n",
       "<table border=\"1\" class=\"dataframe\">\n",
       "  <thead>\n",
       "    <tr style=\"text-align: right;\">\n",
       "      <th></th>\n",
       "      <th>PassengerId</th>\n",
       "      <th>Pclass</th>\n",
       "      <th>Sex</th>\n",
       "      <th>Age</th>\n",
       "      <th>SibSp</th>\n",
       "      <th>Parch</th>\n",
       "      <th>Fare</th>\n",
       "      <th>Embarked</th>\n",
       "      <th>Title</th>\n",
       "    </tr>\n",
       "  </thead>\n",
       "  <tbody>\n",
       "    <tr>\n",
       "      <th>0</th>\n",
       "      <td>892</td>\n",
       "      <td>3</td>\n",
       "      <td>0</td>\n",
       "      <td>2</td>\n",
       "      <td>0</td>\n",
       "      <td>0</td>\n",
       "      <td>7.8292</td>\n",
       "      <td>Q</td>\n",
       "      <td>1</td>\n",
       "    </tr>\n",
       "    <tr>\n",
       "      <th>1</th>\n",
       "      <td>893</td>\n",
       "      <td>3</td>\n",
       "      <td>1</td>\n",
       "      <td>2</td>\n",
       "      <td>1</td>\n",
       "      <td>0</td>\n",
       "      <td>7.0000</td>\n",
       "      <td>S</td>\n",
       "      <td>3</td>\n",
       "    </tr>\n",
       "    <tr>\n",
       "      <th>2</th>\n",
       "      <td>894</td>\n",
       "      <td>2</td>\n",
       "      <td>0</td>\n",
       "      <td>3</td>\n",
       "      <td>0</td>\n",
       "      <td>0</td>\n",
       "      <td>9.6875</td>\n",
       "      <td>Q</td>\n",
       "      <td>1</td>\n",
       "    </tr>\n",
       "    <tr>\n",
       "      <th>3</th>\n",
       "      <td>895</td>\n",
       "      <td>3</td>\n",
       "      <td>0</td>\n",
       "      <td>1</td>\n",
       "      <td>0</td>\n",
       "      <td>0</td>\n",
       "      <td>8.6625</td>\n",
       "      <td>S</td>\n",
       "      <td>1</td>\n",
       "    </tr>\n",
       "    <tr>\n",
       "      <th>4</th>\n",
       "      <td>896</td>\n",
       "      <td>3</td>\n",
       "      <td>1</td>\n",
       "      <td>1</td>\n",
       "      <td>1</td>\n",
       "      <td>1</td>\n",
       "      <td>12.2875</td>\n",
       "      <td>S</td>\n",
       "      <td>3</td>\n",
       "    </tr>\n",
       "  </tbody>\n",
       "</table>\n",
       "</div>"
      ],
      "text/plain": [
       "   PassengerId  Pclass  Sex  Age  SibSp  Parch     Fare Embarked  Title\n",
       "0          892       3    0    2      0      0   7.8292        Q      1\n",
       "1          893       3    1    2      1      0   7.0000        S      3\n",
       "2          894       2    0    3      0      0   9.6875        Q      1\n",
       "3          895       3    0    1      0      0   8.6625        S      1\n",
       "4          896       3    1    1      1      1  12.2875        S      3"
      ]
     },
     "execution_count": 49,
     "metadata": {},
     "output_type": "execute_result"
    }
   ],
   "source": [
    "test_df.head()"
   ]
  },
  {
   "cell_type": "code",
   "execution_count": 50,
   "id": "several-satin",
   "metadata": {
    "execution": {
     "iopub.execute_input": "2021-06-05T08:48:56.453636Z",
     "iopub.status.busy": "2021-06-05T08:48:56.452991Z",
     "iopub.status.idle": "2021-06-05T08:48:56.482761Z",
     "shell.execute_reply": "2021-06-05T08:48:56.483254Z",
     "shell.execute_reply.started": "2021-06-05T07:50:35.721008Z"
    },
    "papermill": {
     "duration": 0.140163,
     "end_time": "2021-06-05T08:48:56.483431",
     "exception": false,
     "start_time": "2021-06-05T08:48:56.343268",
     "status": "completed"
    },
    "tags": []
   },
   "outputs": [
    {
     "data": {
      "text/html": [
       "<div>\n",
       "<style scoped>\n",
       "    .dataframe tbody tr th:only-of-type {\n",
       "        vertical-align: middle;\n",
       "    }\n",
       "\n",
       "    .dataframe tbody tr th {\n",
       "        vertical-align: top;\n",
       "    }\n",
       "\n",
       "    .dataframe thead th {\n",
       "        text-align: right;\n",
       "    }\n",
       "</style>\n",
       "<table border=\"1\" class=\"dataframe\">\n",
       "  <thead>\n",
       "    <tr style=\"text-align: right;\">\n",
       "      <th></th>\n",
       "      <th>Survived</th>\n",
       "      <th>Pclass</th>\n",
       "      <th>Sex</th>\n",
       "      <th>Age</th>\n",
       "      <th>SibSp</th>\n",
       "      <th>Parch</th>\n",
       "      <th>Fare</th>\n",
       "      <th>Title</th>\n",
       "    </tr>\n",
       "  </thead>\n",
       "  <tbody>\n",
       "    <tr>\n",
       "      <th>count</th>\n",
       "      <td>891.000000</td>\n",
       "      <td>891.000000</td>\n",
       "      <td>891.000000</td>\n",
       "      <td>891.000000</td>\n",
       "      <td>891.000000</td>\n",
       "      <td>891.000000</td>\n",
       "      <td>891.000000</td>\n",
       "      <td>891.000000</td>\n",
       "    </tr>\n",
       "    <tr>\n",
       "      <th>mean</th>\n",
       "      <td>0.383838</td>\n",
       "      <td>2.308642</td>\n",
       "      <td>0.352413</td>\n",
       "      <td>1.322110</td>\n",
       "      <td>0.523008</td>\n",
       "      <td>0.381594</td>\n",
       "      <td>32.204208</td>\n",
       "      <td>1.728395</td>\n",
       "    </tr>\n",
       "    <tr>\n",
       "      <th>std</th>\n",
       "      <td>0.486592</td>\n",
       "      <td>0.836071</td>\n",
       "      <td>0.477990</td>\n",
       "      <td>0.820081</td>\n",
       "      <td>1.102743</td>\n",
       "      <td>0.806057</td>\n",
       "      <td>49.693429</td>\n",
       "      <td>1.030039</td>\n",
       "    </tr>\n",
       "    <tr>\n",
       "      <th>min</th>\n",
       "      <td>0.000000</td>\n",
       "      <td>1.000000</td>\n",
       "      <td>0.000000</td>\n",
       "      <td>0.000000</td>\n",
       "      <td>0.000000</td>\n",
       "      <td>0.000000</td>\n",
       "      <td>0.000000</td>\n",
       "      <td>1.000000</td>\n",
       "    </tr>\n",
       "    <tr>\n",
       "      <th>25%</th>\n",
       "      <td>0.000000</td>\n",
       "      <td>2.000000</td>\n",
       "      <td>0.000000</td>\n",
       "      <td>1.000000</td>\n",
       "      <td>0.000000</td>\n",
       "      <td>0.000000</td>\n",
       "      <td>7.910400</td>\n",
       "      <td>1.000000</td>\n",
       "    </tr>\n",
       "    <tr>\n",
       "      <th>50%</th>\n",
       "      <td>0.000000</td>\n",
       "      <td>3.000000</td>\n",
       "      <td>0.000000</td>\n",
       "      <td>1.000000</td>\n",
       "      <td>0.000000</td>\n",
       "      <td>0.000000</td>\n",
       "      <td>14.454200</td>\n",
       "      <td>1.000000</td>\n",
       "    </tr>\n",
       "    <tr>\n",
       "      <th>75%</th>\n",
       "      <td>1.000000</td>\n",
       "      <td>3.000000</td>\n",
       "      <td>1.000000</td>\n",
       "      <td>2.000000</td>\n",
       "      <td>1.000000</td>\n",
       "      <td>0.000000</td>\n",
       "      <td>31.000000</td>\n",
       "      <td>2.000000</td>\n",
       "    </tr>\n",
       "    <tr>\n",
       "      <th>max</th>\n",
       "      <td>1.000000</td>\n",
       "      <td>3.000000</td>\n",
       "      <td>1.000000</td>\n",
       "      <td>4.000000</td>\n",
       "      <td>8.000000</td>\n",
       "      <td>6.000000</td>\n",
       "      <td>512.329200</td>\n",
       "      <td>5.000000</td>\n",
       "    </tr>\n",
       "  </tbody>\n",
       "</table>\n",
       "</div>"
      ],
      "text/plain": [
       "         Survived      Pclass         Sex         Age       SibSp       Parch  \\\n",
       "count  891.000000  891.000000  891.000000  891.000000  891.000000  891.000000   \n",
       "mean     0.383838    2.308642    0.352413    1.322110    0.523008    0.381594   \n",
       "std      0.486592    0.836071    0.477990    0.820081    1.102743    0.806057   \n",
       "min      0.000000    1.000000    0.000000    0.000000    0.000000    0.000000   \n",
       "25%      0.000000    2.000000    0.000000    1.000000    0.000000    0.000000   \n",
       "50%      0.000000    3.000000    0.000000    1.000000    0.000000    0.000000   \n",
       "75%      1.000000    3.000000    1.000000    2.000000    1.000000    0.000000   \n",
       "max      1.000000    3.000000    1.000000    4.000000    8.000000    6.000000   \n",
       "\n",
       "             Fare       Title  \n",
       "count  891.000000  891.000000  \n",
       "mean    32.204208    1.728395  \n",
       "std     49.693429    1.030039  \n",
       "min      0.000000    1.000000  \n",
       "25%      7.910400    1.000000  \n",
       "50%     14.454200    1.000000  \n",
       "75%     31.000000    2.000000  \n",
       "max    512.329200    5.000000  "
      ]
     },
     "execution_count": 50,
     "metadata": {},
     "output_type": "execute_result"
    }
   ],
   "source": [
    "train_df.describe()"
   ]
  },
  {
   "cell_type": "markdown",
   "id": "opening-times",
   "metadata": {
    "papermill": {
     "duration": 0.103488,
     "end_time": "2021-06-05T08:48:56.692818",
     "exception": false,
     "start_time": "2021-06-05T08:48:56.589330",
     "status": "completed"
    },
    "tags": []
   },
   "source": [
    "Now, Lets create the Fare band"
   ]
  },
  {
   "cell_type": "code",
   "execution_count": 51,
   "id": "rapid-currency",
   "metadata": {
    "execution": {
     "iopub.execute_input": "2021-06-05T08:48:56.899783Z",
     "iopub.status.busy": "2021-06-05T08:48:56.899185Z",
     "iopub.status.idle": "2021-06-05T08:48:56.915231Z",
     "shell.execute_reply": "2021-06-05T08:48:56.915653Z",
     "shell.execute_reply.started": "2021-06-05T07:38:20.231636Z"
    },
    "papermill": {
     "duration": 0.121029,
     "end_time": "2021-06-05T08:48:56.915821",
     "exception": false,
     "start_time": "2021-06-05T08:48:56.794792",
     "status": "completed"
    },
    "tags": []
   },
   "outputs": [
    {
     "data": {
      "text/html": [
       "<div>\n",
       "<style scoped>\n",
       "    .dataframe tbody tr th:only-of-type {\n",
       "        vertical-align: middle;\n",
       "    }\n",
       "\n",
       "    .dataframe tbody tr th {\n",
       "        vertical-align: top;\n",
       "    }\n",
       "\n",
       "    .dataframe thead th {\n",
       "        text-align: right;\n",
       "    }\n",
       "</style>\n",
       "<table border=\"1\" class=\"dataframe\">\n",
       "  <thead>\n",
       "    <tr style=\"text-align: right;\">\n",
       "      <th></th>\n",
       "      <th>FareBand</th>\n",
       "      <th>Survived</th>\n",
       "    </tr>\n",
       "  </thead>\n",
       "  <tbody>\n",
       "    <tr>\n",
       "      <th>0</th>\n",
       "      <td>(-0.001, 7.91]</td>\n",
       "      <td>0.197309</td>\n",
       "    </tr>\n",
       "    <tr>\n",
       "      <th>1</th>\n",
       "      <td>(7.91, 14.454]</td>\n",
       "      <td>0.303571</td>\n",
       "    </tr>\n",
       "    <tr>\n",
       "      <th>2</th>\n",
       "      <td>(14.454, 31.0]</td>\n",
       "      <td>0.454955</td>\n",
       "    </tr>\n",
       "    <tr>\n",
       "      <th>3</th>\n",
       "      <td>(31.0, 512.329]</td>\n",
       "      <td>0.581081</td>\n",
       "    </tr>\n",
       "  </tbody>\n",
       "</table>\n",
       "</div>"
      ],
      "text/plain": [
       "          FareBand  Survived\n",
       "0   (-0.001, 7.91]  0.197309\n",
       "1   (7.91, 14.454]  0.303571\n",
       "2   (14.454, 31.0]  0.454955\n",
       "3  (31.0, 512.329]  0.581081"
      ]
     },
     "execution_count": 51,
     "metadata": {},
     "output_type": "execute_result"
    }
   ],
   "source": [
    "train_df['FareBand'] = pd.qcut(train_df['Fare'], 4)\n",
    "train_df[['FareBand', 'Survived']].groupby(['FareBand'], as_index=False).mean().sort_values(by='FareBand', ascending=True)"
   ]
  },
  {
   "cell_type": "code",
   "execution_count": 52,
   "id": "mysterious-feedback",
   "metadata": {
    "execution": {
     "iopub.execute_input": "2021-06-05T08:48:57.133998Z",
     "iopub.status.busy": "2021-06-05T08:48:57.133373Z",
     "iopub.status.idle": "2021-06-05T08:48:57.154541Z",
     "shell.execute_reply": "2021-06-05T08:48:57.155080Z",
     "shell.execute_reply.started": "2021-06-05T07:52:08.143227Z"
    },
    "papermill": {
     "duration": 0.133698,
     "end_time": "2021-06-05T08:48:57.155256",
     "exception": false,
     "start_time": "2021-06-05T08:48:57.021558",
     "status": "completed"
    },
    "tags": []
   },
   "outputs": [
    {
     "data": {
      "text/html": [
       "<div>\n",
       "<style scoped>\n",
       "    .dataframe tbody tr th:only-of-type {\n",
       "        vertical-align: middle;\n",
       "    }\n",
       "\n",
       "    .dataframe tbody tr th {\n",
       "        vertical-align: top;\n",
       "    }\n",
       "\n",
       "    .dataframe thead th {\n",
       "        text-align: right;\n",
       "    }\n",
       "</style>\n",
       "<table border=\"1\" class=\"dataframe\">\n",
       "  <thead>\n",
       "    <tr style=\"text-align: right;\">\n",
       "      <th></th>\n",
       "      <th>Survived</th>\n",
       "      <th>Pclass</th>\n",
       "      <th>Sex</th>\n",
       "      <th>Age</th>\n",
       "      <th>SibSp</th>\n",
       "      <th>Parch</th>\n",
       "      <th>Fare</th>\n",
       "      <th>Embarked</th>\n",
       "      <th>Title</th>\n",
       "      <th>FareBand</th>\n",
       "    </tr>\n",
       "  </thead>\n",
       "  <tbody>\n",
       "    <tr>\n",
       "      <th>0</th>\n",
       "      <td>0</td>\n",
       "      <td>3</td>\n",
       "      <td>0</td>\n",
       "      <td>1</td>\n",
       "      <td>1</td>\n",
       "      <td>0</td>\n",
       "      <td>0.0</td>\n",
       "      <td>S</td>\n",
       "      <td>1</td>\n",
       "      <td>(-0.001, 7.91]</td>\n",
       "    </tr>\n",
       "    <tr>\n",
       "      <th>1</th>\n",
       "      <td>1</td>\n",
       "      <td>1</td>\n",
       "      <td>1</td>\n",
       "      <td>2</td>\n",
       "      <td>1</td>\n",
       "      <td>0</td>\n",
       "      <td>3.0</td>\n",
       "      <td>C</td>\n",
       "      <td>3</td>\n",
       "      <td>(31.0, 512.329]</td>\n",
       "    </tr>\n",
       "    <tr>\n",
       "      <th>2</th>\n",
       "      <td>1</td>\n",
       "      <td>3</td>\n",
       "      <td>1</td>\n",
       "      <td>1</td>\n",
       "      <td>0</td>\n",
       "      <td>0</td>\n",
       "      <td>1.0</td>\n",
       "      <td>S</td>\n",
       "      <td>2</td>\n",
       "      <td>(7.91, 14.454]</td>\n",
       "    </tr>\n",
       "    <tr>\n",
       "      <th>3</th>\n",
       "      <td>1</td>\n",
       "      <td>1</td>\n",
       "      <td>1</td>\n",
       "      <td>2</td>\n",
       "      <td>1</td>\n",
       "      <td>0</td>\n",
       "      <td>3.0</td>\n",
       "      <td>S</td>\n",
       "      <td>3</td>\n",
       "      <td>(31.0, 512.329]</td>\n",
       "    </tr>\n",
       "    <tr>\n",
       "      <th>4</th>\n",
       "      <td>0</td>\n",
       "      <td>3</td>\n",
       "      <td>0</td>\n",
       "      <td>2</td>\n",
       "      <td>0</td>\n",
       "      <td>0</td>\n",
       "      <td>1.0</td>\n",
       "      <td>S</td>\n",
       "      <td>1</td>\n",
       "      <td>(7.91, 14.454]</td>\n",
       "    </tr>\n",
       "  </tbody>\n",
       "</table>\n",
       "</div>"
      ],
      "text/plain": [
       "   Survived  Pclass  Sex  Age  SibSp  Parch  Fare Embarked  Title  \\\n",
       "0         0       3    0    1      1      0   0.0        S      1   \n",
       "1         1       1    1    2      1      0   3.0        C      3   \n",
       "2         1       3    1    1      0      0   1.0        S      2   \n",
       "3         1       1    1    2      1      0   3.0        S      3   \n",
       "4         0       3    0    2      0      0   1.0        S      1   \n",
       "\n",
       "          FareBand  \n",
       "0   (-0.001, 7.91]  \n",
       "1  (31.0, 512.329]  \n",
       "2   (7.91, 14.454]  \n",
       "3  (31.0, 512.329]  \n",
       "4   (7.91, 14.454]  "
      ]
     },
     "execution_count": 52,
     "metadata": {},
     "output_type": "execute_result"
    }
   ],
   "source": [
    "train_df.loc[ train_df['Fare'] <= 7.91, 'Fare'] = 0\n",
    "train_df.loc[(train_df['Fare'] > 7.91) & (train_df['Fare'] <= 14.454), 'Fare'] = 1\n",
    "train_df.loc[(train_df['Fare'] > 14.454) & (train_df['Fare'] <= 31), 'Fare'] = 2\n",
    "train_df.loc[(train_df['Fare'] > 31), 'Fare'] = 3\n",
    "train_df.head()"
   ]
  },
  {
   "cell_type": "code",
   "execution_count": 53,
   "id": "unlimited-somerset",
   "metadata": {
    "execution": {
     "iopub.execute_input": "2021-06-05T08:48:57.370684Z",
     "iopub.status.busy": "2021-06-05T08:48:57.370115Z",
     "iopub.status.idle": "2021-06-05T08:48:57.395386Z",
     "shell.execute_reply": "2021-06-05T08:48:57.395849Z",
     "shell.execute_reply.started": "2021-06-05T07:52:45.646171Z"
    },
    "papermill": {
     "duration": 0.136006,
     "end_time": "2021-06-05T08:48:57.396032",
     "exception": false,
     "start_time": "2021-06-05T08:48:57.260026",
     "status": "completed"
    },
    "tags": []
   },
   "outputs": [
    {
     "data": {
      "text/html": [
       "<div>\n",
       "<style scoped>\n",
       "    .dataframe tbody tr th:only-of-type {\n",
       "        vertical-align: middle;\n",
       "    }\n",
       "\n",
       "    .dataframe tbody tr th {\n",
       "        vertical-align: top;\n",
       "    }\n",
       "\n",
       "    .dataframe thead th {\n",
       "        text-align: right;\n",
       "    }\n",
       "</style>\n",
       "<table border=\"1\" class=\"dataframe\">\n",
       "  <thead>\n",
       "    <tr style=\"text-align: right;\">\n",
       "      <th></th>\n",
       "      <th>PassengerId</th>\n",
       "      <th>Pclass</th>\n",
       "      <th>Sex</th>\n",
       "      <th>Age</th>\n",
       "      <th>SibSp</th>\n",
       "      <th>Parch</th>\n",
       "      <th>Fare</th>\n",
       "      <th>Embarked</th>\n",
       "      <th>Title</th>\n",
       "    </tr>\n",
       "  </thead>\n",
       "  <tbody>\n",
       "    <tr>\n",
       "      <th>0</th>\n",
       "      <td>892</td>\n",
       "      <td>3</td>\n",
       "      <td>0</td>\n",
       "      <td>2</td>\n",
       "      <td>0</td>\n",
       "      <td>0</td>\n",
       "      <td>0.0</td>\n",
       "      <td>Q</td>\n",
       "      <td>1</td>\n",
       "    </tr>\n",
       "    <tr>\n",
       "      <th>1</th>\n",
       "      <td>893</td>\n",
       "      <td>3</td>\n",
       "      <td>1</td>\n",
       "      <td>2</td>\n",
       "      <td>1</td>\n",
       "      <td>0</td>\n",
       "      <td>0.0</td>\n",
       "      <td>S</td>\n",
       "      <td>3</td>\n",
       "    </tr>\n",
       "    <tr>\n",
       "      <th>2</th>\n",
       "      <td>894</td>\n",
       "      <td>2</td>\n",
       "      <td>0</td>\n",
       "      <td>3</td>\n",
       "      <td>0</td>\n",
       "      <td>0</td>\n",
       "      <td>1.0</td>\n",
       "      <td>Q</td>\n",
       "      <td>1</td>\n",
       "    </tr>\n",
       "    <tr>\n",
       "      <th>3</th>\n",
       "      <td>895</td>\n",
       "      <td>3</td>\n",
       "      <td>0</td>\n",
       "      <td>1</td>\n",
       "      <td>0</td>\n",
       "      <td>0</td>\n",
       "      <td>1.0</td>\n",
       "      <td>S</td>\n",
       "      <td>1</td>\n",
       "    </tr>\n",
       "    <tr>\n",
       "      <th>4</th>\n",
       "      <td>896</td>\n",
       "      <td>3</td>\n",
       "      <td>1</td>\n",
       "      <td>1</td>\n",
       "      <td>1</td>\n",
       "      <td>1</td>\n",
       "      <td>1.0</td>\n",
       "      <td>S</td>\n",
       "      <td>3</td>\n",
       "    </tr>\n",
       "  </tbody>\n",
       "</table>\n",
       "</div>"
      ],
      "text/plain": [
       "   PassengerId  Pclass  Sex  Age  SibSp  Parch  Fare Embarked  Title\n",
       "0          892       3    0    2      0      0   0.0        Q      1\n",
       "1          893       3    1    2      1      0   0.0        S      3\n",
       "2          894       2    0    3      0      0   1.0        Q      1\n",
       "3          895       3    0    1      0      0   1.0        S      1\n",
       "4          896       3    1    1      1      1   1.0        S      3"
      ]
     },
     "execution_count": 53,
     "metadata": {},
     "output_type": "execute_result"
    }
   ],
   "source": [
    "test_df.loc[ test_df['Fare'] <= 7.91, 'Fare'] = 0\n",
    "test_df.loc[(test_df['Fare'] > 7.91) & (test_df['Fare'] <= 14.454), 'Fare'] = 1\n",
    "test_df.loc[(test_df['Fare'] > 14.454) & (test_df['Fare'] <= 31), 'Fare'] = 2\n",
    "test_df.loc[(test_df['Fare'] > 31), 'Fare'] = 3\n",
    "test_df.head()"
   ]
  },
  {
   "cell_type": "markdown",
   "id": "universal-belgium",
   "metadata": {
    "papermill": {
     "duration": 0.1074,
     "end_time": "2021-06-05T08:48:57.632255",
     "exception": false,
     "start_time": "2021-06-05T08:48:57.524855",
     "status": "completed"
    },
    "tags": []
   },
   "source": [
    "Lets remove the FareBand now."
   ]
  },
  {
   "cell_type": "code",
   "execution_count": 54,
   "id": "prompt-learning",
   "metadata": {
    "execution": {
     "iopub.execute_input": "2021-06-05T08:48:57.858829Z",
     "iopub.status.busy": "2021-06-05T08:48:57.858244Z",
     "iopub.status.idle": "2021-06-05T08:48:57.860903Z",
     "shell.execute_reply": "2021-06-05T08:48:57.861354Z",
     "shell.execute_reply.started": "2021-06-05T07:53:31.316461Z"
    },
    "papermill": {
     "duration": 0.121241,
     "end_time": "2021-06-05T08:48:57.861509",
     "exception": false,
     "start_time": "2021-06-05T08:48:57.740268",
     "status": "completed"
    },
    "tags": []
   },
   "outputs": [
    {
     "data": {
      "text/html": [
       "<div>\n",
       "<style scoped>\n",
       "    .dataframe tbody tr th:only-of-type {\n",
       "        vertical-align: middle;\n",
       "    }\n",
       "\n",
       "    .dataframe tbody tr th {\n",
       "        vertical-align: top;\n",
       "    }\n",
       "\n",
       "    .dataframe thead th {\n",
       "        text-align: right;\n",
       "    }\n",
       "</style>\n",
       "<table border=\"1\" class=\"dataframe\">\n",
       "  <thead>\n",
       "    <tr style=\"text-align: right;\">\n",
       "      <th></th>\n",
       "      <th>Survived</th>\n",
       "      <th>Pclass</th>\n",
       "      <th>Sex</th>\n",
       "      <th>Age</th>\n",
       "      <th>SibSp</th>\n",
       "      <th>Parch</th>\n",
       "      <th>Fare</th>\n",
       "      <th>Embarked</th>\n",
       "      <th>Title</th>\n",
       "    </tr>\n",
       "  </thead>\n",
       "  <tbody>\n",
       "    <tr>\n",
       "      <th>0</th>\n",
       "      <td>0</td>\n",
       "      <td>3</td>\n",
       "      <td>0</td>\n",
       "      <td>1</td>\n",
       "      <td>1</td>\n",
       "      <td>0</td>\n",
       "      <td>0.0</td>\n",
       "      <td>S</td>\n",
       "      <td>1</td>\n",
       "    </tr>\n",
       "    <tr>\n",
       "      <th>1</th>\n",
       "      <td>1</td>\n",
       "      <td>1</td>\n",
       "      <td>1</td>\n",
       "      <td>2</td>\n",
       "      <td>1</td>\n",
       "      <td>0</td>\n",
       "      <td>3.0</td>\n",
       "      <td>C</td>\n",
       "      <td>3</td>\n",
       "    </tr>\n",
       "    <tr>\n",
       "      <th>2</th>\n",
       "      <td>1</td>\n",
       "      <td>3</td>\n",
       "      <td>1</td>\n",
       "      <td>1</td>\n",
       "      <td>0</td>\n",
       "      <td>0</td>\n",
       "      <td>1.0</td>\n",
       "      <td>S</td>\n",
       "      <td>2</td>\n",
       "    </tr>\n",
       "    <tr>\n",
       "      <th>3</th>\n",
       "      <td>1</td>\n",
       "      <td>1</td>\n",
       "      <td>1</td>\n",
       "      <td>2</td>\n",
       "      <td>1</td>\n",
       "      <td>0</td>\n",
       "      <td>3.0</td>\n",
       "      <td>S</td>\n",
       "      <td>3</td>\n",
       "    </tr>\n",
       "    <tr>\n",
       "      <th>4</th>\n",
       "      <td>0</td>\n",
       "      <td>3</td>\n",
       "      <td>0</td>\n",
       "      <td>2</td>\n",
       "      <td>0</td>\n",
       "      <td>0</td>\n",
       "      <td>1.0</td>\n",
       "      <td>S</td>\n",
       "      <td>1</td>\n",
       "    </tr>\n",
       "  </tbody>\n",
       "</table>\n",
       "</div>"
      ],
      "text/plain": [
       "   Survived  Pclass  Sex  Age  SibSp  Parch  Fare Embarked  Title\n",
       "0         0       3    0    1      1      0   0.0        S      1\n",
       "1         1       1    1    2      1      0   3.0        C      3\n",
       "2         1       3    1    1      0      0   1.0        S      2\n",
       "3         1       1    1    2      1      0   3.0        S      3\n",
       "4         0       3    0    2      0      0   1.0        S      1"
      ]
     },
     "execution_count": 54,
     "metadata": {},
     "output_type": "execute_result"
    }
   ],
   "source": [
    "train_df = train_df.drop(['FareBand'], axis=1)\n",
    "train_df.head()"
   ]
  },
  {
   "cell_type": "markdown",
   "id": "backed-basis",
   "metadata": {
    "papermill": {
     "duration": 0.10989,
     "end_time": "2021-06-05T08:48:58.079339",
     "exception": false,
     "start_time": "2021-06-05T08:48:57.969449",
     "status": "completed"
    },
    "tags": []
   },
   "source": [
    "**Create new feature combining existing features**\n",
    "\n",
    "We can create a new feature for FamilySize which combines Parch and SibSp. This will enable us to drop Parch and SibSp from our datasets."
   ]
  },
  {
   "cell_type": "code",
   "execution_count": 55,
   "id": "alternate-chile",
   "metadata": {
    "execution": {
     "iopub.execute_input": "2021-06-05T08:48:58.294116Z",
     "iopub.status.busy": "2021-06-05T08:48:58.293464Z",
     "iopub.status.idle": "2021-06-05T08:48:58.310717Z",
     "shell.execute_reply": "2021-06-05T08:48:58.310259Z",
     "shell.execute_reply.started": "2021-06-05T07:55:30.454059Z"
    },
    "papermill": {
     "duration": 0.125494,
     "end_time": "2021-06-05T08:48:58.310852",
     "exception": false,
     "start_time": "2021-06-05T08:48:58.185358",
     "status": "completed"
    },
    "tags": []
   },
   "outputs": [
    {
     "data": {
      "text/html": [
       "<div>\n",
       "<style scoped>\n",
       "    .dataframe tbody tr th:only-of-type {\n",
       "        vertical-align: middle;\n",
       "    }\n",
       "\n",
       "    .dataframe tbody tr th {\n",
       "        vertical-align: top;\n",
       "    }\n",
       "\n",
       "    .dataframe thead th {\n",
       "        text-align: right;\n",
       "    }\n",
       "</style>\n",
       "<table border=\"1\" class=\"dataframe\">\n",
       "  <thead>\n",
       "    <tr style=\"text-align: right;\">\n",
       "      <th></th>\n",
       "      <th>FamilySize</th>\n",
       "      <th>Survived</th>\n",
       "    </tr>\n",
       "  </thead>\n",
       "  <tbody>\n",
       "    <tr>\n",
       "      <th>3</th>\n",
       "      <td>4</td>\n",
       "      <td>0.724138</td>\n",
       "    </tr>\n",
       "    <tr>\n",
       "      <th>2</th>\n",
       "      <td>3</td>\n",
       "      <td>0.578431</td>\n",
       "    </tr>\n",
       "    <tr>\n",
       "      <th>1</th>\n",
       "      <td>2</td>\n",
       "      <td>0.552795</td>\n",
       "    </tr>\n",
       "    <tr>\n",
       "      <th>6</th>\n",
       "      <td>7</td>\n",
       "      <td>0.333333</td>\n",
       "    </tr>\n",
       "    <tr>\n",
       "      <th>0</th>\n",
       "      <td>1</td>\n",
       "      <td>0.303538</td>\n",
       "    </tr>\n",
       "    <tr>\n",
       "      <th>4</th>\n",
       "      <td>5</td>\n",
       "      <td>0.200000</td>\n",
       "    </tr>\n",
       "    <tr>\n",
       "      <th>5</th>\n",
       "      <td>6</td>\n",
       "      <td>0.136364</td>\n",
       "    </tr>\n",
       "    <tr>\n",
       "      <th>7</th>\n",
       "      <td>8</td>\n",
       "      <td>0.000000</td>\n",
       "    </tr>\n",
       "    <tr>\n",
       "      <th>8</th>\n",
       "      <td>11</td>\n",
       "      <td>0.000000</td>\n",
       "    </tr>\n",
       "  </tbody>\n",
       "</table>\n",
       "</div>"
      ],
      "text/plain": [
       "   FamilySize  Survived\n",
       "3           4  0.724138\n",
       "2           3  0.578431\n",
       "1           2  0.552795\n",
       "6           7  0.333333\n",
       "0           1  0.303538\n",
       "4           5  0.200000\n",
       "5           6  0.136364\n",
       "7           8  0.000000\n",
       "8          11  0.000000"
      ]
     },
     "execution_count": 55,
     "metadata": {},
     "output_type": "execute_result"
    }
   ],
   "source": [
    "train_df['FamilySize'] = train_df['SibSp'] + train_df['Parch'] + 1\n",
    "test_df['FamilySize'] = test_df['SibSp'] + test_df['Parch'] + 1\n",
    "\n",
    "train_df[['FamilySize', 'Survived']].groupby(['FamilySize'], as_index=False).mean().sort_values(by='Survived', ascending=False)"
   ]
  },
  {
   "cell_type": "markdown",
   "id": "regulated-pioneer",
   "metadata": {
    "papermill": {
     "duration": 0.105198,
     "end_time": "2021-06-05T08:48:58.523395",
     "exception": false,
     "start_time": "2021-06-05T08:48:58.418197",
     "status": "completed"
    },
    "tags": []
   },
   "source": [
    "We can create another feature called IsAlone."
   ]
  },
  {
   "cell_type": "code",
   "execution_count": 56,
   "id": "middle-eclipse",
   "metadata": {
    "execution": {
     "iopub.execute_input": "2021-06-05T08:48:58.748698Z",
     "iopub.status.busy": "2021-06-05T08:48:58.746465Z",
     "iopub.status.idle": "2021-06-05T08:48:58.755127Z",
     "shell.execute_reply": "2021-06-05T08:48:58.755570Z",
     "shell.execute_reply.started": "2021-06-05T07:56:26.977012Z"
    },
    "papermill": {
     "duration": 0.124756,
     "end_time": "2021-06-05T08:48:58.755726",
     "exception": false,
     "start_time": "2021-06-05T08:48:58.630970",
     "status": "completed"
    },
    "tags": []
   },
   "outputs": [
    {
     "data": {
      "text/html": [
       "<div>\n",
       "<style scoped>\n",
       "    .dataframe tbody tr th:only-of-type {\n",
       "        vertical-align: middle;\n",
       "    }\n",
       "\n",
       "    .dataframe tbody tr th {\n",
       "        vertical-align: top;\n",
       "    }\n",
       "\n",
       "    .dataframe thead th {\n",
       "        text-align: right;\n",
       "    }\n",
       "</style>\n",
       "<table border=\"1\" class=\"dataframe\">\n",
       "  <thead>\n",
       "    <tr style=\"text-align: right;\">\n",
       "      <th></th>\n",
       "      <th>IsAlone</th>\n",
       "      <th>Survived</th>\n",
       "    </tr>\n",
       "  </thead>\n",
       "  <tbody>\n",
       "    <tr>\n",
       "      <th>0</th>\n",
       "      <td>0</td>\n",
       "      <td>0.505650</td>\n",
       "    </tr>\n",
       "    <tr>\n",
       "      <th>1</th>\n",
       "      <td>1</td>\n",
       "      <td>0.303538</td>\n",
       "    </tr>\n",
       "  </tbody>\n",
       "</table>\n",
       "</div>"
      ],
      "text/plain": [
       "   IsAlone  Survived\n",
       "0        0  0.505650\n",
       "1        1  0.303538"
      ]
     },
     "execution_count": 56,
     "metadata": {},
     "output_type": "execute_result"
    }
   ],
   "source": [
    "train_df['IsAlone'] = 0\n",
    "train_df.loc[train_df['FamilySize'] == 1, 'IsAlone'] = 1\n",
    "\n",
    "train_df[['IsAlone', 'Survived']].groupby(['IsAlone'], as_index=False).mean()"
   ]
  },
  {
   "cell_type": "code",
   "execution_count": 57,
   "id": "meaningful-gibraltar",
   "metadata": {
    "execution": {
     "iopub.execute_input": "2021-06-05T08:48:58.974288Z",
     "iopub.status.busy": "2021-06-05T08:48:58.973568Z",
     "iopub.status.idle": "2021-06-05T08:48:58.977138Z",
     "shell.execute_reply": "2021-06-05T08:48:58.976492Z",
     "shell.execute_reply.started": "2021-06-05T07:56:42.939515Z"
    },
    "papermill": {
     "duration": 0.115378,
     "end_time": "2021-06-05T08:48:58.977272",
     "exception": false,
     "start_time": "2021-06-05T08:48:58.861894",
     "status": "completed"
    },
    "tags": []
   },
   "outputs": [],
   "source": [
    "test_df['IsAlone'] = 0\n",
    "test_df.loc[test_df['FamilySize'] == 1, 'IsAlone'] = 1"
   ]
  },
  {
   "cell_type": "markdown",
   "id": "korean-richmond",
   "metadata": {
    "papermill": {
     "duration": 0.111567,
     "end_time": "2021-06-05T08:48:59.200971",
     "exception": false,
     "start_time": "2021-06-05T08:48:59.089404",
     "status": "completed"
    },
    "tags": []
   },
   "source": [
    "Let us drop Parch, SibSp, and FamilySize features in favor of IsAlone."
   ]
  },
  {
   "cell_type": "code",
   "execution_count": 58,
   "id": "vocational-punishment",
   "metadata": {
    "execution": {
     "iopub.execute_input": "2021-06-05T08:48:59.431453Z",
     "iopub.status.busy": "2021-06-05T08:48:59.430840Z",
     "iopub.status.idle": "2021-06-05T08:48:59.443813Z",
     "shell.execute_reply": "2021-06-05T08:48:59.443252Z",
     "shell.execute_reply.started": "2021-06-05T07:57:53.027814Z"
    },
    "papermill": {
     "duration": 0.131427,
     "end_time": "2021-06-05T08:48:59.443948",
     "exception": false,
     "start_time": "2021-06-05T08:48:59.312521",
     "status": "completed"
    },
    "tags": []
   },
   "outputs": [
    {
     "data": {
      "text/html": [
       "<div>\n",
       "<style scoped>\n",
       "    .dataframe tbody tr th:only-of-type {\n",
       "        vertical-align: middle;\n",
       "    }\n",
       "\n",
       "    .dataframe tbody tr th {\n",
       "        vertical-align: top;\n",
       "    }\n",
       "\n",
       "    .dataframe thead th {\n",
       "        text-align: right;\n",
       "    }\n",
       "</style>\n",
       "<table border=\"1\" class=\"dataframe\">\n",
       "  <thead>\n",
       "    <tr style=\"text-align: right;\">\n",
       "      <th></th>\n",
       "      <th>Survived</th>\n",
       "      <th>Pclass</th>\n",
       "      <th>Sex</th>\n",
       "      <th>Age</th>\n",
       "      <th>Fare</th>\n",
       "      <th>Embarked</th>\n",
       "      <th>Title</th>\n",
       "      <th>IsAlone</th>\n",
       "    </tr>\n",
       "  </thead>\n",
       "  <tbody>\n",
       "    <tr>\n",
       "      <th>0</th>\n",
       "      <td>0</td>\n",
       "      <td>3</td>\n",
       "      <td>0</td>\n",
       "      <td>1</td>\n",
       "      <td>0.0</td>\n",
       "      <td>S</td>\n",
       "      <td>1</td>\n",
       "      <td>0</td>\n",
       "    </tr>\n",
       "    <tr>\n",
       "      <th>1</th>\n",
       "      <td>1</td>\n",
       "      <td>1</td>\n",
       "      <td>1</td>\n",
       "      <td>2</td>\n",
       "      <td>3.0</td>\n",
       "      <td>C</td>\n",
       "      <td>3</td>\n",
       "      <td>0</td>\n",
       "    </tr>\n",
       "    <tr>\n",
       "      <th>2</th>\n",
       "      <td>1</td>\n",
       "      <td>3</td>\n",
       "      <td>1</td>\n",
       "      <td>1</td>\n",
       "      <td>1.0</td>\n",
       "      <td>S</td>\n",
       "      <td>2</td>\n",
       "      <td>1</td>\n",
       "    </tr>\n",
       "    <tr>\n",
       "      <th>3</th>\n",
       "      <td>1</td>\n",
       "      <td>1</td>\n",
       "      <td>1</td>\n",
       "      <td>2</td>\n",
       "      <td>3.0</td>\n",
       "      <td>S</td>\n",
       "      <td>3</td>\n",
       "      <td>0</td>\n",
       "    </tr>\n",
       "    <tr>\n",
       "      <th>4</th>\n",
       "      <td>0</td>\n",
       "      <td>3</td>\n",
       "      <td>0</td>\n",
       "      <td>2</td>\n",
       "      <td>1.0</td>\n",
       "      <td>S</td>\n",
       "      <td>1</td>\n",
       "      <td>1</td>\n",
       "    </tr>\n",
       "  </tbody>\n",
       "</table>\n",
       "</div>"
      ],
      "text/plain": [
       "   Survived  Pclass  Sex  Age  Fare Embarked  Title  IsAlone\n",
       "0         0       3    0    1   0.0        S      1        0\n",
       "1         1       1    1    2   3.0        C      3        0\n",
       "2         1       3    1    1   1.0        S      2        1\n",
       "3         1       1    1    2   3.0        S      3        0\n",
       "4         0       3    0    2   1.0        S      1        1"
      ]
     },
     "execution_count": 58,
     "metadata": {},
     "output_type": "execute_result"
    }
   ],
   "source": [
    "train_df = train_df.drop(['Parch', 'SibSp', 'FamilySize'], axis=1)\n",
    "test_df = test_df.drop(['Parch', 'SibSp', 'FamilySize'], axis=1)\n",
    "\n",
    "train_df.head()"
   ]
  },
  {
   "cell_type": "markdown",
   "id": "seasonal-england",
   "metadata": {
    "papermill": {
     "duration": 0.110525,
     "end_time": "2021-06-05T08:48:59.665552",
     "exception": false,
     "start_time": "2021-06-05T08:48:59.555027",
     "status": "completed"
    },
    "tags": []
   },
   "source": [
    "**Completing a categorical feature**\n",
    "\n",
    "Embarked feature takes S, Q, C values based on port of embarkation. Our training dataset has two missing values. We simply fill these with the most common occurance."
   ]
  },
  {
   "cell_type": "code",
   "execution_count": 59,
   "id": "animal-jamaica",
   "metadata": {
    "execution": {
     "iopub.execute_input": "2021-06-05T08:48:59.889721Z",
     "iopub.status.busy": "2021-06-05T08:48:59.888752Z",
     "iopub.status.idle": "2021-06-05T08:48:59.892018Z",
     "shell.execute_reply": "2021-06-05T08:48:59.892508Z",
     "shell.execute_reply.started": "2021-06-05T08:02:04.737257Z"
    },
    "papermill": {
     "duration": 0.119663,
     "end_time": "2021-06-05T08:48:59.892670",
     "exception": false,
     "start_time": "2021-06-05T08:48:59.773007",
     "status": "completed"
    },
    "tags": []
   },
   "outputs": [
    {
     "data": {
      "text/plain": [
       "'S'"
      ]
     },
     "execution_count": 59,
     "metadata": {},
     "output_type": "execute_result"
    }
   ],
   "source": [
    "freq_port = train_df.Embarked.dropna().mode()[0]\n",
    "freq_port"
   ]
  },
  {
   "cell_type": "code",
   "execution_count": 60,
   "id": "drawn-display",
   "metadata": {
    "execution": {
     "iopub.execute_input": "2021-06-05T08:49:00.121340Z",
     "iopub.status.busy": "2021-06-05T08:49:00.120555Z",
     "iopub.status.idle": "2021-06-05T08:49:00.130848Z",
     "shell.execute_reply": "2021-06-05T08:49:00.130405Z",
     "shell.execute_reply.started": "2021-06-05T08:03:27.920211Z"
    },
    "papermill": {
     "duration": 0.127269,
     "end_time": "2021-06-05T08:49:00.130973",
     "exception": false,
     "start_time": "2021-06-05T08:49:00.003704",
     "status": "completed"
    },
    "tags": []
   },
   "outputs": [
    {
     "data": {
      "text/html": [
       "<div>\n",
       "<style scoped>\n",
       "    .dataframe tbody tr th:only-of-type {\n",
       "        vertical-align: middle;\n",
       "    }\n",
       "\n",
       "    .dataframe tbody tr th {\n",
       "        vertical-align: top;\n",
       "    }\n",
       "\n",
       "    .dataframe thead th {\n",
       "        text-align: right;\n",
       "    }\n",
       "</style>\n",
       "<table border=\"1\" class=\"dataframe\">\n",
       "  <thead>\n",
       "    <tr style=\"text-align: right;\">\n",
       "      <th></th>\n",
       "      <th>Embarked</th>\n",
       "      <th>Survived</th>\n",
       "    </tr>\n",
       "  </thead>\n",
       "  <tbody>\n",
       "    <tr>\n",
       "      <th>0</th>\n",
       "      <td>C</td>\n",
       "      <td>0.553571</td>\n",
       "    </tr>\n",
       "    <tr>\n",
       "      <th>1</th>\n",
       "      <td>Q</td>\n",
       "      <td>0.389610</td>\n",
       "    </tr>\n",
       "    <tr>\n",
       "      <th>2</th>\n",
       "      <td>S</td>\n",
       "      <td>0.339009</td>\n",
       "    </tr>\n",
       "  </tbody>\n",
       "</table>\n",
       "</div>"
      ],
      "text/plain": [
       "  Embarked  Survived\n",
       "0        C  0.553571\n",
       "1        Q  0.389610\n",
       "2        S  0.339009"
      ]
     },
     "execution_count": 60,
     "metadata": {},
     "output_type": "execute_result"
    }
   ],
   "source": [
    "train_df['Embarked'] = train_df['Embarked'].fillna(freq_port)\n",
    "\n",
    "train_df[['Embarked', 'Survived']].groupby(['Embarked'], as_index=False).mean().sort_values(by='Survived', ascending=False)"
   ]
  },
  {
   "cell_type": "code",
   "execution_count": 61,
   "id": "acoustic-fifth",
   "metadata": {
    "execution": {
     "iopub.execute_input": "2021-06-05T08:49:00.356762Z",
     "iopub.status.busy": "2021-06-05T08:49:00.356167Z",
     "iopub.status.idle": "2021-06-05T08:49:00.368233Z",
     "shell.execute_reply": "2021-06-05T08:49:00.368726Z",
     "shell.execute_reply.started": "2021-06-05T08:19:43.916292Z"
    },
    "papermill": {
     "duration": 0.127874,
     "end_time": "2021-06-05T08:49:00.368881",
     "exception": false,
     "start_time": "2021-06-05T08:49:00.241007",
     "status": "completed"
    },
    "tags": []
   },
   "outputs": [
    {
     "data": {
      "text/html": [
       "<div>\n",
       "<style scoped>\n",
       "    .dataframe tbody tr th:only-of-type {\n",
       "        vertical-align: middle;\n",
       "    }\n",
       "\n",
       "    .dataframe tbody tr th {\n",
       "        vertical-align: top;\n",
       "    }\n",
       "\n",
       "    .dataframe thead th {\n",
       "        text-align: right;\n",
       "    }\n",
       "</style>\n",
       "<table border=\"1\" class=\"dataframe\">\n",
       "  <thead>\n",
       "    <tr style=\"text-align: right;\">\n",
       "      <th></th>\n",
       "      <th>Survived</th>\n",
       "      <th>Pclass</th>\n",
       "      <th>Sex</th>\n",
       "      <th>Age</th>\n",
       "      <th>Fare</th>\n",
       "      <th>Embarked</th>\n",
       "      <th>Title</th>\n",
       "      <th>IsAlone</th>\n",
       "    </tr>\n",
       "  </thead>\n",
       "  <tbody>\n",
       "    <tr>\n",
       "      <th>0</th>\n",
       "      <td>0</td>\n",
       "      <td>3</td>\n",
       "      <td>0</td>\n",
       "      <td>1</td>\n",
       "      <td>0.0</td>\n",
       "      <td>0</td>\n",
       "      <td>1</td>\n",
       "      <td>0</td>\n",
       "    </tr>\n",
       "    <tr>\n",
       "      <th>1</th>\n",
       "      <td>1</td>\n",
       "      <td>1</td>\n",
       "      <td>1</td>\n",
       "      <td>2</td>\n",
       "      <td>3.0</td>\n",
       "      <td>1</td>\n",
       "      <td>3</td>\n",
       "      <td>0</td>\n",
       "    </tr>\n",
       "    <tr>\n",
       "      <th>2</th>\n",
       "      <td>1</td>\n",
       "      <td>3</td>\n",
       "      <td>1</td>\n",
       "      <td>1</td>\n",
       "      <td>1.0</td>\n",
       "      <td>0</td>\n",
       "      <td>2</td>\n",
       "      <td>1</td>\n",
       "    </tr>\n",
       "    <tr>\n",
       "      <th>3</th>\n",
       "      <td>1</td>\n",
       "      <td>1</td>\n",
       "      <td>1</td>\n",
       "      <td>2</td>\n",
       "      <td>3.0</td>\n",
       "      <td>0</td>\n",
       "      <td>3</td>\n",
       "      <td>0</td>\n",
       "    </tr>\n",
       "    <tr>\n",
       "      <th>4</th>\n",
       "      <td>0</td>\n",
       "      <td>3</td>\n",
       "      <td>0</td>\n",
       "      <td>2</td>\n",
       "      <td>1.0</td>\n",
       "      <td>0</td>\n",
       "      <td>1</td>\n",
       "      <td>1</td>\n",
       "    </tr>\n",
       "  </tbody>\n",
       "</table>\n",
       "</div>"
      ],
      "text/plain": [
       "   Survived  Pclass  Sex  Age  Fare  Embarked  Title  IsAlone\n",
       "0         0       3    0    1   0.0         0      1        0\n",
       "1         1       1    1    2   3.0         1      3        0\n",
       "2         1       3    1    1   1.0         0      2        1\n",
       "3         1       1    1    2   3.0         0      3        0\n",
       "4         0       3    0    2   1.0         0      1        1"
      ]
     },
     "execution_count": 61,
     "metadata": {},
     "output_type": "execute_result"
    }
   ],
   "source": [
    "train_df['Embarked'] = train_df['Embarked'].map( {'S': 0, 'C': 1, 'Q': 2} ).astype(int)\n",
    "test_df['Embarked'] = test_df['Embarked'].map( {'S': 0, 'C': 1, 'Q': 2} ).astype(int)\n",
    "\n",
    "train_df.head()"
   ]
  },
  {
   "cell_type": "markdown",
   "id": "nearby-average",
   "metadata": {
    "papermill": {
     "duration": 0.107805,
     "end_time": "2021-06-05T08:49:00.587200",
     "exception": false,
     "start_time": "2021-06-05T08:49:00.479395",
     "status": "completed"
    },
    "tags": []
   },
   "source": [
    "Now, lets see our Training and Testing Data"
   ]
  },
  {
   "cell_type": "code",
   "execution_count": 62,
   "id": "automated-nelson",
   "metadata": {
    "execution": {
     "iopub.execute_input": "2021-06-05T08:49:00.810703Z",
     "iopub.status.busy": "2021-06-05T08:49:00.810172Z",
     "iopub.status.idle": "2021-06-05T08:49:00.822839Z",
     "shell.execute_reply": "2021-06-05T08:49:00.823408Z",
     "shell.execute_reply.started": "2021-06-05T08:19:47.621079Z"
    },
    "papermill": {
     "duration": 0.127088,
     "end_time": "2021-06-05T08:49:00.823567",
     "exception": false,
     "start_time": "2021-06-05T08:49:00.696479",
     "status": "completed"
    },
    "tags": []
   },
   "outputs": [
    {
     "data": {
      "text/html": [
       "<div>\n",
       "<style scoped>\n",
       "    .dataframe tbody tr th:only-of-type {\n",
       "        vertical-align: middle;\n",
       "    }\n",
       "\n",
       "    .dataframe tbody tr th {\n",
       "        vertical-align: top;\n",
       "    }\n",
       "\n",
       "    .dataframe thead th {\n",
       "        text-align: right;\n",
       "    }\n",
       "</style>\n",
       "<table border=\"1\" class=\"dataframe\">\n",
       "  <thead>\n",
       "    <tr style=\"text-align: right;\">\n",
       "      <th></th>\n",
       "      <th>Survived</th>\n",
       "      <th>Pclass</th>\n",
       "      <th>Sex</th>\n",
       "      <th>Age</th>\n",
       "      <th>Fare</th>\n",
       "      <th>Embarked</th>\n",
       "      <th>Title</th>\n",
       "      <th>IsAlone</th>\n",
       "    </tr>\n",
       "  </thead>\n",
       "  <tbody>\n",
       "    <tr>\n",
       "      <th>0</th>\n",
       "      <td>0</td>\n",
       "      <td>3</td>\n",
       "      <td>0</td>\n",
       "      <td>1</td>\n",
       "      <td>0.0</td>\n",
       "      <td>0</td>\n",
       "      <td>1</td>\n",
       "      <td>0</td>\n",
       "    </tr>\n",
       "    <tr>\n",
       "      <th>1</th>\n",
       "      <td>1</td>\n",
       "      <td>1</td>\n",
       "      <td>1</td>\n",
       "      <td>2</td>\n",
       "      <td>3.0</td>\n",
       "      <td>1</td>\n",
       "      <td>3</td>\n",
       "      <td>0</td>\n",
       "    </tr>\n",
       "    <tr>\n",
       "      <th>2</th>\n",
       "      <td>1</td>\n",
       "      <td>3</td>\n",
       "      <td>1</td>\n",
       "      <td>1</td>\n",
       "      <td>1.0</td>\n",
       "      <td>0</td>\n",
       "      <td>2</td>\n",
       "      <td>1</td>\n",
       "    </tr>\n",
       "    <tr>\n",
       "      <th>3</th>\n",
       "      <td>1</td>\n",
       "      <td>1</td>\n",
       "      <td>1</td>\n",
       "      <td>2</td>\n",
       "      <td>3.0</td>\n",
       "      <td>0</td>\n",
       "      <td>3</td>\n",
       "      <td>0</td>\n",
       "    </tr>\n",
       "    <tr>\n",
       "      <th>4</th>\n",
       "      <td>0</td>\n",
       "      <td>3</td>\n",
       "      <td>0</td>\n",
       "      <td>2</td>\n",
       "      <td>1.0</td>\n",
       "      <td>0</td>\n",
       "      <td>1</td>\n",
       "      <td>1</td>\n",
       "    </tr>\n",
       "    <tr>\n",
       "      <th>5</th>\n",
       "      <td>0</td>\n",
       "      <td>3</td>\n",
       "      <td>0</td>\n",
       "      <td>1</td>\n",
       "      <td>1.0</td>\n",
       "      <td>2</td>\n",
       "      <td>1</td>\n",
       "      <td>1</td>\n",
       "    </tr>\n",
       "    <tr>\n",
       "      <th>6</th>\n",
       "      <td>0</td>\n",
       "      <td>1</td>\n",
       "      <td>0</td>\n",
       "      <td>3</td>\n",
       "      <td>3.0</td>\n",
       "      <td>0</td>\n",
       "      <td>1</td>\n",
       "      <td>1</td>\n",
       "    </tr>\n",
       "    <tr>\n",
       "      <th>7</th>\n",
       "      <td>0</td>\n",
       "      <td>3</td>\n",
       "      <td>0</td>\n",
       "      <td>0</td>\n",
       "      <td>2.0</td>\n",
       "      <td>0</td>\n",
       "      <td>4</td>\n",
       "      <td>0</td>\n",
       "    </tr>\n",
       "    <tr>\n",
       "      <th>8</th>\n",
       "      <td>1</td>\n",
       "      <td>3</td>\n",
       "      <td>1</td>\n",
       "      <td>1</td>\n",
       "      <td>1.0</td>\n",
       "      <td>0</td>\n",
       "      <td>3</td>\n",
       "      <td>0</td>\n",
       "    </tr>\n",
       "    <tr>\n",
       "      <th>9</th>\n",
       "      <td>1</td>\n",
       "      <td>2</td>\n",
       "      <td>1</td>\n",
       "      <td>0</td>\n",
       "      <td>2.0</td>\n",
       "      <td>1</td>\n",
       "      <td>3</td>\n",
       "      <td>0</td>\n",
       "    </tr>\n",
       "  </tbody>\n",
       "</table>\n",
       "</div>"
      ],
      "text/plain": [
       "   Survived  Pclass  Sex  Age  Fare  Embarked  Title  IsAlone\n",
       "0         0       3    0    1   0.0         0      1        0\n",
       "1         1       1    1    2   3.0         1      3        0\n",
       "2         1       3    1    1   1.0         0      2        1\n",
       "3         1       1    1    2   3.0         0      3        0\n",
       "4         0       3    0    2   1.0         0      1        1\n",
       "5         0       3    0    1   1.0         2      1        1\n",
       "6         0       1    0    3   3.0         0      1        1\n",
       "7         0       3    0    0   2.0         0      4        0\n",
       "8         1       3    1    1   1.0         0      3        0\n",
       "9         1       2    1    0   2.0         1      3        0"
      ]
     },
     "execution_count": 62,
     "metadata": {},
     "output_type": "execute_result"
    }
   ],
   "source": [
    "train_df.head(10)"
   ]
  },
  {
   "cell_type": "code",
   "execution_count": 63,
   "id": "generic-scientist",
   "metadata": {
    "execution": {
     "iopub.execute_input": "2021-06-05T08:49:01.047490Z",
     "iopub.status.busy": "2021-06-05T08:49:01.046911Z",
     "iopub.status.idle": "2021-06-05T08:49:01.059226Z",
     "shell.execute_reply": "2021-06-05T08:49:01.059608Z",
     "shell.execute_reply.started": "2021-06-05T08:19:50.116751Z"
    },
    "papermill": {
     "duration": 0.125431,
     "end_time": "2021-06-05T08:49:01.059778",
     "exception": false,
     "start_time": "2021-06-05T08:49:00.934347",
     "status": "completed"
    },
    "tags": []
   },
   "outputs": [
    {
     "name": "stdout",
     "output_type": "stream",
     "text": [
      "<class 'pandas.core.frame.DataFrame'>\n",
      "RangeIndex: 891 entries, 0 to 890\n",
      "Data columns (total 8 columns):\n",
      " #   Column    Non-Null Count  Dtype  \n",
      "---  ------    --------------  -----  \n",
      " 0   Survived  891 non-null    int64  \n",
      " 1   Pclass    891 non-null    int64  \n",
      " 2   Sex       891 non-null    int64  \n",
      " 3   Age       891 non-null    int64  \n",
      " 4   Fare      891 non-null    float64\n",
      " 5   Embarked  891 non-null    int64  \n",
      " 6   Title     891 non-null    int64  \n",
      " 7   IsAlone   891 non-null    int64  \n",
      "dtypes: float64(1), int64(7)\n",
      "memory usage: 55.8 KB\n"
     ]
    }
   ],
   "source": [
    "train_df.info()"
   ]
  },
  {
   "cell_type": "code",
   "execution_count": 64,
   "id": "acknowledged-circulation",
   "metadata": {
    "execution": {
     "iopub.execute_input": "2021-06-05T08:49:01.293432Z",
     "iopub.status.busy": "2021-06-05T08:49:01.292746Z",
     "iopub.status.idle": "2021-06-05T08:49:01.296839Z",
     "shell.execute_reply": "2021-06-05T08:49:01.296358Z",
     "shell.execute_reply.started": "2021-06-05T08:19:52.416744Z"
    },
    "papermill": {
     "duration": 0.126952,
     "end_time": "2021-06-05T08:49:01.296968",
     "exception": false,
     "start_time": "2021-06-05T08:49:01.170016",
     "status": "completed"
    },
    "tags": []
   },
   "outputs": [
    {
     "data": {
      "text/html": [
       "<div>\n",
       "<style scoped>\n",
       "    .dataframe tbody tr th:only-of-type {\n",
       "        vertical-align: middle;\n",
       "    }\n",
       "\n",
       "    .dataframe tbody tr th {\n",
       "        vertical-align: top;\n",
       "    }\n",
       "\n",
       "    .dataframe thead th {\n",
       "        text-align: right;\n",
       "    }\n",
       "</style>\n",
       "<table border=\"1\" class=\"dataframe\">\n",
       "  <thead>\n",
       "    <tr style=\"text-align: right;\">\n",
       "      <th></th>\n",
       "      <th>PassengerId</th>\n",
       "      <th>Pclass</th>\n",
       "      <th>Sex</th>\n",
       "      <th>Age</th>\n",
       "      <th>Fare</th>\n",
       "      <th>Embarked</th>\n",
       "      <th>Title</th>\n",
       "      <th>IsAlone</th>\n",
       "    </tr>\n",
       "  </thead>\n",
       "  <tbody>\n",
       "    <tr>\n",
       "      <th>0</th>\n",
       "      <td>892</td>\n",
       "      <td>3</td>\n",
       "      <td>0</td>\n",
       "      <td>2</td>\n",
       "      <td>0.0</td>\n",
       "      <td>2</td>\n",
       "      <td>1</td>\n",
       "      <td>1</td>\n",
       "    </tr>\n",
       "    <tr>\n",
       "      <th>1</th>\n",
       "      <td>893</td>\n",
       "      <td>3</td>\n",
       "      <td>1</td>\n",
       "      <td>2</td>\n",
       "      <td>0.0</td>\n",
       "      <td>0</td>\n",
       "      <td>3</td>\n",
       "      <td>0</td>\n",
       "    </tr>\n",
       "    <tr>\n",
       "      <th>2</th>\n",
       "      <td>894</td>\n",
       "      <td>2</td>\n",
       "      <td>0</td>\n",
       "      <td>3</td>\n",
       "      <td>1.0</td>\n",
       "      <td>2</td>\n",
       "      <td>1</td>\n",
       "      <td>1</td>\n",
       "    </tr>\n",
       "    <tr>\n",
       "      <th>3</th>\n",
       "      <td>895</td>\n",
       "      <td>3</td>\n",
       "      <td>0</td>\n",
       "      <td>1</td>\n",
       "      <td>1.0</td>\n",
       "      <td>0</td>\n",
       "      <td>1</td>\n",
       "      <td>1</td>\n",
       "    </tr>\n",
       "    <tr>\n",
       "      <th>4</th>\n",
       "      <td>896</td>\n",
       "      <td>3</td>\n",
       "      <td>1</td>\n",
       "      <td>1</td>\n",
       "      <td>1.0</td>\n",
       "      <td>0</td>\n",
       "      <td>3</td>\n",
       "      <td>0</td>\n",
       "    </tr>\n",
       "    <tr>\n",
       "      <th>5</th>\n",
       "      <td>897</td>\n",
       "      <td>3</td>\n",
       "      <td>0</td>\n",
       "      <td>0</td>\n",
       "      <td>1.0</td>\n",
       "      <td>0</td>\n",
       "      <td>1</td>\n",
       "      <td>1</td>\n",
       "    </tr>\n",
       "    <tr>\n",
       "      <th>6</th>\n",
       "      <td>898</td>\n",
       "      <td>3</td>\n",
       "      <td>1</td>\n",
       "      <td>1</td>\n",
       "      <td>0.0</td>\n",
       "      <td>2</td>\n",
       "      <td>2</td>\n",
       "      <td>1</td>\n",
       "    </tr>\n",
       "    <tr>\n",
       "      <th>7</th>\n",
       "      <td>899</td>\n",
       "      <td>2</td>\n",
       "      <td>0</td>\n",
       "      <td>1</td>\n",
       "      <td>2.0</td>\n",
       "      <td>0</td>\n",
       "      <td>1</td>\n",
       "      <td>0</td>\n",
       "    </tr>\n",
       "    <tr>\n",
       "      <th>8</th>\n",
       "      <td>900</td>\n",
       "      <td>3</td>\n",
       "      <td>1</td>\n",
       "      <td>1</td>\n",
       "      <td>0.0</td>\n",
       "      <td>1</td>\n",
       "      <td>3</td>\n",
       "      <td>1</td>\n",
       "    </tr>\n",
       "    <tr>\n",
       "      <th>9</th>\n",
       "      <td>901</td>\n",
       "      <td>3</td>\n",
       "      <td>0</td>\n",
       "      <td>1</td>\n",
       "      <td>2.0</td>\n",
       "      <td>0</td>\n",
       "      <td>1</td>\n",
       "      <td>0</td>\n",
       "    </tr>\n",
       "  </tbody>\n",
       "</table>\n",
       "</div>"
      ],
      "text/plain": [
       "   PassengerId  Pclass  Sex  Age  Fare  Embarked  Title  IsAlone\n",
       "0          892       3    0    2   0.0         2      1        1\n",
       "1          893       3    1    2   0.0         0      3        0\n",
       "2          894       2    0    3   1.0         2      1        1\n",
       "3          895       3    0    1   1.0         0      1        1\n",
       "4          896       3    1    1   1.0         0      3        0\n",
       "5          897       3    0    0   1.0         0      1        1\n",
       "6          898       3    1    1   0.0         2      2        1\n",
       "7          899       2    0    1   2.0         0      1        0\n",
       "8          900       3    1    1   0.0         1      3        1\n",
       "9          901       3    0    1   2.0         0      1        0"
      ]
     },
     "execution_count": 64,
     "metadata": {},
     "output_type": "execute_result"
    }
   ],
   "source": [
    "test_df.head(10)"
   ]
  },
  {
   "cell_type": "code",
   "execution_count": 65,
   "id": "affected-chemistry",
   "metadata": {
    "execution": {
     "iopub.execute_input": "2021-06-05T08:49:01.550872Z",
     "iopub.status.busy": "2021-06-05T08:49:01.550180Z",
     "iopub.status.idle": "2021-06-05T08:49:01.554180Z",
     "shell.execute_reply": "2021-06-05T08:49:01.554795Z",
     "shell.execute_reply.started": "2021-06-05T08:19:52.605578Z"
    },
    "papermill": {
     "duration": 0.136462,
     "end_time": "2021-06-05T08:49:01.554990",
     "exception": false,
     "start_time": "2021-06-05T08:49:01.418528",
     "status": "completed"
    },
    "tags": []
   },
   "outputs": [
    {
     "name": "stdout",
     "output_type": "stream",
     "text": [
      "<class 'pandas.core.frame.DataFrame'>\n",
      "RangeIndex: 418 entries, 0 to 417\n",
      "Data columns (total 8 columns):\n",
      " #   Column       Non-Null Count  Dtype  \n",
      "---  ------       --------------  -----  \n",
      " 0   PassengerId  418 non-null    int64  \n",
      " 1   Pclass       418 non-null    int64  \n",
      " 2   Sex          418 non-null    int64  \n",
      " 3   Age          418 non-null    int64  \n",
      " 4   Fare         418 non-null    float64\n",
      " 5   Embarked     418 non-null    int64  \n",
      " 6   Title        418 non-null    int64  \n",
      " 7   IsAlone      418 non-null    int64  \n",
      "dtypes: float64(1), int64(7)\n",
      "memory usage: 26.2 KB\n"
     ]
    }
   ],
   "source": [
    "test_df.info()"
   ]
  },
  {
   "cell_type": "markdown",
   "id": "alone-brush",
   "metadata": {
    "papermill": {
     "duration": 0.11295,
     "end_time": "2021-06-05T08:49:01.780835",
     "exception": false,
     "start_time": "2021-06-05T08:49:01.667885",
     "status": "completed"
    },
    "tags": []
   },
   "source": [
    "# Model Building"
   ]
  },
  {
   "cell_type": "markdown",
   "id": "ignored-heavy",
   "metadata": {
    "papermill": {
     "duration": 0.109908,
     "end_time": "2021-06-05T08:49:02.001642",
     "exception": false,
     "start_time": "2021-06-05T08:49:01.891734",
     "status": "completed"
    },
    "tags": []
   },
   "source": [
    "Models Used:\n",
    "1. Logistic Regression\n",
    "2. KNN or k-Nearest Neighbors\n",
    "3. Support Vector Machines\n",
    "4. Naive Bayes classifier\n",
    "5. Decision Tree\n",
    "6. Random Forrest\n",
    "7. Perceptron"
   ]
  },
  {
   "cell_type": "markdown",
   "id": "derived-accreditation",
   "metadata": {
    "papermill": {
     "duration": 0.109556,
     "end_time": "2021-06-05T08:49:02.223794",
     "exception": false,
     "start_time": "2021-06-05T08:49:02.114238",
     "status": "completed"
    },
    "tags": []
   },
   "source": [
    "1. Logistic Regression is a useful model to run early in the workflow. Logistic regression measures the relationship between the categorical dependent variable (feature) and one or more independent variables (features) by estimating probabilities using a logistic function, which is the cumulative logistic distribution. Reference [Wikipedia](https://en.wikipedia.org/wiki/Logistic_regression).\n",
    "\n",
    "2. Support Vector Machines are supervised learning models with associated learning algorithms that analyze data used for classification and regression analysis. Given a set of training samples, each marked as belonging to one or the other of two categories, an SVM training algorithm builds a model that assigns new test samples to one category or the other, making it a non-probabilistic binary linear classifier. Reference [Wikipedia](https://en.wikipedia.org/wiki/Support_vector_machine).\n",
    "\n",
    "3. In pattern recognition, the k-Nearest Neighbors algorithm (or k-NN for short) is a non-parametric method used for classification and regression. A sample is classified by a majority vote of its neighbors, with the sample being assigned to the class most common among its k nearest neighbors (k is a positive integer, typically small). If k = 1, then the object is simply assigned to the class of that single nearest neighbor. Reference [Wikipedia](https://en.wikipedia.org/wiki/K-nearest_neighbors_algorithm).\n",
    "\n",
    "4. In machine learning, naive Bayes classifiers are a family of simple probabilistic classifiers based on applying Bayes' theorem with strong (naive) independence assumptions between the features. Naive Bayes classifiers are highly scalable, requiring a number of parameters linear in the number of variables (features) in a learning problem. Reference [Wikipedia](https://en.wikipedia.org/wiki/Naive_Bayes_classifier).\n",
    "\n",
    "5. The perceptron is an algorithm for supervised learning of binary classifiers (functions that can decide whether an input, represented by a vector of numbers, belongs to some specific class or not). It is a type of linear classifier, i.e. a classification algorithm that makes its predictions based on a linear predictor function combining a set of weights with the feature vector. The algorithm allows for online learning, in that it processes elements in the training set one at a time. Reference [Wikipedia](https://en.wikipedia.org/wiki/Perceptron).\n",
    "\n",
    "6. Decision Tree is a predictive model which maps features (tree branches) to conclusions about the target value (tree leaves). Tree models where the target variable can take a finite set of values are called classification trees; in these tree structures, leaves represent class labels and branches represent conjunctions of features that lead to those class labels. Decision trees where the target variable can take continuous values (typically real numbers) are called regression trees. Reference [Wikipedia](https://en.wikipedia.org/wiki/Decision_tree_learning).\n",
    "\n",
    "7. Random Forests is one of the most popular. Random forests or random decision forests are an ensemble learning method for classification, regression and other tasks, that operate by constructing a multitude of decision trees (n_estimators=100) at training time and outputting the class that is the mode of the classes (classification) or mean prediction (regression) of the individual trees. Reference [Wikipedia](https://en.wikipedia.org/wiki/Random_forest).\n"
   ]
  },
  {
   "cell_type": "code",
   "execution_count": 66,
   "id": "congressional-movement",
   "metadata": {
    "execution": {
     "iopub.execute_input": "2021-06-05T08:49:02.453309Z",
     "iopub.status.busy": "2021-06-05T08:49:02.452072Z",
     "iopub.status.idle": "2021-06-05T08:49:02.459211Z",
     "shell.execute_reply": "2021-06-05T08:49:02.458601Z",
     "shell.execute_reply.started": "2021-06-05T08:19:54.653778Z"
    },
    "papermill": {
     "duration": 0.126538,
     "end_time": "2021-06-05T08:49:02.459337",
     "exception": false,
     "start_time": "2021-06-05T08:49:02.332799",
     "status": "completed"
    },
    "tags": []
   },
   "outputs": [
    {
     "data": {
      "text/plain": [
       "((891, 7), (891,), (418, 7))"
      ]
     },
     "execution_count": 66,
     "metadata": {},
     "output_type": "execute_result"
    }
   ],
   "source": [
    "X_train = train_df.drop(\"Survived\", axis=1)\n",
    "Y_train = train_df[\"Survived\"]\n",
    "X_test  = test_df.drop(\"PassengerId\", axis=1).copy()\n",
    "X_train.shape, Y_train.shape, X_test.shape"
   ]
  },
  {
   "cell_type": "markdown",
   "id": "empirical-dependence",
   "metadata": {
    "papermill": {
     "duration": 0.108309,
     "end_time": "2021-06-05T08:49:02.677944",
     "exception": false,
     "start_time": "2021-06-05T08:49:02.569635",
     "status": "completed"
    },
    "tags": []
   },
   "source": [
    "**Logistic Regression**"
   ]
  },
  {
   "cell_type": "code",
   "execution_count": 67,
   "id": "worthy-settlement",
   "metadata": {
    "execution": {
     "iopub.execute_input": "2021-06-05T08:49:02.905606Z",
     "iopub.status.busy": "2021-06-05T08:49:02.904512Z",
     "iopub.status.idle": "2021-06-05T08:49:02.926763Z",
     "shell.execute_reply": "2021-06-05T08:49:02.926170Z",
     "shell.execute_reply.started": "2021-06-05T08:19:57.973942Z"
    },
    "papermill": {
     "duration": 0.1416,
     "end_time": "2021-06-05T08:49:02.926893",
     "exception": false,
     "start_time": "2021-06-05T08:49:02.785293",
     "status": "completed"
    },
    "tags": []
   },
   "outputs": [
    {
     "data": {
      "text/plain": [
       "81.37"
      ]
     },
     "execution_count": 67,
     "metadata": {},
     "output_type": "execute_result"
    }
   ],
   "source": [
    "# Logistic Regression\n",
    "\n",
    "logreg = LogisticRegression()\n",
    "logreg.fit(X_train, Y_train)\n",
    "Y_pred = logreg.predict(X_test)\n",
    "acc_log = round(logreg.score(X_train, Y_train) * 100, 2)\n",
    "acc_log"
   ]
  },
  {
   "cell_type": "markdown",
   "id": "clean-vaccine",
   "metadata": {
    "papermill": {
     "duration": 0.111445,
     "end_time": "2021-06-05T08:49:03.150718",
     "exception": false,
     "start_time": "2021-06-05T08:49:03.039273",
     "status": "completed"
    },
    "tags": []
   },
   "source": [
    "**KNN**"
   ]
  },
  {
   "cell_type": "code",
   "execution_count": 68,
   "id": "plastic-trick",
   "metadata": {
    "execution": {
     "iopub.execute_input": "2021-06-05T08:49:03.381837Z",
     "iopub.status.busy": "2021-06-05T08:49:03.380953Z",
     "iopub.status.idle": "2021-06-05T08:49:03.455030Z",
     "shell.execute_reply": "2021-06-05T08:49:03.455759Z",
     "shell.execute_reply.started": "2021-06-05T08:21:41.765315Z"
    },
    "papermill": {
     "duration": 0.194306,
     "end_time": "2021-06-05T08:49:03.455980",
     "exception": false,
     "start_time": "2021-06-05T08:49:03.261674",
     "status": "completed"
    },
    "tags": []
   },
   "outputs": [
    {
     "data": {
      "text/plain": [
       "84.62"
      ]
     },
     "execution_count": 68,
     "metadata": {},
     "output_type": "execute_result"
    }
   ],
   "source": [
    "knn = KNeighborsClassifier(n_neighbors = 3)\n",
    "knn.fit(X_train, Y_train)\n",
    "Y_pred = knn.predict(X_test)\n",
    "acc_knn = round(knn.score(X_train, Y_train) * 100, 2)\n",
    "acc_knn"
   ]
  },
  {
   "cell_type": "markdown",
   "id": "latest-kernel",
   "metadata": {
    "papermill": {
     "duration": 0.126714,
     "end_time": "2021-06-05T08:49:03.704155",
     "exception": false,
     "start_time": "2021-06-05T08:49:03.577441",
     "status": "completed"
    },
    "tags": []
   },
   "source": [
    "**Support Vector Machines (SVM)**"
   ]
  },
  {
   "cell_type": "code",
   "execution_count": 69,
   "id": "imperial-inclusion",
   "metadata": {
    "execution": {
     "iopub.execute_input": "2021-06-05T08:49:03.943859Z",
     "iopub.status.busy": "2021-06-05T08:49:03.942945Z",
     "iopub.status.idle": "2021-06-05T08:49:04.008241Z",
     "shell.execute_reply": "2021-06-05T08:49:04.007676Z",
     "shell.execute_reply.started": "2021-06-05T08:21:15.133205Z"
    },
    "papermill": {
     "duration": 0.185391,
     "end_time": "2021-06-05T08:49:04.008377",
     "exception": false,
     "start_time": "2021-06-05T08:49:03.822986",
     "status": "completed"
    },
    "tags": []
   },
   "outputs": [
    {
     "data": {
      "text/plain": [
       "83.28"
      ]
     },
     "execution_count": 69,
     "metadata": {},
     "output_type": "execute_result"
    }
   ],
   "source": [
    "# Support Vector Machines\n",
    "\n",
    "svc = SVC()\n",
    "svc.fit(X_train, Y_train)\n",
    "Y_pred = svc.predict(X_test)\n",
    "acc_svc = round(svc.score(X_train, Y_train) * 100, 2)\n",
    "acc_svc"
   ]
  },
  {
   "cell_type": "markdown",
   "id": "irish-british",
   "metadata": {
    "papermill": {
     "duration": 0.111294,
     "end_time": "2021-06-05T08:49:04.232694",
     "exception": false,
     "start_time": "2021-06-05T08:49:04.121400",
     "status": "completed"
    },
    "tags": []
   },
   "source": [
    "**Naive Bayes**"
   ]
  },
  {
   "cell_type": "code",
   "execution_count": 70,
   "id": "violent-orange",
   "metadata": {
    "execution": {
     "iopub.execute_input": "2021-06-05T08:49:04.461573Z",
     "iopub.status.busy": "2021-06-05T08:49:04.460633Z",
     "iopub.status.idle": "2021-06-05T08:49:04.470607Z",
     "shell.execute_reply": "2021-06-05T08:49:04.470005Z",
     "shell.execute_reply.started": "2021-06-05T08:22:13.101701Z"
    },
    "papermill": {
     "duration": 0.126334,
     "end_time": "2021-06-05T08:49:04.470759",
     "exception": false,
     "start_time": "2021-06-05T08:49:04.344425",
     "status": "completed"
    },
    "tags": []
   },
   "outputs": [
    {
     "data": {
      "text/plain": [
       "77.33"
      ]
     },
     "execution_count": 70,
     "metadata": {},
     "output_type": "execute_result"
    }
   ],
   "source": [
    "# Gaussian Naive Bayes\n",
    "\n",
    "gaussian = GaussianNB()\n",
    "gaussian.fit(X_train, Y_train)\n",
    "Y_pred = gaussian.predict(X_test)\n",
    "acc_gaussian = round(gaussian.score(X_train, Y_train) * 100, 2)\n",
    "acc_gaussian"
   ]
  },
  {
   "cell_type": "markdown",
   "id": "accomplished-billy",
   "metadata": {
    "papermill": {
     "duration": 0.114847,
     "end_time": "2021-06-05T08:49:04.701821",
     "exception": false,
     "start_time": "2021-06-05T08:49:04.586974",
     "status": "completed"
    },
    "tags": []
   },
   "source": [
    "**Decision Trees**"
   ]
  },
  {
   "cell_type": "code",
   "execution_count": 71,
   "id": "looking-reserve",
   "metadata": {
    "execution": {
     "iopub.execute_input": "2021-06-05T08:49:04.932857Z",
     "iopub.status.busy": "2021-06-05T08:49:04.931907Z",
     "iopub.status.idle": "2021-06-05T08:49:04.941670Z",
     "shell.execute_reply": "2021-06-05T08:49:04.942135Z",
     "shell.execute_reply.started": "2021-06-05T08:23:00.238148Z"
    },
    "papermill": {
     "duration": 0.128591,
     "end_time": "2021-06-05T08:49:04.942319",
     "exception": false,
     "start_time": "2021-06-05T08:49:04.813728",
     "status": "completed"
    },
    "tags": []
   },
   "outputs": [
    {
     "data": {
      "text/plain": [
       "86.64"
      ]
     },
     "execution_count": 71,
     "metadata": {},
     "output_type": "execute_result"
    }
   ],
   "source": [
    "# Decision Tree\n",
    "\n",
    "decision_tree = DecisionTreeClassifier()\n",
    "decision_tree.fit(X_train, Y_train)\n",
    "Y_pred = decision_tree.predict(X_test)\n",
    "acc_decision_tree = round(decision_tree.score(X_train, Y_train) * 100, 2)\n",
    "acc_decision_tree"
   ]
  },
  {
   "cell_type": "markdown",
   "id": "studied-estimate",
   "metadata": {
    "papermill": {
     "duration": 0.111423,
     "end_time": "2021-06-05T08:49:05.165804",
     "exception": false,
     "start_time": "2021-06-05T08:49:05.054381",
     "status": "completed"
    },
    "tags": []
   },
   "source": [
    "**Random Forest**"
   ]
  },
  {
   "cell_type": "code",
   "execution_count": 72,
   "id": "optical-assumption",
   "metadata": {
    "execution": {
     "iopub.execute_input": "2021-06-05T08:49:05.400567Z",
     "iopub.status.busy": "2021-06-05T08:49:05.395349Z",
     "iopub.status.idle": "2021-06-05T08:49:05.645279Z",
     "shell.execute_reply": "2021-06-05T08:49:05.644809Z",
     "shell.execute_reply.started": "2021-06-05T08:23:31.811214Z"
    },
    "papermill": {
     "duration": 0.366332,
     "end_time": "2021-06-05T08:49:05.645414",
     "exception": false,
     "start_time": "2021-06-05T08:49:05.279082",
     "status": "completed"
    },
    "tags": []
   },
   "outputs": [
    {
     "data": {
      "text/plain": [
       "86.64"
      ]
     },
     "execution_count": 72,
     "metadata": {},
     "output_type": "execute_result"
    }
   ],
   "source": [
    "# Random Forest\n",
    "\n",
    "random_forest = RandomForestClassifier(n_estimators=100)\n",
    "random_forest.fit(X_train, Y_train)\n",
    "Y_pred = random_forest.predict(X_test)\n",
    "random_forest.score(X_train, Y_train)\n",
    "acc_random_forest = round(random_forest.score(X_train, Y_train) * 100, 2)\n",
    "acc_random_forest"
   ]
  },
  {
   "cell_type": "markdown",
   "id": "continued-concern",
   "metadata": {
    "papermill": {
     "duration": 0.109009,
     "end_time": "2021-06-05T08:49:05.866969",
     "exception": false,
     "start_time": "2021-06-05T08:49:05.757960",
     "status": "completed"
    },
    "tags": []
   },
   "source": [
    "**Preceptron**"
   ]
  },
  {
   "cell_type": "code",
   "execution_count": 73,
   "id": "mineral-affiliation",
   "metadata": {
    "execution": {
     "iopub.execute_input": "2021-06-05T08:49:06.101736Z",
     "iopub.status.busy": "2021-06-05T08:49:06.100716Z",
     "iopub.status.idle": "2021-06-05T08:49:06.110777Z",
     "shell.execute_reply": "2021-06-05T08:49:06.110319Z",
     "shell.execute_reply.started": "2021-06-05T08:24:14.968425Z"
    },
    "papermill": {
     "duration": 0.132785,
     "end_time": "2021-06-05T08:49:06.110916",
     "exception": false,
     "start_time": "2021-06-05T08:49:05.978131",
     "status": "completed"
    },
    "tags": []
   },
   "outputs": [
    {
     "data": {
      "text/plain": [
       "78.34"
      ]
     },
     "execution_count": 73,
     "metadata": {},
     "output_type": "execute_result"
    }
   ],
   "source": [
    "# Perceptron\n",
    "\n",
    "perceptron = Perceptron()\n",
    "perceptron.fit(X_train, Y_train)\n",
    "Y_pred = perceptron.predict(X_test)\n",
    "acc_perceptron = round(perceptron.score(X_train, Y_train) * 100, 2)\n",
    "acc_perceptron"
   ]
  },
  {
   "cell_type": "markdown",
   "id": "processed-success",
   "metadata": {
    "papermill": {
     "duration": 0.108723,
     "end_time": "2021-06-05T08:49:06.333629",
     "exception": false,
     "start_time": "2021-06-05T08:49:06.224906",
     "status": "completed"
    },
    "tags": []
   },
   "source": [
    "**Linear SVC**"
   ]
  },
  {
   "cell_type": "code",
   "execution_count": 74,
   "id": "hungarian-nancy",
   "metadata": {
    "execution": {
     "iopub.execute_input": "2021-06-05T08:49:06.552590Z",
     "iopub.status.busy": "2021-06-05T08:49:06.551978Z",
     "iopub.status.idle": "2021-06-05T08:49:06.604608Z",
     "shell.execute_reply": "2021-06-05T08:49:06.605045Z",
     "shell.execute_reply.started": "2021-06-05T08:24:48.423419Z"
    },
    "papermill": {
     "duration": 0.163739,
     "end_time": "2021-06-05T08:49:06.605217",
     "exception": false,
     "start_time": "2021-06-05T08:49:06.441478",
     "status": "completed"
    },
    "tags": []
   },
   "outputs": [
    {
     "name": "stderr",
     "output_type": "stream",
     "text": [
      "/opt/conda/lib/python3.7/site-packages/sklearn/svm/_base.py:986: ConvergenceWarning: Liblinear failed to converge, increase the number of iterations.\n",
      "  \"the number of iterations.\", ConvergenceWarning)\n"
     ]
    },
    {
     "data": {
      "text/plain": [
       "80.13"
      ]
     },
     "execution_count": 74,
     "metadata": {},
     "output_type": "execute_result"
    }
   ],
   "source": [
    "# Linear SVC\n",
    "\n",
    "linear_svc = LinearSVC()\n",
    "linear_svc.fit(X_train, Y_train)\n",
    "Y_pred = linear_svc.predict(X_test)\n",
    "acc_linear_svc = round(linear_svc.score(X_train, Y_train) * 100, 2)\n",
    "acc_linear_svc"
   ]
  },
  {
   "cell_type": "markdown",
   "id": "blind-accident",
   "metadata": {
    "papermill": {
     "duration": 0.112862,
     "end_time": "2021-06-05T08:49:06.830126",
     "exception": false,
     "start_time": "2021-06-05T08:49:06.717264",
     "status": "completed"
    },
    "tags": []
   },
   "source": [
    "**Stochastic Gradient Descent**"
   ]
  },
  {
   "cell_type": "code",
   "execution_count": 75,
   "id": "falling-mediterranean",
   "metadata": {
    "execution": {
     "iopub.execute_input": "2021-06-05T08:49:07.065620Z",
     "iopub.status.busy": "2021-06-05T08:49:07.064738Z",
     "iopub.status.idle": "2021-06-05T08:49:07.076037Z",
     "shell.execute_reply": "2021-06-05T08:49:07.075568Z",
     "shell.execute_reply.started": "2021-06-05T08:25:21.921962Z"
    },
    "papermill": {
     "duration": 0.133012,
     "end_time": "2021-06-05T08:49:07.076189",
     "exception": false,
     "start_time": "2021-06-05T08:49:06.943177",
     "status": "completed"
    },
    "tags": []
   },
   "outputs": [
    {
     "data": {
      "text/plain": [
       "79.57"
      ]
     },
     "execution_count": 75,
     "metadata": {},
     "output_type": "execute_result"
    }
   ],
   "source": [
    "# Stochastic Gradient Descent\n",
    "\n",
    "sgd = SGDClassifier()\n",
    "sgd.fit(X_train, Y_train)\n",
    "Y_pred = sgd.predict(X_test)\n",
    "acc_sgd = round(sgd.score(X_train, Y_train) * 100, 2)\n",
    "acc_sgd"
   ]
  },
  {
   "cell_type": "markdown",
   "id": "super-elizabeth",
   "metadata": {
    "papermill": {
     "duration": 0.114946,
     "end_time": "2021-06-05T08:49:07.306194",
     "exception": false,
     "start_time": "2021-06-05T08:49:07.191248",
     "status": "completed"
    },
    "tags": []
   },
   "source": [
    "**Model evaluation**\n",
    "\n",
    "We can now rank our evaluation of all the models to choose the best one for our problem. While both Decision Tree and Random Forest score the same, we choose to use Random Forest as they correct for decision trees' habit of overfitting to their training set."
   ]
  },
  {
   "cell_type": "code",
   "execution_count": 76,
   "id": "british-collar",
   "metadata": {
    "execution": {
     "iopub.execute_input": "2021-06-05T08:49:07.541974Z",
     "iopub.status.busy": "2021-06-05T08:49:07.541356Z",
     "iopub.status.idle": "2021-06-05T08:49:07.554334Z",
     "shell.execute_reply": "2021-06-05T08:49:07.553705Z",
     "shell.execute_reply.started": "2021-06-05T08:31:57.77091Z"
    },
    "papermill": {
     "duration": 0.129863,
     "end_time": "2021-06-05T08:49:07.554463",
     "exception": false,
     "start_time": "2021-06-05T08:49:07.424600",
     "status": "completed"
    },
    "tags": []
   },
   "outputs": [
    {
     "data": {
      "text/html": [
       "<div>\n",
       "<style scoped>\n",
       "    .dataframe tbody tr th:only-of-type {\n",
       "        vertical-align: middle;\n",
       "    }\n",
       "\n",
       "    .dataframe tbody tr th {\n",
       "        vertical-align: top;\n",
       "    }\n",
       "\n",
       "    .dataframe thead th {\n",
       "        text-align: right;\n",
       "    }\n",
       "</style>\n",
       "<table border=\"1\" class=\"dataframe\">\n",
       "  <thead>\n",
       "    <tr style=\"text-align: right;\">\n",
       "      <th></th>\n",
       "      <th>Model</th>\n",
       "      <th>Score</th>\n",
       "    </tr>\n",
       "  </thead>\n",
       "  <tbody>\n",
       "    <tr>\n",
       "      <th>3</th>\n",
       "      <td>Random Forest</td>\n",
       "      <td>86.64</td>\n",
       "    </tr>\n",
       "    <tr>\n",
       "      <th>8</th>\n",
       "      <td>Decision Tree</td>\n",
       "      <td>86.64</td>\n",
       "    </tr>\n",
       "    <tr>\n",
       "      <th>1</th>\n",
       "      <td>KNN</td>\n",
       "      <td>84.62</td>\n",
       "    </tr>\n",
       "    <tr>\n",
       "      <th>0</th>\n",
       "      <td>Support Vector Machines</td>\n",
       "      <td>83.28</td>\n",
       "    </tr>\n",
       "    <tr>\n",
       "      <th>2</th>\n",
       "      <td>Logistic Regression</td>\n",
       "      <td>81.37</td>\n",
       "    </tr>\n",
       "    <tr>\n",
       "      <th>7</th>\n",
       "      <td>Linear SVC</td>\n",
       "      <td>80.13</td>\n",
       "    </tr>\n",
       "    <tr>\n",
       "      <th>6</th>\n",
       "      <td>Stochastic Gradient Decent</td>\n",
       "      <td>79.57</td>\n",
       "    </tr>\n",
       "    <tr>\n",
       "      <th>5</th>\n",
       "      <td>Perceptron</td>\n",
       "      <td>78.34</td>\n",
       "    </tr>\n",
       "    <tr>\n",
       "      <th>4</th>\n",
       "      <td>Naive Bayes</td>\n",
       "      <td>77.33</td>\n",
       "    </tr>\n",
       "  </tbody>\n",
       "</table>\n",
       "</div>"
      ],
      "text/plain": [
       "                        Model  Score\n",
       "3               Random Forest  86.64\n",
       "8               Decision Tree  86.64\n",
       "1                         KNN  84.62\n",
       "0     Support Vector Machines  83.28\n",
       "2         Logistic Regression  81.37\n",
       "7                  Linear SVC  80.13\n",
       "6  Stochastic Gradient Decent  79.57\n",
       "5                  Perceptron  78.34\n",
       "4                 Naive Bayes  77.33"
      ]
     },
     "execution_count": 76,
     "metadata": {},
     "output_type": "execute_result"
    }
   ],
   "source": [
    "models = pd.DataFrame({\n",
    "    'Model': ['Support Vector Machines', 'KNN', 'Logistic Regression', \n",
    "              'Random Forest', 'Naive Bayes', 'Perceptron', \n",
    "              'Stochastic Gradient Decent', 'Linear SVC', \n",
    "              'Decision Tree'],\n",
    "    'Score': [acc_svc, acc_knn, acc_log, \n",
    "              acc_random_forest, acc_gaussian, acc_perceptron, \n",
    "              acc_sgd, acc_linear_svc, acc_decision_tree]})\n",
    "models.sort_values(by='Score', ascending=False)"
   ]
  },
  {
   "cell_type": "markdown",
   "id": "meaningful-convention",
   "metadata": {
    "papermill": {
     "duration": 0.114059,
     "end_time": "2021-06-05T08:49:07.782152",
     "exception": false,
     "start_time": "2021-06-05T08:49:07.668093",
     "status": "completed"
    },
    "tags": []
   },
   "source": [
    "**Submission**"
   ]
  },
  {
   "cell_type": "code",
   "execution_count": 77,
   "id": "annual-clause",
   "metadata": {
    "execution": {
     "iopub.execute_input": "2021-06-05T08:49:08.008096Z",
     "iopub.status.busy": "2021-06-05T08:49:08.007514Z",
     "iopub.status.idle": "2021-06-05T08:49:08.278972Z",
     "shell.execute_reply": "2021-06-05T08:49:08.278502Z",
     "shell.execute_reply.started": "2021-06-05T08:37:50.144018Z"
    },
    "papermill": {
     "duration": 0.387672,
     "end_time": "2021-06-05T08:49:08.279115",
     "exception": false,
     "start_time": "2021-06-05T08:49:07.891443",
     "status": "completed"
    },
    "tags": []
   },
   "outputs": [
    {
     "data": {
      "text/plain": [
       "86.64"
      ]
     },
     "execution_count": 77,
     "metadata": {},
     "output_type": "execute_result"
    }
   ],
   "source": [
    "# Random Forest\n",
    "\n",
    "random_forest = RandomForestClassifier(n_estimators=100)\n",
    "random_forest.fit(X_train, Y_train)\n",
    "Y_pred = random_forest.predict(X_test)\n",
    "random_forest.score(X_train, Y_train)\n",
    "acc_random_forest = round(random_forest.score(X_train, Y_train) * 100, 2)\n",
    "acc_random_forest"
   ]
  },
  {
   "cell_type": "code",
   "execution_count": 78,
   "id": "selective-cowboy",
   "metadata": {
    "execution": {
     "iopub.execute_input": "2021-06-05T08:49:08.539351Z",
     "iopub.status.busy": "2021-06-05T08:49:08.538705Z",
     "iopub.status.idle": "2021-06-05T08:49:08.541632Z",
     "shell.execute_reply": "2021-06-05T08:49:08.541135Z",
     "shell.execute_reply.started": "2021-06-05T08:38:13.413234Z"
    },
    "papermill": {
     "duration": 0.145551,
     "end_time": "2021-06-05T08:49:08.541767",
     "exception": false,
     "start_time": "2021-06-05T08:49:08.396216",
     "status": "completed"
    },
    "tags": []
   },
   "outputs": [],
   "source": [
    "submission = pd.DataFrame({\n",
    "        \"PassengerId\": test_df[\"PassengerId\"],\n",
    "        \"Survived\": Y_pred\n",
    "    })"
   ]
  },
  {
   "cell_type": "code",
   "execution_count": 79,
   "id": "recreational-guitar",
   "metadata": {
    "execution": {
     "iopub.execute_input": "2021-06-05T08:49:08.774314Z",
     "iopub.status.busy": "2021-06-05T08:49:08.773598Z",
     "iopub.status.idle": "2021-06-05T08:49:08.781752Z",
     "shell.execute_reply": "2021-06-05T08:49:08.781196Z",
     "shell.execute_reply.started": "2021-06-05T08:44:41.100251Z"
    },
    "papermill": {
     "duration": 0.125381,
     "end_time": "2021-06-05T08:49:08.781885",
     "exception": false,
     "start_time": "2021-06-05T08:49:08.656504",
     "status": "completed"
    },
    "tags": []
   },
   "outputs": [],
   "source": [
    "submission.to_csv('submission.csv', index=False)"
   ]
  },
  {
   "cell_type": "code",
   "execution_count": null,
   "id": "regional-colon",
   "metadata": {
    "papermill": {
     "duration": 0.114216,
     "end_time": "2021-06-05T08:49:09.009475",
     "exception": false,
     "start_time": "2021-06-05T08:49:08.895259",
     "status": "completed"
    },
    "tags": []
   },
   "outputs": [],
   "source": []
  }
 ],
 "metadata": {
  "kernelspec": {
   "display_name": "Python 3",
   "language": "python",
   "name": "python3"
  },
  "language_info": {
   "codemirror_mode": {
    "name": "ipython",
    "version": 3
   },
   "file_extension": ".py",
   "mimetype": "text/x-python",
   "name": "python",
   "nbconvert_exporter": "python",
   "pygments_lexer": "ipython3",
   "version": "3.7.9"
  },
  "papermill": {
   "default_parameters": {},
   "duration": 43.722271,
   "end_time": "2021-06-05T08:49:09.832932",
   "environment_variables": {},
   "exception": null,
   "input_path": "__notebook__.ipynb",
   "output_path": "__notebook__.ipynb",
   "parameters": {},
   "start_time": "2021-06-05T08:48:26.110661",
   "version": "2.3.2"
  }
 },
 "nbformat": 4,
 "nbformat_minor": 5
}
